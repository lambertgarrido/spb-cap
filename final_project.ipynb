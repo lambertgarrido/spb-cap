{
 "cells": [
  {
   "cell_type": "code",
   "execution_count": 1,
   "metadata": {},
   "outputs": [],
   "source": [
    "import pandas as pd\n",
    "from sklearn.linear_model import Ridge\n",
    "from sklearn.model_selection import train_test_split\n",
    "from sklearn.model_selection import GridSearchCV\n",
    "import matplotlib.pyplot as plt\n",
    "import numpy as np\n",
    "from sklearn.preprocessing import StandardScaler\n",
    "from sklearn.pipeline import Pipeline\n",
    "from sklearn.preprocessing import scale\n",
    "from sklearn.ensemble import RandomForestRegressor\n",
    "\n",
    "#df_13 = pd.read_csv('13_clean.csv')\n",
    "#df_13.head()\n",
    "\n",
    "years = ['85', '87', '89', '91', '93', '95', '97', '99', '01', '03', '05', '07', '09', '11', '13']\n",
    "years_num = [1985, 1987, 1989, 1991, 1993, 1995, 1997, 1999, 2001, 2003, 2005, 2007, 2009, 2011, 2013 ]\n",
    "\n",
    "df_allYears = pd.DataFrame()\n",
    "for year, i in zip(years, years_num):\n",
    "    df = pd.read_csv(year + '_clean.csv')\n",
    "    df['YEAR'] = i\n",
    "    df_allYears = df_allYears.append(df)"
   ]
  },
  {
   "cell_type": "code",
   "execution_count": 2,
   "metadata": {},
   "outputs": [
    {
     "data": {
      "text/html": [
       "<div>\n",
       "<style scoped>\n",
       "    .dataframe tbody tr th:only-of-type {\n",
       "        vertical-align: middle;\n",
       "    }\n",
       "\n",
       "    .dataframe tbody tr th {\n",
       "        vertical-align: top;\n",
       "    }\n",
       "\n",
       "    .dataframe thead th {\n",
       "        text-align: right;\n",
       "    }\n",
       "</style>\n",
       "<table border=\"1\" class=\"dataframe\">\n",
       "  <thead>\n",
       "    <tr style=\"text-align: right;\">\n",
       "      <th></th>\n",
       "      <th>CONTROL</th>\n",
       "      <th>AGE</th>\n",
       "      <th>BEDRMS</th>\n",
       "      <th>FMTBUILT</th>\n",
       "      <th>BURDEN</th>\n",
       "      <th>COSTMED</th>\n",
       "      <th>COSTMEDRELAMIPCT</th>\n",
       "      <th>FMTCOSTMEDRELAMICAT</th>\n",
       "      <th>FMR</th>\n",
       "      <th>FMTASSISTED</th>\n",
       "      <th>...</th>\n",
       "      <th>FMTMETRO</th>\n",
       "      <th>FMTZADEQ</th>\n",
       "      <th>ABL50</th>\n",
       "      <th>ABL80</th>\n",
       "      <th>ABLMED</th>\n",
       "      <th>GL50</th>\n",
       "      <th>GL80</th>\n",
       "      <th>GLMED</th>\n",
       "      <th>L50</th>\n",
       "      <th>YEAR</th>\n",
       "    </tr>\n",
       "  </thead>\n",
       "  <tbody>\n",
       "    <tr>\n",
       "      <td>0</td>\n",
       "      <td>'100006110249'</td>\n",
       "      <td>39.0</td>\n",
       "      <td>3.0</td>\n",
       "      <td>'1980-1989'</td>\n",
       "      <td>0.317333</td>\n",
       "      <td>476.000000</td>\n",
       "      <td>81.283131</td>\n",
       "      <td>'4 60 - 80% AMI'</td>\n",
       "      <td>380.0</td>\n",
       "      <td>'0 Not Assisted'</td>\n",
       "      <td>...</td>\n",
       "      <td>'-5'</td>\n",
       "      <td>'1 Adequate'</td>\n",
       "      <td>11957.724480</td>\n",
       "      <td>19127.189120</td>\n",
       "      <td>23424.29440</td>\n",
       "      <td>11497.812</td>\n",
       "      <td>18391.528</td>\n",
       "      <td>22523.360</td>\n",
       "      <td>12027.0</td>\n",
       "      <td>1985</td>\n",
       "    </tr>\n",
       "    <tr>\n",
       "      <td>1</td>\n",
       "      <td>'100007130148'</td>\n",
       "      <td>40.0</td>\n",
       "      <td>2.0</td>\n",
       "      <td>'1980-1989'</td>\n",
       "      <td>0.323662</td>\n",
       "      <td>383.000000</td>\n",
       "      <td>60.305059</td>\n",
       "      <td>'4 60 - 80% AMI'</td>\n",
       "      <td>349.0</td>\n",
       "      <td>'0 Not Assisted'</td>\n",
       "      <td>...</td>\n",
       "      <td>'Central City'</td>\n",
       "      <td>'1 Adequate'</td>\n",
       "      <td>12700.460000</td>\n",
       "      <td>20322.648000</td>\n",
       "      <td>25404.17040</td>\n",
       "      <td>12700.460</td>\n",
       "      <td>20322.648</td>\n",
       "      <td>28226.856</td>\n",
       "      <td>13285.0</td>\n",
       "      <td>1985</td>\n",
       "    </tr>\n",
       "    <tr>\n",
       "      <td>2</td>\n",
       "      <td>'100014110140'</td>\n",
       "      <td>19.0</td>\n",
       "      <td>2.0</td>\n",
       "      <td>'1980-1989'</td>\n",
       "      <td>0.318000</td>\n",
       "      <td>371.000000</td>\n",
       "      <td>73.207945</td>\n",
       "      <td>'4 60 - 80% AMI'</td>\n",
       "      <td>289.0</td>\n",
       "      <td>'0 Not Assisted'</td>\n",
       "      <td>...</td>\n",
       "      <td>'-5'</td>\n",
       "      <td>'1 Adequate'</td>\n",
       "      <td>10346.310000</td>\n",
       "      <td>16550.869500</td>\n",
       "      <td>20271.02400</td>\n",
       "      <td>9196.720</td>\n",
       "      <td>14711.884</td>\n",
       "      <td>22523.360</td>\n",
       "      <td>9620.0</td>\n",
       "      <td>1985</td>\n",
       "    </tr>\n",
       "    <tr>\n",
       "      <td>3</td>\n",
       "      <td>'100014350142'</td>\n",
       "      <td>28.0</td>\n",
       "      <td>3.0</td>\n",
       "      <td>'1980-1989'</td>\n",
       "      <td>0.277371</td>\n",
       "      <td>1496.349020</td>\n",
       "      <td>178.071751</td>\n",
       "      <td>'7 120% AMI +'</td>\n",
       "      <td>596.0</td>\n",
       "      <td>'0 Not Assisted'</td>\n",
       "      <td>...</td>\n",
       "      <td>'-5'</td>\n",
       "      <td>'1 Adequate'</td>\n",
       "      <td>17066.681956</td>\n",
       "      <td>25737.559467</td>\n",
       "      <td>33612.27168</td>\n",
       "      <td>14769.244</td>\n",
       "      <td>22272.888</td>\n",
       "      <td>32319.492</td>\n",
       "      <td>15449.0</td>\n",
       "      <td>1985</td>\n",
       "    </tr>\n",
       "    <tr>\n",
       "      <td>4</td>\n",
       "      <td>'100015770147'</td>\n",
       "      <td>30.0</td>\n",
       "      <td>3.0</td>\n",
       "      <td>'1980-1989'</td>\n",
       "      <td>0.205429</td>\n",
       "      <td>726.679228</td>\n",
       "      <td>97.552691</td>\n",
       "      <td>'5 80 - 100% AMI'</td>\n",
       "      <td>453.0</td>\n",
       "      <td>'0 Not Assisted'</td>\n",
       "      <td>...</td>\n",
       "      <td>'-5'</td>\n",
       "      <td>'1 Adequate'</td>\n",
       "      <td>14877.558800</td>\n",
       "      <td>23828.204400</td>\n",
       "      <td>29796.37856</td>\n",
       "      <td>11444.276</td>\n",
       "      <td>18329.388</td>\n",
       "      <td>28650.364</td>\n",
       "      <td>11971.0</td>\n",
       "      <td>1985</td>\n",
       "    </tr>\n",
       "  </tbody>\n",
       "</table>\n",
       "<p>5 rows × 37 columns</p>\n",
       "</div>"
      ],
      "text/plain": [
       "          CONTROL   AGE  BEDRMS     FMTBUILT    BURDEN      COSTMED  \\\n",
       "0  '100006110249'  39.0     3.0  '1980-1989'  0.317333   476.000000   \n",
       "1  '100007130148'  40.0     2.0  '1980-1989'  0.323662   383.000000   \n",
       "2  '100014110140'  19.0     2.0  '1980-1989'  0.318000   371.000000   \n",
       "3  '100014350142'  28.0     3.0  '1980-1989'  0.277371  1496.349020   \n",
       "4  '100015770147'  30.0     3.0  '1980-1989'  0.205429   726.679228   \n",
       "\n",
       "   COSTMEDRELAMIPCT FMTCOSTMEDRELAMICAT    FMR       FMTASSISTED  ...  \\\n",
       "0         81.283131    '4 60 - 80% AMI'  380.0  '0 Not Assisted'  ...   \n",
       "1         60.305059    '4 60 - 80% AMI'  349.0  '0 Not Assisted'  ...   \n",
       "2         73.207945    '4 60 - 80% AMI'  289.0  '0 Not Assisted'  ...   \n",
       "3        178.071751      '7 120% AMI +'  596.0  '0 Not Assisted'  ...   \n",
       "4         97.552691   '5 80 - 100% AMI'  453.0  '0 Not Assisted'  ...   \n",
       "\n",
       "         FMTMETRO      FMTZADEQ         ABL50         ABL80       ABLMED  \\\n",
       "0            '-5'  '1 Adequate'  11957.724480  19127.189120  23424.29440   \n",
       "1  'Central City'  '1 Adequate'  12700.460000  20322.648000  25404.17040   \n",
       "2            '-5'  '1 Adequate'  10346.310000  16550.869500  20271.02400   \n",
       "3            '-5'  '1 Adequate'  17066.681956  25737.559467  33612.27168   \n",
       "4            '-5'  '1 Adequate'  14877.558800  23828.204400  29796.37856   \n",
       "\n",
       "        GL50       GL80      GLMED      L50  YEAR  \n",
       "0  11497.812  18391.528  22523.360  12027.0  1985  \n",
       "1  12700.460  20322.648  28226.856  13285.0  1985  \n",
       "2   9196.720  14711.884  22523.360   9620.0  1985  \n",
       "3  14769.244  22272.888  32319.492  15449.0  1985  \n",
       "4  11444.276  18329.388  28650.364  11971.0  1985  \n",
       "\n",
       "[5 rows x 37 columns]"
      ]
     },
     "execution_count": 2,
     "metadata": {},
     "output_type": "execute_result"
    }
   ],
   "source": [
    "df_allYears.head()"
   ]
  },
  {
   "cell_type": "code",
   "execution_count": 3,
   "metadata": {},
   "outputs": [
    {
     "data": {
      "text/plain": [
       "Index(['CONTROL', 'AGE', 'BEDRMS', 'FMTBUILT', 'BURDEN', 'COSTMED',\n",
       "       'COSTMEDRELAMIPCT', 'FMTCOSTMEDRELAMICAT', 'FMR', 'FMTASSISTED',\n",
       "       'FMTOWNRENT', 'FMTSTATUS', 'FMTSTRUCTURETYPE', 'FMTINCRELAMICAT',\n",
       "       'INCRELAMIPCT', 'IPOV', 'LMED', 'NUNITS', 'OTHERCOST', 'PER', 'ROOMS',\n",
       "       'TOTSAL', 'UTILITY', 'VALUE', 'ZINC2', 'ZSMHC', 'REGION', 'FMTMETRO',\n",
       "       'FMTZADEQ', 'ABL50', 'ABL80', 'ABLMED', 'GL50', 'GL80', 'GLMED', 'L50',\n",
       "       'YEAR'],\n",
       "      dtype='object')"
      ]
     },
     "execution_count": 3,
     "metadata": {},
     "output_type": "execute_result"
    }
   ],
   "source": [
    "df_allYears.columns"
   ]
  },
  {
   "cell_type": "code",
   "execution_count": 4,
   "metadata": {},
   "outputs": [
    {
     "name": "stdout",
     "output_type": "stream",
     "text": [
      "(771870, 33)\n"
     ]
    }
   ],
   "source": [
    "#choose columns that are independent, e.g. COSTMED, COSTMEDRELAMITPCT, FMTCOSTMEDRELAMIPCT \n",
    "#show the same data in different format; ditto for FMTINCRELAMICAT and INCRELAMIPCT\n",
    "# drop CONTROL as well\n",
    "cols = ['CONTROL', 'COSTMED', 'FMTCOSTMEDRELAMICAT', 'FMTINCRELAMICAT']\n",
    "df_toKeep = df_allYears.drop(cols, axis=1)\n",
    "print(df_toKeep.shape)"
   ]
  },
  {
   "cell_type": "code",
   "execution_count": 5,
   "metadata": {},
   "outputs": [
    {
     "name": "stdout",
     "output_type": "stream",
     "text": [
      "(771870, 29)\n"
     ]
    }
   ],
   "source": [
    "#removing columns related to cost since these are related to target variable ZSMHC (monthly housing cost)\n",
    "cols = ['COSTMEDRELAMIPCT', 'BURDEN', 'OTHERCOST', 'UTILITY']\n",
    "df_toKeep = df_toKeep.drop(cols, axis=1)\n",
    "print(df_toKeep.shape)"
   ]
  },
  {
   "cell_type": "code",
   "execution_count": 6,
   "metadata": {},
   "outputs": [
    {
     "name": "stdout",
     "output_type": "stream",
     "text": [
      "BEDRMS\n",
      "(2, 29)\n",
      "FMR\n",
      "(94, 29)\n",
      "INCRELAMIPCT\n",
      "(89, 29)\n",
      "LMED\n",
      "(91, 29)\n",
      "VALUE\n",
      "(272317, 29)\n",
      "ZSMHC\n",
      "(12678, 29)\n",
      "ABL50\n",
      "(91, 29)\n",
      "ABL80\n",
      "(91, 29)\n",
      "ABLMED\n",
      "(91, 29)\n",
      "GL50\n",
      "(91, 29)\n",
      "GL80\n",
      "(91, 29)\n",
      "GLMED\n",
      "(91, 29)\n",
      "L50\n",
      "(91, 29)\n"
     ]
    }
   ],
   "source": [
    "cols = df_toKeep.columns\n",
    "for col in cols:\n",
    "    n_rows = df_toKeep.loc[df_toKeep[col].isna()].shape\n",
    "    if(n_rows[0] != 0):\n",
    "        print(col)        \n",
    "        print(n_rows)"
   ]
  },
  {
   "cell_type": "code",
   "execution_count": 7,
   "metadata": {},
   "outputs": [
    {
     "name": "stdout",
     "output_type": "stream",
     "text": [
      "(486785, 29)\n"
     ]
    }
   ],
   "source": [
    "df_toKeep = df_toKeep.dropna()\n",
    "print(df_toKeep.shape)"
   ]
  },
  {
   "cell_type": "code",
   "execution_count": 8,
   "metadata": {},
   "outputs": [
    {
     "name": "stdout",
     "output_type": "stream",
     "text": [
      "'not_defined'    178698\n",
      "'1960-1979'      122644\n",
      "'1940-1959'       76718\n",
      "'1980-1989'       45627\n",
      "'1990-1999'       33965\n",
      "'2000-2009'       28062\n",
      "'After 2010'       1071\n",
      "Name: FMTBUILT, dtype: int64\n",
      "\n",
      "\n",
      "'.'                 323080\n",
      "'0 Not Assisted'    163705\n",
      "Name: FMTASSISTED, dtype: int64\n",
      "\n",
      "\n",
      "'1 Owner'    486785\n",
      "Name: FMTOWNRENT, dtype: int64\n",
      "\n",
      "\n",
      "'1 Single Family'    432024\n",
      "'6 Mobile Home'       29210\n",
      "'2 2-4 units'         12193\n",
      "'3 5-19 units'         6357\n",
      "'5 50+ units'          4394\n",
      "'4 20-49 units'        2607\n",
      "Name: FMTSTRUCTURETYPE, dtype: int64\n",
      "\n",
      "\n",
      "'-5'            323080\n",
      "'1 Occupied'    163705\n",
      "Name: FMTSTATUS, dtype: int64\n",
      "\n",
      "\n",
      "3.0    165283\n",
      "2.0    129977\n",
      "4.0     99539\n",
      "1.0     91986\n",
      "Name: REGION, dtype: int64\n",
      "\n",
      "\n",
      "'-5'              371911\n",
      "'Central City'    114031\n",
      "'9'                  843\n",
      "Name: FMTMETRO, dtype: int64\n",
      "\n",
      "\n"
     ]
    }
   ],
   "source": [
    "cols = ['FMTBUILT', 'FMTASSISTED', 'FMTOWNRENT', 'FMTSTRUCTURETYPE', 'FMTSTATUS', 'REGION', 'FMTMETRO']\n",
    "for col in cols:\n",
    "    print(df_toKeep[col].value_counts())\n",
    "    print('\\n')"
   ]
  },
  {
   "cell_type": "code",
   "execution_count": 9,
   "metadata": {},
   "outputs": [],
   "source": [
    "#remove values of FMTMETRO set to 9;\n",
    "df_toKeep = df_toKeep.loc[~df_toKeep['FMTMETRO'].str.contains('9', regex=False)]"
   ]
  },
  {
   "cell_type": "code",
   "execution_count": 10,
   "metadata": {},
   "outputs": [
    {
     "name": "stdout",
     "output_type": "stream",
     "text": [
      "Index(['AGE', 'BEDRMS', 'FMR', 'INCRELAMIPCT', 'IPOV', 'LMED', 'NUNITS', 'PER',\n",
      "       'ROOMS', 'TOTSAL', 'VALUE', 'ZINC2', 'ZSMHC', 'ABL50', 'ABL80',\n",
      "       'ABLMED', 'GL50', 'GL80', 'GLMED', 'L50', 'YEAR',\n",
      "       'FMTBUILT_'1960-1979'', 'FMTBUILT_'1980-1989'', 'FMTBUILT_'1990-1999'',\n",
      "       'FMTBUILT_'2000-2009'', 'FMTBUILT_'After 2010'',\n",
      "       'FMTBUILT_'not_defined'', 'FMTASSISTED_'0 Not Assisted'',\n",
      "       'FMTSTRUCTURETYPE_'2 2-4 units'', 'FMTSTRUCTURETYPE_'3 5-19 units'',\n",
      "       'FMTSTRUCTURETYPE_'4 20-49 units'', 'FMTSTRUCTURETYPE_'5 50+ units'',\n",
      "       'FMTSTRUCTURETYPE_'6 Mobile Home'', 'REGION_2.0', 'REGION_3.0',\n",
      "       'REGION_4.0', 'FMTMETRO_'Central City'',\n",
      "       'FMTZADEQ_'2 Moderately Inadequ'', 'FMTZADEQ_'3 Severely Indadequa''],\n",
      "      dtype='object')\n"
     ]
    }
   ],
   "source": [
    "#drop FMTSTATUS - earlier generated ill-defined matrix warning for ridge regression;\n",
    "#values for this column is constanct for several years\n",
    "df_toKeep = df_toKeep.drop('FMTSTATUS', axis=1)\n",
    "\n",
    "#converting REGION from int type to string type\n",
    "df_toKeep['REGION'] = df_toKeep['REGION'].apply(str)\n",
    "\n",
    "#converting YEAR from int type to string type\n",
    "#df_toKeep['YEAR'] = df_toKeep['YEAR'].apply(str)\n",
    "\n",
    "#convert categorical variables to indicator variables\n",
    "df_toKeep = pd.get_dummies(df_toKeep, drop_first=True)\n",
    "\n",
    "#df_toKeep = df_toKeep.drop(['FMTBUILT_\\'not_defined\\'', 'FMTASSISTED_\\'.\\'',\\\n",
    "#                            'FMTSTRUCTURETYPE_\\'6 Mobile Home\\''], axis=1)\n",
    "\n",
    "print(df_toKeep.columns)"
   ]
  },
  {
   "cell_type": "code",
   "execution_count": 11,
   "metadata": {},
   "outputs": [
    {
     "name": "stdout",
     "output_type": "stream",
     "text": [
      "{'alpha': 10}\n",
      "0.5675213654423323\n"
     ]
    }
   ],
   "source": [
    "X = df_toKeep.drop(['ZSMHC'], axis=1).values\n",
    "\n",
    "y = df_toKeep['ZSMHC'].values\n",
    "\n",
    "X_train, X_test, y_train, y_test = train_test_split(X, y, test_size=0.3, random_state=42)\n",
    "\n",
    "param_grid = {'alpha': [0.01, 0.1, 1, 10, 100]}\n",
    "\n",
    "ridge_all = Ridge()\n",
    "\n",
    "ridge_all_cv = GridSearchCV(ridge_all, param_grid, cv=5)\n",
    "\n",
    "ridge_all_cv.fit(X_train, y_train)\n",
    "\n",
    "print(ridge_all_cv.best_params_)\n",
    "print(ridge_all_cv.best_score_)"
   ]
  },
  {
   "cell_type": "code",
   "execution_count": 13,
   "metadata": {},
   "outputs": [
    {
     "data": {
      "text/plain": [
       "array([0.56752126, 0.56752126, 0.56752127, 0.56752137, 0.56751916])"
      ]
     },
     "execution_count": 13,
     "metadata": {},
     "output_type": "execute_result"
    }
   ],
   "source": [
    "ridge_all_cv.cv_results_['mean_test_score']"
   ]
  },
  {
   "cell_type": "code",
   "execution_count": 14,
   "metadata": {},
   "outputs": [
    {
     "name": "stdout",
     "output_type": "stream",
     "text": [
      "0.5671614358224469\n"
     ]
    }
   ],
   "source": [
    "#create ridge instance using best parameter alpha = 10 \n",
    "ridge_all = Ridge(alpha=10)\n",
    "ridge_all.fit(X_train, y_train)\n",
    "score = ridge_all.score(X_test, y_test)\n",
    "print(score)"
   ]
  },
  {
   "cell_type": "code",
   "execution_count": 15,
   "metadata": {},
   "outputs": [
    {
     "name": "stdout",
     "output_type": "stream",
     "text": [
      "y-intercept =  -370.0158186535707\n"
     ]
    },
    {
     "data": {
      "image/png": "[encoded data removed]",
      "text/plain": [
       "<Figure size 720x360 with 1 Axes>"
      ]
     },
     "metadata": {
      "needs_background": "light"
     },
     "output_type": "display_data"
    }
   ],
   "source": [
    "coeffs = ridge_all.coef_\n",
    "intercept = ridge_all.intercept_\n",
    "cols = df_toKeep.drop(['ZSMHC'], axis=1).columns\n",
    "print('y-intercept = ', intercept)\n",
    "plt.figure(figsize=(10,5))\n",
    "plt.bar(np.arange(len(coeffs)), coeffs)\n",
    "plt.plot(np.arange(len(coeffs)), np.zeros(len(coeffs)), c='r')\n",
    "plt.xticks(np.arange(len(coeffs)), cols, rotation=90)\n",
    "plt.ylabel('Coefficient Values')\n",
    "plt.title('Linear Model')\n",
    "plt.show()"
   ]
  },
  {
   "cell_type": "code",
   "execution_count": 16,
   "metadata": {},
   "outputs": [
    {
     "name": "stdout",
     "output_type": "stream",
     "text": [
      "0.5671393886668258\n"
     ]
    }
   ],
   "source": [
    "#create a linear model with data scaled to mean 0 and standard deviation 1\n",
    "X_train_scaled = scale(X_train)\n",
    "y_train_scaled = scale(y_train)\n",
    "\n",
    "X_test_scaled = scale(X_test)\n",
    "y_test_scaled = scale(y_test)\n",
    "\n",
    "ridge_scaled = Ridge(alpha=10)\n",
    "ridge_scaled.fit(X_train_scaled, y_train_scaled)\n",
    "score_scaled = ridge_scaled.score(X_test_scaled, y_test_scaled)\n",
    "\n",
    "print(score_scaled)"
   ]
  },
  {
   "cell_type": "code",
   "execution_count": 17,
   "metadata": {},
   "outputs": [
    {
     "name": "stdout",
     "output_type": "stream",
     "text": [
      "y-intercept =  1.116051144495189e-13\n"
     ]
    },
    {
     "data": {
      "image/png": "[encoded data removed]",
      "text/plain": [
       "<Figure size 720x360 with 1 Axes>"
      ]
     },
     "metadata": {
      "needs_background": "light"
     },
     "output_type": "display_data"
    }
   ],
   "source": [
    "coeffs = ridge_scaled.coef_\n",
    "intercept = ridge_scaled.intercept_\n",
    "print('y-intercept = ', intercept)\n",
    "plt.figure(figsize=(10,5))\n",
    "plt.bar(np.arange(len(coeffs)), coeffs)\n",
    "plt.plot(np.arange(len(coeffs)), np.zeros(len(coeffs)), c='r')\n",
    "plt.xticks(np.arange(len(coeffs)), cols, rotation=90)\n",
    "plt.ylabel('Coefficient Values')\n",
    "plt.title('Scaled Linear Model')\n",
    "plt.show()"
   ]
  },
  {
   "cell_type": "code",
   "execution_count": 18,
   "metadata": {},
   "outputs": [],
   "source": [
    "y_predicted = ridge_scaled.predict(X_test_scaled)"
   ]
  },
  {
   "cell_type": "code",
   "execution_count": 19,
   "metadata": {},
   "outputs": [],
   "source": [
    "#computer percent errors for this model; save data for later plotting\n",
    "cols_list = list(cols)\n",
    "year = X_test[:, cols_list.index('YEAR')]\n",
    "result_0 = pd.DataFrame({'YEAR': year, 'YPREDICTED': y_predicted, 'YACTUAL': y_test_scaled})\n",
    "# remove rows where actual value is 0 as percent errior is not defined in this case\n",
    "result_0 = result_0.loc[result_0['YACTUAL'] != 0.0]\n",
    "result_0['PERCENT_ERROR'] = (result_0['YPREDICTED']/result_0['YACTUAL']-1.0)*100"
   ]
  },
  {
   "cell_type": "code",
   "execution_count": 20,
   "metadata": {},
   "outputs": [
    {
     "data": {
      "text/html": [
       "<div>\n",
       "<style scoped>\n",
       "    .dataframe tbody tr th:only-of-type {\n",
       "        vertical-align: middle;\n",
       "    }\n",
       "\n",
       "    .dataframe tbody tr th {\n",
       "        vertical-align: top;\n",
       "    }\n",
       "\n",
       "    .dataframe thead th {\n",
       "        text-align: right;\n",
       "    }\n",
       "</style>\n",
       "<table border=\"1\" class=\"dataframe\">\n",
       "  <thead>\n",
       "    <tr style=\"text-align: right;\">\n",
       "      <th></th>\n",
       "      <th>YEAR</th>\n",
       "      <th>YPREDICTED</th>\n",
       "      <th>YACTUAL</th>\n",
       "      <th>PERCENT_ERROR</th>\n",
       "    </tr>\n",
       "  </thead>\n",
       "  <tbody>\n",
       "    <tr>\n",
       "      <td>0</td>\n",
       "      <td>2003.0</td>\n",
       "      <td>0.045122</td>\n",
       "      <td>0.459899</td>\n",
       "      <td>-90.188674</td>\n",
       "    </tr>\n",
       "    <tr>\n",
       "      <td>1</td>\n",
       "      <td>1987.0</td>\n",
       "      <td>-0.665090</td>\n",
       "      <td>-0.632350</td>\n",
       "      <td>5.177661</td>\n",
       "    </tr>\n",
       "    <tr>\n",
       "      <td>2</td>\n",
       "      <td>2011.0</td>\n",
       "      <td>0.376353</td>\n",
       "      <td>-0.405110</td>\n",
       "      <td>-192.901328</td>\n",
       "    </tr>\n",
       "    <tr>\n",
       "      <td>3</td>\n",
       "      <td>2007.0</td>\n",
       "      <td>0.288544</td>\n",
       "      <td>1.185564</td>\n",
       "      <td>-75.661841</td>\n",
       "    </tr>\n",
       "    <tr>\n",
       "      <td>4</td>\n",
       "      <td>1997.0</td>\n",
       "      <td>-0.304518</td>\n",
       "      <td>-0.476927</td>\n",
       "      <td>-36.149943</td>\n",
       "    </tr>\n",
       "  </tbody>\n",
       "</table>\n",
       "</div>"
      ],
      "text/plain": [
       "     YEAR  YPREDICTED   YACTUAL  PERCENT_ERROR\n",
       "0  2003.0    0.045122  0.459899     -90.188674\n",
       "1  1987.0   -0.665090 -0.632350       5.177661\n",
       "2  2011.0    0.376353 -0.405110    -192.901328\n",
       "3  2007.0    0.288544  1.185564     -75.661841\n",
       "4  1997.0   -0.304518 -0.476927     -36.149943"
      ]
     },
     "execution_count": 20,
     "metadata": {},
     "output_type": "execute_result"
    }
   ],
   "source": [
    "result_0.head()"
   ]
  },
  {
   "cell_type": "code",
   "execution_count": 21,
   "metadata": {},
   "outputs": [
    {
     "name": "stdout",
     "output_type": "stream",
     "text": [
      "('GL50', 0.4484426439553155)\n",
      "('VALUE', 0.3815712297439273)\n",
      "('ABLMED', 0.33165723909034417)\n",
      "('ABL80', 0.3275561274908075)\n",
      "('L50', 0.21084036976026502)\n",
      "('TOTSAL', 0.14906500137745066)\n",
      "('FMR', 0.11775064842690769)\n",
      "('ROOMS', 0.09817652565488)\n",
      "(\"FMTBUILT_'2000-2009'\", 0.08397423271823795)\n",
      "('IPOV', 0.07569511196488105)\n"
     ]
    }
   ],
   "source": [
    "coef_list = list(ridge_scaled.coef_)\n",
    "\n",
    "coef_cols_tuples = [(col, coef) for col, coef in zip(cols_list, coef_list)]\n",
    "\n",
    "coef_cols_tuples = sorted(coef_cols_tuples, key = lambda x: x[1], reverse=True)\n",
    "\n",
    "#print top 10 coefficients\n",
    "for pair in coef_cols_tuples[0:10]:\n",
    "    print(pair)"
   ]
  },
  {
   "cell_type": "markdown",
   "metadata": {},
   "source": [
    "Listed above are the top 10 coefficients for the scaled linear model. I could try a new linear model that only includes these features. Instead I will proceed with a random forest regressor model which should capture non-linearities."
   ]
  },
  {
   "cell_type": "code",
   "execution_count": 22,
   "metadata": {},
   "outputs": [
    {
     "name": "stderr",
     "output_type": "stream",
     "text": [
      "/home/roberto/anaconda3/lib/python3.7/site-packages/sklearn/ensemble/forest.py:245: FutureWarning: The default value of n_estimators will change from 10 in version 0.20 to 100 in 0.22.\n",
      "  \"10 in version 0.20 to 100 in 0.22.\", FutureWarning)\n"
     ]
    },
    {
     "name": "stdout",
     "output_type": "stream",
     "text": [
      "random forest score =  0.5740414348730563\n"
     ]
    }
   ],
   "source": [
    "rf = RandomForestRegressor(random_state=42, n_jobs=-1)\n",
    "rf.fit(X_train, y_train)\n",
    "score_rf = rf.score(X_test, y_test)\n",
    "print('random forest score = ', score_rf)"
   ]
  },
  {
   "cell_type": "code",
   "execution_count": 23,
   "metadata": {},
   "outputs": [
    {
     "data": {
      "text/plain": [
       "array([0.56952753, 0.56426351, 0.56282026])"
      ]
     },
     "execution_count": 23,
     "metadata": {},
     "output_type": "execute_result"
    }
   ],
   "source": [
    "from sklearn.model_selection import cross_validate\n",
    "\n",
    "cv_results = cross_validate(rf, X_train, y_train, cv=3)\n",
    "cv_results['test_score']"
   ]
  },
  {
   "cell_type": "code",
   "execution_count": 24,
   "metadata": {},
   "outputs": [
    {
     "data": {
      "text/plain": [
       "RandomForestRegressor(bootstrap=True, criterion='mse', max_depth=None,\n",
       "                      max_features='auto', max_leaf_nodes=None,\n",
       "                      min_impurity_decrease=0.0, min_impurity_split=None,\n",
       "                      min_samples_leaf=1, min_samples_split=2,\n",
       "                      min_weight_fraction_leaf=0.0, n_estimators=10, n_jobs=-1,\n",
       "                      oob_score=False, random_state=42, verbose=0,\n",
       "                      warm_start=False)"
      ]
     },
     "execution_count": 24,
     "metadata": {},
     "output_type": "execute_result"
    }
   ],
   "source": [
    "# fit data to random forest model again; get feature importance\n",
    "rf.fit(X_train, y_train)"
   ]
  },
  {
   "cell_type": "code",
   "execution_count": 25,
   "metadata": {},
   "outputs": [
    {
     "name": "stdout",
     "output_type": "stream",
     "text": [
      "('VALUE', 0.4689421238469665)\n",
      "('AGE', 0.10329914986432302)\n",
      "('ZINC2', 0.052151754158370214)\n",
      "('TOTSAL', 0.0374351532796402)\n",
      "('INCRELAMIPCT', 0.0328767155551168)\n",
      "('FMR', 0.03163468369983343)\n",
      "('IPOV', 0.029081689949054985)\n",
      "('GL80', 0.027461384493549824)\n",
      "('ABL80', 0.025500338284109934)\n",
      "('GL50', 0.02173319953892814)\n"
     ]
    }
   ],
   "source": [
    "importances = list(rf.feature_importances_)\n",
    "\n",
    "feature_importances = [(col, importance) for col, importance in zip(cols_list, importances)]\n",
    "\n",
    "# Sort the feature importances by most important first\n",
    "feature_importances = sorted(feature_importances, key = lambda x: x[1], reverse = True)\n",
    "\n",
    "# Print top 10 features\n",
    "for pair in feature_importances[0:10]:\n",
    "    print(pair)"
   ]
  },
  {
   "cell_type": "code",
   "execution_count": 26,
   "metadata": {},
   "outputs": [
    {
     "data": {
      "image/png": "[encoded data removed]",
      "text/plain": [
       "<Figure size 720x360 with 1 Axes>"
      ]
     },
     "metadata": {
      "needs_background": "light"
     },
     "output_type": "display_data"
    }
   ],
   "source": [
    "plt.figure(figsize=(10,5))\n",
    "plt.bar(np.arange(len(cols_list)), importances)\n",
    "plt.xticks(np.arange(len(cols_list)), cols, rotation=90)\n",
    "plt.ylabel('Importance')\n",
    "plt.xlabel('Feature')\n",
    "plt.title('Random Forest Model')\n",
    "plt.show()"
   ]
  },
  {
   "cell_type": "code",
   "execution_count": 27,
   "metadata": {},
   "outputs": [
    {
     "name": "stderr",
     "output_type": "stream",
     "text": [
      "/home/roberto/anaconda3/lib/python3.7/site-packages/sklearn/ensemble/forest.py:245: FutureWarning: The default value of n_estimators will change from 10 in version 0.20 to 100 in 0.22.\n",
      "  \"10 in version 0.20 to 100 in 0.22.\", FutureWarning)\n"
     ]
    },
    {
     "name": "stdout",
     "output_type": "stream",
     "text": [
      "random forest score =  0.5193089489694485\n"
     ]
    }
   ],
   "source": [
    "#create a random forest model with the top 5 most important features: VALUE, AGE, ZINC2, TOTSAL, INCRELAMIPCT\n",
    "\n",
    "important_indices = [cols_list.index('VALUE'), cols_list.index('AGE'), cols_list.index('ZINC2'),\\\n",
    "                     cols_list.index('TOTSAL'), cols_list.index('INCRELAMIPCT')]\n",
    "X_train_important = X_train[:, important_indices]\n",
    "X_test_important  = X_test[:, important_indices]\n",
    "\n",
    "rf_important = RandomForestRegressor(random_state=42, n_jobs=-1)\n",
    "\n",
    "rf_important.fit(X_train_important, y_train)\n",
    "score_rf_important = rf_important.score(X_test_important, y_test)\n",
    "print('random forest score = ', score_rf_important)"
   ]
  },
  {
   "cell_type": "code",
   "execution_count": 28,
   "metadata": {},
   "outputs": [
    {
     "data": {
      "text/plain": [
       "array([0.53203997, 0.52117428, 0.51420579])"
      ]
     },
     "execution_count": 28,
     "metadata": {},
     "output_type": "execute_result"
    }
   ],
   "source": [
    "#cross validate 5-feature model\n",
    "#using 3-fold crossvalidation due to memory constraints\n",
    "cv_results = cross_validate(rf_important, X_train_important, y_train, cv=3)\n",
    "cv_results['test_score']"
   ]
  },
  {
   "cell_type": "code",
   "execution_count": 29,
   "metadata": {},
   "outputs": [],
   "source": [
    "rf_important.fit(X_train_important, y_train)\n",
    "y_predicted = rf_important.predict(X_test_important)"
   ]
  },
  {
   "cell_type": "code",
   "execution_count": 30,
   "metadata": {},
   "outputs": [],
   "source": [
    "year = X_test[:, cols_list.index('YEAR')]\n",
    "result = pd.DataFrame({'YEAR': year, 'YPREDICTED': y_predicted, 'YACTUAL': y_test})\n",
    "# remove rows where actual value is 0 as percent errior is not defined in this case\n",
    "result = result.loc[result['YACTUAL'] != 0.0]\n",
    "result['PERCENT_ERROR'] = (result['YPREDICTED']/result['YACTUAL']-1.0)*100"
   ]
  },
  {
   "cell_type": "code",
   "execution_count": 31,
   "metadata": {},
   "outputs": [],
   "source": [
    "years = [1985, 1987, 1989, 1991, 1993, 1995, 1997, 1999, 2001, 2003, 2005, 2007, 2009, 2011, 2013]\n",
    "yactual_avg = {}\n",
    "for year in years:\n",
    "    temp = result.loc[result['YEAR'] == year, 'YACTUAL'].sum()\n",
    "    n = (result['YEAR'] == year).sum()\n",
    "    temp = temp/n\n",
    "    yactual_avg[year] = temp\n",
    "\n",
    "result['YPREDICTED_0'] = result['YEAR']\n",
    "\n",
    "result.replace({'YPREDICTED_0': yactual_avg})\n",
    "\n",
    "#this column stores the percent error for a model that predicts the average of YACTUAL,regardless of feature values\n",
    "#such a model would have a score of zero\n",
    "result['PERCENT_ERROR_0'] = (result['YPREDICTED_0']/result['YACTUAL'] - 1.0)*100"
   ]
  },
  {
   "cell_type": "code",
   "execution_count": 32,
   "metadata": {},
   "outputs": [
    {
     "name": "stdout",
     "output_type": "stream",
     "text": [
      "0\n"
     ]
    },
    {
     "data": {
      "text/html": [
       "<div>\n",
       "<style scoped>\n",
       "    .dataframe tbody tr th:only-of-type {\n",
       "        vertical-align: middle;\n",
       "    }\n",
       "\n",
       "    .dataframe tbody tr th {\n",
       "        vertical-align: top;\n",
       "    }\n",
       "\n",
       "    .dataframe thead th {\n",
       "        text-align: right;\n",
       "    }\n",
       "</style>\n",
       "<table border=\"1\" class=\"dataframe\">\n",
       "  <thead>\n",
       "    <tr style=\"text-align: right;\">\n",
       "      <th></th>\n",
       "      <th>YEAR</th>\n",
       "      <th>YPREDICTED</th>\n",
       "      <th>YACTUAL</th>\n",
       "      <th>PERCENT_ERROR</th>\n",
       "    </tr>\n",
       "  </thead>\n",
       "  <tbody>\n",
       "    <tr>\n",
       "      <td>0</td>\n",
       "      <td>2003.0</td>\n",
       "      <td>0.045122</td>\n",
       "      <td>0.459899</td>\n",
       "      <td>-90.188674</td>\n",
       "    </tr>\n",
       "    <tr>\n",
       "      <td>1</td>\n",
       "      <td>1987.0</td>\n",
       "      <td>-0.665090</td>\n",
       "      <td>-0.632350</td>\n",
       "      <td>5.177661</td>\n",
       "    </tr>\n",
       "    <tr>\n",
       "      <td>2</td>\n",
       "      <td>2011.0</td>\n",
       "      <td>0.376353</td>\n",
       "      <td>-0.405110</td>\n",
       "      <td>-192.901328</td>\n",
       "    </tr>\n",
       "    <tr>\n",
       "      <td>3</td>\n",
       "      <td>2007.0</td>\n",
       "      <td>0.288544</td>\n",
       "      <td>1.185564</td>\n",
       "      <td>-75.661841</td>\n",
       "    </tr>\n",
       "    <tr>\n",
       "      <td>4</td>\n",
       "      <td>1997.0</td>\n",
       "      <td>-0.304518</td>\n",
       "      <td>-0.476927</td>\n",
       "      <td>-36.149943</td>\n",
       "    </tr>\n",
       "  </tbody>\n",
       "</table>\n",
       "</div>"
      ],
      "text/plain": [
       "     YEAR  YPREDICTED   YACTUAL  PERCENT_ERROR\n",
       "0  2003.0    0.045122  0.459899     -90.188674\n",
       "1  1987.0   -0.665090 -0.632350       5.177661\n",
       "2  2011.0    0.376353 -0.405110    -192.901328\n",
       "3  2007.0    0.288544  1.185564     -75.661841\n",
       "4  1997.0   -0.304518 -0.476927     -36.149943"
      ]
     },
     "execution_count": 32,
     "metadata": {},
     "output_type": "execute_result"
    }
   ],
   "source": [
    "print(result_0['PERCENT_ERROR'].isna().sum())\n",
    "result_0.head()"
   ]
  },
  {
   "cell_type": "code",
   "execution_count": 59,
   "metadata": {},
   "outputs": [
    {
     "data": {
      "image/png": "[encoded data removed]",
      "text/plain": [
       "<Figure size 720x360 with 1 Axes>"
      ]
     },
     "metadata": {},
     "output_type": "display_data"
    }
   ],
   "source": [
    "avgs = []\n",
    "avgs0 = []\n",
    "avgs_linear = []\n",
    "for year in years:\n",
    "    series = result.loc[result['YEAR'] == year, 'PERCENT_ERROR']\n",
    "    avg = series.mean()\n",
    "    avgs.append(avg)\n",
    "    \n",
    "    series = result.loc[result['YEAR'] == year, 'PERCENT_ERROR_0']\n",
    "    avg = series.mean()\n",
    "    avgs0.append(avg)\n",
    "    \n",
    "    series = result_0.loc[result_0['YEAR'] == year, 'PERCENT_ERROR']\n",
    "    avg = series.mean()\n",
    "    avgs_linear.append(avg) \n",
    "    \n",
    "fig, ax = plt.subplots(figsize=(10,5))\n",
    "\n",
    "width = 0.5\n",
    "offset = 0.5\n",
    "\n",
    "x = [year + offset for year in years]\n",
    "bar1 = ax.bar(x, avgs, width, label = 'random forest')\n",
    "\n",
    "x = [year for year in years]\n",
    "bar2 = ax.bar(x, avgs_linear, width, label = 'linear')\n",
    "\n",
    "x = [year - offset for year in years]\n",
    "bar3 = ax.bar(x, avgs0, width, label = 'score 0 model')\n",
    "\n",
    "ax.set_xticks(years)\n",
    "ax.set_xticklabels(years)\n",
    "\n",
    "ax.set_ylabel('Average Percent Error')\n",
    "ax.set_xlabel('Year')\n",
    "\n",
    "ax.legend()\n",
    "\n",
    "plt.show()\n"
   ]
  },
  {
   "cell_type": "code",
   "execution_count": 57,
   "metadata": {},
   "outputs": [
    {
     "data": {
      "image/png": "[encoded data removed]",
      "text/plain": [
       "<Figure size 720x360 with 1 Axes>"
      ]
     },
     "metadata": {},
     "output_type": "display_data"
    }
   ],
   "source": [
    "fig, ax = plt.subplots(figsize=(10,5))\n",
    "\n",
    "offset = 0.5\n",
    "width = 1\n",
    "\n",
    "x = [year + offset for year in years]\n",
    "bar1 = ax.bar(x, avgs, width, label = 'random forest')\n",
    "\n",
    "x = [year - offset for year in years]\n",
    "bar2 = ax.bar(x, avgs_linear, width, label = 'linear')\n",
    "\n",
    "ax.set_xticks(years)\n",
    "ax.set_xticklabels(years)\n",
    "\n",
    "ax.set_ylabel('Average Percent Error')\n",
    "ax.set_xlabel('Year')\n",
    "\n",
    "ax.legend()\n",
    "\n",
    "plt.show()\n"
   ]
  },
  {
   "cell_type": "code",
   "execution_count": 35,
   "metadata": {},
   "outputs": [
    {
     "data": {
      "text/plain": [
       "<matplotlib.axes._subplots.AxesSubplot at 0x7fc997246690>"
      ]
     },
     "execution_count": 35,
     "metadata": {},
     "output_type": "execute_result"
    },
    {
     "data": {
      "image/png": "[encoded data removed]",
      "text/plain": [
       "<Figure size 720x360 with 1 Axes>"
      ]
     },
     "metadata": {},
     "output_type": "display_data"
    }
   ],
   "source": [
    "import seaborn as sns\n",
    "sns.set_style(\"darkgrid\")\n",
    "plt.figure(figsize=(10,5))\n",
    "plt.xticks(years, years, rotation=60)\n",
    "sns.boxplot(x='YEAR', y='PERCENT_ERROR', data=result)"
   ]
  },
  {
   "cell_type": "code",
   "execution_count": 36,
   "metadata": {},
   "outputs": [
    {
     "data": {
      "text/plain": [
       "<matplotlib.axes._subplots.AxesSubplot at 0x7fc98fc49f50>"
      ]
     },
     "execution_count": 36,
     "metadata": {},
     "output_type": "execute_result"
    },
    {
     "data": {
      "image/png": "[encoded data removed]",
      "text/plain": [
       "<Figure size 720x360 with 1 Axes>"
      ]
     },
     "metadata": {},
     "output_type": "display_data"
    }
   ],
   "source": [
    "plt.figure(figsize=(10,5))\n",
    "plt.ylim(-100, 250)\n",
    "plt.xticks(years, years, rotation=60)\n",
    "sns.boxplot(x='YEAR', y='PERCENT_ERROR', data=result)"
   ]
  },
  {
   "cell_type": "code",
   "execution_count": null,
   "metadata": {},
   "outputs": [],
   "source": []
  }
 ],
 "metadata": {
  "kernelspec": {
   "display_name": "Python 3",
   "language": "python",
   "name": "python3"
  },
  "language_info": {
   "codemirror_mode": {
    "name": "ipython",
    "version": 3
   },
   "file_extension": ".py",
   "mimetype": "text/x-python",
   "name": "python",
   "nbconvert_exporter": "python",
   "pygments_lexer": "ipython3",
   "version": "3.7.4"
  }
 },
 "nbformat": 4,
 "nbformat_minor": 2
}
