{
 "cells": [
  {
   "cell_type": "code",
   "execution_count": 1,
   "metadata": {},
   "outputs": [
    {
     "name": "stdout",
     "output_type": "stream",
     "text": [
      "(240072, 33)\n",
      "(240072, 29)\n",
      "(148498, 29)\n",
      "Index(['AGE', 'BEDRMS', 'FMR', 'INCRELAMIPCT', 'IPOV', 'LMED', 'NUNITS', 'PER',\n",
      "       'ROOMS', 'TOTSAL', 'VALUE', 'ZINC2', 'ZSMHC', 'ABL50', 'ABL80',\n",
      "       'ABLMED', 'GL50', 'GL80', 'GLMED', 'L50', 'YEAR',\n",
      "       'FMTBUILT_'1960-1979'', 'FMTBUILT_'1980-1989'', 'FMTBUILT_'1990-1999'',\n",
      "       'FMTBUILT_'2000-2009'', 'FMTBUILT_'After 2010'',\n",
      "       'FMTBUILT_'not_defined'', 'FMTSTRUCTURETYPE_'2 2-4 units'',\n",
      "       'FMTSTRUCTURETYPE_'3 5-19 units'', 'FMTSTRUCTURETYPE_'4 20-49 units'',\n",
      "       'FMTSTRUCTURETYPE_'5 50+ units'', 'FMTSTRUCTURETYPE_'6 Mobile Home'',\n",
      "       'REGION_2.0', 'REGION_3.0', 'REGION_4.0', 'FMTMETRO_'Central City'',\n",
      "       'FMTZADEQ_'2 Moderately Inadequ'', 'FMTZADEQ_'3 Severely Indadequa''],\n",
      "      dtype='object')\n"
     ]
    }
   ],
   "source": [
    "import pandas as pd\n",
    "from sklearn.linear_model import Ridge\n",
    "from sklearn.model_selection import train_test_split\n",
    "from sklearn.model_selection import GridSearchCV\n",
    "import matplotlib.pyplot as plt\n",
    "import numpy as np\n",
    "from sklearn.preprocessing import StandardScaler\n",
    "from sklearn.pipeline import Pipeline\n",
    "from sklearn.preprocessing import scale\n",
    "from sklearn.ensemble import RandomForestRegressor\n",
    "\n",
    "#df_13 = pd.read_csv('13_clean.csv')\n",
    "#df_13.head()\n",
    "\n",
    "years = ['09', '11', '13']\n",
    "years_num = [2009, 2011, 2013]\n",
    "\n",
    "df_allYears = pd.DataFrame()\n",
    "for year, i in zip(years, years_num):\n",
    "    df = pd.read_csv(year + '_clean.csv')\n",
    "    df['YEAR'] = i\n",
    "    df_allYears = df_allYears.append(df)\n",
    "    \n",
    "#choose columns that are independent, e.g. COSTMED, COSTMEDRELAMITPCT, FMTCOSTMEDRELAMIPCT \n",
    "#show the same data in different format; ditto for FMTINCRELAMICAT and INCRELAMIPCT\n",
    "# drop CONTROL as well\n",
    "cols = ['CONTROL', 'COSTMED', 'FMTCOSTMEDRELAMICAT', 'FMTINCRELAMICAT']\n",
    "df_toKeep = df_allYears.drop(cols, axis=1)\n",
    "print(df_toKeep.shape)\n",
    "\n",
    "#removing columns related to cost since these are related to target variable ZSMHC (monthly housing cost)\n",
    "cols = ['COSTMEDRELAMIPCT', 'BURDEN', 'OTHERCOST', 'UTILITY']\n",
    "df_toKeep = df_toKeep.drop(cols, axis=1)\n",
    "print(df_toKeep.shape)\n",
    "\n",
    "df_toKeep = df_toKeep.dropna()\n",
    "print(df_toKeep.shape)\n",
    "\n",
    "#remove values of FMTMETRO set to 9;\n",
    "df_toKeep = df_toKeep.loc[~df_toKeep['FMTMETRO'].str.contains('9', regex=False)]\n",
    "\n",
    "\n",
    "#drop FMTSTATUS - earlier generated ill-defined matrix warning for ridge regression;\n",
    "#values for this column is constanct for several years\n",
    "df_toKeep = df_toKeep.drop('FMTSTATUS', axis=1)\n",
    "\n",
    "#converting REGION from int type to string type\n",
    "df_toKeep['REGION'] = df_toKeep['REGION'].apply(str)\n",
    "\n",
    "#convert categorical variables to indicator variables\n",
    "df_toKeep = pd.get_dummies(df_toKeep, drop_first=True)\n",
    "\n",
    "print(df_toKeep.columns)"
   ]
  },
  {
   "cell_type": "code",
   "execution_count": 2,
   "metadata": {},
   "outputs": [
    {
     "data": {
      "text/plain": [
       "GridSearchCV(cv=3, error_score='raise-deprecating',\n",
       "             estimator=RandomForestRegressor(bootstrap=True, criterion='mse',\n",
       "                                             max_depth=None,\n",
       "                                             max_features='auto',\n",
       "                                             max_leaf_nodes=None,\n",
       "                                             min_impurity_decrease=0.0,\n",
       "                                             min_impurity_split=None,\n",
       "                                             min_samples_leaf=1,\n",
       "                                             min_samples_split=2,\n",
       "                                             min_weight_fraction_leaf=0.0,\n",
       "                                             n_estimators='warn', n_jobs=-1,\n",
       "                                             oob_score=False, random_state=42,\n",
       "                                             verbose=0, warm_start=False),\n",
       "             iid='warn', n_jobs=None,\n",
       "             param_grid={'max_depth': [3, 5, 7, None],\n",
       "                         'max_features': ['auto', 'sqrt', 'log2'],\n",
       "                         'n_estimators': [10, 100]},\n",
       "             pre_dispatch='2*n_jobs', refit=True, return_train_score=False,\n",
       "             scoring=None, verbose=0)"
      ]
     },
     "execution_count": 2,
     "metadata": {},
     "output_type": "execute_result"
    }
   ],
   "source": [
    "X = df_toKeep.drop(['ZSMHC'], axis=1).values\n",
    "\n",
    "y = df_toKeep['ZSMHC'].values\n",
    "\n",
    "X_train, X_test, y_train, y_test = train_test_split(X, y, test_size=0.3, random_state=42)\n",
    "\n",
    "param_grid = {'max_depth': [3, 5, 7, None], 'max_features': ['auto', 'sqrt', 'log2'], 'n_estimators': [10, 100]}\n",
    "\n",
    "rf = RandomForestRegressor(random_state=42, n_jobs=-1)\n",
    "\n",
    "gsc = GridSearchCV(rf, param_grid, cv=3)\n",
    "\n",
    "gsc.fit(X_train, y_train)"
   ]
  },
  {
   "cell_type": "code",
   "execution_count": 3,
   "metadata": {},
   "outputs": [
    {
     "name": "stdout",
     "output_type": "stream",
     "text": [
      "{'max_depth': None, 'max_features': 'auto', 'n_estimators': 100}\n",
      "0.5409886400229429\n"
     ]
    }
   ],
   "source": [
    "print(gsc.best_params_)\n",
    "print(gsc.best_score_)"
   ]
  },
  {
   "cell_type": "code",
   "execution_count": 4,
   "metadata": {},
   "outputs": [
    {
     "data": {
      "text/plain": [
       "{'mean_fit_time': array([  4.4289515 ,  28.57955257,   0.74353242,   6.39285485,\n",
       "          0.71794534,   5.55334536,   4.69331495,  46.65495968,\n",
       "          1.04727054,   9.86921906,   0.9920675 ,   8.72621846,\n",
       "          6.05841152,  60.0687139 ,   1.30201046,  12.71239138,\n",
       "          1.18374602,  11.07852888,  13.6378599 , 135.74470663,\n",
       "          3.12850293,  30.43935847,   2.81323592,  26.81433837]),\n",
       " 'std_fit_time': array([2.13674150e+00, 1.48503032e-01, 5.56654226e-03, 5.75579739e-02,\n",
       "        3.72837381e-02, 3.36273894e-02, 1.65456001e-02, 4.11011989e-01,\n",
       "        1.59450619e-02, 4.14855631e-02, 2.51392769e-02, 1.14410969e-01,\n",
       "        6.23915436e-02, 2.60462930e-01, 1.53459525e-03, 1.38878185e-01,\n",
       "        1.90786013e-02, 9.41861755e-02, 3.57867339e-02, 8.65970508e-01,\n",
       "        1.68661015e-02, 1.93594420e-01, 7.19907055e-02, 1.24742169e-01]),\n",
       " 'mean_score_time': array([0.16270693, 0.3152411 , 0.11470381, 0.31525739, 0.11482986,\n",
       "        0.31537747, 0.11582669, 0.38549479, 0.11552024, 0.3154099 ,\n",
       "        0.11527101, 0.31621814, 0.1148835 , 0.34838772, 0.11524057,\n",
       "        0.31520176, 0.11566456, 0.31553849, 0.21556489, 1.83577983,\n",
       "        0.21494174, 1.81887031, 0.21556481, 1.75138084]),\n",
       " 'std_score_time': array([6.79978354e-02, 6.38426401e-04, 9.68573012e-05, 7.51590595e-05,\n",
       "        1.75951224e-04, 1.56103673e-04, 1.16249422e-03, 9.84096359e-02,\n",
       "        3.74635988e-04, 2.39315571e-04, 2.98719377e-04, 1.70146140e-04,\n",
       "        2.98032527e-04, 4.73155558e-02, 1.64481866e-04, 7.38233322e-04,\n",
       "        2.12233280e-04, 1.93628116e-04, 4.23429263e-04, 1.43761980e-02,\n",
       "        7.05971973e-04, 6.36800835e-04, 4.20926604e-04, 4.76848477e-02]),\n",
       " 'param_max_depth': masked_array(data=[3, 3, 3, 3, 3, 3, 5, 5, 5, 5, 5, 5, 7, 7, 7, 7, 7, 7,\n",
       "                    None, None, None, None, None, None],\n",
       "              mask=[False, False, False, False, False, False, False, False,\n",
       "                    False, False, False, False, False, False, False, False,\n",
       "                    False, False, False, False, False, False, False, False],\n",
       "        fill_value='?',\n",
       "             dtype=object),\n",
       " 'param_max_features': masked_array(data=['auto', 'auto', 'sqrt', 'sqrt', 'log2', 'log2', 'auto',\n",
       "                    'auto', 'sqrt', 'sqrt', 'log2', 'log2', 'auto', 'auto',\n",
       "                    'sqrt', 'sqrt', 'log2', 'log2', 'auto', 'auto', 'sqrt',\n",
       "                    'sqrt', 'log2', 'log2'],\n",
       "              mask=[False, False, False, False, False, False, False, False,\n",
       "                    False, False, False, False, False, False, False, False,\n",
       "                    False, False, False, False, False, False, False, False],\n",
       "        fill_value='?',\n",
       "             dtype=object),\n",
       " 'param_n_estimators': masked_array(data=[10, 100, 10, 100, 10, 100, 10, 100, 10, 100, 10, 100,\n",
       "                    10, 100, 10, 100, 10, 100, 10, 100, 10, 100, 10, 100],\n",
       "              mask=[False, False, False, False, False, False, False, False,\n",
       "                    False, False, False, False, False, False, False, False,\n",
       "                    False, False, False, False, False, False, False, False],\n",
       "        fill_value='?',\n",
       "             dtype=object),\n",
       " 'params': [{'max_depth': 3, 'max_features': 'auto', 'n_estimators': 10},\n",
       "  {'max_depth': 3, 'max_features': 'auto', 'n_estimators': 100},\n",
       "  {'max_depth': 3, 'max_features': 'sqrt', 'n_estimators': 10},\n",
       "  {'max_depth': 3, 'max_features': 'sqrt', 'n_estimators': 100},\n",
       "  {'max_depth': 3, 'max_features': 'log2', 'n_estimators': 10},\n",
       "  {'max_depth': 3, 'max_features': 'log2', 'n_estimators': 100},\n",
       "  {'max_depth': 5, 'max_features': 'auto', 'n_estimators': 10},\n",
       "  {'max_depth': 5, 'max_features': 'auto', 'n_estimators': 100},\n",
       "  {'max_depth': 5, 'max_features': 'sqrt', 'n_estimators': 10},\n",
       "  {'max_depth': 5, 'max_features': 'sqrt', 'n_estimators': 100},\n",
       "  {'max_depth': 5, 'max_features': 'log2', 'n_estimators': 10},\n",
       "  {'max_depth': 5, 'max_features': 'log2', 'n_estimators': 100},\n",
       "  {'max_depth': 7, 'max_features': 'auto', 'n_estimators': 10},\n",
       "  {'max_depth': 7, 'max_features': 'auto', 'n_estimators': 100},\n",
       "  {'max_depth': 7, 'max_features': 'sqrt', 'n_estimators': 10},\n",
       "  {'max_depth': 7, 'max_features': 'sqrt', 'n_estimators': 100},\n",
       "  {'max_depth': 7, 'max_features': 'log2', 'n_estimators': 10},\n",
       "  {'max_depth': 7, 'max_features': 'log2', 'n_estimators': 100},\n",
       "  {'max_depth': None, 'max_features': 'auto', 'n_estimators': 10},\n",
       "  {'max_depth': None, 'max_features': 'auto', 'n_estimators': 100},\n",
       "  {'max_depth': None, 'max_features': 'sqrt', 'n_estimators': 10},\n",
       "  {'max_depth': None, 'max_features': 'sqrt', 'n_estimators': 100},\n",
       "  {'max_depth': None, 'max_features': 'log2', 'n_estimators': 10},\n",
       "  {'max_depth': None, 'max_features': 'log2', 'n_estimators': 100}],\n",
       " 'split0_test_score': array([0.45649549, 0.45578219, 0.38511606, 0.40226157, 0.3557045 ,\n",
       "        0.38790091, 0.51798023, 0.5195397 , 0.46059964, 0.46810637,\n",
       "        0.43570607, 0.44966035, 0.53738583, 0.54015238, 0.48847694,\n",
       "        0.4981722 , 0.46798518, 0.48885852, 0.49989724, 0.54671911,\n",
       "        0.48438512, 0.53774665, 0.48101634, 0.53600072]),\n",
       " 'split1_test_score': array([0.45628638, 0.45926047, 0.39145445, 0.41024391, 0.36474029,\n",
       "        0.39550562, 0.51662733, 0.51939072, 0.46468671, 0.47770077,\n",
       "        0.444779  , 0.4604093 , 0.53669   , 0.5408899 , 0.49435515,\n",
       "        0.50793417, 0.49364836, 0.49773828, 0.49890505, 0.54312425,\n",
       "        0.49306744, 0.54163778, 0.49171334, 0.53991979]),\n",
       " 'split2_test_score': array([0.45618043, 0.45200247, 0.38871212, 0.40725668, 0.36008742,\n",
       "        0.39286417, 0.50851034, 0.50834206, 0.45969051, 0.46991526,\n",
       "        0.44383276, 0.45338373, 0.526679  , 0.53035778, 0.48968826,\n",
       "        0.49809939, 0.47339837, 0.49078771, 0.49137895, 0.53312234,\n",
       "        0.48260103, 0.53317177, 0.48537192, 0.53168689]),\n",
       " 'mean_test_score': array([0.45632077, 0.45568174, 0.38842754, 0.40658738, 0.36017741,\n",
       "        0.39209023, 0.51437269, 0.51575757, 0.46165897, 0.47190749,\n",
       "        0.44143925, 0.45448447, 0.53358501, 0.53713342, 0.49084013,\n",
       "        0.50140195, 0.47834402, 0.49246152, 0.49672713, 0.54098864,\n",
       "        0.48668457, 0.53751878, 0.48603387, 0.53586918]),\n",
       " 'std_test_score': array([0.0001309 , 0.00296391, 0.00259546, 0.00329298, 0.00368941,\n",
       "        0.00315249, 0.00418188, 0.00524383, 0.00217288, 0.00416253,\n",
       "        0.00407237, 0.00445675, 0.00489147, 0.00480048, 0.00253423,\n",
       "        0.0046191 , 0.01104522, 0.00381348, 0.00380331, 0.00575259,\n",
       "        0.00457179, 0.00345998, 0.00439206, 0.00336235]),\n",
       " 'rank_test_score': array([17, 18, 23, 21, 24, 22,  7,  6, 16, 15, 20, 19,  5,  3, 11,  8, 14,\n",
       "        10,  9,  1, 12,  2, 13,  4], dtype=int32)}"
      ]
     },
     "execution_count": 4,
     "metadata": {},
     "output_type": "execute_result"
    }
   ],
   "source": [
    "gsc.cv_results_"
   ]
  },
  {
   "cell_type": "code",
   "execution_count": null,
   "metadata": {},
   "outputs": [],
   "source": []
  }
 ],
 "metadata": {
  "kernelspec": {
   "display_name": "Python 3",
   "language": "python",
   "name": "python3"
  },
  "language_info": {
   "codemirror_mode": {
    "name": "ipython",
    "version": 3
   },
   "file_extension": ".py",
   "mimetype": "text/x-python",
   "name": "python",
   "nbconvert_exporter": "python",
   "pygments_lexer": "ipython3",
   "version": "3.7.4"
  }
 },
 "nbformat": 4,
 "nbformat_minor": 2
}
