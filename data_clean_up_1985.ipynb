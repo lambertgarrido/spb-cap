{
 "cells": [
  {
   "cell_type": "markdown",
   "metadata": {},
   "source": [
    "Details on data can be found here in HADS_doc.pdf found in project page.\n",
    "\n",
    "This analysis will focus on data from 1985, imported in next cell.\n",
    "\n",
    "Some acronyms to keep in mind:\n",
    "\n",
    "HH = household\n",
    "AMI = area median income\n",
    "FMR = fair market rent\n",
    "\n",
    "In the analysis that follows, each variable of interest (listed a few cells below) will be analyzed for negative or undefined values. To visualize the distribution of values, histograms and value counts will be used for continous and categorial data, respectively.\n",
    "\n",
    "For categorical data, the approach is to look for string literals set to a negative number. These were set to not_defined. If the majority of observations are not defined or the values themselves cannot be interpreted, then the entire variable is to be dropped.\n",
    "\n",
    "For continous data, if there is a large spike of observations at a single negative value, then these observations are to be set to NaN. Some continous variables had a continous distribution of negative values. These observations are to be interpreted as households in financial distress. Their negative values were fixed to a non-negative value, depending on the variable definition. Also for some continous variables, outliers were set to a fixed cutoff.\n",
    "\n",
    "A slightly different approach was used for the variable NUNITS (number of units). In this case, this variable was converted to a categorial variable with 5 levels.\n",
    "\n",
    "It was observed that 5 continous variables had exactly 2810 NaN observations. Further analysis show that these variables coincided in their NaN observations. Two catogorical variables also had 2810 observations set at a specific value. The values of these categorical variables also correlated with the NaN observations from the 5 continous variables.\n",
    "\n",
    "These 2810 rows were dropped from the data frame. These removed rows represents about 6 percent of the total number of observations. The final data frame was stored as a separate csv file called 1985_clean.csv"
   ]
  },
  {
   "cell_type": "code",
   "execution_count": 188,
   "metadata": {},
   "outputs": [],
   "source": [
    "import pandas as pd\n",
    "import numpy as np\n",
    "pd.set_option('display.max_rows', None)\n",
    "df = pd.read_csv(\"hads85.txt\")\n"
   ]
  },
  {
   "cell_type": "code",
   "execution_count": 189,
   "metadata": {
    "scrolled": true
   },
   "outputs": [
    {
     "data": {
      "text/html": [
       "<div>\n",
       "<style scoped>\n",
       "    .dataframe tbody tr th:only-of-type {\n",
       "        vertical-align: middle;\n",
       "    }\n",
       "\n",
       "    .dataframe tbody tr th {\n",
       "        vertical-align: top;\n",
       "    }\n",
       "\n",
       "    .dataframe thead th {\n",
       "        text-align: right;\n",
       "    }\n",
       "</style>\n",
       "<table border=\"1\" class=\"dataframe\">\n",
       "  <thead>\n",
       "    <tr style=\"text-align: right;\">\n",
       "      <th></th>\n",
       "      <th>CONTROL</th>\n",
       "      <th>REGION</th>\n",
       "      <th>METRO</th>\n",
       "      <th>WEIGHT</th>\n",
       "      <th>ISTATUS</th>\n",
       "      <th>NUNITS</th>\n",
       "      <th>BEDRMS</th>\n",
       "      <th>VACANCY</th>\n",
       "      <th>BUILT</th>\n",
       "      <th>VALUE</th>\n",
       "      <th>...</th>\n",
       "      <th>FMTCOST08RELAMICAT</th>\n",
       "      <th>FMTCOST12RELAMICAT</th>\n",
       "      <th>FMTCOSTMEDRELAMICAT</th>\n",
       "      <th>FMTIncRelAMICat</th>\n",
       "      <th>FMTMetro</th>\n",
       "      <th>FMTOwnRent</th>\n",
       "      <th>FMTRegion</th>\n",
       "      <th>FMTStatus</th>\n",
       "      <th>FMTStructureType</th>\n",
       "      <th>FMTZAdeq</th>\n",
       "    </tr>\n",
       "  </thead>\n",
       "  <tbody>\n",
       "    <tr>\n",
       "      <th>0</th>\n",
       "      <td>'100006110249'</td>\n",
       "      <td>3</td>\n",
       "      <td>7</td>\n",
       "      <td>2883.27</td>\n",
       "      <td>1</td>\n",
       "      <td>1</td>\n",
       "      <td>3</td>\n",
       "      <td>-9</td>\n",
       "      <td>81</td>\n",
       "      <td>-9</td>\n",
       "      <td>...</td>\n",
       "      <td>'4 60 - 80% AMI'</td>\n",
       "      <td>'4 60 - 80% AMI'</td>\n",
       "      <td>'4 60 - 80% AMI'</td>\n",
       "      <td>'4 60 - 80% AMI'</td>\n",
       "      <td>'-5'</td>\n",
       "      <td>'2 Renter'</td>\n",
       "      <td>'-5'</td>\n",
       "      <td>'1 Occupied'</td>\n",
       "      <td>'1 Single Family'</td>\n",
       "      <td>'1 Adequate'</td>\n",
       "    </tr>\n",
       "    <tr>\n",
       "      <th>1</th>\n",
       "      <td>'100007130148'</td>\n",
       "      <td>3</td>\n",
       "      <td>1</td>\n",
       "      <td>2785.89</td>\n",
       "      <td>1</td>\n",
       "      <td>16</td>\n",
       "      <td>2</td>\n",
       "      <td>-9</td>\n",
       "      <td>81</td>\n",
       "      <td>-9</td>\n",
       "      <td>...</td>\n",
       "      <td>'4 60 - 80% AMI'</td>\n",
       "      <td>'4 60 - 80% AMI'</td>\n",
       "      <td>'4 60 - 80% AMI'</td>\n",
       "      <td>'3 50 - 60% AMI'</td>\n",
       "      <td>'Central City'</td>\n",
       "      <td>'2 Renter'</td>\n",
       "      <td>'-5'</td>\n",
       "      <td>'1 Occupied'</td>\n",
       "      <td>'3 5-19 units'</td>\n",
       "      <td>'1 Adequate'</td>\n",
       "    </tr>\n",
       "    <tr>\n",
       "      <th>2</th>\n",
       "      <td>'100008700141'</td>\n",
       "      <td>4</td>\n",
       "      <td>6</td>\n",
       "      <td>2450.53</td>\n",
       "      <td>3</td>\n",
       "      <td>8</td>\n",
       "      <td>2</td>\n",
       "      <td>1</td>\n",
       "      <td>84</td>\n",
       "      <td>-9</td>\n",
       "      <td>...</td>\n",
       "      <td>'5 80 - 100% AMI'</td>\n",
       "      <td>'5 80 - 100% AMI'</td>\n",
       "      <td>'5 80 - 100% AMI'</td>\n",
       "      <td>'.'</td>\n",
       "      <td>'-5'</td>\n",
       "      <td>'2 Renter'</td>\n",
       "      <td>'West'</td>\n",
       "      <td>'3 Vacant'</td>\n",
       "      <td>'3 5-19 units'</td>\n",
       "      <td>'1 Adequate'</td>\n",
       "    </tr>\n",
       "    <tr>\n",
       "      <th>3</th>\n",
       "      <td>'100014110140'</td>\n",
       "      <td>3</td>\n",
       "      <td>7</td>\n",
       "      <td>2306.52</td>\n",
       "      <td>1</td>\n",
       "      <td>2</td>\n",
       "      <td>2</td>\n",
       "      <td>-9</td>\n",
       "      <td>85</td>\n",
       "      <td>-9</td>\n",
       "      <td>...</td>\n",
       "      <td>'4 60 - 80% AMI'</td>\n",
       "      <td>'4 60 - 80% AMI'</td>\n",
       "      <td>'4 60 - 80% AMI'</td>\n",
       "      <td>'4 60 - 80% AMI'</td>\n",
       "      <td>'-5'</td>\n",
       "      <td>'2 Renter'</td>\n",
       "      <td>'-5'</td>\n",
       "      <td>'1 Occupied'</td>\n",
       "      <td>'2 2-4 units'</td>\n",
       "      <td>'1 Adequate'</td>\n",
       "    </tr>\n",
       "    <tr>\n",
       "      <th>4</th>\n",
       "      <td>'100014350142'</td>\n",
       "      <td>1</td>\n",
       "      <td>3</td>\n",
       "      <td>2504.35</td>\n",
       "      <td>1</td>\n",
       "      <td>1</td>\n",
       "      <td>3</td>\n",
       "      <td>-9</td>\n",
       "      <td>84</td>\n",
       "      <td>160000</td>\n",
       "      <td>...</td>\n",
       "      <td>'7 120% AMI +'</td>\n",
       "      <td>'7 120% AMI +'</td>\n",
       "      <td>'7 120% AMI +'</td>\n",
       "      <td>'7 120% AMI +'</td>\n",
       "      <td>'-5'</td>\n",
       "      <td>'1 Owner'</td>\n",
       "      <td>'-5'</td>\n",
       "      <td>'1 Occupied'</td>\n",
       "      <td>'1 Single Family'</td>\n",
       "      <td>'1 Adequate'</td>\n",
       "    </tr>\n",
       "  </tbody>\n",
       "</table>\n",
       "<p>5 rows × 96 columns</p>\n",
       "</div>"
      ],
      "text/plain": [
       "          CONTROL  REGION  METRO   WEIGHT  ISTATUS  NUNITS  BEDRMS  VACANCY  \\\n",
       "0  '100006110249'       3      7  2883.27        1       1       3       -9   \n",
       "1  '100007130148'       3      1  2785.89        1      16       2       -9   \n",
       "2  '100008700141'       4      6  2450.53        3       8       2        1   \n",
       "3  '100014110140'       3      7  2306.52        1       2       2       -9   \n",
       "4  '100014350142'       1      3  2504.35        1       1       3       -9   \n",
       "\n",
       "   BUILT   VALUE      ...       FMTCOST08RELAMICAT  FMTCOST12RELAMICAT  \\\n",
       "0     81      -9      ...         '4 60 - 80% AMI'    '4 60 - 80% AMI'   \n",
       "1     81      -9      ...         '4 60 - 80% AMI'    '4 60 - 80% AMI'   \n",
       "2     84      -9      ...        '5 80 - 100% AMI'   '5 80 - 100% AMI'   \n",
       "3     85      -9      ...         '4 60 - 80% AMI'    '4 60 - 80% AMI'   \n",
       "4     84  160000      ...           '7 120% AMI +'      '7 120% AMI +'   \n",
       "\n",
       "   FMTCOSTMEDRELAMICAT   FMTIncRelAMICat        FMTMetro  FMTOwnRent  \\\n",
       "0     '4 60 - 80% AMI'  '4 60 - 80% AMI'            '-5'  '2 Renter'   \n",
       "1     '4 60 - 80% AMI'  '3 50 - 60% AMI'  'Central City'  '2 Renter'   \n",
       "2    '5 80 - 100% AMI'               '.'            '-5'  '2 Renter'   \n",
       "3     '4 60 - 80% AMI'  '4 60 - 80% AMI'            '-5'  '2 Renter'   \n",
       "4       '7 120% AMI +'    '7 120% AMI +'            '-5'   '1 Owner'   \n",
       "\n",
       "   FMTRegion     FMTStatus   FMTStructureType      FMTZAdeq  \n",
       "0       '-5'  '1 Occupied'  '1 Single Family'  '1 Adequate'  \n",
       "1       '-5'  '1 Occupied'     '3 5-19 units'  '1 Adequate'  \n",
       "2     'West'    '3 Vacant'     '3 5-19 units'  '1 Adequate'  \n",
       "3       '-5'  '1 Occupied'      '2 2-4 units'  '1 Adequate'  \n",
       "4       '-5'  '1 Occupied'  '1 Single Family'  '1 Adequate'  \n",
       "\n",
       "[5 rows x 96 columns]"
      ]
     },
     "execution_count": 189,
     "metadata": {},
     "output_type": "execute_result"
    }
   ],
   "source": [
    "df.head()"
   ]
  },
  {
   "cell_type": "markdown",
   "metadata": {},
   "source": [
    "There are 96 variables in a given file.\n",
    "\n",
    "The following variables will be analyzed. If necessary, more variables can be considered later in the analysis.\n",
    "\n",
    "AGE or age1                   = Age of head of household\n",
    "\n",
    "ASSISTED                      = Assisted Housing\n",
    "\n",
    "BEDRMS                        = # of bedrooms in unit\n",
    "\n",
    "BUILT                         = Year unit was built\n",
    "\n",
    "BURDEN                        = Housing cost as a fraction of income\n",
    "\n",
    "COSTMED                       = Housing cost at Median interest\n",
    "\n",
    "COSTMedRELAMICAT              = CostMed Relative to Median Income (Category)\n",
    "\n",
    "COSTMedRELAMIPCT              = CostMed Relative to Median Income (Percent)\n",
    "\n",
    "FMR                           = Fair market rent (average)\n",
    "\n",
    "FMTASSISTED                   = Assisted Housing\n",
    "\n",
    "FMTMETRO or FMTMETRO3         = CENTRAL CITY/SUBURBAN STATUS\n",
    "\n",
    "FMTOWNRENT                    = Owner/Renter Status (adjusted)\n",
    "\n",
    "FMTREGION                     = Census Region\n",
    "\n",
    "FMTSTATUS                     = Occupancy Status\n",
    "\n",
    "FMTSTRUCTURETYPE              = Structure Type\n",
    "\n",
    "INCRELAMICAT                  = HH Income relative to AMI (category)\n",
    "\n",
    "INCRELAMIPCT                  = HH Income relative to AMI (percent)\n",
    "\n",
    "IPOV                          = Poverty Income\n",
    "\n",
    "LMED                          = Area median income (average)\n",
    "\n",
    "NUNITS                        = # of units in building\n",
    "\n",
    "OTHERCOST                     = Insurance, condo, land rent, other mobile home fees\n",
    "\n",
    "OWNRENT                       = Tenure (adjusted)\n",
    "\n",
    "PER                           = # of persons in household\n",
    "\n",
    "ROOMS                         = # of rooms in unit\n",
    "\n",
    "TENURE                        = Owner/renter status of unit\n",
    "\n",
    "TOTSAL                        = Total Wage Income\n",
    "\n",
    "UTILITY                       = Monthly utility cost\n",
    "\n",
    "VACANCY                       = Vacancy status\n",
    "\n",
    "VALUE                         = Current market value of unit\n",
    "\n",
    "ZINC2                         = Household income\n",
    "\n",
    "ZSMHC                         = Monthly housing costs\n"
   ]
  },
  {
   "cell_type": "markdown",
   "metadata": {},
   "source": [
    "Looking at AGE which is age of head of household"
   ]
  },
  {
   "cell_type": "code",
   "execution_count": 190,
   "metadata": {
    "scrolled": true
   },
   "outputs": [
    {
     "data": {
      "image/png": "[encoded data removed]",
      "text/plain": [
       "<Figure size 432x288 with 1 Axes>"
      ]
     },
     "metadata": {
      "needs_background": "light"
     },
     "output_type": "display_data"
    }
   ],
   "source": [
    "col_list = ['AGE']\n",
    "hist = df.hist(column=col_list, bins=20)"
   ]
  },
  {
   "cell_type": "markdown",
   "metadata": {},
   "source": [
    "AGE1 has several negative values. Viewing the distribution below of the negative values"
   ]
  },
  {
   "cell_type": "code",
   "execution_count": 191,
   "metadata": {},
   "outputs": [
    {
     "data": {
      "text/plain": [
       "-9    2810\n",
       "Name: AGE, dtype: int64"
      ]
     },
     "execution_count": 191,
     "metadata": {},
     "output_type": "execute_result"
    }
   ],
   "source": [
    "df.loc[df['AGE'] < 0, 'AGE'].value_counts()"
   ]
  },
  {
   "cell_type": "markdown",
   "metadata": {},
   "source": [
    "There are 2810 rows with age set to -9. Likely the age was not availabe for these records. Therefore setting them to NaN below."
   ]
  },
  {
   "cell_type": "code",
   "execution_count": 192,
   "metadata": {},
   "outputs": [
    {
     "data": {
      "image/png": "[encoded data removed]",
      "text/plain": [
       "<Figure size 432x288 with 1 Axes>"
      ]
     },
     "metadata": {
      "needs_background": "light"
     },
     "output_type": "display_data"
    }
   ],
   "source": [
    "df.loc[df['AGE'] == -9, 'AGE'] = np.NaN\n",
    "col_list = ['AGE']\n",
    "hist = df.hist(column=col_list, bins=10)"
   ]
  },
  {
   "cell_type": "markdown",
   "metadata": {},
   "source": [
    "Defining cols_to_keep which is a list of column names to be kept in the final data file"
   ]
  },
  {
   "cell_type": "code",
   "execution_count": 193,
   "metadata": {},
   "outputs": [],
   "source": [
    "cols_to_keep = []\n",
    "cols_to_keep.append('AGE')"
   ]
  },
  {
   "cell_type": "markdown",
   "metadata": {},
   "source": [
    "Looking at Assisted and FMTAssisted variables represnting assisted housing"
   ]
  },
  {
   "cell_type": "code",
   "execution_count": 194,
   "metadata": {},
   "outputs": [
    {
     "name": "stdout",
     "output_type": "stream",
     "text": [
      "0    43637\n",
      "1     2277\n",
      "Name: Assisted, dtype: int64\n",
      "'0 Not Assisted'    43637\n",
      "'1 Assisted'         2277\n",
      "Name: FMTAssisted, dtype: int64\n"
     ]
    }
   ],
   "source": [
    "print(df['Assisted'].value_counts())\n",
    "print(df['FMTAssisted'].value_counts())"
   ]
  },
  {
   "cell_type": "markdown",
   "metadata": {},
   "source": [
    "Assisted and FMTAssisted are binary variables.\n",
    "\n",
    "Assisted and FMTAssisted (FMT stands for formatted) show same information. Keeping FMTAssisted variable only as it is more descriptive"
   ]
  },
  {
   "cell_type": "code",
   "execution_count": 195,
   "metadata": {},
   "outputs": [],
   "source": [
    "cols_to_keep.append('FMTAssisted')"
   ]
  },
  {
   "cell_type": "markdown",
   "metadata": {},
   "source": [
    "Next up is BEDRMS which is number of bedrooms in household"
   ]
  },
  {
   "cell_type": "code",
   "execution_count": 196,
   "metadata": {},
   "outputs": [
    {
     "data": {
      "text/plain": [
       "3     17643\n",
       "2     14684\n",
       "1      6301\n",
       "4      5313\n",
       "5       940\n",
       "0       795\n",
       "6       178\n",
       "7        32\n",
       "10       20\n",
       "8         7\n",
       "9         1\n",
       "Name: BEDRMS, dtype: int64"
      ]
     },
     "execution_count": 196,
     "metadata": {},
     "output_type": "execute_result"
    }
   ],
   "source": [
    "df['BEDRMS'].value_counts()"
   ]
  },
  {
   "cell_type": "markdown",
   "metadata": {},
   "source": [
    "If the household has 7 or more bedrooms, the number of bedrooms will be set to 7"
   ]
  },
  {
   "cell_type": "code",
   "execution_count": 197,
   "metadata": {},
   "outputs": [
    {
     "data": {
      "text/plain": [
       "3    17643\n",
       "2    14684\n",
       "1     6301\n",
       "4     5313\n",
       "5      940\n",
       "0      795\n",
       "6      178\n",
       "7       60\n",
       "Name: BEDRMS, dtype: int64"
      ]
     },
     "execution_count": 197,
     "metadata": {},
     "output_type": "execute_result"
    }
   ],
   "source": [
    "df.loc[df['BEDRMS'] > 6, 'BEDRMS'] = 7\n",
    "df['BEDRMS'].value_counts()"
   ]
  },
  {
   "cell_type": "code",
   "execution_count": 198,
   "metadata": {},
   "outputs": [],
   "source": [
    "cols_to_keep.append('BEDRMS')"
   ]
  },
  {
   "cell_type": "markdown",
   "metadata": {},
   "source": [
    "Looking next at BUILT and FMT Built variables which denotes year house was built."
   ]
  },
  {
   "cell_type": "code",
   "execution_count": 199,
   "metadata": {},
   "outputs": [
    {
     "data": {
      "text/plain": [
       "4     7896\n",
       "5     6893\n",
       "3     5445\n",
       "9     5254\n",
       "6     4123\n",
       "2     3958\n",
       "7     3198\n",
       "8     2885\n",
       "1     2504\n",
       "84     804\n",
       "83     685\n",
       "80     630\n",
       "81     619\n",
       "85     565\n",
       "82     455\n",
       "Name: BUILT, dtype: int64"
      ]
     },
     "execution_count": 199,
     "metadata": {},
     "output_type": "execute_result"
    }
   ],
   "source": [
    "df['BUILT'].value_counts()"
   ]
  },
  {
   "cell_type": "code",
   "execution_count": 200,
   "metadata": {},
   "outputs": [
    {
     "data": {
      "text/plain": [
       "'1960-1979'    19803\n",
       "'-5'           11337\n",
       "'1940-1959'    11016\n",
       "'1980-1989'     3758\n",
       "Name: FMTBuilt, dtype: int64"
      ]
     },
     "execution_count": 200,
     "metadata": {},
     "output_type": "execute_result"
    }
   ],
   "source": [
    "df['FMTBuilt'].value_counts()"
   ]
  },
  {
   "cell_type": "markdown",
   "metadata": {},
   "source": [
    "The values for built are not defined in documentation. Built variable to be dropped.\n",
    "\n",
    "FMTBuilt has a clear interpretation of the values. If FMTBuilt is -5, value to be set to not_defined."
   ]
  },
  {
   "cell_type": "code",
   "execution_count": 201,
   "metadata": {},
   "outputs": [
    {
     "data": {
      "text/plain": [
       "'1960-1979'      19803\n",
       "'not_defined'    11337\n",
       "'1940-1959'      11016\n",
       "'1980-1989'       3758\n",
       "Name: FMTBuilt, dtype: int64"
      ]
     },
     "execution_count": 201,
     "metadata": {},
     "output_type": "execute_result"
    }
   ],
   "source": [
    "df.loc[df['FMTBuilt'].str.contains('-5'), 'FMTBuilt'] = '\\'not_defined\\''\n",
    "df['FMTBuilt'].value_counts()"
   ]
  },
  {
   "cell_type": "code",
   "execution_count": 202,
   "metadata": {},
   "outputs": [],
   "source": [
    "cols_to_keep.append('FMTBuilt')"
   ]
  },
  {
   "cell_type": "markdown",
   "metadata": {},
   "source": [
    "Next variable is Burden defined as Housing cost as a fraction of income"
   ]
  },
  {
   "cell_type": "code",
   "execution_count": 203,
   "metadata": {},
   "outputs": [
    {
     "data": {
      "image/png": "[encoded data removed]",
      "text/plain": [
       "<Figure size 432x288 with 1 Axes>"
      ]
     },
     "metadata": {
      "needs_background": "light"
     },
     "output_type": "display_data"
    }
   ],
   "source": [
    "hist = df.hist(column='Burden', bins=100)"
   ]
  },
  {
   "cell_type": "markdown",
   "metadata": {},
   "source": [
    "The burden values are concerntrated near 0; however there are outliers far to the right of 0. Looking at the distribution for values less than 10 and value counts for values less than 0 in the next cell"
   ]
  },
  {
   "cell_type": "code",
   "execution_count": 204,
   "metadata": {},
   "outputs": [
    {
     "data": {
      "text/plain": [
       "-9.0    4998\n",
       "-1.0     434\n",
       "Name: Burden, dtype: int64"
      ]
     },
     "execution_count": 204,
     "metadata": {},
     "output_type": "execute_result"
    },
    {
     "data": {
      "image/png": "[encoded data removed]",
      "text/plain": [
       "<Figure size 432x288 with 1 Axes>"
      ]
     },
     "metadata": {
      "needs_background": "light"
     },
     "output_type": "display_data"
    }
   ],
   "source": [
    "hist = df.loc[df['Burden'] < 10].hist(column='Burden',bins=100)\n",
    "df.loc[df['Burden'] < 0, 'Burden' ].value_counts()\n"
   ]
  },
  {
   "cell_type": "markdown",
   "metadata": {},
   "source": [
    "BURDEN is a continuous variable. Setting the 4998 values of -9 to NaN as these seem to be unavailable. Will assume that BURDEN set to -1 are households with no income (the ratio of cost to income would be infinite). There are also households with BURDEN higher than 1. Therefore if BURDEN is -1 or is 10 or more, the BURDEN is to be set at 10."
   ]
  },
  {
   "cell_type": "code",
   "execution_count": 205,
   "metadata": {},
   "outputs": [
    {
     "data": {
      "image/png": "[encoded data removed]",
      "text/plain": [
       "<Figure size 432x288 with 1 Axes>"
      ]
     },
     "metadata": {
      "needs_background": "light"
     },
     "output_type": "display_data"
    }
   ],
   "source": [
    "df.loc[df['Burden'] == -9, 'Burden'] = np.NaN\n",
    "df.loc[df['Burden'] == -1, 'Burden'] = 10\n",
    "df.loc[df['Burden']  > 10, 'Burden'] = 10\n",
    "hist = df.hist(column = 'Burden', bins = 100)"
   ]
  },
  {
   "cell_type": "code",
   "execution_count": 206,
   "metadata": {},
   "outputs": [],
   "source": [
    "cols_to_keep.append('Burden')"
   ]
  },
  {
   "cell_type": "markdown",
   "metadata": {},
   "source": [
    "Next up is COSTMED defined as housing cost assuming mortgage payments at median interest and CostMedRelAMIPct defined as COSTMED relative to Area Median Income (percent)"
   ]
  },
  {
   "cell_type": "code",
   "execution_count": 207,
   "metadata": {},
   "outputs": [
    {
     "name": "stdout",
     "output_type": "stream",
     "text": [
      "0\n",
      "0\n"
     ]
    },
    {
     "data": {
      "image/png": "[encoded data removed]",
      "text/plain": [
       "<Figure size 432x288 with 1 Axes>"
      ]
     },
     "metadata": {
      "needs_background": "light"
     },
     "output_type": "display_data"
    },
    {
     "data": {
      "image/png": "[encoded data removed]",
      "text/plain": [
       "<Figure size 432x288 with 1 Axes>"
      ]
     },
     "metadata": {
      "needs_background": "light"
     },
     "output_type": "display_data"
    }
   ],
   "source": [
    "hist = df.hist(column='COSTMed',bins=10)\n",
    "print(df.loc[df['COSTMed'] < 0,'COSTMed'].count())\n",
    "\n",
    "hist = df.hist(column='CostMedRelAMIPct',bins=10)\n",
    "print(df.loc[df['CostMedRelAMIPct'] < 0,'CostMedRelAMIPct'].count())\n"
   ]
  },
  {
   "cell_type": "markdown",
   "metadata": {},
   "source": [
    "COSTMED and CostMedRelAMIPct show no negative values. Also the distributions have no outliers\n",
    "\n",
    "Next up is CostMedRelAMICat which is the categorical variable to CostMedRelAMIPct and FMTCOSTMEDRELAMICAT is the formatted version of CostMedRelAMICat"
   ]
  },
  {
   "cell_type": "code",
   "execution_count": 208,
   "metadata": {},
   "outputs": [],
   "source": [
    "cols_to_keep.append('COSTMed')\n",
    "cols_to_keep.append('CostMedRelAMIPct')"
   ]
  },
  {
   "cell_type": "code",
   "execution_count": 209,
   "metadata": {},
   "outputs": [
    {
     "name": "stdout",
     "output_type": "stream",
     "text": [
      "4    9138\n",
      "2    7648\n",
      "7    7314\n",
      "5    7291\n",
      "3    5344\n",
      "1    4761\n",
      "6    4418\n",
      "Name: CostMedRelAMICat, dtype: int64\n",
      "'4 60 - 80% AMI'      9138\n",
      "'2 30 - 50% AMI'      7648\n",
      "'7 120% AMI +'        7314\n",
      "'5 80 - 100% AMI'     7291\n",
      "'3 50 - 60% AMI'      5344\n",
      "'1 LTE 30% AMI'       4761\n",
      "'6 100 - 120% AMI'    4418\n",
      "Name: FMTCOSTMEDRELAMICAT, dtype: int64\n"
     ]
    }
   ],
   "source": [
    "print(df['CostMedRelAMICat'].value_counts())\n",
    "print(df['FMTCOSTMEDRELAMICAT'].value_counts())"
   ]
  },
  {
   "cell_type": "markdown",
   "metadata": {},
   "source": [
    "Both CostMedRelAMICat and FMTCOSTMEDRELAMICAT show the same value counts. However FMTCOSTMEDRELAMICAT better describes the category variables which are percentages of CostMed (cost assuming mortgage payments at median interest) relative to area median income. Therefore will keep FMTCOSTMEDRELAMICAT\n",
    "\n",
    "Next variable to analyze is FMR defined as Fair Market Rent"
   ]
  },
  {
   "cell_type": "code",
   "execution_count": 210,
   "metadata": {},
   "outputs": [],
   "source": [
    "cols_to_keep.append('FMTCOSTMEDRELAMICAT')"
   ]
  },
  {
   "cell_type": "code",
   "execution_count": 211,
   "metadata": {},
   "outputs": [
    {
     "name": "stdout",
     "output_type": "stream",
     "text": [
      "0\n"
     ]
    },
    {
     "data": {
      "image/png": "[encoded data removed]",
      "text/plain": [
       "<Figure size 432x288 with 1 Axes>"
      ]
     },
     "metadata": {
      "needs_background": "light"
     },
     "output_type": "display_data"
    }
   ],
   "source": [
    "hist = df.hist(column='FMR', bins=10)\n",
    "print(df.loc[df['FMR'] < 0,'FMR'].count())"
   ]
  },
  {
   "cell_type": "markdown",
   "metadata": {},
   "source": [
    "FMR shows no negative values and no outliers. No further clean up needed.\n",
    "\n",
    "Next up is FMTAssisted which indicates if household is assisted or not."
   ]
  },
  {
   "cell_type": "code",
   "execution_count": 212,
   "metadata": {},
   "outputs": [],
   "source": [
    "cols_to_keep.append('FMR')"
   ]
  },
  {
   "cell_type": "code",
   "execution_count": 213,
   "metadata": {},
   "outputs": [
    {
     "data": {
      "text/plain": [
       "'0 Not Assisted'    43637\n",
       "'1 Assisted'         2277\n",
       "Name: FMTAssisted, dtype: int64"
      ]
     },
     "execution_count": 213,
     "metadata": {},
     "output_type": "execute_result"
    }
   ],
   "source": [
    "df['FMTAssisted'].value_counts()"
   ]
  },
  {
   "cell_type": "markdown",
   "metadata": {},
   "source": [
    "FMTAssisted shows no undefined values. No further clean up needed.\n",
    "\n",
    "Next variable is FMTMetro defined as the central city or suburban status"
   ]
  },
  {
   "cell_type": "code",
   "execution_count": 214,
   "metadata": {},
   "outputs": [],
   "source": [
    "cols_to_keep.append('FMTAssisted')"
   ]
  },
  {
   "cell_type": "code",
   "execution_count": 215,
   "metadata": {},
   "outputs": [
    {
     "data": {
      "text/plain": [
       "'-5'              29694\n",
       "'Central City'    16220\n",
       "Name: FMTMetro, dtype: int64"
      ]
     },
     "execution_count": 215,
     "metadata": {},
     "output_type": "execute_result"
    }
   ],
   "source": [
    "df['FMTMetro'].value_counts()"
   ]
  },
  {
   "cell_type": "markdown",
   "metadata": {},
   "source": [
    "Most values have -5 value which is not defined in documentation. Dropping this column.\n",
    "\n",
    "The next variable FMTOwnRest and OwnRent representing own/rent status of households"
   ]
  },
  {
   "cell_type": "code",
   "execution_count": 216,
   "metadata": {},
   "outputs": [
    {
     "name": "stdout",
     "output_type": "stream",
     "text": [
      "'1 Owner'     28536\n",
      "'2 Renter'    17378\n",
      "Name: FMTOwnRent, dtype: int64\n",
      "1    28536\n",
      "2    17378\n",
      "Name: OwnRent, dtype: int64\n"
     ]
    }
   ],
   "source": [
    "print(df['FMTOwnRent'].value_counts())\n",
    "print(df['OwnRent'].value_counts())"
   ]
  },
  {
   "cell_type": "markdown",
   "metadata": {},
   "source": [
    "These variables have 2 values. Keeping FMTOwnRent as it is easy to interpret: owner or renter defined for each entry. No clean up needed.\n",
    "\n",
    "Dropping variable OwnRent\n",
    "\n",
    "Next variable is FMTREGION defined as Census Region"
   ]
  },
  {
   "cell_type": "code",
   "execution_count": 217,
   "metadata": {},
   "outputs": [],
   "source": [
    "cols_to_keep.append('FMTOwnRent')"
   ]
  },
  {
   "cell_type": "code",
   "execution_count": 218,
   "metadata": {},
   "outputs": [
    {
     "data": {
      "text/plain": [
       "'-5'      36663\n",
       "'West'     9251\n",
       "Name: FMTRegion, dtype: int64"
      ]
     },
     "execution_count": 218,
     "metadata": {},
     "output_type": "execute_result"
    }
   ],
   "source": [
    "df['FMTRegion'].value_counts()"
   ]
  },
  {
   "cell_type": "markdown",
   "metadata": {},
   "source": [
    "Most values have -5 value which is not defined in documentation. Dropping this column.\n",
    "\n",
    "Next variable is FMTStatus defined as the household occupancy status"
   ]
  },
  {
   "cell_type": "code",
   "execution_count": 219,
   "metadata": {},
   "outputs": [
    {
     "data": {
      "text/plain": [
       "'1 Occupied'    43104\n",
       "'3 Vacant'       2810\n",
       "Name: FMTStatus, dtype: int64"
      ]
     },
     "execution_count": 219,
     "metadata": {},
     "output_type": "execute_result"
    }
   ],
   "source": [
    "df['FMTStatus'].value_counts()"
   ]
  },
  {
   "cell_type": "markdown",
   "metadata": {},
   "source": [
    "This variable has 2 values, either occupied or vacant. No clean up needed.\n",
    "\n",
    "Next variable is FMTStructureType which is the household structure type"
   ]
  },
  {
   "cell_type": "code",
   "execution_count": 220,
   "metadata": {},
   "outputs": [],
   "source": [
    "cols_to_keep.append('FMTStatus')"
   ]
  },
  {
   "cell_type": "code",
   "execution_count": 221,
   "metadata": {},
   "outputs": [
    {
     "data": {
      "text/plain": [
       "'1 Single Family'    30213\n",
       "'2 2-4 units'         5613\n",
       "'3 5-19 units'        4702\n",
       "'6 Mobile Home'       2140\n",
       "'5 50+ units'         1706\n",
       "'4 20-49 units'       1540\n",
       "Name: FMTStructureType, dtype: int64"
      ]
     },
     "execution_count": 221,
     "metadata": {},
     "output_type": "execute_result"
    }
   ],
   "source": [
    "df['FMTStructureType'].value_counts()"
   ]
  },
  {
   "cell_type": "markdown",
   "metadata": {},
   "source": [
    "No missing values found. No clean required for this variable.\n",
    "\n",
    "Next variables to analyze are IncRelAMICat defined as income relative to area median income (categorical) and FMTIncRelAMICAT defined as formatted version of IncRelAMICat."
   ]
  },
  {
   "cell_type": "code",
   "execution_count": 222,
   "metadata": {},
   "outputs": [],
   "source": [
    "cols_to_keep.append('FMTStructureType')"
   ]
  },
  {
   "cell_type": "code",
   "execution_count": 223,
   "metadata": {},
   "outputs": [
    {
     "name": "stdout",
     "output_type": "stream",
     "text": [
      " 7    14961\n",
      " 1     6105\n",
      " 2     5273\n",
      " 5     5103\n",
      " 4     4644\n",
      " 6     4385\n",
      "-9     2810\n",
      " 3     2633\n",
      "Name: IncRelAMICat, dtype: int64\n",
      "'7 120% AMI +'        14961\n",
      "'1 LTE 30% AMI'        6105\n",
      "'2 30 - 50% AMI'       5273\n",
      "'5 80 - 100% AMI'      5103\n",
      "'4 60 - 80% AMI'       4644\n",
      "'6 100 - 120% AMI'     4385\n",
      "'.'                    2810\n",
      "'3 50 - 60% AMI'       2633\n",
      "Name: FMTIncRelAMICat, dtype: int64\n"
     ]
    }
   ],
   "source": [
    "print(df['IncRelAMICat'].value_counts())\n",
    "print(df['FMTIncRelAMICat'].value_counts())"
   ]
  },
  {
   "cell_type": "markdown",
   "metadata": {},
   "source": [
    "Will use FMTIncRelAMICat as the category values are easy to interpret; dropping IncRelAMICat. There are 2810 rows with missing values. These are to be set to 'not_defined'"
   ]
  },
  {
   "cell_type": "code",
   "execution_count": 224,
   "metadata": {},
   "outputs": [
    {
     "name": "stdout",
     "output_type": "stream",
     "text": [
      "'7 120% AMI +'        14961\n",
      "'1 LTE 30% AMI'        6105\n",
      "'2 30 - 50% AMI'       5273\n",
      "'5 80 - 100% AMI'      5103\n",
      "'4 60 - 80% AMI'       4644\n",
      "'6 100 - 120% AMI'     4385\n",
      "'not_defined'          2810\n",
      "'3 50 - 60% AMI'       2633\n",
      "Name: FMTIncRelAMICat, dtype: int64\n"
     ]
    }
   ],
   "source": [
    "df.loc[df['FMTIncRelAMICat'].str.contains('.', regex=False), 'FMTIncRelAMICat'] = '\\'not_defined\\''\n",
    "print(df['FMTIncRelAMICat'].value_counts())"
   ]
  },
  {
   "cell_type": "markdown",
   "metadata": {},
   "source": [
    "Next variable to consider is IncRelAMIPct or income relative to area median income (percent)"
   ]
  },
  {
   "cell_type": "code",
   "execution_count": 225,
   "metadata": {},
   "outputs": [],
   "source": [
    "cols_to_keep.append('FMTIncRelAMICat')"
   ]
  },
  {
   "cell_type": "code",
   "execution_count": 226,
   "metadata": {},
   "outputs": [
    {
     "data": {
      "image/png": "[encoded data removed]",
      "text/plain": [
       "<Figure size 432x288 with 1 Axes>"
      ]
     },
     "metadata": {
      "needs_background": "light"
     },
     "output_type": "display_data"
    }
   ],
   "source": [
    "hist = df.hist(column='IncRelAMIPct', bins=20)"
   ]
  },
  {
   "cell_type": "code",
   "execution_count": 227,
   "metadata": {},
   "outputs": [
    {
     "data": {
      "text/plain": [
       "-9.000000     2810\n",
       "-35.118505       1\n",
       "-50.600245       1\n",
       "-46.579117       1\n",
       "-10.119037       1\n",
       "-10.544608       1\n",
       "-34.897978       1\n",
       "-23.702621       1\n",
       "-31.851195       1\n",
       "-23.593381       1\n",
       "-41.829850       1\n",
       "-11.312831       1\n",
       "-30.357111       1\n",
       "-30.339355       1\n",
       "-31.223620       1\n",
       "-27.527829       1\n",
       "-22.593925       1\n",
       "-1.520707        1\n",
       "-15.499424       1\n",
       "-34.408774       1\n",
       "-32.460979       1\n",
       "-46.819267       1\n",
       "-4.055218        1\n",
       "-12.014301       1\n",
       "-38.617396       1\n",
       "-52.035899       1\n",
       "-1.531370        1\n",
       "-44.992101       1\n",
       "-40.966859       1\n",
       "-4.375745        1\n",
       "-10.162372       1\n",
       "-26.336245       1\n",
       "-2.248675        1\n",
       "-22.031693       1\n",
       "Name: IncRelAMIPct, dtype: int64"
      ]
     },
     "execution_count": 227,
     "metadata": {},
     "output_type": "execute_result"
    }
   ],
   "source": [
    "df.loc[df['IncRelAMIPct'] < 0, 'IncRelAMIPct'].value_counts()"
   ]
  },
  {
   "cell_type": "markdown",
   "metadata": {},
   "source": [
    "INCRELAMIPCT has 2810 values at -9. These likely represent not defined values. Setting them to NaN. There are is also a distribtion of negative values. Likely these represent incomes for households in financial distress. To be set to 0."
   ]
  },
  {
   "cell_type": "code",
   "execution_count": 228,
   "metadata": {},
   "outputs": [
    {
     "data": {
      "image/png": "[encoded data removed]",
      "text/plain": [
       "<Figure size 432x288 with 1 Axes>"
      ]
     },
     "metadata": {
      "needs_background": "light"
     },
     "output_type": "display_data"
    }
   ],
   "source": [
    "df.loc[df['IncRelAMIPct'] == -9, 'IncRelAMIPct'] = np.NaN\n",
    "df.loc[df['IncRelAMIPct'] < 0  , 'IncRelAMIPct'] = 0\n",
    "hist = df.hist(column='IncRelAMIPct', bins=20)"
   ]
  },
  {
   "cell_type": "markdown",
   "metadata": {},
   "source": [
    "Next up is IPov defined as poverty level income"
   ]
  },
  {
   "cell_type": "code",
   "execution_count": 229,
   "metadata": {},
   "outputs": [],
   "source": [
    "cols_to_keep.append('IncRelAMIPct')"
   ]
  },
  {
   "cell_type": "code",
   "execution_count": 230,
   "metadata": {},
   "outputs": [
    {
     "data": {
      "text/plain": [
       "0"
      ]
     },
     "execution_count": 230,
     "metadata": {},
     "output_type": "execute_result"
    },
    {
     "data": {
      "image/png": "[encoded data removed]",
      "text/plain": [
       "<Figure size 432x288 with 1 Axes>"
      ]
     },
     "metadata": {
      "needs_background": "light"
     },
     "output_type": "display_data"
    }
   ],
   "source": [
    "col_list = ['IPov']\n",
    "hist = df.hist(column=col_list, bins=20)\n",
    "df.loc[df['IPov'] < 0, 'IPov'].count()"
   ]
  },
  {
   "cell_type": "markdown",
   "metadata": {},
   "source": [
    "IPov contains no negative values and no outliers. No clean up needed.\n",
    "\n",
    "Next variable to analyze is LMed defined as area median income"
   ]
  },
  {
   "cell_type": "code",
   "execution_count": 231,
   "metadata": {},
   "outputs": [],
   "source": [
    "cols_to_keep.append('IPov')"
   ]
  },
  {
   "cell_type": "code",
   "execution_count": 232,
   "metadata": {},
   "outputs": [
    {
     "data": {
      "text/plain": [
       "0"
      ]
     },
     "execution_count": 232,
     "metadata": {},
     "output_type": "execute_result"
    },
    {
     "data": {
      "image/png": "[encoded data removed]",
      "text/plain": [
       "<Figure size 432x288 with 1 Axes>"
      ]
     },
     "metadata": {
      "needs_background": "light"
     },
     "output_type": "display_data"
    }
   ],
   "source": [
    "hist = df.hist(column = 'LMed', bins = 10)\n",
    "df.loc[df['LMed'] < 0, 'LMed'].count()"
   ]
  },
  {
   "cell_type": "markdown",
   "metadata": {},
   "source": [
    "LMed has no negative values and no outliers. No clean up needed.\n",
    "\n",
    "Next variable is NUNITS which is the number of units (for example, number of units in an apartment building)."
   ]
  },
  {
   "cell_type": "code",
   "execution_count": 233,
   "metadata": {},
   "outputs": [],
   "source": [
    "cols_to_keep.append('LMed')"
   ]
  },
  {
   "cell_type": "code",
   "execution_count": 234,
   "metadata": {},
   "outputs": [
    {
     "name": "stdout",
     "output_type": "stream",
     "text": [
      "1      32344\n",
      "2       3080\n",
      "4       1586\n",
      "8       1074\n",
      "3        956\n",
      "101      909\n",
      "6        709\n",
      "12       658\n",
      "16       521\n",
      "10       373\n",
      "5        324\n",
      "24       212\n",
      "20       196\n",
      "7        187\n",
      "9        172\n",
      "11       158\n",
      "18       156\n",
      "14       152\n",
      "36       108\n",
      "30        98\n",
      "48        79\n",
      "15        79\n",
      "40        74\n",
      "60        69\n",
      "17        66\n",
      "21        54\n",
      "42        54\n",
      "32        54\n",
      "28        52\n",
      "25        47\n",
      "13        42\n",
      "100       40\n",
      "54        39\n",
      "23        39\n",
      "22        38\n",
      "26        38\n",
      "35        37\n",
      "38        37\n",
      "96        35\n",
      "39        34\n",
      "34        34\n",
      "50        32\n",
      "72        31\n",
      "33        31\n",
      "19        31\n",
      "44        31\n",
      "90        30\n",
      "27        29\n",
      "70        26\n",
      "41        25\n",
      "80        24\n",
      "62        24\n",
      "31        23\n",
      "97        22\n",
      "29        22\n",
      "65        20\n",
      "45        20\n",
      "56        19\n",
      "46        19\n",
      "53        18\n",
      "55        17\n",
      "69        17\n",
      "37        17\n",
      "57        16\n",
      "64        16\n",
      "67        16\n",
      "47        16\n",
      "79        15\n",
      "84        15\n",
      "51        15\n",
      "94        13\n",
      "92        13\n",
      "98        12\n",
      "63        12\n",
      "49        12\n",
      "73        11\n",
      "66        11\n",
      "81        11\n",
      "61        10\n",
      "95        10\n",
      "58        10\n",
      "82        10\n",
      "43        10\n",
      "75        10\n",
      "77         9\n",
      "88         9\n",
      "68         9\n",
      "52         9\n",
      "74         8\n",
      "59         8\n",
      "93         7\n",
      "99         7\n",
      "78         6\n",
      "83         6\n",
      "76         6\n",
      "87         6\n",
      "85         5\n",
      "71         4\n",
      "86         4\n",
      "89         3\n",
      "91         2\n",
      "Name: NUNITS, dtype: int64\n"
     ]
    }
   ],
   "source": [
    "columns = ['NUNITS']\n",
    "for column in columns:\n",
    "    print(df[column].value_counts())"
   ]
  },
  {
   "cell_type": "markdown",
   "metadata": {},
   "source": [
    "NUNITS has no undefined values or negative values. The vast majority of households are single family homes. Will set this variable to a categorical variable, broken down as single unit, 2-9 units, 10-49 units, 50-99 units, 100 or more units."
   ]
  },
  {
   "cell_type": "code",
   "execution_count": 235,
   "metadata": {},
   "outputs": [],
   "source": [
    "# setting new categories for NUNITS\n",
    "for index, row in df.iterrows():\n",
    "    if   row['NUNITS'] >= 100:\n",
    "        df.loc[index, 'NUNITS'] = '100 or more units'\n",
    "    elif row['NUNITS'] >= 50:\n",
    "        df.loc[index, 'NUNITS'] = '50-99 units'\n",
    "    elif row['NUNITS'] >= 10:\n",
    "        df.loc[index, 'NUNITS'] = '10-49 units'\n",
    "    elif row['NUNITS'] > 1:\n",
    "        df.loc[index, 'NUNITS'] = '2-9 units'\n",
    "    elif row['NUNITS'] == 1:\n",
    "        df.loc[index, 'NUNITS'] = 'single unit'"
   ]
  },
  {
   "cell_type": "code",
   "execution_count": 236,
   "metadata": {},
   "outputs": [
    {
     "data": {
      "text/plain": [
       "single unit          32344\n",
       "2-9 units             8088\n",
       "10-49 units           3776\n",
       "100 or more units      949\n",
       "50-99 units            757\n",
       "Name: NUNITS, dtype: int64"
      ]
     },
     "execution_count": 236,
     "metadata": {},
     "output_type": "execute_result"
    }
   ],
   "source": [
    "df['NUNITS'].value_counts()"
   ]
  },
  {
   "cell_type": "markdown",
   "metadata": {},
   "source": [
    "Next variable to analyze is OtherCost defined as Insurance, condo, land rent, other mobile home fees"
   ]
  },
  {
   "cell_type": "code",
   "execution_count": 237,
   "metadata": {},
   "outputs": [],
   "source": [
    "cols_to_keep.append('NUNITS')"
   ]
  },
  {
   "cell_type": "code",
   "execution_count": 238,
   "metadata": {},
   "outputs": [
    {
     "data": {
      "text/plain": [
       "0"
      ]
     },
     "execution_count": 238,
     "metadata": {},
     "output_type": "execute_result"
    },
    {
     "data": {
      "image/png": "[encoded data removed]",
      "text/plain": [
       "<Figure size 432x288 with 1 Axes>"
      ]
     },
     "metadata": {
      "needs_background": "light"
     },
     "output_type": "display_data"
    }
   ],
   "source": [
    "hist = df.hist(column='OtherCost',bins=100)\n",
    "df.loc[df['OtherCost'] < 0, 'OtherCost'].count()"
   ]
  },
  {
   "cell_type": "markdown",
   "metadata": {},
   "source": [
    "OtherCost has no negative values; however there are outliers beyond a cost of 200 USD. If the OtherCost of 200 USD or more, setting it to 500"
   ]
  },
  {
   "cell_type": "code",
   "execution_count": 239,
   "metadata": {},
   "outputs": [
    {
     "data": {
      "image/png": "[encoded data removed]",
      "text/plain": [
       "<Figure size 432x288 with 1 Axes>"
      ]
     },
     "metadata": {
      "needs_background": "light"
     },
     "output_type": "display_data"
    }
   ],
   "source": [
    "df.loc[df['OtherCost'] > 200, 'OtherCost'] = 200\n",
    "hist = df.hist(column='OtherCost', bins=100)"
   ]
  },
  {
   "cell_type": "markdown",
   "metadata": {},
   "source": [
    "Next variable to consider is PER denoting number of persons per household"
   ]
  },
  {
   "cell_type": "code",
   "execution_count": 240,
   "metadata": {},
   "outputs": [],
   "source": [
    "cols_to_keep.append('OtherCost')"
   ]
  },
  {
   "cell_type": "code",
   "execution_count": 241,
   "metadata": {},
   "outputs": [
    {
     "data": {
      "text/plain": [
       " 2     13906\n",
       " 1     10017\n",
       " 3      7535\n",
       " 4      6808\n",
       " 5      3092\n",
       "-9      2810\n",
       " 6      1074\n",
       " 7       374\n",
       " 8       172\n",
       " 9        63\n",
       " 10       33\n",
       " 11       16\n",
       " 12        6\n",
       " 14        4\n",
       " 15        2\n",
       " 13        2\n",
       "Name: PER, dtype: int64"
      ]
     },
     "execution_count": 241,
     "metadata": {},
     "output_type": "execute_result"
    }
   ],
   "source": [
    "df['PER'].value_counts()"
   ]
  },
  {
   "cell_type": "markdown",
   "metadata": {},
   "source": [
    "If number of persons per unit is 9 or more, setting value to 9. If PER is negative, setting to NaN"
   ]
  },
  {
   "cell_type": "code",
   "execution_count": 242,
   "metadata": {},
   "outputs": [
    {
     "data": {
      "text/plain": [
       "2.0    13906\n",
       "1.0    10017\n",
       "3.0     7535\n",
       "4.0     6808\n",
       "5.0     3092\n",
       "6.0     1074\n",
       "7.0      374\n",
       "8.0      172\n",
       "9.0      126\n",
       "Name: PER, dtype: int64"
      ]
     },
     "execution_count": 242,
     "metadata": {},
     "output_type": "execute_result"
    }
   ],
   "source": [
    "df.loc[df['PER'] > 8, 'PER'] = 9\n",
    "df.loc[df['PER'] == -9, 'PER'] = np.NaN\n",
    "df['PER'].value_counts()"
   ]
  },
  {
   "cell_type": "markdown",
   "metadata": {},
   "source": [
    "Next variable is the number of rooms per household"
   ]
  },
  {
   "cell_type": "code",
   "execution_count": 243,
   "metadata": {},
   "outputs": [],
   "source": [
    "cols_to_keep.append('PER')"
   ]
  },
  {
   "cell_type": "code",
   "execution_count": 244,
   "metadata": {},
   "outputs": [
    {
     "data": {
      "text/plain": [
       "0"
      ]
     },
     "execution_count": 244,
     "metadata": {},
     "output_type": "execute_result"
    },
    {
     "data": {
      "image/png": "[encoded data removed]",
      "text/plain": [
       "<Figure size 432x288 with 1 Axes>"
      ]
     },
     "metadata": {
      "needs_background": "light"
     },
     "output_type": "display_data"
    }
   ],
   "source": [
    "df['ROOMS'].value_counts()\n",
    "hist = df.hist(column='ROOMS', bins=15)\n",
    "df.loc[df['ROOMS'] < 0, 'ROOMS'].count()"
   ]
  },
  {
   "cell_type": "markdown",
   "metadata": {},
   "source": [
    "ROOMS has no negative values. No clean up needed."
   ]
  },
  {
   "cell_type": "code",
   "execution_count": 245,
   "metadata": {},
   "outputs": [],
   "source": [
    "cols_to_keep.append('ROOMS')"
   ]
  },
  {
   "cell_type": "code",
   "execution_count": 246,
   "metadata": {},
   "outputs": [
    {
     "data": {
      "text/plain": [
       " 1    27664\n",
       " 2    14490\n",
       "-9     2810\n",
       " 3      950\n",
       "Name: TENURE, dtype: int64"
      ]
     },
     "execution_count": 246,
     "metadata": {},
     "output_type": "execute_result"
    }
   ],
   "source": [
    "df['TENURE'].value_counts()"
   ]
  },
  {
   "cell_type": "markdown",
   "metadata": {},
   "source": [
    "TENURE has 4 possible values, one being -9. Since there is no explanation of this variable, it will be dropped.\n",
    "\n",
    "Next variable to analyze is TotSal defined as total wage income."
   ]
  },
  {
   "cell_type": "code",
   "execution_count": 247,
   "metadata": {},
   "outputs": [
    {
     "data": {
      "text/plain": [
       "-9    2810\n",
       "Name: TotSal, dtype: int64"
      ]
     },
     "execution_count": 247,
     "metadata": {},
     "output_type": "execute_result"
    },
    {
     "data": {
      "image/png": "[encoded data removed]",
      "text/plain": [
       "<Figure size 432x288 with 1 Axes>"
      ]
     },
     "metadata": {
      "needs_background": "light"
     },
     "output_type": "display_data"
    }
   ],
   "source": [
    "hist = df.hist(column='TotSal', bins=20)\n",
    "df.loc[df['TotSal'] < 0, 'TotSal'].value_counts()"
   ]
  },
  {
   "cell_type": "markdown",
   "metadata": {},
   "source": [
    "TotSal has 2810 values set at -9. Setting these to NaN."
   ]
  },
  {
   "cell_type": "code",
   "execution_count": 248,
   "metadata": {},
   "outputs": [
    {
     "data": {
      "image/png": "[encoded data removed]",
      "text/plain": [
       "<Figure size 432x288 with 1 Axes>"
      ]
     },
     "metadata": {
      "needs_background": "light"
     },
     "output_type": "display_data"
    }
   ],
   "source": [
    "df.loc[df['TotSal'] == -9, 'TotSal'] = np.NaN\n",
    "hist = df.hist(column='TotSal', bins=20)"
   ]
  },
  {
   "cell_type": "markdown",
   "metadata": {},
   "source": [
    "Next variable is Unility defined as montly utility costs"
   ]
  },
  {
   "cell_type": "code",
   "execution_count": 249,
   "metadata": {},
   "outputs": [],
   "source": [
    "cols_to_keep.append('TotSal')"
   ]
  },
  {
   "cell_type": "code",
   "execution_count": 250,
   "metadata": {},
   "outputs": [
    {
     "data": {
      "text/plain": [
       "0"
      ]
     },
     "execution_count": 250,
     "metadata": {},
     "output_type": "execute_result"
    },
    {
     "data": {
      "image/png": "[encoded data removed]",
      "text/plain": [
       "<Figure size 432x288 with 1 Axes>"
      ]
     },
     "metadata": {
      "needs_background": "light"
     },
     "output_type": "display_data"
    }
   ],
   "source": [
    "hist = df.hist(column='Utility', bins=10)\n",
    "(df['Utility'] < 0).sum()"
   ]
  },
  {
   "cell_type": "markdown",
   "metadata": {},
   "source": [
    "Utility has no negative values. No clean up needed.\n",
    "\n",
    "Next up is VACANCY defined as vacancy status"
   ]
  },
  {
   "cell_type": "code",
   "execution_count": 251,
   "metadata": {},
   "outputs": [],
   "source": [
    "cols_to_keep.append('Utility')"
   ]
  },
  {
   "cell_type": "code",
   "execution_count": 252,
   "metadata": {},
   "outputs": [
    {
     "data": {
      "text/plain": [
       "-9    43104\n",
       " 1     1590\n",
       " 3      604\n",
       " 5      268\n",
       " 2      183\n",
       " 4      165\n",
       "Name: VACANCY, dtype: int64"
      ]
     },
     "execution_count": 252,
     "metadata": {},
     "output_type": "execute_result"
    }
   ],
   "source": [
    "df['VACANCY'].value_counts()"
   ]
  },
  {
   "cell_type": "markdown",
   "metadata": {},
   "source": [
    "VACANCY has most values set at -9. Not sure what the other values mean. There is no explanation in documentation. Dropping this variable.\n",
    "\n",
    "Next variable is VALUE defined as current market value of unit."
   ]
  },
  {
   "cell_type": "code",
   "execution_count": 253,
   "metadata": {},
   "outputs": [
    {
     "data": {
      "text/plain": [
       "-9    17378\n",
       "Name: VALUE, dtype: int64"
      ]
     },
     "execution_count": 253,
     "metadata": {},
     "output_type": "execute_result"
    },
    {
     "data": {
      "image/png": "[encoded data removed]",
      "text/plain": [
       "<Figure size 432x288 with 1 Axes>"
      ]
     },
     "metadata": {
      "needs_background": "light"
     },
     "output_type": "display_data"
    }
   ],
   "source": [
    "hist = df.hist(column='VALUE', bins=20)\n",
    "df.loc[df['VALUE'] < 0, 'VALUE'].value_counts()"
   ]
  },
  {
   "cell_type": "markdown",
   "metadata": {},
   "source": [
    "Setting value of -9 to NaN of variable VALUE"
   ]
  },
  {
   "cell_type": "code",
   "execution_count": 254,
   "metadata": {},
   "outputs": [
    {
     "data": {
      "image/png": "[encoded data removed]",
      "text/plain": [
       "<Figure size 432x288 with 1 Axes>"
      ]
     },
     "metadata": {
      "needs_background": "light"
     },
     "output_type": "display_data"
    }
   ],
   "source": [
    "df.loc[df['VALUE'] == -9, 'VALUE'] = np.NaN\n",
    "hist = df.hist(column='VALUE', bins=20)"
   ]
  },
  {
   "cell_type": "markdown",
   "metadata": {},
   "source": [
    "Next variable is ZINC2 which is household income."
   ]
  },
  {
   "cell_type": "code",
   "execution_count": 255,
   "metadata": {},
   "outputs": [],
   "source": [
    "cols_to_keep.append('VALUE')"
   ]
  },
  {
   "cell_type": "code",
   "execution_count": 256,
   "metadata": {},
   "outputs": [
    {
     "data": {
      "text/plain": [
       "-9        2810\n",
       "-10001      12\n",
       "-3000        4\n",
       "-6000        3\n",
       "-4000        2\n",
       "-400         2\n",
       "-5000        2\n",
       "-7000        2\n",
       "-6801        1\n",
       "-1000        1\n",
       "-9000        1\n",
       "-8800        1\n",
       "-1104        1\n",
       "-4700        1\n",
       "-500         1\n",
       "-384         1\n",
       "-330         1\n",
       "-1100        1\n",
       "-6101        1\n",
       "-3201        1\n",
       "-1900        1\n",
       "-2000        1\n",
       "-6250        1\n",
       "-8501        1\n",
       "-9001        1\n",
       "-5001        1\n",
       "-9601        1\n",
       "-3600        1\n",
       "-1601        1\n",
       "-8000        1\n",
       "-6001        1\n",
       "-8400        1\n",
       "Name: ZINC2, dtype: int64"
      ]
     },
     "execution_count": 256,
     "metadata": {},
     "output_type": "execute_result"
    },
    {
     "data": {
      "image/png": "[encoded data removed]",
      "text/plain": [
       "<Figure size 432x288 with 1 Axes>"
      ]
     },
     "metadata": {
      "needs_background": "light"
     },
     "output_type": "display_data"
    }
   ],
   "source": [
    "hist = df.hist(column='ZINC2', bins=20)\n",
    "df.loc[df['ZINC2'] < 0, 'ZINC2'].value_counts()"
   ]
  },
  {
   "cell_type": "markdown",
   "metadata": {},
   "source": [
    "There are 2810 observations of ZINC2 equal -9; to be set to NaN. Other negative values setting to 0 as these likely represent households in financial distress"
   ]
  },
  {
   "cell_type": "code",
   "execution_count": 257,
   "metadata": {},
   "outputs": [
    {
     "data": {
      "image/png": "[encoded data removed]",
      "text/plain": [
       "<Figure size 432x288 with 1 Axes>"
      ]
     },
     "metadata": {
      "needs_background": "light"
     },
     "output_type": "display_data"
    }
   ],
   "source": [
    "df.loc[df['ZINC2'] == -9, 'ZINC2' ] = np.NaN\n",
    "df.loc[df['ZINC2'] < 0, 'ZINC2' ] = 0\n",
    "hist = df.hist(column='ZINC2', bins=20)"
   ]
  },
  {
   "cell_type": "markdown",
   "metadata": {},
   "source": [
    "Next variable is ZSMHC which is monthly housing cost"
   ]
  },
  {
   "cell_type": "code",
   "execution_count": 258,
   "metadata": {},
   "outputs": [],
   "source": [
    "cols_to_keep.append('ZINC2')"
   ]
  },
  {
   "cell_type": "code",
   "execution_count": 259,
   "metadata": {},
   "outputs": [
    {
     "data": {
      "text/plain": [
       "-9    3261\n",
       "Name: ZSMHC, dtype: int64"
      ]
     },
     "execution_count": 259,
     "metadata": {},
     "output_type": "execute_result"
    },
    {
     "data": {
      "image/png": "[encoded data removed]",
      "text/plain": [
       "<Figure size 432x288 with 1 Axes>"
      ]
     },
     "metadata": {
      "needs_background": "light"
     },
     "output_type": "display_data"
    }
   ],
   "source": [
    "hist = df.hist(column='ZSMHC', bins=20)\n",
    "df.loc[df['ZSMHC'] < 0, 'ZSMHC'].value_counts()"
   ]
  },
  {
   "cell_type": "markdown",
   "metadata": {},
   "source": [
    "Observations equal to -9 to be set to NaN."
   ]
  },
  {
   "cell_type": "code",
   "execution_count": 260,
   "metadata": {},
   "outputs": [
    {
     "data": {
      "image/png": "[encoded data removed]",
      "text/plain": [
       "<Figure size 432x288 with 1 Axes>"
      ]
     },
     "metadata": {
      "needs_background": "light"
     },
     "output_type": "display_data"
    }
   ],
   "source": [
    "df.loc[df['ZSMHC'] == -9, 'ZSMHC' ] = np.NaN\n",
    "hist = df.hist(column='ZSMHC', bins=20)"
   ]
  },
  {
   "cell_type": "code",
   "execution_count": 261,
   "metadata": {},
   "outputs": [],
   "source": [
    "cols_to_keep.append('ZSMHC')"
   ]
  },
  {
   "cell_type": "code",
   "execution_count": 262,
   "metadata": {},
   "outputs": [
    {
     "data": {
      "text/plain": [
       "['AGE',\n",
       " 'FMTAssisted',\n",
       " 'BEDRMS',\n",
       " 'FMTBuilt',\n",
       " 'Burden',\n",
       " 'COSTMed',\n",
       " 'CostMedRelAMIPct',\n",
       " 'FMTCOSTMEDRELAMICAT',\n",
       " 'FMR',\n",
       " 'FMTAssisted',\n",
       " 'FMTOwnRent',\n",
       " 'FMTStatus',\n",
       " 'FMTStructureType',\n",
       " 'FMTIncRelAMICat',\n",
       " 'IncRelAMIPct',\n",
       " 'IPov',\n",
       " 'LMed',\n",
       " 'NUNITS',\n",
       " 'OtherCost',\n",
       " 'PER',\n",
       " 'ROOMS',\n",
       " 'TotSal',\n",
       " 'Utility',\n",
       " 'VALUE',\n",
       " 'ZINC2',\n",
       " 'ZSMHC']"
      ]
     },
     "execution_count": 262,
     "metadata": {},
     "output_type": "execute_result"
    }
   ],
   "source": [
    "cols_to_keep"
   ]
  },
  {
   "cell_type": "code",
   "execution_count": 263,
   "metadata": {},
   "outputs": [
    {
     "data": {
      "text/html": [
       "<div>\n",
       "<style scoped>\n",
       "    .dataframe tbody tr th:only-of-type {\n",
       "        vertical-align: middle;\n",
       "    }\n",
       "\n",
       "    .dataframe tbody tr th {\n",
       "        vertical-align: top;\n",
       "    }\n",
       "\n",
       "    .dataframe thead th {\n",
       "        text-align: right;\n",
       "    }\n",
       "</style>\n",
       "<table border=\"1\" class=\"dataframe\">\n",
       "  <thead>\n",
       "    <tr style=\"text-align: right;\">\n",
       "      <th></th>\n",
       "      <th>AGE</th>\n",
       "      <th>FMTAssisted</th>\n",
       "      <th>BEDRMS</th>\n",
       "      <th>FMTBuilt</th>\n",
       "      <th>Burden</th>\n",
       "      <th>COSTMed</th>\n",
       "      <th>CostMedRelAMIPct</th>\n",
       "      <th>FMTCOSTMEDRELAMICAT</th>\n",
       "      <th>FMR</th>\n",
       "      <th>FMTAssisted</th>\n",
       "      <th>...</th>\n",
       "      <th>LMed</th>\n",
       "      <th>NUNITS</th>\n",
       "      <th>OtherCost</th>\n",
       "      <th>PER</th>\n",
       "      <th>ROOMS</th>\n",
       "      <th>TotSal</th>\n",
       "      <th>Utility</th>\n",
       "      <th>VALUE</th>\n",
       "      <th>ZINC2</th>\n",
       "      <th>ZSMHC</th>\n",
       "    </tr>\n",
       "  </thead>\n",
       "  <tbody>\n",
       "    <tr>\n",
       "      <th>0</th>\n",
       "      <td>39.0</td>\n",
       "      <td>'0 Not Assisted'</td>\n",
       "      <td>3</td>\n",
       "      <td>'1980-1989'</td>\n",
       "      <td>0.317333</td>\n",
       "      <td>476.00000</td>\n",
       "      <td>81.283131</td>\n",
       "      <td>'4 60 - 80% AMI'</td>\n",
       "      <td>380</td>\n",
       "      <td>'0 Not Assisted'</td>\n",
       "      <td>...</td>\n",
       "      <td>23560</td>\n",
       "      <td>single unit</td>\n",
       "      <td>6.25</td>\n",
       "      <td>4.0</td>\n",
       "      <td>5</td>\n",
       "      <td>18000.0</td>\n",
       "      <td>40.000000</td>\n",
       "      <td>NaN</td>\n",
       "      <td>18000.0</td>\n",
       "      <td>476.0</td>\n",
       "    </tr>\n",
       "    <tr>\n",
       "      <th>1</th>\n",
       "      <td>40.0</td>\n",
       "      <td>'0 Not Assisted'</td>\n",
       "      <td>2</td>\n",
       "      <td>'1980-1989'</td>\n",
       "      <td>0.323662</td>\n",
       "      <td>383.00000</td>\n",
       "      <td>60.305059</td>\n",
       "      <td>'4 60 - 80% AMI'</td>\n",
       "      <td>349</td>\n",
       "      <td>'0 Not Assisted'</td>\n",
       "      <td>...</td>\n",
       "      <td>29526</td>\n",
       "      <td>10-49 units</td>\n",
       "      <td>0.00</td>\n",
       "      <td>3.0</td>\n",
       "      <td>4</td>\n",
       "      <td>13000.0</td>\n",
       "      <td>8.000000</td>\n",
       "      <td>NaN</td>\n",
       "      <td>14200.0</td>\n",
       "      <td>383.0</td>\n",
       "    </tr>\n",
       "    <tr>\n",
       "      <th>2</th>\n",
       "      <td>NaN</td>\n",
       "      <td>'0 Not Assisted'</td>\n",
       "      <td>2</td>\n",
       "      <td>'1980-1989'</td>\n",
       "      <td>NaN</td>\n",
       "      <td>425.00000</td>\n",
       "      <td>93.155361</td>\n",
       "      <td>'5 80 - 100% AMI'</td>\n",
       "      <td>350</td>\n",
       "      <td>'0 Not Assisted'</td>\n",
       "      <td>...</td>\n",
       "      <td>21210</td>\n",
       "      <td>2-9 units</td>\n",
       "      <td>0.00</td>\n",
       "      <td>NaN</td>\n",
       "      <td>4</td>\n",
       "      <td>NaN</td>\n",
       "      <td>0.000000</td>\n",
       "      <td>NaN</td>\n",
       "      <td>NaN</td>\n",
       "      <td>425.0</td>\n",
       "    </tr>\n",
       "    <tr>\n",
       "      <th>3</th>\n",
       "      <td>19.0</td>\n",
       "      <td>'0 Not Assisted'</td>\n",
       "      <td>2</td>\n",
       "      <td>'1980-1989'</td>\n",
       "      <td>0.318000</td>\n",
       "      <td>371.00000</td>\n",
       "      <td>73.207945</td>\n",
       "      <td>'4 60 - 80% AMI'</td>\n",
       "      <td>289</td>\n",
       "      <td>'0 Not Assisted'</td>\n",
       "      <td>...</td>\n",
       "      <td>23560</td>\n",
       "      <td>2-9 units</td>\n",
       "      <td>0.00</td>\n",
       "      <td>2.0</td>\n",
       "      <td>4</td>\n",
       "      <td>14000.0</td>\n",
       "      <td>15.750000</td>\n",
       "      <td>NaN</td>\n",
       "      <td>14000.0</td>\n",
       "      <td>371.0</td>\n",
       "    </tr>\n",
       "    <tr>\n",
       "      <th>4</th>\n",
       "      <td>28.0</td>\n",
       "      <td>'0 Not Assisted'</td>\n",
       "      <td>3</td>\n",
       "      <td>'1980-1989'</td>\n",
       "      <td>0.277371</td>\n",
       "      <td>1496.34902</td>\n",
       "      <td>178.071751</td>\n",
       "      <td>'7 120% AMI +'</td>\n",
       "      <td>596</td>\n",
       "      <td>'0 Not Assisted'</td>\n",
       "      <td>...</td>\n",
       "      <td>33807</td>\n",
       "      <td>single unit</td>\n",
       "      <td>25.00</td>\n",
       "      <td>3.0</td>\n",
       "      <td>6</td>\n",
       "      <td>35000.0</td>\n",
       "      <td>34.166667</td>\n",
       "      <td>160000.0</td>\n",
       "      <td>35000.0</td>\n",
       "      <td>809.0</td>\n",
       "    </tr>\n",
       "  </tbody>\n",
       "</table>\n",
       "<p>5 rows × 26 columns</p>\n",
       "</div>"
      ],
      "text/plain": [
       "    AGE       FMTAssisted  BEDRMS     FMTBuilt    Burden     COSTMed  \\\n",
       "0  39.0  '0 Not Assisted'       3  '1980-1989'  0.317333   476.00000   \n",
       "1  40.0  '0 Not Assisted'       2  '1980-1989'  0.323662   383.00000   \n",
       "2   NaN  '0 Not Assisted'       2  '1980-1989'       NaN   425.00000   \n",
       "3  19.0  '0 Not Assisted'       2  '1980-1989'  0.318000   371.00000   \n",
       "4  28.0  '0 Not Assisted'       3  '1980-1989'  0.277371  1496.34902   \n",
       "\n",
       "   CostMedRelAMIPct FMTCOSTMEDRELAMICAT  FMR       FMTAssisted  ...     LMed  \\\n",
       "0         81.283131    '4 60 - 80% AMI'  380  '0 Not Assisted'  ...    23560   \n",
       "1         60.305059    '4 60 - 80% AMI'  349  '0 Not Assisted'  ...    29526   \n",
       "2         93.155361   '5 80 - 100% AMI'  350  '0 Not Assisted'  ...    21210   \n",
       "3         73.207945    '4 60 - 80% AMI'  289  '0 Not Assisted'  ...    23560   \n",
       "4        178.071751      '7 120% AMI +'  596  '0 Not Assisted'  ...    33807   \n",
       "\n",
       "        NUNITS OtherCost  PER  ROOMS   TotSal    Utility     VALUE    ZINC2  \\\n",
       "0  single unit      6.25  4.0      5  18000.0  40.000000       NaN  18000.0   \n",
       "1  10-49 units      0.00  3.0      4  13000.0   8.000000       NaN  14200.0   \n",
       "2    2-9 units      0.00  NaN      4      NaN   0.000000       NaN      NaN   \n",
       "3    2-9 units      0.00  2.0      4  14000.0  15.750000       NaN  14000.0   \n",
       "4  single unit     25.00  3.0      6  35000.0  34.166667  160000.0  35000.0   \n",
       "\n",
       "   ZSMHC  \n",
       "0  476.0  \n",
       "1  383.0  \n",
       "2  425.0  \n",
       "3  371.0  \n",
       "4  809.0  \n",
       "\n",
       "[5 rows x 26 columns]"
      ]
     },
     "execution_count": 263,
     "metadata": {},
     "output_type": "execute_result"
    }
   ],
   "source": [
    "df2 = df.loc[:,cols_to_keep]\n",
    "df2.head()"
   ]
  },
  {
   "cell_type": "markdown",
   "metadata": {},
   "source": [
    "There are 5 variables (AGE, IncRelAMIPct, PER, TotSal, ZINC2) with 2810 observables set to NaN.\n",
    "\n",
    "FMTStatus and FMTIncRelAMICat have 2810 observations set to '3 Vacant' and 'not_defined', respectively.\n",
    "\n",
    "Checking in the next 6 cells whether these observables are correlated by comparing AGE against IncRelAMIPct, PER, TotSal, ZINC2, FMTStatus, FMTIncRelAMICat."
   ]
  },
  {
   "cell_type": "code",
   "execution_count": 264,
   "metadata": {},
   "outputs": [
    {
     "data": {
      "text/html": [
       "<div>\n",
       "<style scoped>\n",
       "    .dataframe tbody tr th:only-of-type {\n",
       "        vertical-align: middle;\n",
       "    }\n",
       "\n",
       "    .dataframe tbody tr th {\n",
       "        vertical-align: top;\n",
       "    }\n",
       "\n",
       "    .dataframe thead th {\n",
       "        text-align: right;\n",
       "    }\n",
       "</style>\n",
       "<table border=\"1\" class=\"dataframe\">\n",
       "  <thead>\n",
       "    <tr style=\"text-align: right;\">\n",
       "      <th>IncRelAMIPct</th>\n",
       "      <th>False</th>\n",
       "      <th>True</th>\n",
       "    </tr>\n",
       "    <tr>\n",
       "      <th>AGE</th>\n",
       "      <th></th>\n",
       "      <th></th>\n",
       "    </tr>\n",
       "  </thead>\n",
       "  <tbody>\n",
       "    <tr>\n",
       "      <th>False</th>\n",
       "      <td>43104</td>\n",
       "      <td>0</td>\n",
       "    </tr>\n",
       "    <tr>\n",
       "      <th>True</th>\n",
       "      <td>0</td>\n",
       "      <td>2810</td>\n",
       "    </tr>\n",
       "  </tbody>\n",
       "</table>\n",
       "</div>"
      ],
      "text/plain": [
       "IncRelAMIPct  False  True \n",
       "AGE                       \n",
       "False         43104      0\n",
       "True              0   2810"
      ]
     },
     "execution_count": 264,
     "metadata": {},
     "output_type": "execute_result"
    }
   ],
   "source": [
    "compare1 = df2.loc[:,'AGE']\n",
    "compare2 = df2.loc[:,'IncRelAMIPct']\n",
    "\n",
    "compare1 = compare1.isna()\n",
    "compare2 = compare2.isna()\n",
    "\n",
    "pd.crosstab(compare1, compare2)"
   ]
  },
  {
   "cell_type": "code",
   "execution_count": 265,
   "metadata": {},
   "outputs": [
    {
     "data": {
      "text/html": [
       "<div>\n",
       "<style scoped>\n",
       "    .dataframe tbody tr th:only-of-type {\n",
       "        vertical-align: middle;\n",
       "    }\n",
       "\n",
       "    .dataframe tbody tr th {\n",
       "        vertical-align: top;\n",
       "    }\n",
       "\n",
       "    .dataframe thead th {\n",
       "        text-align: right;\n",
       "    }\n",
       "</style>\n",
       "<table border=\"1\" class=\"dataframe\">\n",
       "  <thead>\n",
       "    <tr style=\"text-align: right;\">\n",
       "      <th>PER</th>\n",
       "      <th>False</th>\n",
       "      <th>True</th>\n",
       "    </tr>\n",
       "    <tr>\n",
       "      <th>AGE</th>\n",
       "      <th></th>\n",
       "      <th></th>\n",
       "    </tr>\n",
       "  </thead>\n",
       "  <tbody>\n",
       "    <tr>\n",
       "      <th>False</th>\n",
       "      <td>43104</td>\n",
       "      <td>0</td>\n",
       "    </tr>\n",
       "    <tr>\n",
       "      <th>True</th>\n",
       "      <td>0</td>\n",
       "      <td>2810</td>\n",
       "    </tr>\n",
       "  </tbody>\n",
       "</table>\n",
       "</div>"
      ],
      "text/plain": [
       "PER    False  True \n",
       "AGE                \n",
       "False  43104      0\n",
       "True       0   2810"
      ]
     },
     "execution_count": 265,
     "metadata": {},
     "output_type": "execute_result"
    }
   ],
   "source": [
    "compare2 = df2.loc[:,'PER']\n",
    "compare2 = compare2.isna()\n",
    "pd.crosstab(compare1, compare2)"
   ]
  },
  {
   "cell_type": "code",
   "execution_count": 266,
   "metadata": {},
   "outputs": [
    {
     "data": {
      "text/html": [
       "<div>\n",
       "<style scoped>\n",
       "    .dataframe tbody tr th:only-of-type {\n",
       "        vertical-align: middle;\n",
       "    }\n",
       "\n",
       "    .dataframe tbody tr th {\n",
       "        vertical-align: top;\n",
       "    }\n",
       "\n",
       "    .dataframe thead th {\n",
       "        text-align: right;\n",
       "    }\n",
       "</style>\n",
       "<table border=\"1\" class=\"dataframe\">\n",
       "  <thead>\n",
       "    <tr style=\"text-align: right;\">\n",
       "      <th>TotSal</th>\n",
       "      <th>False</th>\n",
       "      <th>True</th>\n",
       "    </tr>\n",
       "    <tr>\n",
       "      <th>AGE</th>\n",
       "      <th></th>\n",
       "      <th></th>\n",
       "    </tr>\n",
       "  </thead>\n",
       "  <tbody>\n",
       "    <tr>\n",
       "      <th>False</th>\n",
       "      <td>43104</td>\n",
       "      <td>0</td>\n",
       "    </tr>\n",
       "    <tr>\n",
       "      <th>True</th>\n",
       "      <td>0</td>\n",
       "      <td>2810</td>\n",
       "    </tr>\n",
       "  </tbody>\n",
       "</table>\n",
       "</div>"
      ],
      "text/plain": [
       "TotSal  False  True \n",
       "AGE                 \n",
       "False   43104      0\n",
       "True        0   2810"
      ]
     },
     "execution_count": 266,
     "metadata": {},
     "output_type": "execute_result"
    }
   ],
   "source": [
    "compare2 = df2.loc[:,'TotSal']\n",
    "compare2 = compare2.isna()\n",
    "pd.crosstab(compare1, compare2)"
   ]
  },
  {
   "cell_type": "code",
   "execution_count": 267,
   "metadata": {},
   "outputs": [
    {
     "data": {
      "text/html": [
       "<div>\n",
       "<style scoped>\n",
       "    .dataframe tbody tr th:only-of-type {\n",
       "        vertical-align: middle;\n",
       "    }\n",
       "\n",
       "    .dataframe tbody tr th {\n",
       "        vertical-align: top;\n",
       "    }\n",
       "\n",
       "    .dataframe thead th {\n",
       "        text-align: right;\n",
       "    }\n",
       "</style>\n",
       "<table border=\"1\" class=\"dataframe\">\n",
       "  <thead>\n",
       "    <tr style=\"text-align: right;\">\n",
       "      <th>ZINC2</th>\n",
       "      <th>False</th>\n",
       "      <th>True</th>\n",
       "    </tr>\n",
       "    <tr>\n",
       "      <th>AGE</th>\n",
       "      <th></th>\n",
       "      <th></th>\n",
       "    </tr>\n",
       "  </thead>\n",
       "  <tbody>\n",
       "    <tr>\n",
       "      <th>False</th>\n",
       "      <td>43104</td>\n",
       "      <td>0</td>\n",
       "    </tr>\n",
       "    <tr>\n",
       "      <th>True</th>\n",
       "      <td>0</td>\n",
       "      <td>2810</td>\n",
       "    </tr>\n",
       "  </tbody>\n",
       "</table>\n",
       "</div>"
      ],
      "text/plain": [
       "ZINC2  False  True \n",
       "AGE                \n",
       "False  43104      0\n",
       "True       0   2810"
      ]
     },
     "execution_count": 267,
     "metadata": {},
     "output_type": "execute_result"
    }
   ],
   "source": [
    "compare2 = df2.loc[:,'ZINC2']\n",
    "compare2 = compare2.isna()\n",
    "pd.crosstab(compare1, compare2)"
   ]
  },
  {
   "cell_type": "code",
   "execution_count": 268,
   "metadata": {},
   "outputs": [
    {
     "data": {
      "text/html": [
       "<div>\n",
       "<style scoped>\n",
       "    .dataframe tbody tr th:only-of-type {\n",
       "        vertical-align: middle;\n",
       "    }\n",
       "\n",
       "    .dataframe tbody tr th {\n",
       "        vertical-align: top;\n",
       "    }\n",
       "\n",
       "    .dataframe thead th {\n",
       "        text-align: right;\n",
       "    }\n",
       "</style>\n",
       "<table border=\"1\" class=\"dataframe\">\n",
       "  <thead>\n",
       "    <tr style=\"text-align: right;\">\n",
       "      <th>FMTStatus</th>\n",
       "      <th>False</th>\n",
       "      <th>True</th>\n",
       "    </tr>\n",
       "    <tr>\n",
       "      <th>AGE</th>\n",
       "      <th></th>\n",
       "      <th></th>\n",
       "    </tr>\n",
       "  </thead>\n",
       "  <tbody>\n",
       "    <tr>\n",
       "      <th>False</th>\n",
       "      <td>43104</td>\n",
       "      <td>0</td>\n",
       "    </tr>\n",
       "    <tr>\n",
       "      <th>True</th>\n",
       "      <td>0</td>\n",
       "      <td>2810</td>\n",
       "    </tr>\n",
       "  </tbody>\n",
       "</table>\n",
       "</div>"
      ],
      "text/plain": [
       "FMTStatus  False  True \n",
       "AGE                    \n",
       "False      43104      0\n",
       "True           0   2810"
      ]
     },
     "execution_count": 268,
     "metadata": {},
     "output_type": "execute_result"
    }
   ],
   "source": [
    "compare2 = df2['FMTStatus'] == '\\'3 Vacant\\''\n",
    "pd.crosstab(compare1, compare2)"
   ]
  },
  {
   "cell_type": "code",
   "execution_count": 269,
   "metadata": {},
   "outputs": [
    {
     "data": {
      "text/html": [
       "<div>\n",
       "<style scoped>\n",
       "    .dataframe tbody tr th:only-of-type {\n",
       "        vertical-align: middle;\n",
       "    }\n",
       "\n",
       "    .dataframe tbody tr th {\n",
       "        vertical-align: top;\n",
       "    }\n",
       "\n",
       "    .dataframe thead th {\n",
       "        text-align: right;\n",
       "    }\n",
       "</style>\n",
       "<table border=\"1\" class=\"dataframe\">\n",
       "  <thead>\n",
       "    <tr style=\"text-align: right;\">\n",
       "      <th>FMTIncRelAMICat</th>\n",
       "      <th>False</th>\n",
       "      <th>True</th>\n",
       "    </tr>\n",
       "    <tr>\n",
       "      <th>AGE</th>\n",
       "      <th></th>\n",
       "      <th></th>\n",
       "    </tr>\n",
       "  </thead>\n",
       "  <tbody>\n",
       "    <tr>\n",
       "      <th>False</th>\n",
       "      <td>43104</td>\n",
       "      <td>0</td>\n",
       "    </tr>\n",
       "    <tr>\n",
       "      <th>True</th>\n",
       "      <td>0</td>\n",
       "      <td>2810</td>\n",
       "    </tr>\n",
       "  </tbody>\n",
       "</table>\n",
       "</div>"
      ],
      "text/plain": [
       "FMTIncRelAMICat  False  True \n",
       "AGE                          \n",
       "False            43104      0\n",
       "True                 0   2810"
      ]
     },
     "execution_count": 269,
     "metadata": {},
     "output_type": "execute_result"
    }
   ],
   "source": [
    "compare2 = df2['FMTIncRelAMICat'].str.contains('not_defined') \n",
    "pd.crosstab(compare1, compare2)"
   ]
  },
  {
   "cell_type": "markdown",
   "metadata": {},
   "source": [
    "We can see that if AGE is NaN (True value in compare1 series), then IncRelAMIPct, PER, TotSal, and ZINC2 are also NaN (True value in compare2 series). Therefore there are 2810 rows where AGE, IncRelAMIPct, PER, TotSal, and ZINC2 are all NaN.\n",
    "\n",
    "If AGE is NaN, then FMTStatus value is '3 Vacant' and FMTIncRelAMICat is 'not_defined'\n",
    "\n",
    "The variables Burden, VALUE, and ZSMHC contain more than 2810 NaN observables. Checking below if these NaN values correlated with the NaN values in AGE variable."
   ]
  },
  {
   "cell_type": "code",
   "execution_count": 270,
   "metadata": {},
   "outputs": [
    {
     "data": {
      "text/html": [
       "<div>\n",
       "<style scoped>\n",
       "    .dataframe tbody tr th:only-of-type {\n",
       "        vertical-align: middle;\n",
       "    }\n",
       "\n",
       "    .dataframe tbody tr th {\n",
       "        vertical-align: top;\n",
       "    }\n",
       "\n",
       "    .dataframe thead th {\n",
       "        text-align: right;\n",
       "    }\n",
       "</style>\n",
       "<table border=\"1\" class=\"dataframe\">\n",
       "  <thead>\n",
       "    <tr style=\"text-align: right;\">\n",
       "      <th>Burden</th>\n",
       "      <th>False</th>\n",
       "      <th>True</th>\n",
       "    </tr>\n",
       "    <tr>\n",
       "      <th>AGE</th>\n",
       "      <th></th>\n",
       "      <th></th>\n",
       "    </tr>\n",
       "  </thead>\n",
       "  <tbody>\n",
       "    <tr>\n",
       "      <th>False</th>\n",
       "      <td>40916</td>\n",
       "      <td>2188</td>\n",
       "    </tr>\n",
       "    <tr>\n",
       "      <th>True</th>\n",
       "      <td>0</td>\n",
       "      <td>2810</td>\n",
       "    </tr>\n",
       "  </tbody>\n",
       "</table>\n",
       "</div>"
      ],
      "text/plain": [
       "Burden  False  True \n",
       "AGE                 \n",
       "False   40916   2188\n",
       "True        0   2810"
      ]
     },
     "execution_count": 270,
     "metadata": {},
     "output_type": "execute_result"
    }
   ],
   "source": [
    "compare2 = df2.loc[:,'Burden']\n",
    "compare2 = compare2.isna()\n",
    "pd.crosstab(compare1, compare2)"
   ]
  },
  {
   "cell_type": "code",
   "execution_count": 271,
   "metadata": {},
   "outputs": [
    {
     "data": {
      "text/html": [
       "<div>\n",
       "<style scoped>\n",
       "    .dataframe tbody tr th:only-of-type {\n",
       "        vertical-align: middle;\n",
       "    }\n",
       "\n",
       "    .dataframe tbody tr th {\n",
       "        vertical-align: top;\n",
       "    }\n",
       "\n",
       "    .dataframe thead th {\n",
       "        text-align: right;\n",
       "    }\n",
       "</style>\n",
       "<table border=\"1\" class=\"dataframe\">\n",
       "  <thead>\n",
       "    <tr style=\"text-align: right;\">\n",
       "      <th>VALUE</th>\n",
       "      <th>False</th>\n",
       "      <th>True</th>\n",
       "    </tr>\n",
       "    <tr>\n",
       "      <th>AGE</th>\n",
       "      <th></th>\n",
       "      <th></th>\n",
       "    </tr>\n",
       "  </thead>\n",
       "  <tbody>\n",
       "    <tr>\n",
       "      <th>False</th>\n",
       "      <td>27664</td>\n",
       "      <td>15440</td>\n",
       "    </tr>\n",
       "    <tr>\n",
       "      <th>True</th>\n",
       "      <td>872</td>\n",
       "      <td>1938</td>\n",
       "    </tr>\n",
       "  </tbody>\n",
       "</table>\n",
       "</div>"
      ],
      "text/plain": [
       "VALUE  False  True \n",
       "AGE                \n",
       "False  27664  15440\n",
       "True     872   1938"
      ]
     },
     "execution_count": 271,
     "metadata": {},
     "output_type": "execute_result"
    }
   ],
   "source": [
    "compare2 = df2.loc[:,'VALUE']\n",
    "compare2 = compare2.isna()\n",
    "pd.crosstab(compare1, compare2)"
   ]
  },
  {
   "cell_type": "code",
   "execution_count": 272,
   "metadata": {},
   "outputs": [
    {
     "data": {
      "text/html": [
       "<div>\n",
       "<style scoped>\n",
       "    .dataframe tbody tr th:only-of-type {\n",
       "        vertical-align: middle;\n",
       "    }\n",
       "\n",
       "    .dataframe tbody tr th {\n",
       "        vertical-align: top;\n",
       "    }\n",
       "\n",
       "    .dataframe thead th {\n",
       "        text-align: right;\n",
       "    }\n",
       "</style>\n",
       "<table border=\"1\" class=\"dataframe\">\n",
       "  <thead>\n",
       "    <tr style=\"text-align: right;\">\n",
       "      <th>ZSMHC</th>\n",
       "      <th>False</th>\n",
       "      <th>True</th>\n",
       "    </tr>\n",
       "    <tr>\n",
       "      <th>AGE</th>\n",
       "      <th></th>\n",
       "      <th></th>\n",
       "    </tr>\n",
       "  </thead>\n",
       "  <tbody>\n",
       "    <tr>\n",
       "      <th>False</th>\n",
       "      <td>40880</td>\n",
       "      <td>2224</td>\n",
       "    </tr>\n",
       "    <tr>\n",
       "      <th>True</th>\n",
       "      <td>1773</td>\n",
       "      <td>1037</td>\n",
       "    </tr>\n",
       "  </tbody>\n",
       "</table>\n",
       "</div>"
      ],
      "text/plain": [
       "ZSMHC  False  True \n",
       "AGE                \n",
       "False  40880   2224\n",
       "True    1773   1037"
      ]
     },
     "execution_count": 272,
     "metadata": {},
     "output_type": "execute_result"
    }
   ],
   "source": [
    "compare2 = df2.loc[:,'ZSMHC']\n",
    "compare2 = compare2.isna()\n",
    "pd.crosstab(compare1, compare2)"
   ]
  },
  {
   "cell_type": "markdown",
   "metadata": {},
   "source": [
    "For AGE and Burden, if AGE is NaN, then Burden is also NaN.\n",
    "\n",
    "Comparing AGE with VALUE and ZSMHC, it is noted that there are some observations for which AGE is NaN but VALUE, ZSMHC are not NaN.\n",
    "\n",
    "As a final clean-up step, the 2810 rows for which AGE, IncRelAMIPct, PER, TotSal, ZINC2, and Burden are all NaN will be removed. These observations corresponding to FMTStatus and FMTIncRelAMICat having values '3 Vacant' and 'not_defined', respectively.\n",
    "\n",
    "This step will remove 872 non-NaN observations from VALUE and 1773 non-NaN observations from ZSMHC.\n",
    "\n",
    "This removal of 2810 rows is roughly 6 percent of the total number of observations (45,914)."
   ]
  },
  {
   "cell_type": "code",
   "execution_count": 273,
   "metadata": {},
   "outputs": [
    {
     "data": {
      "text/plain": [
       "AGE                    43104\n",
       "FMTAssisted            43104\n",
       "BEDRMS                 43104\n",
       "FMTBuilt               43104\n",
       "Burden                 40916\n",
       "COSTMed                43104\n",
       "CostMedRelAMIPct       43104\n",
       "FMTCOSTMEDRELAMICAT    43104\n",
       "FMR                    43104\n",
       "FMTAssisted            43104\n",
       "FMTOwnRent             43104\n",
       "FMTStatus              43104\n",
       "FMTStructureType       43104\n",
       "FMTIncRelAMICat        43104\n",
       "IncRelAMIPct           43104\n",
       "IPov                   43104\n",
       "LMed                   43104\n",
       "NUNITS                 43104\n",
       "OtherCost              43104\n",
       "PER                    43104\n",
       "ROOMS                  43104\n",
       "TotSal                 43104\n",
       "Utility                43104\n",
       "VALUE                  27664\n",
       "ZINC2                  43104\n",
       "ZSMHC                  40880\n",
       "dtype: int64"
      ]
     },
     "execution_count": 273,
     "metadata": {},
     "output_type": "execute_result"
    }
   ],
   "source": [
    "df3 = df2.loc[~df2['AGE'].isna()]\n",
    "df3.count()"
   ]
  },
  {
   "cell_type": "code",
   "execution_count": 274,
   "metadata": {},
   "outputs": [],
   "source": [
    "df3.to_csv('1985_clean.csv', index=False)"
   ]
  },
  {
   "cell_type": "code",
   "execution_count": null,
   "metadata": {},
   "outputs": [],
   "source": []
  }
 ],
 "metadata": {
  "kernelspec": {
   "display_name": "Python 3",
   "language": "python",
   "name": "python3"
  },
  "language_info": {
   "codemirror_mode": {
    "name": "ipython",
    "version": 3
   },
   "file_extension": ".py",
   "mimetype": "text/x-python",
   "name": "python",
   "nbconvert_exporter": "python",
   "pygments_lexer": "ipython3",
   "version": "3.7.1"
  }
 },
 "nbformat": 4,
 "nbformat_minor": 2
}
