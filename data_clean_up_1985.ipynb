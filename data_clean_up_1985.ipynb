{
 "cells": [
  {
   "cell_type": "markdown",
   "metadata": {},
   "source": [
    "Details on data can be found here in HADS_doc.pdf found in project page.\n",
    "\n",
    "This analysis will focus on data from 1985, imported in next cell.\n",
    "\n",
    "Some acronyms to keep in mind:\n",
    "\n",
    "HH = household\n",
    "AMI = area median income\n",
    "FMR = fair market rent\n",
    "\n",
    "A few cells below lists the variables to be cleaned-up. For each variable, the distribution of values will be looked into. Specifically, I will look for negative values and outliers.\n"
   ]
  },
  {
   "cell_type": "code",
   "execution_count": 1,
   "metadata": {},
   "outputs": [],
   "source": [
    "import pandas as pd\n",
    "import numpy as np\n",
    "pd.set_option('display.max_rows', None)\n",
    "df = pd.read_csv(\"hads85.txt\")\n"
   ]
  },
  {
   "cell_type": "code",
   "execution_count": 2,
   "metadata": {},
   "outputs": [
    {
     "data": {
      "text/html": [
       "<div>\n",
       "<style scoped>\n",
       "    .dataframe tbody tr th:only-of-type {\n",
       "        vertical-align: middle;\n",
       "    }\n",
       "\n",
       "    .dataframe tbody tr th {\n",
       "        vertical-align: top;\n",
       "    }\n",
       "\n",
       "    .dataframe thead th {\n",
       "        text-align: right;\n",
       "    }\n",
       "</style>\n",
       "<table border=\"1\" class=\"dataframe\">\n",
       "  <thead>\n",
       "    <tr style=\"text-align: right;\">\n",
       "      <th></th>\n",
       "      <th>CONTROL</th>\n",
       "      <th>REGION</th>\n",
       "      <th>METRO</th>\n",
       "      <th>WEIGHT</th>\n",
       "      <th>ISTATUS</th>\n",
       "      <th>NUNITS</th>\n",
       "      <th>BEDRMS</th>\n",
       "      <th>VACANCY</th>\n",
       "      <th>BUILT</th>\n",
       "      <th>VALUE</th>\n",
       "      <th>...</th>\n",
       "      <th>FMTCOST08RELAMICAT</th>\n",
       "      <th>FMTCOST12RELAMICAT</th>\n",
       "      <th>FMTCOSTMEDRELAMICAT</th>\n",
       "      <th>FMTIncRelAMICat</th>\n",
       "      <th>FMTMetro</th>\n",
       "      <th>FMTOwnRent</th>\n",
       "      <th>FMTRegion</th>\n",
       "      <th>FMTStatus</th>\n",
       "      <th>FMTStructureType</th>\n",
       "      <th>FMTZAdeq</th>\n",
       "    </tr>\n",
       "  </thead>\n",
       "  <tbody>\n",
       "    <tr>\n",
       "      <th>0</th>\n",
       "      <td>'100006110249'</td>\n",
       "      <td>3</td>\n",
       "      <td>7</td>\n",
       "      <td>2883.27</td>\n",
       "      <td>1</td>\n",
       "      <td>1</td>\n",
       "      <td>3</td>\n",
       "      <td>-9</td>\n",
       "      <td>81</td>\n",
       "      <td>-9</td>\n",
       "      <td>...</td>\n",
       "      <td>'4 60 - 80% AMI'</td>\n",
       "      <td>'4 60 - 80% AMI'</td>\n",
       "      <td>'4 60 - 80% AMI'</td>\n",
       "      <td>'4 60 - 80% AMI'</td>\n",
       "      <td>'-5'</td>\n",
       "      <td>'2 Renter'</td>\n",
       "      <td>'-5'</td>\n",
       "      <td>'1 Occupied'</td>\n",
       "      <td>'1 Single Family'</td>\n",
       "      <td>'1 Adequate'</td>\n",
       "    </tr>\n",
       "    <tr>\n",
       "      <th>1</th>\n",
       "      <td>'100007130148'</td>\n",
       "      <td>3</td>\n",
       "      <td>1</td>\n",
       "      <td>2785.89</td>\n",
       "      <td>1</td>\n",
       "      <td>16</td>\n",
       "      <td>2</td>\n",
       "      <td>-9</td>\n",
       "      <td>81</td>\n",
       "      <td>-9</td>\n",
       "      <td>...</td>\n",
       "      <td>'4 60 - 80% AMI'</td>\n",
       "      <td>'4 60 - 80% AMI'</td>\n",
       "      <td>'4 60 - 80% AMI'</td>\n",
       "      <td>'3 50 - 60% AMI'</td>\n",
       "      <td>'Central City'</td>\n",
       "      <td>'2 Renter'</td>\n",
       "      <td>'-5'</td>\n",
       "      <td>'1 Occupied'</td>\n",
       "      <td>'3 5-19 units'</td>\n",
       "      <td>'1 Adequate'</td>\n",
       "    </tr>\n",
       "    <tr>\n",
       "      <th>2</th>\n",
       "      <td>'100008700141'</td>\n",
       "      <td>4</td>\n",
       "      <td>6</td>\n",
       "      <td>2450.53</td>\n",
       "      <td>3</td>\n",
       "      <td>8</td>\n",
       "      <td>2</td>\n",
       "      <td>1</td>\n",
       "      <td>84</td>\n",
       "      <td>-9</td>\n",
       "      <td>...</td>\n",
       "      <td>'5 80 - 100% AMI'</td>\n",
       "      <td>'5 80 - 100% AMI'</td>\n",
       "      <td>'5 80 - 100% AMI'</td>\n",
       "      <td>'.'</td>\n",
       "      <td>'-5'</td>\n",
       "      <td>'2 Renter'</td>\n",
       "      <td>'West'</td>\n",
       "      <td>'3 Vacant'</td>\n",
       "      <td>'3 5-19 units'</td>\n",
       "      <td>'1 Adequate'</td>\n",
       "    </tr>\n",
       "    <tr>\n",
       "      <th>3</th>\n",
       "      <td>'100014110140'</td>\n",
       "      <td>3</td>\n",
       "      <td>7</td>\n",
       "      <td>2306.52</td>\n",
       "      <td>1</td>\n",
       "      <td>2</td>\n",
       "      <td>2</td>\n",
       "      <td>-9</td>\n",
       "      <td>85</td>\n",
       "      <td>-9</td>\n",
       "      <td>...</td>\n",
       "      <td>'4 60 - 80% AMI'</td>\n",
       "      <td>'4 60 - 80% AMI'</td>\n",
       "      <td>'4 60 - 80% AMI'</td>\n",
       "      <td>'4 60 - 80% AMI'</td>\n",
       "      <td>'-5'</td>\n",
       "      <td>'2 Renter'</td>\n",
       "      <td>'-5'</td>\n",
       "      <td>'1 Occupied'</td>\n",
       "      <td>'2 2-4 units'</td>\n",
       "      <td>'1 Adequate'</td>\n",
       "    </tr>\n",
       "    <tr>\n",
       "      <th>4</th>\n",
       "      <td>'100014350142'</td>\n",
       "      <td>1</td>\n",
       "      <td>3</td>\n",
       "      <td>2504.35</td>\n",
       "      <td>1</td>\n",
       "      <td>1</td>\n",
       "      <td>3</td>\n",
       "      <td>-9</td>\n",
       "      <td>84</td>\n",
       "      <td>160000</td>\n",
       "      <td>...</td>\n",
       "      <td>'7 120% AMI +'</td>\n",
       "      <td>'7 120% AMI +'</td>\n",
       "      <td>'7 120% AMI +'</td>\n",
       "      <td>'7 120% AMI +'</td>\n",
       "      <td>'-5'</td>\n",
       "      <td>'1 Owner'</td>\n",
       "      <td>'-5'</td>\n",
       "      <td>'1 Occupied'</td>\n",
       "      <td>'1 Single Family'</td>\n",
       "      <td>'1 Adequate'</td>\n",
       "    </tr>\n",
       "  </tbody>\n",
       "</table>\n",
       "<p>5 rows × 96 columns</p>\n",
       "</div>"
      ],
      "text/plain": [
       "          CONTROL  REGION  METRO   WEIGHT  ISTATUS  NUNITS  BEDRMS  VACANCY  \\\n",
       "0  '100006110249'       3      7  2883.27        1       1       3       -9   \n",
       "1  '100007130148'       3      1  2785.89        1      16       2       -9   \n",
       "2  '100008700141'       4      6  2450.53        3       8       2        1   \n",
       "3  '100014110140'       3      7  2306.52        1       2       2       -9   \n",
       "4  '100014350142'       1      3  2504.35        1       1       3       -9   \n",
       "\n",
       "   BUILT   VALUE      ...       FMTCOST08RELAMICAT  FMTCOST12RELAMICAT  \\\n",
       "0     81      -9      ...         '4 60 - 80% AMI'    '4 60 - 80% AMI'   \n",
       "1     81      -9      ...         '4 60 - 80% AMI'    '4 60 - 80% AMI'   \n",
       "2     84      -9      ...        '5 80 - 100% AMI'   '5 80 - 100% AMI'   \n",
       "3     85      -9      ...         '4 60 - 80% AMI'    '4 60 - 80% AMI'   \n",
       "4     84  160000      ...           '7 120% AMI +'      '7 120% AMI +'   \n",
       "\n",
       "   FMTCOSTMEDRELAMICAT   FMTIncRelAMICat        FMTMetro  FMTOwnRent  \\\n",
       "0     '4 60 - 80% AMI'  '4 60 - 80% AMI'            '-5'  '2 Renter'   \n",
       "1     '4 60 - 80% AMI'  '3 50 - 60% AMI'  'Central City'  '2 Renter'   \n",
       "2    '5 80 - 100% AMI'               '.'            '-5'  '2 Renter'   \n",
       "3     '4 60 - 80% AMI'  '4 60 - 80% AMI'            '-5'  '2 Renter'   \n",
       "4       '7 120% AMI +'    '7 120% AMI +'            '-5'   '1 Owner'   \n",
       "\n",
       "   FMTRegion     FMTStatus   FMTStructureType      FMTZAdeq  \n",
       "0       '-5'  '1 Occupied'  '1 Single Family'  '1 Adequate'  \n",
       "1       '-5'  '1 Occupied'     '3 5-19 units'  '1 Adequate'  \n",
       "2     'West'    '3 Vacant'     '3 5-19 units'  '1 Adequate'  \n",
       "3       '-5'  '1 Occupied'      '2 2-4 units'  '1 Adequate'  \n",
       "4       '-5'  '1 Occupied'  '1 Single Family'  '1 Adequate'  \n",
       "\n",
       "[5 rows x 96 columns]"
      ]
     },
     "execution_count": 2,
     "metadata": {},
     "output_type": "execute_result"
    }
   ],
   "source": [
    "df.head()"
   ]
  },
  {
   "cell_type": "markdown",
   "metadata": {},
   "source": [
    "There are 96 variables in a given file. The following variables will be analyzed. If necessary, more variables can be considered later in the analysis.\n",
    "\n",
    "AGE or age1                   = Age of head of household\n",
    "ASSISTED                      = Assisted Housing\n",
    "BEDRMS                        = # of bedrooms in unit\n",
    "BUILT                         = Year unit was built\n",
    "BURDEN                        = Housing cost as a fraction of income\n",
    "COSTMED                       = Housing cost at Median interest\n",
    "COSTMedRELAMICAT              = CostMed Relative to Median Income (Category)\n",
    "COSTMedRELAMIPCT              = CostMed Relative to Median Income (Percent)\n",
    "FMR                           = Fair market rent (average)\n",
    "FMTASSISTED                   = Assisted Housing\n",
    "FMTMETRO or FMTMETRO3         = CENTRAL CITY/SUBURBAN STATUS\n",
    "FMTOWNRENT                    = Owner/Renter Status (adjusted)\n",
    "FMTREGION                     = Census Region\n",
    "FMTSTATUS                     = Occupancy Status\n",
    "FMTSTRUCTURETYPE              = Structure Type\n",
    "INCRELAMICAT                  = HH Income relative to AMI (category)\n",
    "INCRELAMIPCT                  = HH Income relative to AMI (percent)\n",
    "IPOV                          = Poverty Income\n",
    "LMED                          = Area median income (average)\n",
    "NUNITS                        = # of units in building\n",
    "OTHERCOST                     = Insurance, condo, land rent, other mobile home fees\n",
    "OWNRENT                       = Tenure (adjusted)\n",
    "PER                           = # of persons in household\n",
    "ROOMS                         = # of rooms in unit\n",
    "TENURE                        = Owner/renter status of unit\n",
    "TOTSAL                        = Total Wage Income\n",
    "UTILITY                       = Monthly utility cost\n",
    "VACANCY                       = Vacancy status\n",
    "VALUE                         = Current market value of unit\n",
    "ZINC2                         = Household income\n",
    "ZSMHC                         = Monthly housing costs\n"
   ]
  },
  {
   "cell_type": "code",
   "execution_count": 3,
   "metadata": {
    "scrolled": true
   },
   "outputs": [],
   "source": [
    "col_list = ['AGE']\n",
    "hist = df.hist(column=col_list, bins=10)"
   ]
  },
  {
   "cell_type": "markdown",
   "metadata": {},
   "source": [
    "AGE1 has several negative values. The positive values look distributed as a Gaussian. Viewing the distribution below of the negative values"
   ]
  },
  {
   "cell_type": "code",
   "execution_count": 4,
   "metadata": {},
   "outputs": [
    {
     "data": {
      "image/png": "[encoded data removed]",
      "text/plain": [
       "<Figure size 432x288 with 1 Axes>"
      ]
     },
     "metadata": {
      "needs_background": "light"
     },
     "output_type": "display_data"
    }
   ],
   "source": [
    "df_neg = df.loc[df['AGE'] < 0]\n",
    "col_list = ['AGE']\n",
    "hist = df_neg.hist(column=col_list, bins=10)"
   ]
  },
  {
   "cell_type": "markdown",
   "metadata": {},
   "source": [
    "The negatives fall under one bin. Likely the age was not availabe for these records. Therefore setting them to NaN below."
   ]
  },
  {
   "cell_type": "code",
   "execution_count": 5,
   "metadata": {},
   "outputs": [
    {
     "data": {
      "image/png": "[encoded data removed]",
      "text/plain": [
       "<Figure size 432x288 with 1 Axes>"
      ]
     },
     "metadata": {
      "needs_background": "light"
     },
     "output_type": "display_data"
    }
   ],
   "source": [
    "df.loc[df['AGE'] < 0, 'AGE'] = np.NaN\n",
    "col_list = ['AGE']\n",
    "hist = df.hist(column=col_list, bins=10)"
   ]
  },
  {
   "cell_type": "code",
   "execution_count": 6,
   "metadata": {},
   "outputs": [
    {
     "data": {
      "text/plain": [
       "0    43637\n",
       "1     2277\n",
       "Name: Assisted, dtype: int64"
      ]
     },
     "execution_count": 6,
     "metadata": {},
     "output_type": "execute_result"
    }
   ],
   "source": [
    "df['Assisted'].value_counts()"
   ]
  },
  {
   "cell_type": "code",
   "execution_count": 7,
   "metadata": {},
   "outputs": [
    {
     "data": {
      "text/plain": [
       "'0 Not Assisted'    43637\n",
       "'1 Assisted'         2277\n",
       "Name: FMTAssisted, dtype: int64"
      ]
     },
     "execution_count": 7,
     "metadata": {},
     "output_type": "execute_result"
    }
   ],
   "source": [
    "df['FMTAssisted'].value_counts()"
   ]
  },
  {
   "cell_type": "code",
   "execution_count": 8,
   "metadata": {},
   "outputs": [
    {
     "data": {
      "text/plain": [
       "3     17643\n",
       "2     14684\n",
       "1      6301\n",
       "4      5313\n",
       "5       940\n",
       "0       795\n",
       "6       178\n",
       "7        32\n",
       "10       20\n",
       "8         7\n",
       "9         1\n",
       "Name: BEDRMS, dtype: int64"
      ]
     },
     "execution_count": 8,
     "metadata": {},
     "output_type": "execute_result"
    }
   ],
   "source": [
    "df['BEDRMS'].value_counts()"
   ]
  },
  {
   "cell_type": "code",
   "execution_count": 9,
   "metadata": {},
   "outputs": [
    {
     "data": {
      "text/plain": [
       "4     7896\n",
       "5     6893\n",
       "3     5445\n",
       "9     5254\n",
       "6     4123\n",
       "2     3958\n",
       "7     3198\n",
       "8     2885\n",
       "1     2504\n",
       "84     804\n",
       "83     685\n",
       "80     630\n",
       "81     619\n",
       "85     565\n",
       "82     455\n",
       "Name: BUILT, dtype: int64"
      ]
     },
     "execution_count": 9,
     "metadata": {},
     "output_type": "execute_result"
    }
   ],
   "source": [
    "df['BUILT'].value_counts()"
   ]
  },
  {
   "cell_type": "code",
   "execution_count": 10,
   "metadata": {},
   "outputs": [
    {
     "data": {
      "text/plain": [
       "'1960-1979'    19803\n",
       "'-5'           11337\n",
       "'1940-1959'    11016\n",
       "'1980-1989'     3758\n",
       "Name: FMTBuilt, dtype: int64"
      ]
     },
     "execution_count": 10,
     "metadata": {},
     "output_type": "execute_result"
    }
   ],
   "source": [
    "df['FMTBuilt'].value_counts()"
   ]
  },
  {
   "cell_type": "code",
   "execution_count": 11,
   "metadata": {},
   "outputs": [
    {
     "data": {
      "text/plain": [
       "'1960-1979'    19803\n",
       "not_defined    11337\n",
       "'1940-1959'    11016\n",
       "'1980-1989'     3758\n",
       "Name: FMTBuilt, dtype: int64"
      ]
     },
     "execution_count": 11,
     "metadata": {},
     "output_type": "execute_result"
    }
   ],
   "source": [
    "df.loc[df['FMTBuilt'].str.contains('-5'), 'FMTBuilt'] = 'not_defined'\n",
    "df['FMTBuilt'].value_counts()"
   ]
  },
  {
   "cell_type": "code",
   "execution_count": 12,
   "metadata": {},
   "outputs": [
    {
     "data": {
      "image/png": "[encoded data removed]",
      "text/plain": [
       "<Figure size 432x288 with 1 Axes>"
      ]
     },
     "metadata": {
      "needs_background": "light"
     },
     "output_type": "display_data"
    }
   ],
   "source": [
    "hist = df.hist(column='Burden', bins=10)"
   ]
  },
  {
   "cell_type": "code",
   "execution_count": 13,
   "metadata": {},
   "outputs": [
    {
     "data": {
      "image/png": "[encoded data removed]",
      "text/plain": [
       "<Figure size 432x288 with 1 Axes>"
      ]
     },
     "metadata": {
      "needs_background": "light"
     },
     "output_type": "display_data"
    },
    {
     "data": {
      "image/png": "[encoded data removed]",
      "text/plain": [
       "<Figure size 432x288 with 1 Axes>"
      ]
     },
     "metadata": {
      "needs_background": "light"
     },
     "output_type": "display_data"
    }
   ],
   "source": [
    "hist = df.loc[df['Burden'] < 10].hist(column='Burden',bins=10)\n",
    "hist = df.loc[df['Burden'] < 0 ].hist(column='Burden',bins=10)\n"
   ]
  },
  {
   "cell_type": "code",
   "execution_count": 14,
   "metadata": {},
   "outputs": [
    {
     "name": "stdout",
     "output_type": "stream",
     "text": [
      "4998\n",
      "434\n"
     ]
    }
   ],
   "source": [
    "print(df.loc[df['Burden'] == -9, 'Burden'].count())\n",
    "print(df.loc[df['Burden'] == -1, 'Burden'].count())"
   ]
  },
  {
   "cell_type": "markdown",
   "metadata": {},
   "source": [
    "BURDEN is a continuous variable. Setting the 4998 values of -9 to NaN as these seem to be unavailable. Will assume that BURDEN set to -1 are households with no income (the ratio of cost to income would be infinite). There are also households with BURDEN higher than 1. Therefore if BURDEN is -1 or is 10 or more, the BURDEN is to be set at 10."
   ]
  },
  {
   "cell_type": "code",
   "execution_count": 15,
   "metadata": {},
   "outputs": [
    {
     "data": {
      "image/png": "[encoded data removed]",
      "text/plain": [
       "<Figure size 432x288 with 1 Axes>"
      ]
     },
     "metadata": {
      "needs_background": "light"
     },
     "output_type": "display_data"
    }
   ],
   "source": [
    "df.loc[df['Burden'] == -9, 'Burden'] = np.NaN\n",
    "df.loc[df['Burden'] == -1, 'Burden'] = 10\n",
    "df.loc[df['Burden']  > 10, 'Burden'] = 10\n",
    "hist = df.hist(column = 'Burden', bins = 10)"
   ]
  },
  {
   "cell_type": "code",
   "execution_count": 19,
   "metadata": {},
   "outputs": [
    {
     "name": "stdout",
     "output_type": "stream",
     "text": [
      "0\n",
      "0\n"
     ]
    },
    {
     "data": {
      "image/png": "[encoded data removed]",
      "text/plain": [
       "<Figure size 432x288 with 1 Axes>"
      ]
     },
     "metadata": {
      "needs_background": "light"
     },
     "output_type": "display_data"
    },
    {
     "data": {
      "image/png": "[encoded data removed]",
      "text/plain": [
       "<Figure size 432x288 with 1 Axes>"
      ]
     },
     "metadata": {
      "needs_background": "light"
     },
     "output_type": "display_data"
    }
   ],
   "source": [
    "hist = df.hist(column='COSTMed',bins=10)\n",
    "print(df.loc[df['COSTMed'] < 0,'COSTMed'].count())\n",
    "\n",
    "hist = df.hist(column='CostMedRelAMIPct',bins=10)\n",
    "print(df.loc[df['CostMedRelAMIPct'] < 0,'CostMedRelAMIPct'].count())\n"
   ]
  },
  {
   "cell_type": "code",
   "execution_count": 22,
   "metadata": {},
   "outputs": [
    {
     "name": "stdout",
     "output_type": "stream",
     "text": [
      "4    9138\n",
      "2    7648\n",
      "7    7314\n",
      "5    7291\n",
      "3    5344\n",
      "1    4761\n",
      "6    4418\n",
      "Name: CostMedRelAMICat, dtype: int64\n",
      "'4 60 - 80% AMI'      9138\n",
      "'2 30 - 50% AMI'      7648\n",
      "'7 120% AMI +'        7314\n",
      "'5 80 - 100% AMI'     7291\n",
      "'3 50 - 60% AMI'      5344\n",
      "'1 LTE 30% AMI'       4761\n",
      "'6 100 - 120% AMI'    4418\n",
      "Name: FMTCOSTMEDRELAMICAT, dtype: int64\n"
     ]
    }
   ],
   "source": [
    "print(df['CostMedRelAMICat'].value_counts())\n",
    "print(df['FMTCOSTMEDRELAMICAT'].value_counts())"
   ]
  },
  {
   "cell_type": "code",
   "execution_count": 23,
   "metadata": {},
   "outputs": [
    {
     "name": "stdout",
     "output_type": "stream",
     "text": [
      "0\n"
     ]
    },
    {
     "data": {
      "image/png": "[encoded data removed]",
      "text/plain": [
       "<Figure size 432x288 with 1 Axes>"
      ]
     },
     "metadata": {
      "needs_background": "light"
     },
     "output_type": "display_data"
    }
   ],
   "source": [
    "hist = df.hist(column='FMR', bins=10)\n",
    "print(df.loc[df['FMR'] < 0,'FMR'].count())"
   ]
  },
  {
   "cell_type": "code",
   "execution_count": 25,
   "metadata": {},
   "outputs": [
    {
     "data": {
      "text/plain": [
       "'0 Not Assisted'    43637\n",
       "'1 Assisted'         2277\n",
       "Name: FMTAssisted, dtype: int64"
      ]
     },
     "execution_count": 25,
     "metadata": {},
     "output_type": "execute_result"
    }
   ],
   "source": [
    "df['FMTAssisted'].value_counts()"
   ]
  },
  {
   "cell_type": "code",
   "execution_count": 27,
   "metadata": {},
   "outputs": [
    {
     "data": {
      "text/plain": [
       "'-5'              29694\n",
       "'Central City'    16220\n",
       "Name: FMTMetro, dtype: int64"
      ]
     },
     "execution_count": 27,
     "metadata": {},
     "output_type": "execute_result"
    }
   ],
   "source": [
    "df['FMTMetro'].value_counts()"
   ]
  },
  {
   "cell_type": "markdown",
   "metadata": {},
   "source": [
    "Most values have -5 value which is not defined in documentation. Dropping this column."
   ]
  },
  {
   "cell_type": "code",
   "execution_count": 29,
   "metadata": {},
   "outputs": [
    {
     "data": {
      "text/plain": [
       "'1 Owner'     28536\n",
       "'2 Renter'    17378\n",
       "Name: FMTOwnRent, dtype: int64"
      ]
     },
     "execution_count": 29,
     "metadata": {},
     "output_type": "execute_result"
    }
   ],
   "source": [
    "df['FMTOwnRent'].value_counts()"
   ]
  },
  {
   "cell_type": "code",
   "execution_count": 30,
   "metadata": {},
   "outputs": [
    {
     "data": {
      "text/plain": [
       "'-5'      36663\n",
       "'West'     9251\n",
       "Name: FMTRegion, dtype: int64"
      ]
     },
     "execution_count": 30,
     "metadata": {},
     "output_type": "execute_result"
    }
   ],
   "source": [
    "df['FMTRegion'].value_counts()"
   ]
  },
  {
   "cell_type": "markdown",
   "metadata": {},
   "source": [
    "Most values have -5 value which is not defined in documentation. Dropping this column."
   ]
  },
  {
   "cell_type": "code",
   "execution_count": 32,
   "metadata": {},
   "outputs": [
    {
     "data": {
      "text/plain": [
       "'1 Occupied'    43104\n",
       "'3 Vacant'       2810\n",
       "Name: FMTStatus, dtype: int64"
      ]
     },
     "execution_count": 32,
     "metadata": {},
     "output_type": "execute_result"
    }
   ],
   "source": [
    "df['FMTStatus'].value_counts()"
   ]
  },
  {
   "cell_type": "code",
   "execution_count": 34,
   "metadata": {},
   "outputs": [
    {
     "data": {
      "text/plain": [
       "'1 Single Family'    30213\n",
       "'2 2-4 units'         5613\n",
       "'3 5-19 units'        4702\n",
       "'6 Mobile Home'       2140\n",
       "'5 50+ units'         1706\n",
       "'4 20-49 units'       1540\n",
       "Name: FMTStructureType, dtype: int64"
      ]
     },
     "execution_count": 34,
     "metadata": {},
     "output_type": "execute_result"
    }
   ],
   "source": [
    "df['FMTStructureType'].value_counts()"
   ]
  },
  {
   "cell_type": "code",
   "execution_count": 36,
   "metadata": {},
   "outputs": [
    {
     "name": "stdout",
     "output_type": "stream",
     "text": [
      " 7    14961\n",
      " 1     6105\n",
      " 2     5273\n",
      " 5     5103\n",
      " 4     4644\n",
      " 6     4385\n",
      "-9     2810\n",
      " 3     2633\n",
      "Name: IncRelAMICat, dtype: int64\n",
      "'7 120% AMI +'        14961\n",
      "'1 LTE 30% AMI'        6105\n",
      "'2 30 - 50% AMI'       5273\n",
      "'5 80 - 100% AMI'      5103\n",
      "'4 60 - 80% AMI'       4644\n",
      "'6 100 - 120% AMI'     4385\n",
      "'.'                    2810\n",
      "'3 50 - 60% AMI'       2633\n",
      "Name: FMTIncRelAMICat, dtype: int64\n"
     ]
    }
   ],
   "source": [
    "print(df['IncRelAMICat'].value_counts())\n",
    "print(df['FMTIncRelAMICat'].value_counts())"
   ]
  },
  {
   "cell_type": "markdown",
   "metadata": {},
   "source": [
    "Will use FMTIncRelAMICat, dropping IncRelAMICat"
   ]
  },
  {
   "cell_type": "code",
   "execution_count": 37,
   "metadata": {},
   "outputs": [
    {
     "name": "stdout",
     "output_type": "stream",
     "text": [
      "'7 120% AMI +'        14961\n",
      "'1 LTE 30% AMI'        6105\n",
      "'2 30 - 50% AMI'       5273\n",
      "'5 80 - 100% AMI'      5103\n",
      "'4 60 - 80% AMI'       4644\n",
      "'6 100 - 120% AMI'     4385\n",
      "'not_defined'          2810\n",
      "'3 50 - 60% AMI'       2633\n",
      "Name: FMTIncRelAMICat, dtype: int64\n"
     ]
    }
   ],
   "source": [
    "df.loc[df['FMTIncRelAMICat'].str.contains('.', regex=False), 'FMTIncRelAMICat'] = '\\'not_defined\\''\n",
    "print(df['FMTIncRelAMICat'].value_counts())"
   ]
  },
  {
   "cell_type": "code",
   "execution_count": 41,
   "metadata": {},
   "outputs": [
    {
     "data": {
      "image/png": "[encoded data removed]",
      "text/plain": [
       "<Figure size 432x288 with 1 Axes>"
      ]
     },
     "metadata": {
      "needs_background": "light"
     },
     "output_type": "display_data"
    }
   ],
   "source": [
    "hist = df.hist(column='IncRelAMIPct', bins=10)"
   ]
  },
  {
   "cell_type": "code",
   "execution_count": 42,
   "metadata": {},
   "outputs": [
    {
     "data": {
      "image/png": "[encoded data removed]",
      "text/plain": [
       "<Figure size 432x288 with 1 Axes>"
      ]
     },
     "metadata": {
      "needs_background": "light"
     },
     "output_type": "display_data"
    }
   ],
   "source": [
    "hist = df.loc[df['IncRelAMIPct'] < 0, :].hist(column='IncRelAMIPct', bins=10)"
   ]
  },
  {
   "cell_type": "code",
   "execution_count": 43,
   "metadata": {},
   "outputs": [
    {
     "data": {
      "text/plain": [
       "-9.000000     2810\n",
       "-35.118505       1\n",
       "-50.600245       1\n",
       "-46.579117       1\n",
       "-10.119037       1\n",
       "-10.544608       1\n",
       "-34.897978       1\n",
       "-23.702621       1\n",
       "-31.851195       1\n",
       "-23.593381       1\n",
       "-41.829850       1\n",
       "-11.312831       1\n",
       "-30.357111       1\n",
       "-30.339355       1\n",
       "-31.223620       1\n",
       "-27.527829       1\n",
       "-22.593925       1\n",
       "-1.520707        1\n",
       "-15.499424       1\n",
       "-34.408774       1\n",
       "-32.460979       1\n",
       "-46.819267       1\n",
       "-4.055218        1\n",
       "-12.014301       1\n",
       "-38.617396       1\n",
       "-52.035899       1\n",
       "-1.531370        1\n",
       "-44.992101       1\n",
       "-40.966859       1\n",
       "-4.375745        1\n",
       "-10.162372       1\n",
       "-26.336245       1\n",
       "-2.248675        1\n",
       "-22.031693       1\n",
       "Name: IncRelAMIPct, dtype: int64"
      ]
     },
     "execution_count": 43,
     "metadata": {},
     "output_type": "execute_result"
    }
   ],
   "source": [
    "df.loc[df['IncRelAMIPct'] < 0, 'IncRelAMIPct'].value_counts()"
   ]
  },
  {
   "cell_type": "markdown",
   "metadata": {},
   "source": [
    "INCRELAMIPCT has 2810 values at -9. These likely represent not defined values. Setting them to NaN. There are is also a distribtion of negative values. Likely these represent incomes for households in financial distress. To be set to 0."
   ]
  },
  {
   "cell_type": "code",
   "execution_count": 45,
   "metadata": {},
   "outputs": [
    {
     "data": {
      "image/png": "[encoded data removed]",
      "text/plain": [
       "<Figure size 432x288 with 1 Axes>"
      ]
     },
     "metadata": {
      "needs_background": "light"
     },
     "output_type": "display_data"
    }
   ],
   "source": [
    "df.loc[df['IncRelAMIPct'] == -9, 'IncRelAMIPct'] = np.NaN\n",
    "df.loc[df['IncRelAMIPct'] < 0  , 'IncRelAMIPct'] = 0\n",
    "hist = df.hist(column='IncRelAMIPct', bins=10)"
   ]
  },
  {
   "cell_type": "code",
   "execution_count": 49,
   "metadata": {},
   "outputs": [
    {
     "data": {
      "text/plain": [
       "0"
      ]
     },
     "execution_count": 49,
     "metadata": {},
     "output_type": "execute_result"
    },
    {
     "data": {
      "image/png": "[encoded data removed]",
      "text/plain": [
       "<Figure size 432x288 with 1 Axes>"
      ]
     },
     "metadata": {
      "needs_background": "light"
     },
     "output_type": "display_data"
    }
   ],
   "source": [
    "col_list = ['IPov']\n",
    "hist = df.hist(column=col_list, bins=10)\n",
    "df.loc[df['IPov'] < 0, 'IPov'].count()"
   ]
  },
  {
   "cell_type": "code",
   "execution_count": 51,
   "metadata": {},
   "outputs": [
    {
     "data": {
      "text/plain": [
       "0"
      ]
     },
     "execution_count": 51,
     "metadata": {},
     "output_type": "execute_result"
    },
    {
     "data": {
      "image/png": "[encoded data removed]",
      "text/plain": [
       "<Figure size 432x288 with 1 Axes>"
      ]
     },
     "metadata": {
      "needs_background": "light"
     },
     "output_type": "display_data"
    }
   ],
   "source": [
    "hist = df.hist(column = 'LMed', bins = 10)\n",
    "df.loc[df['LMed'] < 0, 'LMed'].count()"
   ]
  },
  {
   "cell_type": "code",
   "execution_count": 52,
   "metadata": {},
   "outputs": [
    {
     "name": "stdout",
     "output_type": "stream",
     "text": [
      "1      32344\n",
      "2       3080\n",
      "4       1586\n",
      "8       1074\n",
      "3        956\n",
      "101      909\n",
      "6        709\n",
      "12       658\n",
      "16       521\n",
      "10       373\n",
      "5        324\n",
      "24       212\n",
      "20       196\n",
      "7        187\n",
      "9        172\n",
      "11       158\n",
      "18       156\n",
      "14       152\n",
      "36       108\n",
      "30        98\n",
      "48        79\n",
      "15        79\n",
      "40        74\n",
      "60        69\n",
      "17        66\n",
      "21        54\n",
      "42        54\n",
      "32        54\n",
      "28        52\n",
      "25        47\n",
      "13        42\n",
      "100       40\n",
      "54        39\n",
      "23        39\n",
      "22        38\n",
      "26        38\n",
      "35        37\n",
      "38        37\n",
      "96        35\n",
      "39        34\n",
      "34        34\n",
      "50        32\n",
      "72        31\n",
      "33        31\n",
      "19        31\n",
      "44        31\n",
      "90        30\n",
      "27        29\n",
      "70        26\n",
      "41        25\n",
      "80        24\n",
      "62        24\n",
      "31        23\n",
      "97        22\n",
      "29        22\n",
      "65        20\n",
      "45        20\n",
      "56        19\n",
      "46        19\n",
      "53        18\n",
      "55        17\n",
      "69        17\n",
      "37        17\n",
      "57        16\n",
      "64        16\n",
      "67        16\n",
      "47        16\n",
      "79        15\n",
      "84        15\n",
      "51        15\n",
      "94        13\n",
      "92        13\n",
      "98        12\n",
      "63        12\n",
      "49        12\n",
      "73        11\n",
      "66        11\n",
      "81        11\n",
      "61        10\n",
      "95        10\n",
      "58        10\n",
      "82        10\n",
      "43        10\n",
      "75        10\n",
      "77         9\n",
      "88         9\n",
      "68         9\n",
      "52         9\n",
      "74         8\n",
      "59         8\n",
      "93         7\n",
      "99         7\n",
      "78         6\n",
      "83         6\n",
      "76         6\n",
      "87         6\n",
      "85         5\n",
      "71         4\n",
      "86         4\n",
      "89         3\n",
      "91         2\n",
      "Name: NUNITS, dtype: int64\n"
     ]
    }
   ],
   "source": [
    "columns = ['NUNITS']\n",
    "for column in columns:\n",
    "    print(df[column].value_counts())"
   ]
  },
  {
   "cell_type": "code",
   "execution_count": 53,
   "metadata": {},
   "outputs": [],
   "source": [
    "# setting new categories for NUNITS\n",
    "for index, row in df.iterrows():\n",
    "    if   row['NUNITS'] > 100:\n",
    "        df.loc[index, 'NUNITS'] = 'gt 100'\n",
    "    elif row['NUNITS'] > 10:\n",
    "        df.loc[index, 'NUNITS'] = 'gt 10'\n",
    "    elif row['NUNITS'] > 1:\n",
    "        df.loc[index, 'NUNITS'] = 'gt 1'\n",
    "    elif row['NUNITS'] == -7:\n",
    "        df.loc[index, 'NUNITS'] = 'not defined'\n",
    "        \n"
   ]
  },
  {
   "cell_type": "code",
   "execution_count": 54,
   "metadata": {},
   "outputs": [
    {
     "data": {
      "text/plain": [
       "1         32344\n",
       "gt 1       8461\n",
       "gt 10      4200\n",
       "gt 100      909\n",
       "Name: NUNITS, dtype: int64"
      ]
     },
     "execution_count": 54,
     "metadata": {},
     "output_type": "execute_result"
    }
   ],
   "source": [
    "df['NUNITS'].value_counts()"
   ]
  },
  {
   "cell_type": "code",
   "execution_count": 56,
   "metadata": {},
   "outputs": [
    {
     "data": {
      "text/plain": [
       "0"
      ]
     },
     "execution_count": 56,
     "metadata": {},
     "output_type": "execute_result"
    },
    {
     "data": {
      "image/png": "[encoded data removed]",
      "text/plain": [
       "<Figure size 432x288 with 1 Axes>"
      ]
     },
     "metadata": {
      "needs_background": "light"
     },
     "output_type": "display_data"
    },
    {
     "data": {
      "image/png": "[encoded data removed]",
      "text/plain": [
       "<Figure size 432x288 with 1 Axes>"
      ]
     },
     "metadata": {
      "needs_background": "light"
     },
     "output_type": "display_data"
    }
   ],
   "source": [
    "hist = df.hist(column='OtherCost',bins=10)\n",
    "hist = df.loc[df['OtherCost'] < 500].hist(column='OtherCost',bins=10)\n",
    "df.loc[df['OtherCost'] < 0, 'OtherCost'].count()"
   ]
  },
  {
   "cell_type": "code",
   "execution_count": 58,
   "metadata": {},
   "outputs": [
    {
     "data": {
      "image/png": "[encoded data removed]",
      "text/plain": [
       "<Figure size 432x288 with 1 Axes>"
      ]
     },
     "metadata": {
      "needs_background": "light"
     },
     "output_type": "display_data"
    }
   ],
   "source": [
    "df.loc[df['OtherCost'] > 500, 'OtherCost'] = 500\n",
    "hist = df.hist(column='OtherCost', bins=10)"
   ]
  },
  {
   "cell_type": "code",
   "execution_count": 60,
   "metadata": {},
   "outputs": [
    {
     "data": {
      "text/plain": [
       "1    28536\n",
       "2    17378\n",
       "Name: OwnRent, dtype: int64"
      ]
     },
     "execution_count": 60,
     "metadata": {},
     "output_type": "execute_result"
    }
   ],
   "source": [
    "df['OwnRent'].value_counts()"
   ]
  },
  {
   "cell_type": "code",
   "execution_count": 61,
   "metadata": {},
   "outputs": [
    {
     "data": {
      "text/plain": [
       " 2     13906\n",
       " 1     10017\n",
       " 3      7535\n",
       " 4      6808\n",
       " 5      3092\n",
       "-9      2810\n",
       " 6      1074\n",
       " 7       374\n",
       " 8       172\n",
       " 9        63\n",
       " 10       33\n",
       " 11       16\n",
       " 12        6\n",
       " 14        4\n",
       " 15        2\n",
       " 13        2\n",
       "Name: PER, dtype: int64"
      ]
     },
     "execution_count": 61,
     "metadata": {},
     "output_type": "execute_result"
    }
   ],
   "source": [
    "df['PER'].value_counts()"
   ]
  },
  {
   "cell_type": "markdown",
   "metadata": {},
   "source": [
    "If number of persons per unit is greater than 8, setting value to '9 or more'. If PER is negative, setting to not_defined"
   ]
  },
  {
   "cell_type": "code",
   "execution_count": 62,
   "metadata": {},
   "outputs": [
    {
     "data": {
      "text/plain": [
       "2              13906\n",
       "1              10017\n",
       "3               7535\n",
       "4               6808\n",
       "5               3092\n",
       "not_defined     2810\n",
       "6               1074\n",
       "7                374\n",
       "8                172\n",
       "9 or more        126\n",
       "Name: PER, dtype: int64"
      ]
     },
     "execution_count": 62,
     "metadata": {},
     "output_type": "execute_result"
    }
   ],
   "source": [
    "df.loc[df['PER'] > 8, 'PER'] = '9 or more'\n",
    "df.loc[df['PER'] == -9, 'PER'] = 'not_defined'\n",
    "df['PER'].value_counts()"
   ]
  },
  {
   "cell_type": "code",
   "execution_count": 63,
   "metadata": {},
   "outputs": [
    {
     "data": {
      "image/png": "[encoded data removed]",
      "text/plain": [
       "<Figure size 432x288 with 1 Axes>"
      ]
     },
     "metadata": {
      "needs_background": "light"
     },
     "output_type": "display_data"
    }
   ],
   "source": [
    "df['ROOMS'].value_counts()\n",
    "hist = df.hist(column='ROOMS', bins=15)"
   ]
  },
  {
   "cell_type": "code",
   "execution_count": 64,
   "metadata": {},
   "outputs": [
    {
     "data": {
      "text/plain": [
       " 1    27664\n",
       " 2    14490\n",
       "-9     2810\n",
       " 3      950\n",
       "Name: TENURE, dtype: int64"
      ]
     },
     "execution_count": 64,
     "metadata": {},
     "output_type": "execute_result"
    }
   ],
   "source": [
    "df['TENURE'].value_counts()"
   ]
  },
  {
   "cell_type": "code",
   "execution_count": 66,
   "metadata": {},
   "outputs": [
    {
     "data": {
      "text/plain": [
       "1              27664\n",
       "2              14490\n",
       "not_defined     2810\n",
       "3                950\n",
       "Name: TENURE, dtype: int64"
      ]
     },
     "execution_count": 66,
     "metadata": {},
     "output_type": "execute_result"
    }
   ],
   "source": [
    "df.loc[df['TENURE'] == -9, 'TENURE'] = 'not_defined'\n",
    "df['TENURE'].value_counts()"
   ]
  },
  {
   "cell_type": "code",
   "execution_count": 69,
   "metadata": {},
   "outputs": [
    {
     "data": {
      "text/plain": [
       "-9    2810\n",
       "Name: TotSal, dtype: int64"
      ]
     },
     "execution_count": 69,
     "metadata": {},
     "output_type": "execute_result"
    },
    {
     "data": {
      "image/png": "[encoded data removed]",
      "text/plain": [
       "<Figure size 432x288 with 1 Axes>"
      ]
     },
     "metadata": {
      "needs_background": "light"
     },
     "output_type": "display_data"
    }
   ],
   "source": [
    "hist = df.hist(column='TotSal', bins=20)\n",
    "df.loc[df['TotSal'] < 0, 'TotSal'].value_counts()"
   ]
  },
  {
   "cell_type": "code",
   "execution_count": 71,
   "metadata": {},
   "outputs": [
    {
     "data": {
      "image/png": "[encoded data removed]",
      "text/plain": [
       "<Figure size 432x288 with 1 Axes>"
      ]
     },
     "metadata": {
      "needs_background": "light"
     },
     "output_type": "display_data"
    }
   ],
   "source": [
    "df.loc[df['TotSal'] == -9, 'TotSal'] = np.NaN\n",
    "hist = df.hist(column='TotSal', bins=20)"
   ]
  },
  {
   "cell_type": "code",
   "execution_count": 74,
   "metadata": {},
   "outputs": [
    {
     "data": {
      "text/plain": [
       "0"
      ]
     },
     "execution_count": 74,
     "metadata": {},
     "output_type": "execute_result"
    },
    {
     "data": {
      "image/png": "[encoded data removed]",
      "text/plain": [
       "<Figure size 432x288 with 1 Axes>"
      ]
     },
     "metadata": {
      "needs_background": "light"
     },
     "output_type": "display_data"
    }
   ],
   "source": [
    "hist = df.hist(column='Utility', bins=10)\n",
    "(df['Utility'] < 0).sum()"
   ]
  },
  {
   "cell_type": "code",
   "execution_count": 75,
   "metadata": {},
   "outputs": [
    {
     "data": {
      "text/plain": [
       "-9    43104\n",
       " 1     1590\n",
       " 3      604\n",
       " 5      268\n",
       " 2      183\n",
       " 4      165\n",
       "Name: VACANCY, dtype: int64"
      ]
     },
     "execution_count": 75,
     "metadata": {},
     "output_type": "execute_result"
    }
   ],
   "source": [
    "df['VACANCY'].value_counts()"
   ]
  },
  {
   "cell_type": "markdown",
   "metadata": {},
   "source": [
    "VACANCY has most values set at -9. Not sure what the other values mean. There is no explanation in documentation. Dropping this variable."
   ]
  },
  {
   "cell_type": "code",
   "execution_count": 77,
   "metadata": {},
   "outputs": [
    {
     "data": {
      "text/plain": [
       "-9    17378\n",
       "Name: VALUE, dtype: int64"
      ]
     },
     "execution_count": 77,
     "metadata": {},
     "output_type": "execute_result"
    },
    {
     "data": {
      "image/png": "[encoded data removed]",
      "text/plain": [
       "<Figure size 432x288 with 1 Axes>"
      ]
     },
     "metadata": {
      "needs_background": "light"
     },
     "output_type": "display_data"
    }
   ],
   "source": [
    "hist = df.hist(column='VALUE', bins=20)\n",
    "df.loc[df['VALUE'] < 0, 'VALUE'].value_counts()"
   ]
  },
  {
   "cell_type": "markdown",
   "metadata": {},
   "source": [
    "Setting value of -9 to NaN"
   ]
  },
  {
   "cell_type": "code",
   "execution_count": 78,
   "metadata": {},
   "outputs": [
    {
     "data": {
      "image/png": "[encoded data removed]",
      "text/plain": [
       "<Figure size 432x288 with 1 Axes>"
      ]
     },
     "metadata": {
      "needs_background": "light"
     },
     "output_type": "display_data"
    }
   ],
   "source": [
    "df.loc[df['VALUE'] == -9, 'VALUE'] = np.NaN\n",
    "hist = df.hist(column='VALUE', bins=20)"
   ]
  },
  {
   "cell_type": "code",
   "execution_count": 80,
   "metadata": {},
   "outputs": [
    {
     "data": {
      "text/plain": [
       "-9        2810\n",
       "-10001      12\n",
       "-3000        4\n",
       "-6000        3\n",
       "-4000        2\n",
       "-400         2\n",
       "-5000        2\n",
       "-7000        2\n",
       "-6801        1\n",
       "-1000        1\n",
       "-9000        1\n",
       "-8800        1\n",
       "-1104        1\n",
       "-4700        1\n",
       "-500         1\n",
       "-384         1\n",
       "-330         1\n",
       "-1100        1\n",
       "-6101        1\n",
       "-3201        1\n",
       "-1900        1\n",
       "-2000        1\n",
       "-6250        1\n",
       "-8501        1\n",
       "-9001        1\n",
       "-5001        1\n",
       "-9601        1\n",
       "-3600        1\n",
       "-1601        1\n",
       "-8000        1\n",
       "-6001        1\n",
       "-8400        1\n",
       "Name: ZINC2, dtype: int64"
      ]
     },
     "execution_count": 80,
     "metadata": {},
     "output_type": "execute_result"
    },
    {
     "data": {
      "image/png": "[encoded data removed]",
      "text/plain": [
       "<Figure size 432x288 with 1 Axes>"
      ]
     },
     "metadata": {
      "needs_background": "light"
     },
     "output_type": "display_data"
    }
   ],
   "source": [
    "hist = df.hist(column='ZINC2', bins=20)\n",
    "df.loc[df['ZINC2'] < 0, 'ZINC2'].value_counts()"
   ]
  },
  {
   "cell_type": "markdown",
   "metadata": {},
   "source": [
    "Values of -9 setting to NaN. Other negative values setting to 0 as these likely represent households in financial distress"
   ]
  },
  {
   "cell_type": "code",
   "execution_count": 81,
   "metadata": {},
   "outputs": [
    {
     "data": {
      "image/png": "[encoded data removed]",
      "text/plain": [
       "<Figure size 432x288 with 1 Axes>"
      ]
     },
     "metadata": {
      "needs_background": "light"
     },
     "output_type": "display_data"
    }
   ],
   "source": [
    "df.loc[df['ZINC2'] == -9, 'ZINC2' ] = np.NaN\n",
    "df.loc[df['ZINC2'] < 0, 'ZINC2' ] = 0\n",
    "hist = df.hist(column='ZINC2', bins=20)"
   ]
  },
  {
   "cell_type": "code",
   "execution_count": 83,
   "metadata": {},
   "outputs": [
    {
     "data": {
      "text/plain": [
       "-9    3261\n",
       "Name: ZSMHC, dtype: int64"
      ]
     },
     "execution_count": 83,
     "metadata": {},
     "output_type": "execute_result"
    },
    {
     "data": {
      "image/png": "[encoded data removed]",
      "text/plain": [
       "<Figure size 432x288 with 1 Axes>"
      ]
     },
     "metadata": {
      "needs_background": "light"
     },
     "output_type": "display_data"
    }
   ],
   "source": [
    "hist = df.hist(column='ZSMHC', bins=20)\n",
    "df.loc[df['ZSMHC'] < 0, 'ZSMHC'].value_counts()"
   ]
  },
  {
   "cell_type": "code",
   "execution_count": null,
   "metadata": {},
   "outputs": [],
   "source": [
    "Values of -9 setting to NaN."
   ]
  },
  {
   "cell_type": "code",
   "execution_count": 84,
   "metadata": {},
   "outputs": [
    {
     "data": {
      "image/png": "[encoded data removed]",
      "text/plain": [
       "<Figure size 432x288 with 1 Axes>"
      ]
     },
     "metadata": {
      "needs_background": "light"
     },
     "output_type": "display_data"
    }
   ],
   "source": [
    "df.loc[df['ZSMHC'] == -9, 'ZSMHC' ] = np.NaN\n",
    "hist = df.hist(column='ZSMHC', bins=20)"
   ]
  },
  {
   "cell_type": "code",
   "execution_count": null,
   "metadata": {},
   "outputs": [],
   "source": []
  }
 ],
 "metadata": {
  "kernelspec": {
   "display_name": "Python 3",
   "language": "python",
   "name": "python3"
  },
  "language_info": {
   "codemirror_mode": {
    "name": "ipython",
    "version": 3
   },
   "file_extension": ".py",
   "mimetype": "text/x-python",
   "name": "python",
   "nbconvert_exporter": "python",
   "pygments_lexer": "ipython3",
   "version": "3.7.1"
  }
 },
 "nbformat": 4,
 "nbformat_minor": 2
}
