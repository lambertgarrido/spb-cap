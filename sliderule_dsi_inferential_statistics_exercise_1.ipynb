{
 "cells": [
  {
   "cell_type": "markdown",
   "metadata": {},
   "source": [
    "# What is the True Normal Human Body Temperature? \n",
    "\n",
    "#### Background\n",
    "\n",
    "The mean normal body temperature was held to be 37$^{\\circ}$C or 98.6$^{\\circ}$F for more than 120 years since it was first conceptualized and reported by Carl Wunderlich in a famous 1868 book. But, is this value statistically correct?"
   ]
  },
  {
   "cell_type": "markdown",
   "metadata": {},
   "source": [
    "<h3>Exercises</h3>\n",
    "\n",
    "<p>In this exercise, you will analyze a dataset of human body temperatures and employ the concepts of hypothesis testing, confidence intervals, and statistical significance.</p>\n",
    "\n",
    "<p>Answer the following questions <b>in this notebook below and submit to your Github account</b>.</p> \n",
    "\n",
    "<ol>\n",
    "<li>  Is the distribution of body temperatures normal? \n",
    "    <ul>\n",
    "    <li> Although this is not a requirement for the Central Limit Theorem to hold (read the introduction on Wikipedia's page about the CLT carefully: https://en.wikipedia.org/wiki/Central_limit_theorem), it gives us some peace of mind that the population may also be normally distributed if we assume that this sample is representative of the population.\n",
    "    <li> Think about the way you're going to check for the normality of the distribution. Graphical methods are usually used first, but there are also other ways: https://en.wikipedia.org/wiki/Normality_test\n",
    "    </ul>\n",
    "<li>  Is the sample size large? Are the observations independent?\n",
    "    <ul>\n",
    "    <li> Remember that this is a condition for the Central Limit Theorem, and hence the statistical tests we are using, to apply.\n",
    "    </ul>\n",
    "<li>  Is the true population mean really 98.6 degrees F?\n",
    "    <ul>\n",
    "    <li> First, try a bootstrap hypothesis test.\n",
    "    <li> Now, let's try frequentist statistical testing. Would you use a one-sample or two-sample test? Why?\n",
    "    <li> In this situation, is it appropriate to use the $t$ or $z$ statistic? \n",
    "    <li> Now try using the other test. How is the result be different? Why?\n",
    "    </ul>\n",
    "<li>  Draw a small sample of size 10 from the data and repeat both frequentist tests. \n",
    "    <ul>\n",
    "    <li> Which one is the correct one to use? \n",
    "    <li> What do you notice? What does this tell you about the difference in application of the $t$ and $z$ statistic?\n",
    "    </ul>\n",
    "<li>  At what temperature should we consider someone's temperature to be \"abnormal\"?\n",
    "    <ul>\n",
    "    <li> As in the previous example, try calculating everything using the boostrap approach, as well as the frequentist approach.\n",
    "    <li> Start by computing the margin of error and confidence interval. When calculating the confidence interval, keep in mind that you should use the appropriate formula for one draw, and not N draws.\n",
    "    </ul>\n",
    "<li>  Is there a significant difference between males and females in normal temperature?\n",
    "    <ul>\n",
    "    <li> What testing approach did you use and why?\n",
    "    <li> Write a story with your conclusion in the context of the original problem.\n",
    "    </ul>\n",
    "</ol>\n",
    "\n",
    "You can include written notes in notebook cells using Markdown: \n",
    "   - In the control panel at the top, choose Cell > Cell Type > Markdown\n",
    "   - Markdown syntax: http://nestacms.com/docs/creating-content/markdown-cheat-sheet\n",
    "\n",
    "#### Resources\n",
    "\n",
    "+ Information and data sources: http://www.amstat.org/publications/jse/datasets/normtemp.txt, http://www.amstat.org/publications/jse/jse_data_archive.htm\n",
    "+ Markdown syntax: http://nestacms.com/docs/creating-content/markdown-cheat-sheet\n",
    "\n",
    "****"
   ]
  },
  {
   "cell_type": "code",
   "execution_count": 1,
   "metadata": {},
   "outputs": [],
   "source": [
    "import pandas as pd\n",
    "import seaborn as sns\n",
    "import numpy as np\n",
    "import matplotlib.pyplot as plt\n",
    "\n",
    "df = pd.read_csv('data/human_body_temperature.csv')\n",
    "sns.set()\n",
    "np.random.seed(42)"
   ]
  },
  {
   "cell_type": "code",
   "execution_count": 2,
   "metadata": {},
   "outputs": [
    {
     "data": {
      "text/html": [
       "<div>\n",
       "<style scoped>\n",
       "    .dataframe tbody tr th:only-of-type {\n",
       "        vertical-align: middle;\n",
       "    }\n",
       "\n",
       "    .dataframe tbody tr th {\n",
       "        vertical-align: top;\n",
       "    }\n",
       "\n",
       "    .dataframe thead th {\n",
       "        text-align: right;\n",
       "    }\n",
       "</style>\n",
       "<table border=\"1\" class=\"dataframe\">\n",
       "  <thead>\n",
       "    <tr style=\"text-align: right;\">\n",
       "      <th></th>\n",
       "      <th>temperature</th>\n",
       "      <th>gender</th>\n",
       "      <th>heart_rate</th>\n",
       "    </tr>\n",
       "  </thead>\n",
       "  <tbody>\n",
       "    <tr>\n",
       "      <th>0</th>\n",
       "      <td>99.3</td>\n",
       "      <td>F</td>\n",
       "      <td>68.0</td>\n",
       "    </tr>\n",
       "    <tr>\n",
       "      <th>1</th>\n",
       "      <td>98.4</td>\n",
       "      <td>F</td>\n",
       "      <td>81.0</td>\n",
       "    </tr>\n",
       "    <tr>\n",
       "      <th>2</th>\n",
       "      <td>97.8</td>\n",
       "      <td>M</td>\n",
       "      <td>73.0</td>\n",
       "    </tr>\n",
       "    <tr>\n",
       "      <th>3</th>\n",
       "      <td>99.2</td>\n",
       "      <td>F</td>\n",
       "      <td>66.0</td>\n",
       "    </tr>\n",
       "    <tr>\n",
       "      <th>4</th>\n",
       "      <td>98.0</td>\n",
       "      <td>F</td>\n",
       "      <td>73.0</td>\n",
       "    </tr>\n",
       "  </tbody>\n",
       "</table>\n",
       "</div>"
      ],
      "text/plain": [
       "   temperature gender  heart_rate\n",
       "0         99.3      F        68.0\n",
       "1         98.4      F        81.0\n",
       "2         97.8      M        73.0\n",
       "3         99.2      F        66.0\n",
       "4         98.0      F        73.0"
      ]
     },
     "execution_count": 2,
     "metadata": {},
     "output_type": "execute_result"
    }
   ],
   "source": [
    "df.head()"
   ]
  },
  {
   "cell_type": "code",
   "execution_count": 3,
   "metadata": {},
   "outputs": [],
   "source": [
    "# return the empirical cumulative distribution function ECDF for a given 1-dimensional array\n",
    "def ecdf(data):\n",
    "    x = np.sort(data)\n",
    "    n = len(data)\n",
    "    y = np.arange(1,n+1)/n\n",
    "    return x, y"
   ]
  },
  {
   "cell_type": "code",
   "execution_count": 4,
   "metadata": {},
   "outputs": [
    {
     "data": {
      "image/png": "[encoded data removed]",
      "text/plain": [
       "<Figure size 576x360 with 1 Axes>"
      ]
     },
     "metadata": {
      "needs_background": "light"
     },
     "output_type": "display_data"
    },
    {
     "name": "stdout",
     "output_type": "stream",
     "text": [
      "observed mean =  98.24923076923078\n",
      "observed std =  0.7303577789050377\n",
      "number of observations =  130\n",
      "max observation =  100.8\n",
      "min observation =  96.3\n",
      "z score max obs =  3.4924927267747696\n",
      "z score min obs =  -2.6688711006174173\n"
     ]
    }
   ],
   "source": [
    "#plot ecdf of temperature data\n",
    "#plot theoretical cdf based on mean and std of temperature data\n",
    "temp_data = df['temperature']\n",
    "x, y = ecdf(temp_data)\n",
    "mean_obs = np.mean(temp_data)\n",
    "std_obs = np.std(temp_data)\n",
    "num_obs = len(temp_data)\n",
    "max_obs = max(temp_data)\n",
    "min_obs = min(temp_data)\n",
    "z_max = (max_obs - mean_obs)/std_obs\n",
    "z_min = (min_obs - mean_obs)/std_obs\n",
    "#obtain 10000 observations from normal distribution\n",
    "samples = np.random.normal(mean_obs, std_obs, size=10000)\n",
    "x_th, y_th = ecdf(samples)\n",
    "\n",
    "fig = plt.figure(figsize=(8,5))\n",
    "ax = plt.subplot(111)\n",
    "txt = plt.xlabel('Temperature')\n",
    "txt = plt.ylabel('CDF')\n",
    "lst = ax.plot(x_th, y_th, label='theory')\n",
    "lst = ax.plot(x, y, marker='.',linestyle='none', label='data')\n",
    "legend = ax.legend()\n",
    "plt.show()\n",
    "\n",
    "print('observed mean = ', mean_obs)\n",
    "print('observed std = ', std_obs)\n",
    "print('number of observations = ', num_obs)\n",
    "print('max observation = ', max_obs)\n",
    "print('min observation = ', min_obs)\n",
    "print('z score max obs = ', z_max)\n",
    "print('z score min obs = ', z_min)"
   ]
  },
  {
   "cell_type": "markdown",
   "metadata": {},
   "source": [
    "<ol>\n",
    "<li>  Is the distribution of body temperatures normal? \n",
    "    <ul>\n",
    "    <li> Although this is not a requirement for the Central Limit Theorem to hold (read the introduction on Wikipedia's page about the CLT carefully: https://en.wikipedia.org/wiki/Central_limit_theorem), it gives us some peace of mind that the population may also be normally distributed if we assume that this sample is representative of the population.\n",
    "    <li> Think about the way you're going to check for the normality of the distribution. Graphical methods are usually used first, but there are also other ways: https://en.wikipedia.org/wiki/Normality_test\n",
    "    </ul>\n",
    "</ol>\n",
    "\n",
    "_The temperature looks to be normally distributed. The plot above shows the observed cumulative distribution function (CDF) plot as orange points and the theoretical CDF for a normal distrution as a solid blue line. The blue theoretical curve is visualized using the mean and standard deviation from the sample. The data visually fits well with the theoritical curve._\n",
    "\n",
    "_Regarding normality tests, the max observation is 3.5 standard deviations above the mean. For a sample of 130 observations, this may indicate that the true distribution has a wider tail._\n"
   ]
  },
  {
   "cell_type": "code",
   "execution_count": 5,
   "metadata": {},
   "outputs": [],
   "source": [
    "def bootstrap_replicate_1d(data, func, size):\n",
    "    \"\"\"Generate bootstrap replicate of 1D data.\"\"\"\n",
    "    bs_sample = np.random.choice(data, size)\n",
    "    return func(bs_sample)"
   ]
  },
  {
   "cell_type": "code",
   "execution_count": 6,
   "metadata": {},
   "outputs": [
    {
     "data": {
      "image/png": "[encoded data removed]",
      "text/plain": [
       "<Figure size 1152x720 with 2 Axes>"
      ]
     },
     "metadata": {
      "needs_background": "light"
     },
     "output_type": "display_data"
    },
    {
     "name": "stdout",
     "output_type": "stream",
     "text": [
      "observed mean =  98.24923076923078\n",
      "observed std =  0.7303577789050377\n",
      "number of observations =  130\n",
      "95% confidence interval =  [98.12153846 98.37692308]\n",
      "mean of mean temperature =  98.24980038461538\n",
      "std of mean temperature =  0.06466876439680495\n",
      "std_obs / std_meanTemp =  11.293826095448361\n",
      "sqrt number of observations =  11.40175425099138\n",
      "t value at 98.6 =  5.415282302840981\n",
      "p value at 98.6 =  0.0\n",
      "z value at 98.6 =  5.475925202078116\n",
      "p value at 98.6 =  0.0\n",
      "% change t and z score =  1.119847421533692\n"
     ]
    }
   ],
   "source": [
    "# Take replicates of data set and calculate mean for each replicate\n",
    "# Calculate distribution of average temperature from set of replicates\n",
    "# Determine how likely the observed average temp is, based on the distribution obtained\n",
    "\n",
    "# take 10,000 replicates\n",
    "num_of_reps = 10000\n",
    "bs_replicates = np.empty(num_of_reps)\n",
    "for i in range(num_of_reps):\n",
    "    bs_replicates[i] = bootstrap_replicate_1d(temp_data, np.mean, num_obs)\n",
    "\n",
    "# calculate 95% confidence interval\n",
    "conf_int = np.percentile(bs_replicates, [2.5, 97.5])\n",
    "# calculate mean of mean temperature\n",
    "mean_meanTemp = np.mean(bs_replicates)    \n",
    "# calculate std of mean temperature\n",
    "std_meanTemp = np.std(bs_replicates)    \n",
    "\n",
    "#plot histogram of average temp\n",
    "fig = plt.figure(figsize=(16,10))\n",
    "ax = plt.subplot(1,2,1)\n",
    "txt = plt.xlabel('Average Temperature (degrees F)')\n",
    "txt = plt.ylabel('Probability')\n",
    "_ = plt.hist(bs_replicates, bins=30, density=True)\n",
    "\n",
    "#plot cdf of mean temp distribution\n",
    "x, y = ecdf(bs_replicates)\n",
    "samples = np.random.normal(mean_obs, std_obs/np.sqrt(num_obs), size=10000)\n",
    "x_th, y_th = ecdf(samples)\n",
    "ax = plt.subplot(1,2,2)\n",
    "txt = plt.xlabel('Average Temperature (degrees F)')\n",
    "txt = plt.ylabel('CDF')\n",
    "lst = ax.plot(x_th, y_th, label='theory')\n",
    "lst = ax.plot(x, y, marker='.',linestyle='none', label='data')\n",
    "legend = ax.legend()\n",
    "\n",
    "plt.show()\n",
    "\n",
    "print('observed mean = ', mean_obs)\n",
    "print('observed std = ', std_obs)\n",
    "print('number of observations = ', num_obs)\n",
    "print('95% confidence interval = ', conf_int)\n",
    "print('mean of mean temperature = ', mean_meanTemp)\n",
    "print('std of mean temperature = ', std_meanTemp)\n",
    "\n",
    "# calculate ratio std_obs / std_meanTemp\n",
    "print('std_obs / std_meanTemp = ', std_obs/std_meanTemp)\n",
    "\n",
    "# square root of number of observations\n",
    "print('sqrt number of observations = ', np.sqrt(num_obs))\n",
    "\n",
    "# calculate t statistic for an observation of 98.6 degrees (reported by Carl Wunderlich, 1868)\n",
    "temp_cw = 98.6\n",
    "t_cw = (temp_cw - mean_meanTemp)/std_meanTemp\n",
    "print('t value at 98.6 = ', t_cw)\n",
    "\n",
    "# calculate its p value\n",
    "p_cw_t = np.sum(bs_replicates >= temp_cw)/len(bs_replicates)\n",
    "print('p value at 98.6 = ', p_cw_t)\n",
    "\n",
    "# calculate z statistic for an observation of 98.6 degrees\n",
    "z_cw = (temp_cw - mean_obs)/(std_obs/np.sqrt(num_obs))\n",
    "print('z value at 98.6 = ', z_cw)\n",
    "\n",
    "# calculate its p value\n",
    "p_cw_z =  np.sum(samples >= temp_cw)/len(samples)\n",
    "print('p value at 98.6 = ', p_cw_z)\n",
    "\n",
    "#percent change between p and z score\n",
    "print('% change t and z score = ', np.abs(t_cw - z_cw)*100/t_cw)"
   ]
  },
  {
   "cell_type": "markdown",
   "metadata": {},
   "source": [
    "In the cell above, we create replicates of the data and calculate the mean for each replicate. This is done 10,000 times to obtain the histogram of replicates above. Note that the mean of this distribution and the sample mean have close agreement (98.2498 vs 98.2492, respectively). The ratio of the observed standard deviation to the distribution of replicates standard deviation is 11.29. As per the central limit theorem, this ratio is the square root of the number of observations, in this case 11.40. So there is close agreement between the calculated and theoretical value. The plot above to the right is the CDF from the replicate data (orange dots) and the CDF of a normal distribution (blue curve). The average and standard deviation from replicate distrution was used to graph the blue curve. Both curves are in close agreement.\n",
    "\n",
    "<ol>\n",
    "<li>  Is the sample size large? Are the observations independent?\n",
    "    <ul>\n",
    "    <li> Remember that this is a condition for the Central Limit Theorem, and hence the statistical tests we are using, to apply.\n",
    "    </ul>\n",
    "\n",
    "_We can conclude that the replicate distribution is well epproximated by a normal distrubtion. Since we obtained a normal distribution for the replicates, we can ascertain that the individual observations are independent events since this is a requirement of the central limit theorem. Also, we can say that the sample is large enough. If the sample were too small, then the replicate distribution would look different from a normal distribution._\n",
    "\n",
    "<li>  Is the true population mean really 98.6 degrees F?\n",
    "    <ul>\n",
    "    <li> First, try a bootstrap hypothesis test.\n",
    "    <li> Now, let's try frequentist statistical testing. Would you use a one-sample or two-sample test? Why?\n",
    "    <li> In this situation, is it appropriate to use the $t$ or $z$ statistic? \n",
    "    <li> Now try using the other test. How is the result be different? Why?\n",
    "    </ul>\n",
    "\n",
    "_Using the boostrap replicates, we obtain a distribution where 98.6 degrees is well outside the 95% confidence internal. The t score for 98.6 using this distribution is 5.42 standard deviations. Assuming a normal distribution with sample mean and standard deviation equal to the sample standard deviation divided by square root of the sample size, the z score is 5.48. Both t and z statistic give a p value that is less than 1 part in ten thousand._\n",
    "\n",
    "_In this case, the t and z score are in close agreement. Therefore only z score is necessary._\n",
    "\n",
    "_For the z score, a one-sample test was used as we are not comparing two populations._\n",
    "\n",
    "_Given the small p value, we can conclude that 98.6 is not the true mean._\n",
    "\n",
    "</ol>"
   ]
  },
  {
   "cell_type": "code",
   "execution_count": 7,
   "metadata": {},
   "outputs": [],
   "source": [
    "def diff_from_cw(data, temp_cw=98.6):\n",
    "    return np.mean(data) - temp_cw"
   ]
  },
  {
   "cell_type": "code",
   "execution_count": 8,
   "metadata": {},
   "outputs": [
    {
     "data": {
      "image/png": "[encoded data removed]",
      "text/plain": [
       "<Figure size 1152x720 with 2 Axes>"
      ]
     },
     "metadata": {
      "needs_background": "light"
     },
     "output_type": "display_data"
    },
    {
     "name": "stdout",
     "output_type": "stream",
     "text": [
      "observed mean =  98.24923076923078\n",
      "observed std =  0.7303577789050377\n",
      "number of observations =  10\n",
      "95% confidence interval =  [97.79 98.7 ]\n",
      "mean of mean temperature =  98.247437\n",
      "std of mean temperature =  0.2311548421102182\n",
      "std_obs / std_meanTemp =  3.159604065558756\n",
      "sqrt number of observations =  3.1622776601683795\n",
      "t value at 98.6 =  1.5252243767919074\n",
      "p value at 98.6 =  0.0658\n",
      "z value at 98.6 =  1.5187483920537046\n",
      "p value at 98.6 =  0.065\n",
      "% change t and z score =  0.42459226568513675\n"
     ]
    }
   ],
   "source": [
    "# Take replicates of data set of size 10 and calculate mean for each replicate\n",
    "# Calculate distribution of average temperature from set of replicates\n",
    "# Determine how likely the observed average temp is, based on the distribution obtained\n",
    "\n",
    "# take 10,000 replicates\n",
    "num_of_reps = 10000\n",
    "sample_size = 10\n",
    "bs_replicates = np.empty(num_of_reps)\n",
    "for i in range(num_of_reps):\n",
    "    bs_replicates[i] = bootstrap_replicate_1d(temp_data, np.mean, sample_size)\n",
    "\n",
    "# calculate 95% confidence interval\n",
    "conf_int_n10 = np.percentile(bs_replicates, [2.5, 97.5])\n",
    "# calculate mean of mean temperature\n",
    "mean_meanTemp_n10 = np.mean(bs_replicates)    \n",
    "# calculate std of mean temperature\n",
    "std_meanTemp_n10 = np.std(bs_replicates)    \n",
    "\n",
    "#plot histogram of average temp\n",
    "fig = plt.figure(figsize=(16,10))\n",
    "ax = plt.subplot(1,2,1)\n",
    "txt = plt.xlabel('Average Temperature (degrees F)')\n",
    "txt = plt.ylabel('Probability Distribution N=10')\n",
    "_ = plt.hist(bs_replicates, bins=30, density=True)\n",
    "\n",
    "#plot cdf of mean temp distribution\n",
    "x, y = ecdf(bs_replicates)\n",
    "samples = np.random.normal(mean_obs, std_obs/np.sqrt(sample_size), size=10000)\n",
    "x_th, y_th = ecdf(samples)\n",
    "ax = plt.subplot(1,2,2)\n",
    "txt = plt.xlabel('Average Temperature (degrees F)')\n",
    "txt = plt.ylabel('CDF')\n",
    "lst = ax.plot(x_th, y_th, label='theory')\n",
    "lst = ax.plot(x, y, marker='.',linestyle='none', label='data')\n",
    "legend = ax.legend()\n",
    "\n",
    "plt.show()\n",
    "\n",
    "print('observed mean = ', mean_obs)\n",
    "print('observed std = ', std_obs)\n",
    "print('number of observations = ', sample_size)\n",
    "print('95% confidence interval = ', conf_int_n10)\n",
    "print('mean of mean temperature = ', mean_meanTemp_n10)\n",
    "print('std of mean temperature = ', std_meanTemp_n10)\n",
    "\n",
    "# calculate ratio std_obs / std_meanTemp\n",
    "print('std_obs / std_meanTemp = ', std_obs/std_meanTemp_n10)\n",
    "\n",
    "# square root of number of observations\n",
    "print('sqrt number of observations = ', np.sqrt(sample_size))\n",
    "\n",
    "\n",
    "# calculate t statistic for an observation of 98.6 degrees (reported by Carl Wunderlich, 1868)\n",
    "temp_cw = 98.6\n",
    "t_cw_n10 = (temp_cw - mean_meanTemp_n10)/std_meanTemp_n10\n",
    "print('t value at 98.6 = ', t_cw_n10)\n",
    "\n",
    "# calculate its p value\n",
    "p_cw_t_n10 = np.sum(bs_replicates >= temp_cw)/len(bs_replicates)\n",
    "print('p value at 98.6 = ', p_cw_t_n10)\n",
    "\n",
    "# calculate z statistic for an observation of 98.6 degrees\n",
    "z_cw_n10 = (temp_cw - mean_obs)/(std_obs/np.sqrt(sample_size))\n",
    "print('z value at 98.6 = ', z_cw_n10)\n",
    "\n",
    "# calculate its p value\n",
    "p_cw_z_n10 =  np.sum(samples >= temp_cw)/len(samples)\n",
    "print('p value at 98.6 = ', p_cw_z_n10)\n",
    "\n",
    "#percent change between p and z score\n",
    "print('% change t and z score = ', np.abs(t_cw_n10 - z_cw_n10)*100/t_cw_n10)"
   ]
  },
  {
   "cell_type": "markdown",
   "metadata": {},
   "source": [
    "<ol>\n",
    "<li>  Draw a small sample of size 10 from the data and repeat both frequentist tests. \n",
    "    <ul>\n",
    "    <li> Which one is the correct one to use? \n",
    "    <li> What do you notice? What does this tell you about the difference in application of the $t$ and $z$ statistic?\n",
    "    </ul>\n",
    "</ol>\n",
    "\n",
    "_Using samples of size 10, we see that 98.6 temperature falls within the 95% percent interval.The t and z score are around 1.5 standard deviations above the mean. The p value for t and z statistic is around 7 percent. A temperature 98.6 is not a rare event in this case._\n",
    "\n",
    "_Applying t or z statistic gives the same results even though the sample size is small. I expect that this agreement is due to the fact that the underlying population distribution (that is the distribution from which we have a sample of 130 temperature readings) is a normal distribution. A more significant difference would be observed between t and z scores had this underlying distribution been much different from a normal distribution._"
   ]
  },
  {
   "cell_type": "code",
   "execution_count": 9,
   "metadata": {},
   "outputs": [],
   "source": [
    "def bootstrap_perms(concatenate_data, func, size_group_A):\n",
    "    \"\"\"Generate permutations. Calculate statistic of each group. Return difference\"\"\"\n",
    "    perm = np.random.permutation(concatenate_data)\n",
    "    group_A = perm[:size_group_A]\n",
    "    group_B = perm[size_group_A:]\n",
    "    return func(group_A) - func(group_B)"
   ]
  },
  {
   "cell_type": "code",
   "execution_count": 10,
   "metadata": {},
   "outputs": [
    {
     "name": "stdout",
     "output_type": "stream",
     "text": [
      "number of females =  65\n",
      "number of males =  65\n",
      "mean temp females =  98.39384615384613\n",
      "mean temp males =  98.1046153846154\n",
      "observed difference =  0.289230769230727\n",
      "95% confidence interval =  [-0.25230769  0.24930769]\n",
      "mean diff =  -0.0008719999999998564\n",
      "standard deviation of diff =  0.1291306456255394\n",
      "p value =  0.0141\n"
     ]
    }
   ],
   "source": [
    "#create arrays for female and male observations\n",
    "female_data  = df.loc[df['gender'].str.contains('F', regex=False), 'temperature']\n",
    "male_data    = df.loc[df['gender'].str.contains('M', regex=False), 'temperature']\n",
    "\n",
    "female_count = len(female_data)\n",
    "male_count   = len(male_data)\n",
    "\n",
    "female_mean  = np.mean(female_data)\n",
    "male_mean    = np.mean(male_data)\n",
    "\n",
    "print('number of females = ', female_count)\n",
    "print('number of males = '  , male_count)\n",
    "print('mean temp females = ', female_mean)\n",
    "print('mean temp males = '  , male_mean)\n",
    "\n",
    "obs_diff = female_mean - male_mean\n",
    "print('observed difference = ', obs_diff)\n",
    "\n",
    "concatenate_data = np.concatenate((female_data.values, male_data.values))\n",
    "\n",
    "# take 10000 permutations of data\n",
    "num_of_perms = 10000\n",
    "bs_perms = np.empty(num_of_perms)\n",
    "for i in range(num_of_perms):\n",
    "    bs_perms[i] = bootstrap_perms(concatenate_data, np.mean, female_count)\n",
    "\n",
    "    \n",
    "# calculate 95% confidence interval\n",
    "conf_int = np.percentile(bs_perms, [2.5, 97.5])\n",
    "# calculate mean of mean temperature\n",
    "mean_diff = np.mean(bs_perms)    \n",
    "# calculate std of mean temperature\n",
    "std_diff = np.std(bs_perms)       \n",
    "    \n",
    "print('95% confidence interval = '   , conf_int)\n",
    "print('mean diff = '                 , mean_diff)\n",
    "print('standard deviation of diff = ', std_diff)\n",
    "    \n",
    "p_value = np.sum(bs_perms >= obs_diff)/len(bs_perms)\n",
    "print('p value = ', p_value)"
   ]
  },
  {
   "cell_type": "markdown",
   "metadata": {},
   "source": [
    "<ol>\n",
    "<li>  Is there a significant difference between males and females in normal temperature?\n",
    "    <ul>\n",
    "    <li> What testing approach did you use and why?\n",
    "    <li> Write a story with your conclusion in the context of the original problem.\n",
    "    </ul>\n",
    "</ol>\n",
    "\n",
    "_Assuming the same distribution between females and males, permutations were taken and the temperature was computeted for the female and male group. The observed difference in temperature between females and males was 0.2892. A distribution of temperature differences was obtained with mean around 0 and standard deviation of 0.129. The observed difference is outside the 95% confidence interval, with p value at 0.0141. Given the low p value, we can dismiss the hypothesis that both females and males have the same temperature distribution. Females on average have a higher temperature than males._"
   ]
  },
  {
   "cell_type": "code",
   "execution_count": null,
   "metadata": {},
   "outputs": [],
   "source": []
  }
 ],
 "metadata": {
  "kernelspec": {
   "display_name": "Python 3",
   "language": "python",
   "name": "python3"
  },
  "language_info": {
   "codemirror_mode": {
    "name": "ipython",
    "version": 3
   },
   "file_extension": ".py",
   "mimetype": "text/x-python",
   "name": "python",
   "nbconvert_exporter": "python",
   "pygments_lexer": "ipython3",
   "version": "3.7.1"
  }
 },
 "nbformat": 4,
 "nbformat_minor": 1
}
