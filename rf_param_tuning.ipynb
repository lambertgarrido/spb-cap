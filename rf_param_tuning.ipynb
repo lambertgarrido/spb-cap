{
 "cells": [
  {
   "cell_type": "code",
   "execution_count": 1,
   "metadata": {},
   "outputs": [
    {
     "name": "stdout",
     "output_type": "stream",
     "text": [
      "(771870, 24)\n",
      "(771870, 20)\n",
      "(486785, 20)\n",
      "Index(['AGE', 'BEDRMS', 'FMR', 'INCRELAMIPCT', 'IPOV', 'LMED', 'NUNITS', 'PER',\n",
      "       'ROOMS', 'VALUE', 'ZSMHC', 'REGION', 'YEAR', 'FMTBUILT_'1960-1979'',\n",
      "       'FMTBUILT_'1980-1989'', 'FMTBUILT_'1990-1999'', 'FMTBUILT_'2000-2009'',\n",
      "       'FMTBUILT_'After 2010'', 'FMTBUILT_'not_defined'',\n",
      "       'FMTASSISTED_'0 Not Assisted'', 'FMTSTRUCTURETYPE_'2 2-4 units'',\n",
      "       'FMTSTRUCTURETYPE_'3 5-19 units'', 'FMTSTRUCTURETYPE_'4 20-49 units'',\n",
      "       'FMTSTRUCTURETYPE_'5 50+ units'', 'FMTSTRUCTURETYPE_'6 Mobile Home'',\n",
      "       'FMTMETRO_'Central City'', 'FMTZADEQ_'2 Moderately Inadequ'',\n",
      "       'FMTZADEQ_'3 Severely Indadequa''],\n",
      "      dtype='object')\n"
     ]
    }
   ],
   "source": [
    "import pandas as pd\n",
    "from sklearn.linear_model import Ridge\n",
    "from sklearn.model_selection import train_test_split\n",
    "from sklearn.model_selection import GridSearchCV\n",
    "from sklearn.model_selection import RandomizedSearchCV\n",
    "import matplotlib.pyplot as plt\n",
    "import numpy as np\n",
    "from sklearn.preprocessing import StandardScaler\n",
    "from sklearn.pipeline import Pipeline\n",
    "from sklearn.preprocessing import scale\n",
    "from sklearn.ensemble import RandomForestRegressor\n",
    "import gc\n",
    "import sys\n",
    "from pprint import pprint\n",
    "\n",
    "#df_13 = pd.read_csv('13_clean.csv')\n",
    "#df_13.head()\n",
    "\n",
    "years = ['85', '87', '89', '91', '93', '95', '97', '99', '01', '03', '05', '07', '09', '11', '13']\n",
    "years_num = [1985, 1987, 1989, 1991, 1993, 1995, 1997, 1999, 2001, 2003, 2005, 2007, 2009, 2011, 2013 ]\n",
    "\n",
    "\n",
    "def combineDataFrame(years, years_num):\n",
    "    \n",
    "    df_allYears = pd.DataFrame()\n",
    "    \n",
    "    for year, i in zip(years, years_num):\n",
    "        df = pd.read_csv(year + '_clean.csv')\n",
    "        df['YEAR'] = i\n",
    "        df_allYears = df_allYears.append(df)\n",
    "    \n",
    "    return df_allYears\n",
    "    \n",
    "df_allYears = combineDataFrame(years, years_num)\n",
    "\n",
    "#Keep only LMED from above set since 'ABL50', 'ABL80', 'ABLMED', 'GL50', 'GL80', 'GLMED', 'L50' are correlated\n",
    "cols = ['ABL50', 'ABL80', 'ABLMED', 'GL50', 'GL80', 'GLMED', 'L50']\n",
    "df_allYears.drop(cols, axis=1, inplace=True)\n",
    "\n",
    "\n",
    "#Keep only 'INCRELAMIPCT' from above set since 'ZINC2', 'TOTSAL' are correlated\n",
    "cols = ['ZINC2', 'TOTSAL']\n",
    "df_allYears.drop(cols, axis=1, inplace=True)\n",
    "\n",
    "#choose columns that are independent, e.g. COSTMED, COSTMEDRELAMITPCT, FMTCOSTMEDRELAMIPCT \n",
    "#show the same data in different format; ditto for FMTINCRELAMICAT and INCRELAMIPCT\n",
    "# drop CONTROL as well\n",
    "cols = ['CONTROL', 'COSTMED', 'FMTCOSTMEDRELAMICAT', 'FMTINCRELAMICAT']\n",
    "df_allYears.drop(cols, axis=1, inplace=True)\n",
    "print(df_allYears.shape)\n",
    "\n",
    "#removing columns related to cost since these are related to target variable ZSMHC (monthly housing cost)\n",
    "cols = ['COSTMEDRELAMIPCT', 'BURDEN', 'OTHERCOST', 'UTILITY']\n",
    "df_allYears.drop(cols, axis=1, inplace=True)\n",
    "print(df_allYears.shape)\n",
    "\n",
    "#drop na values\n",
    "df_allYears = df_allYears.dropna()\n",
    "print(df_allYears.shape)\n",
    "\n",
    "#remove values of FMTMETRO set to 9;\n",
    "df_allYears = df_allYears.loc[~df_allYears['FMTMETRO'].str.contains('9', regex=False)]\n",
    "\n",
    "\n",
    "#drop FMTSTATUS - earlier generated ill-defined matrix warning for ridge regression;\n",
    "#values for this column is constanct for several years\n",
    "df_allYears.drop('FMTSTATUS', axis=1, inplace=True)\n",
    "\n",
    "#converting REGION from int type to string type\n",
    "df_allYears['REGION'].apply(str)\n",
    "\n",
    "#convert categorical variables to indicator variables\n",
    "df_allYears = pd.get_dummies(df_allYears, drop_first=True)\n",
    "\n",
    "print(df_allYears.columns)"
   ]
  },
  {
   "cell_type": "code",
   "execution_count": 2,
   "metadata": {},
   "outputs": [],
   "source": [
    "X = df_allYears.drop(['ZSMHC'], axis=1).values\n",
    "\n",
    "y = df_allYears['ZSMHC'].values\n",
    "\n",
    "X_train, X_test, y_train, y_test = train_test_split(X, y, test_size=0.3, random_state=42)\n",
    "\n",
    "del df_allYears\n",
    "del X\n",
    "del y"
   ]
  },
  {
   "cell_type": "code",
   "execution_count": 3,
   "metadata": {},
   "outputs": [
    {
     "name": "stdout",
     "output_type": "stream",
     "text": [
      "{'bootstrap': [True, False],\n",
      " 'max_depth': [10, 12, 14, 16, 18, 20, 22, 24, 26, 28, 30, None],\n",
      " 'max_features': ['auto', 'sqrt', 'log2'],\n",
      " 'min_samples_leaf': [1, 2, 4],\n",
      " 'min_samples_split': [2, 5, 10],\n",
      " 'n_estimators': [20, 50, 100, 150, 200]}\n",
      "Fitting 3 folds for each of 100 candidates, totalling 300 fits\n",
      "[CV] n_estimators=20, min_samples_split=5, min_samples_leaf=1, max_features=log2, max_depth=22, bootstrap=False \n"
     ]
    },
    {
     "name": "stderr",
     "output_type": "stream",
     "text": [
      "[Parallel(n_jobs=1)]: Using backend SequentialBackend with 1 concurrent workers.\n"
     ]
    },
    {
     "name": "stdout",
     "output_type": "stream",
     "text": [
      "[CV]  n_estimators=20, min_samples_split=5, min_samples_leaf=1, max_features=log2, max_depth=22, bootstrap=False, total=  11.9s\n",
      "[CV] n_estimators=20, min_samples_split=5, min_samples_leaf=1, max_features=log2, max_depth=22, bootstrap=False \n"
     ]
    },
    {
     "name": "stderr",
     "output_type": "stream",
     "text": [
      "[Parallel(n_jobs=1)]: Done   1 out of   1 | elapsed:   11.9s remaining:    0.0s\n"
     ]
    },
    {
     "name": "stdout",
     "output_type": "stream",
     "text": [
      "[CV]  n_estimators=20, min_samples_split=5, min_samples_leaf=1, max_features=log2, max_depth=22, bootstrap=False, total=  10.0s\n",
      "[CV] n_estimators=20, min_samples_split=5, min_samples_leaf=1, max_features=log2, max_depth=22, bootstrap=False \n",
      "[CV]  n_estimators=20, min_samples_split=5, min_samples_leaf=1, max_features=log2, max_depth=22, bootstrap=False, total=  10.2s\n",
      "[CV] n_estimators=200, min_samples_split=2, min_samples_leaf=4, max_features=auto, max_depth=None, bootstrap=True \n",
      "[CV]  n_estimators=200, min_samples_split=2, min_samples_leaf=4, max_features=auto, max_depth=None, bootstrap=True, total= 5.2min\n",
      "[CV] n_estimators=200, min_samples_split=2, min_samples_leaf=4, max_features=auto, max_depth=None, bootstrap=True \n",
      "[CV]  n_estimators=200, min_samples_split=2, min_samples_leaf=4, max_features=auto, max_depth=None, bootstrap=True, total= 5.2min\n",
      "[CV] n_estimators=200, min_samples_split=2, min_samples_leaf=4, max_features=auto, max_depth=None, bootstrap=True \n",
      "[CV]  n_estimators=200, min_samples_split=2, min_samples_leaf=4, max_features=auto, max_depth=None, bootstrap=True, total= 5.2min\n",
      "[CV] n_estimators=20, min_samples_split=2, min_samples_leaf=2, max_features=log2, max_depth=30, bootstrap=True \n",
      "[CV]  n_estimators=20, min_samples_split=2, min_samples_leaf=2, max_features=log2, max_depth=30, bootstrap=True, total=   7.4s\n",
      "[CV] n_estimators=20, min_samples_split=2, min_samples_leaf=2, max_features=log2, max_depth=30, bootstrap=True \n",
      "[CV]  n_estimators=20, min_samples_split=2, min_samples_leaf=2, max_features=log2, max_depth=30, bootstrap=True, total=   7.4s\n",
      "[CV] n_estimators=20, min_samples_split=2, min_samples_leaf=2, max_features=log2, max_depth=30, bootstrap=True \n",
      "[CV]  n_estimators=20, min_samples_split=2, min_samples_leaf=2, max_features=log2, max_depth=30, bootstrap=True, total=   7.5s\n",
      "[CV] n_estimators=20, min_samples_split=2, min_samples_leaf=2, max_features=log2, max_depth=26, bootstrap=True \n",
      "[CV]  n_estimators=20, min_samples_split=2, min_samples_leaf=2, max_features=log2, max_depth=26, bootstrap=True, total=   7.3s\n",
      "[CV] n_estimators=20, min_samples_split=2, min_samples_leaf=2, max_features=log2, max_depth=26, bootstrap=True \n",
      "[CV]  n_estimators=20, min_samples_split=2, min_samples_leaf=2, max_features=log2, max_depth=26, bootstrap=True, total=   7.4s\n",
      "[CV] n_estimators=20, min_samples_split=2, min_samples_leaf=2, max_features=log2, max_depth=26, bootstrap=True \n",
      "[CV]  n_estimators=20, min_samples_split=2, min_samples_leaf=2, max_features=log2, max_depth=26, bootstrap=True, total=   7.3s\n",
      "[CV] n_estimators=200, min_samples_split=2, min_samples_leaf=4, max_features=auto, max_depth=26, bootstrap=True \n",
      "[CV]  n_estimators=200, min_samples_split=2, min_samples_leaf=4, max_features=auto, max_depth=26, bootstrap=True, total= 5.2min\n",
      "[CV] n_estimators=200, min_samples_split=2, min_samples_leaf=4, max_features=auto, max_depth=26, bootstrap=True \n",
      "[CV]  n_estimators=200, min_samples_split=2, min_samples_leaf=4, max_features=auto, max_depth=26, bootstrap=True, total= 5.1min\n",
      "[CV] n_estimators=200, min_samples_split=2, min_samples_leaf=4, max_features=auto, max_depth=26, bootstrap=True \n",
      "[CV]  n_estimators=200, min_samples_split=2, min_samples_leaf=4, max_features=auto, max_depth=26, bootstrap=True, total= 5.2min\n",
      "[CV] n_estimators=20, min_samples_split=10, min_samples_leaf=1, max_features=sqrt, max_depth=24, bootstrap=True \n",
      "[CV]  n_estimators=20, min_samples_split=10, min_samples_leaf=1, max_features=sqrt, max_depth=24, bootstrap=True, total=   7.8s\n",
      "[CV] n_estimators=20, min_samples_split=10, min_samples_leaf=1, max_features=sqrt, max_depth=24, bootstrap=True \n",
      "[CV]  n_estimators=20, min_samples_split=10, min_samples_leaf=1, max_features=sqrt, max_depth=24, bootstrap=True, total=   7.7s\n",
      "[CV] n_estimators=20, min_samples_split=10, min_samples_leaf=1, max_features=sqrt, max_depth=24, bootstrap=True \n",
      "[CV]  n_estimators=20, min_samples_split=10, min_samples_leaf=1, max_features=sqrt, max_depth=24, bootstrap=True, total=   7.9s\n",
      "[CV] n_estimators=150, min_samples_split=10, min_samples_leaf=2, max_features=auto, max_depth=14, bootstrap=False \n",
      "[CV]  n_estimators=150, min_samples_split=10, min_samples_leaf=2, max_features=auto, max_depth=14, bootstrap=False, total= 4.6min\n",
      "[CV] n_estimators=150, min_samples_split=10, min_samples_leaf=2, max_features=auto, max_depth=14, bootstrap=False \n",
      "[CV]  n_estimators=150, min_samples_split=10, min_samples_leaf=2, max_features=auto, max_depth=14, bootstrap=False, total= 4.6min\n",
      "[CV] n_estimators=150, min_samples_split=10, min_samples_leaf=2, max_features=auto, max_depth=14, bootstrap=False \n",
      "[CV]  n_estimators=150, min_samples_split=10, min_samples_leaf=2, max_features=auto, max_depth=14, bootstrap=False, total= 4.6min\n",
      "[CV] n_estimators=150, min_samples_split=5, min_samples_leaf=1, max_features=log2, max_depth=18, bootstrap=False \n",
      "[CV]  n_estimators=150, min_samples_split=5, min_samples_leaf=1, max_features=log2, max_depth=18, bootstrap=False, total= 1.1min\n",
      "[CV] n_estimators=150, min_samples_split=5, min_samples_leaf=1, max_features=log2, max_depth=18, bootstrap=False \n",
      "[CV]  n_estimators=150, min_samples_split=5, min_samples_leaf=1, max_features=log2, max_depth=18, bootstrap=False, total= 1.1min\n",
      "[CV] n_estimators=150, min_samples_split=5, min_samples_leaf=1, max_features=log2, max_depth=18, bootstrap=False \n",
      "[CV]  n_estimators=150, min_samples_split=5, min_samples_leaf=1, max_features=log2, max_depth=18, bootstrap=False, total= 1.1min\n",
      "[CV] n_estimators=20, min_samples_split=2, min_samples_leaf=2, max_features=log2, max_depth=24, bootstrap=True \n",
      "[CV]  n_estimators=20, min_samples_split=2, min_samples_leaf=2, max_features=log2, max_depth=24, bootstrap=True, total=   7.0s\n",
      "[CV] n_estimators=20, min_samples_split=2, min_samples_leaf=2, max_features=log2, max_depth=24, bootstrap=True \n",
      "[CV]  n_estimators=20, min_samples_split=2, min_samples_leaf=2, max_features=log2, max_depth=24, bootstrap=True, total=   6.8s\n",
      "[CV] n_estimators=20, min_samples_split=2, min_samples_leaf=2, max_features=log2, max_depth=24, bootstrap=True \n",
      "[CV]  n_estimators=20, min_samples_split=2, min_samples_leaf=2, max_features=log2, max_depth=24, bootstrap=True, total=   7.2s\n",
      "[CV] n_estimators=100, min_samples_split=10, min_samples_leaf=2, max_features=auto, max_depth=26, bootstrap=False \n",
      "[CV]  n_estimators=100, min_samples_split=10, min_samples_leaf=2, max_features=auto, max_depth=26, bootstrap=False, total= 4.0min\n",
      "[CV] n_estimators=100, min_samples_split=10, min_samples_leaf=2, max_features=auto, max_depth=26, bootstrap=False \n",
      "[CV]  n_estimators=100, min_samples_split=10, min_samples_leaf=2, max_features=auto, max_depth=26, bootstrap=False, total= 4.1min\n",
      "[CV] n_estimators=100, min_samples_split=10, min_samples_leaf=2, max_features=auto, max_depth=26, bootstrap=False \n",
      "[CV]  n_estimators=100, min_samples_split=10, min_samples_leaf=2, max_features=auto, max_depth=26, bootstrap=False, total= 4.0min\n",
      "[CV] n_estimators=200, min_samples_split=5, min_samples_leaf=4, max_features=sqrt, max_depth=12, bootstrap=False \n",
      "[CV]  n_estimators=200, min_samples_split=5, min_samples_leaf=4, max_features=sqrt, max_depth=12, bootstrap=False, total= 1.2min\n",
      "[CV] n_estimators=200, min_samples_split=5, min_samples_leaf=4, max_features=sqrt, max_depth=12, bootstrap=False \n",
      "[CV]  n_estimators=200, min_samples_split=5, min_samples_leaf=4, max_features=sqrt, max_depth=12, bootstrap=False, total= 1.2min\n",
      "[CV] n_estimators=200, min_samples_split=5, min_samples_leaf=4, max_features=sqrt, max_depth=12, bootstrap=False \n",
      "[CV]  n_estimators=200, min_samples_split=5, min_samples_leaf=4, max_features=sqrt, max_depth=12, bootstrap=False, total= 1.2min\n",
      "[CV] n_estimators=200, min_samples_split=10, min_samples_leaf=4, max_features=sqrt, max_depth=10, bootstrap=True \n",
      "[CV]  n_estimators=200, min_samples_split=10, min_samples_leaf=4, max_features=sqrt, max_depth=10, bootstrap=True, total=  44.1s\n",
      "[CV] n_estimators=200, min_samples_split=10, min_samples_leaf=4, max_features=sqrt, max_depth=10, bootstrap=True \n",
      "[CV]  n_estimators=200, min_samples_split=10, min_samples_leaf=4, max_features=sqrt, max_depth=10, bootstrap=True, total=  44.3s\n",
      "[CV] n_estimators=200, min_samples_split=10, min_samples_leaf=4, max_features=sqrt, max_depth=10, bootstrap=True \n"
     ]
    },
    {
     "name": "stdout",
     "output_type": "stream",
     "text": [
      "[CV]  n_estimators=200, min_samples_split=10, min_samples_leaf=4, max_features=sqrt, max_depth=10, bootstrap=True, total=  43.9s\n",
      "[CV] n_estimators=20, min_samples_split=10, min_samples_leaf=2, max_features=log2, max_depth=None, bootstrap=False \n",
      "[CV]  n_estimators=20, min_samples_split=10, min_samples_leaf=2, max_features=log2, max_depth=None, bootstrap=False, total=   9.6s\n",
      "[CV] n_estimators=20, min_samples_split=10, min_samples_leaf=2, max_features=log2, max_depth=None, bootstrap=False \n",
      "[CV]  n_estimators=20, min_samples_split=10, min_samples_leaf=2, max_features=log2, max_depth=None, bootstrap=False, total=   9.6s\n",
      "[CV] n_estimators=20, min_samples_split=10, min_samples_leaf=2, max_features=log2, max_depth=None, bootstrap=False \n",
      "[CV]  n_estimators=20, min_samples_split=10, min_samples_leaf=2, max_features=log2, max_depth=None, bootstrap=False, total=   9.7s\n",
      "[CV] n_estimators=200, min_samples_split=10, min_samples_leaf=1, max_features=sqrt, max_depth=18, bootstrap=False \n",
      "[CV]  n_estimators=200, min_samples_split=10, min_samples_leaf=1, max_features=sqrt, max_depth=18, bootstrap=False, total= 1.7min\n",
      "[CV] n_estimators=200, min_samples_split=10, min_samples_leaf=1, max_features=sqrt, max_depth=18, bootstrap=False \n",
      "[CV]  n_estimators=200, min_samples_split=10, min_samples_leaf=1, max_features=sqrt, max_depth=18, bootstrap=False, total= 1.7min\n",
      "[CV] n_estimators=200, min_samples_split=10, min_samples_leaf=1, max_features=sqrt, max_depth=18, bootstrap=False \n",
      "[CV]  n_estimators=200, min_samples_split=10, min_samples_leaf=1, max_features=sqrt, max_depth=18, bootstrap=False, total= 1.7min\n",
      "[CV] n_estimators=200, min_samples_split=2, min_samples_leaf=2, max_features=auto, max_depth=26, bootstrap=False \n",
      "[CV]  n_estimators=200, min_samples_split=2, min_samples_leaf=2, max_features=auto, max_depth=26, bootstrap=False, total= 8.7min\n",
      "[CV] n_estimators=200, min_samples_split=2, min_samples_leaf=2, max_features=auto, max_depth=26, bootstrap=False \n",
      "[CV]  n_estimators=200, min_samples_split=2, min_samples_leaf=2, max_features=auto, max_depth=26, bootstrap=False, total= 8.7min\n",
      "[CV] n_estimators=200, min_samples_split=2, min_samples_leaf=2, max_features=auto, max_depth=26, bootstrap=False \n",
      "[CV]  n_estimators=200, min_samples_split=2, min_samples_leaf=2, max_features=auto, max_depth=26, bootstrap=False, total= 8.8min\n",
      "[CV] n_estimators=100, min_samples_split=10, min_samples_leaf=2, max_features=auto, max_depth=14, bootstrap=False \n",
      "[CV]  n_estimators=100, min_samples_split=10, min_samples_leaf=2, max_features=auto, max_depth=14, bootstrap=False, total= 3.1min\n",
      "[CV] n_estimators=100, min_samples_split=10, min_samples_leaf=2, max_features=auto, max_depth=14, bootstrap=False \n",
      "[CV]  n_estimators=100, min_samples_split=10, min_samples_leaf=2, max_features=auto, max_depth=14, bootstrap=False, total= 3.1min\n",
      "[CV] n_estimators=100, min_samples_split=10, min_samples_leaf=2, max_features=auto, max_depth=14, bootstrap=False \n",
      "[CV]  n_estimators=100, min_samples_split=10, min_samples_leaf=2, max_features=auto, max_depth=14, bootstrap=False, total= 3.1min\n",
      "[CV] n_estimators=100, min_samples_split=10, min_samples_leaf=4, max_features=auto, max_depth=30, bootstrap=False \n",
      "[CV]  n_estimators=100, min_samples_split=10, min_samples_leaf=4, max_features=auto, max_depth=30, bootstrap=False, total= 4.0min\n",
      "[CV] n_estimators=100, min_samples_split=10, min_samples_leaf=4, max_features=auto, max_depth=30, bootstrap=False \n",
      "[CV]  n_estimators=100, min_samples_split=10, min_samples_leaf=4, max_features=auto, max_depth=30, bootstrap=False, total= 4.0min\n",
      "[CV] n_estimators=100, min_samples_split=10, min_samples_leaf=4, max_features=auto, max_depth=30, bootstrap=False \n",
      "[CV]  n_estimators=100, min_samples_split=10, min_samples_leaf=4, max_features=auto, max_depth=30, bootstrap=False, total= 4.0min\n",
      "[CV] n_estimators=200, min_samples_split=10, min_samples_leaf=2, max_features=auto, max_depth=24, bootstrap=True \n",
      "[CV]  n_estimators=200, min_samples_split=10, min_samples_leaf=2, max_features=auto, max_depth=24, bootstrap=True, total= 5.2min\n",
      "[CV] n_estimators=200, min_samples_split=10, min_samples_leaf=2, max_features=auto, max_depth=24, bootstrap=True \n",
      "[CV]  n_estimators=200, min_samples_split=10, min_samples_leaf=2, max_features=auto, max_depth=24, bootstrap=True, total= 5.2min\n",
      "[CV] n_estimators=200, min_samples_split=10, min_samples_leaf=2, max_features=auto, max_depth=24, bootstrap=True \n",
      "[CV]  n_estimators=200, min_samples_split=10, min_samples_leaf=2, max_features=auto, max_depth=24, bootstrap=True, total= 5.2min\n",
      "[CV] n_estimators=100, min_samples_split=5, min_samples_leaf=2, max_features=sqrt, max_depth=18, bootstrap=True \n",
      "[CV]  n_estimators=100, min_samples_split=5, min_samples_leaf=2, max_features=sqrt, max_depth=18, bootstrap=True, total=  35.1s\n",
      "[CV] n_estimators=100, min_samples_split=5, min_samples_leaf=2, max_features=sqrt, max_depth=18, bootstrap=True \n",
      "[CV]  n_estimators=100, min_samples_split=5, min_samples_leaf=2, max_features=sqrt, max_depth=18, bootstrap=True, total=  35.0s\n",
      "[CV] n_estimators=100, min_samples_split=5, min_samples_leaf=2, max_features=sqrt, max_depth=18, bootstrap=True \n",
      "[CV]  n_estimators=100, min_samples_split=5, min_samples_leaf=2, max_features=sqrt, max_depth=18, bootstrap=True, total=  35.0s\n",
      "[CV] n_estimators=150, min_samples_split=10, min_samples_leaf=1, max_features=sqrt, max_depth=14, bootstrap=False \n",
      "[CV]  n_estimators=150, min_samples_split=10, min_samples_leaf=1, max_features=sqrt, max_depth=14, bootstrap=False, total= 1.0min\n",
      "[CV] n_estimators=150, min_samples_split=10, min_samples_leaf=1, max_features=sqrt, max_depth=14, bootstrap=False \n",
      "[CV]  n_estimators=150, min_samples_split=10, min_samples_leaf=1, max_features=sqrt, max_depth=14, bootstrap=False, total= 1.0min\n",
      "[CV] n_estimators=150, min_samples_split=10, min_samples_leaf=1, max_features=sqrt, max_depth=14, bootstrap=False \n",
      "[CV]  n_estimators=150, min_samples_split=10, min_samples_leaf=1, max_features=sqrt, max_depth=14, bootstrap=False, total= 1.0min\n",
      "[CV] n_estimators=50, min_samples_split=10, min_samples_leaf=2, max_features=sqrt, max_depth=16, bootstrap=False \n",
      "[CV]  n_estimators=50, min_samples_split=10, min_samples_leaf=2, max_features=sqrt, max_depth=16, bootstrap=False, total=  22.8s\n",
      "[CV] n_estimators=50, min_samples_split=10, min_samples_leaf=2, max_features=sqrt, max_depth=16, bootstrap=False \n",
      "[CV]  n_estimators=50, min_samples_split=10, min_samples_leaf=2, max_features=sqrt, max_depth=16, bootstrap=False, total=  22.7s\n",
      "[CV] n_estimators=50, min_samples_split=10, min_samples_leaf=2, max_features=sqrt, max_depth=16, bootstrap=False \n",
      "[CV]  n_estimators=50, min_samples_split=10, min_samples_leaf=2, max_features=sqrt, max_depth=16, bootstrap=False, total=  22.8s\n",
      "[CV] n_estimators=100, min_samples_split=5, min_samples_leaf=2, max_features=log2, max_depth=28, bootstrap=True \n",
      "[CV]  n_estimators=100, min_samples_split=5, min_samples_leaf=2, max_features=log2, max_depth=28, bootstrap=True, total=  34.1s\n",
      "[CV] n_estimators=100, min_samples_split=5, min_samples_leaf=2, max_features=log2, max_depth=28, bootstrap=True \n",
      "[CV]  n_estimators=100, min_samples_split=5, min_samples_leaf=2, max_features=log2, max_depth=28, bootstrap=True, total=  34.9s\n",
      "[CV] n_estimators=100, min_samples_split=5, min_samples_leaf=2, max_features=log2, max_depth=28, bootstrap=True \n",
      "[CV]  n_estimators=100, min_samples_split=5, min_samples_leaf=2, max_features=log2, max_depth=28, bootstrap=True, total=  34.9s\n",
      "[CV] n_estimators=50, min_samples_split=5, min_samples_leaf=1, max_features=sqrt, max_depth=28, bootstrap=False \n",
      "[CV]  n_estimators=50, min_samples_split=5, min_samples_leaf=1, max_features=sqrt, max_depth=28, bootstrap=False, total=  32.4s\n",
      "[CV] n_estimators=50, min_samples_split=5, min_samples_leaf=1, max_features=sqrt, max_depth=28, bootstrap=False \n",
      "[CV]  n_estimators=50, min_samples_split=5, min_samples_leaf=1, max_features=sqrt, max_depth=28, bootstrap=False, total=  32.5s\n",
      "[CV] n_estimators=50, min_samples_split=5, min_samples_leaf=1, max_features=sqrt, max_depth=28, bootstrap=False \n",
      "[CV]  n_estimators=50, min_samples_split=5, min_samples_leaf=1, max_features=sqrt, max_depth=28, bootstrap=False, total=  32.6s\n",
      "[CV] n_estimators=50, min_samples_split=2, min_samples_leaf=1, max_features=auto, max_depth=24, bootstrap=False \n"
     ]
    },
    {
     "name": "stdout",
     "output_type": "stream",
     "text": [
      "[CV]  n_estimators=50, min_samples_split=2, min_samples_leaf=1, max_features=auto, max_depth=24, bootstrap=False, total= 2.3min\n",
      "[CV] n_estimators=50, min_samples_split=2, min_samples_leaf=1, max_features=auto, max_depth=24, bootstrap=False \n",
      "[CV]  n_estimators=50, min_samples_split=2, min_samples_leaf=1, max_features=auto, max_depth=24, bootstrap=False, total= 2.3min\n",
      "[CV] n_estimators=50, min_samples_split=2, min_samples_leaf=1, max_features=auto, max_depth=24, bootstrap=False \n",
      "[CV]  n_estimators=50, min_samples_split=2, min_samples_leaf=1, max_features=auto, max_depth=24, bootstrap=False, total= 2.3min\n",
      "[CV] n_estimators=20, min_samples_split=2, min_samples_leaf=4, max_features=log2, max_depth=12, bootstrap=True \n",
      "[CV]  n_estimators=20, min_samples_split=2, min_samples_leaf=4, max_features=log2, max_depth=12, bootstrap=True, total=   4.5s\n",
      "[CV] n_estimators=20, min_samples_split=2, min_samples_leaf=4, max_features=log2, max_depth=12, bootstrap=True \n",
      "[CV]  n_estimators=20, min_samples_split=2, min_samples_leaf=4, max_features=log2, max_depth=12, bootstrap=True, total=   4.4s\n",
      "[CV] n_estimators=20, min_samples_split=2, min_samples_leaf=4, max_features=log2, max_depth=12, bootstrap=True \n",
      "[CV]  n_estimators=20, min_samples_split=2, min_samples_leaf=4, max_features=log2, max_depth=12, bootstrap=True, total=   4.4s\n",
      "[CV] n_estimators=50, min_samples_split=2, min_samples_leaf=4, max_features=sqrt, max_depth=16, bootstrap=True \n",
      "[CV]  n_estimators=50, min_samples_split=2, min_samples_leaf=4, max_features=sqrt, max_depth=16, bootstrap=True, total=  15.9s\n",
      "[CV] n_estimators=50, min_samples_split=2, min_samples_leaf=4, max_features=sqrt, max_depth=16, bootstrap=True \n",
      "[CV]  n_estimators=50, min_samples_split=2, min_samples_leaf=4, max_features=sqrt, max_depth=16, bootstrap=True, total=  15.9s\n",
      "[CV] n_estimators=50, min_samples_split=2, min_samples_leaf=4, max_features=sqrt, max_depth=16, bootstrap=True \n",
      "[CV]  n_estimators=50, min_samples_split=2, min_samples_leaf=4, max_features=sqrt, max_depth=16, bootstrap=True, total=  16.0s\n",
      "[CV] n_estimators=100, min_samples_split=10, min_samples_leaf=1, max_features=sqrt, max_depth=14, bootstrap=False \n",
      "[CV]  n_estimators=100, min_samples_split=10, min_samples_leaf=1, max_features=sqrt, max_depth=14, bootstrap=False, total=  41.6s\n",
      "[CV] n_estimators=100, min_samples_split=10, min_samples_leaf=1, max_features=sqrt, max_depth=14, bootstrap=False \n",
      "[CV]  n_estimators=100, min_samples_split=10, min_samples_leaf=1, max_features=sqrt, max_depth=14, bootstrap=False, total=  41.9s\n",
      "[CV] n_estimators=100, min_samples_split=10, min_samples_leaf=1, max_features=sqrt, max_depth=14, bootstrap=False \n",
      "[CV]  n_estimators=100, min_samples_split=10, min_samples_leaf=1, max_features=sqrt, max_depth=14, bootstrap=False, total=  41.6s\n",
      "[CV] n_estimators=150, min_samples_split=2, min_samples_leaf=2, max_features=sqrt, max_depth=14, bootstrap=True \n",
      "[CV]  n_estimators=150, min_samples_split=2, min_samples_leaf=2, max_features=sqrt, max_depth=14, bootstrap=True, total=  43.7s\n",
      "[CV] n_estimators=150, min_samples_split=2, min_samples_leaf=2, max_features=sqrt, max_depth=14, bootstrap=True \n",
      "[CV]  n_estimators=150, min_samples_split=2, min_samples_leaf=2, max_features=sqrt, max_depth=14, bootstrap=True, total=  43.9s\n",
      "[CV] n_estimators=150, min_samples_split=2, min_samples_leaf=2, max_features=sqrt, max_depth=14, bootstrap=True \n",
      "[CV]  n_estimators=150, min_samples_split=2, min_samples_leaf=2, max_features=sqrt, max_depth=14, bootstrap=True, total=  43.7s\n",
      "[CV] n_estimators=100, min_samples_split=2, min_samples_leaf=2, max_features=auto, max_depth=12, bootstrap=True \n",
      "[CV]  n_estimators=100, min_samples_split=2, min_samples_leaf=2, max_features=auto, max_depth=12, bootstrap=True, total= 1.8min\n",
      "[CV] n_estimators=100, min_samples_split=2, min_samples_leaf=2, max_features=auto, max_depth=12, bootstrap=True \n",
      "[CV]  n_estimators=100, min_samples_split=2, min_samples_leaf=2, max_features=auto, max_depth=12, bootstrap=True, total= 1.8min\n",
      "[CV] n_estimators=100, min_samples_split=2, min_samples_leaf=2, max_features=auto, max_depth=12, bootstrap=True \n",
      "[CV]  n_estimators=100, min_samples_split=2, min_samples_leaf=2, max_features=auto, max_depth=12, bootstrap=True, total= 1.8min\n",
      "[CV] n_estimators=50, min_samples_split=2, min_samples_leaf=4, max_features=log2, max_depth=12, bootstrap=True \n",
      "[CV]  n_estimators=50, min_samples_split=2, min_samples_leaf=4, max_features=log2, max_depth=12, bootstrap=True, total=  11.1s\n",
      "[CV] n_estimators=50, min_samples_split=2, min_samples_leaf=4, max_features=log2, max_depth=12, bootstrap=True \n",
      "[CV]  n_estimators=50, min_samples_split=2, min_samples_leaf=4, max_features=log2, max_depth=12, bootstrap=True, total=  11.0s\n",
      "[CV] n_estimators=50, min_samples_split=2, min_samples_leaf=4, max_features=log2, max_depth=12, bootstrap=True \n",
      "[CV]  n_estimators=50, min_samples_split=2, min_samples_leaf=4, max_features=log2, max_depth=12, bootstrap=True, total=  11.1s\n",
      "[CV] n_estimators=20, min_samples_split=2, min_samples_leaf=1, max_features=log2, max_depth=None, bootstrap=True \n",
      "[CV]  n_estimators=20, min_samples_split=2, min_samples_leaf=1, max_features=log2, max_depth=None, bootstrap=True, total=   9.6s\n",
      "[CV] n_estimators=20, min_samples_split=2, min_samples_leaf=1, max_features=log2, max_depth=None, bootstrap=True \n",
      "[CV]  n_estimators=20, min_samples_split=2, min_samples_leaf=1, max_features=log2, max_depth=None, bootstrap=True, total=   9.5s\n",
      "[CV] n_estimators=20, min_samples_split=2, min_samples_leaf=1, max_features=log2, max_depth=None, bootstrap=True \n",
      "[CV]  n_estimators=20, min_samples_split=2, min_samples_leaf=1, max_features=log2, max_depth=None, bootstrap=True, total=   9.5s\n",
      "[CV] n_estimators=100, min_samples_split=10, min_samples_leaf=2, max_features=auto, max_depth=28, bootstrap=False \n",
      "[CV]  n_estimators=100, min_samples_split=10, min_samples_leaf=2, max_features=auto, max_depth=28, bootstrap=False, total= 4.2min\n",
      "[CV] n_estimators=100, min_samples_split=10, min_samples_leaf=2, max_features=auto, max_depth=28, bootstrap=False \n",
      "[CV]  n_estimators=100, min_samples_split=10, min_samples_leaf=2, max_features=auto, max_depth=28, bootstrap=False, total= 4.1min\n",
      "[CV] n_estimators=100, min_samples_split=10, min_samples_leaf=2, max_features=auto, max_depth=28, bootstrap=False \n",
      "[CV]  n_estimators=100, min_samples_split=10, min_samples_leaf=2, max_features=auto, max_depth=28, bootstrap=False, total= 4.1min\n",
      "[CV] n_estimators=150, min_samples_split=5, min_samples_leaf=2, max_features=sqrt, max_depth=12, bootstrap=False \n",
      "[CV]  n_estimators=150, min_samples_split=5, min_samples_leaf=2, max_features=sqrt, max_depth=12, bootstrap=False, total=  55.1s\n",
      "[CV] n_estimators=150, min_samples_split=5, min_samples_leaf=2, max_features=sqrt, max_depth=12, bootstrap=False \n",
      "[CV]  n_estimators=150, min_samples_split=5, min_samples_leaf=2, max_features=sqrt, max_depth=12, bootstrap=False, total=  55.4s\n",
      "[CV] n_estimators=150, min_samples_split=5, min_samples_leaf=2, max_features=sqrt, max_depth=12, bootstrap=False \n",
      "[CV]  n_estimators=150, min_samples_split=5, min_samples_leaf=2, max_features=sqrt, max_depth=12, bootstrap=False, total=  55.4s\n",
      "[CV] n_estimators=150, min_samples_split=2, min_samples_leaf=2, max_features=log2, max_depth=22, bootstrap=False \n",
      "[CV]  n_estimators=150, min_samples_split=2, min_samples_leaf=2, max_features=log2, max_depth=22, bootstrap=False, total= 1.2min\n",
      "[CV] n_estimators=150, min_samples_split=2, min_samples_leaf=2, max_features=log2, max_depth=22, bootstrap=False \n",
      "[CV]  n_estimators=150, min_samples_split=2, min_samples_leaf=2, max_features=log2, max_depth=22, bootstrap=False, total= 1.2min\n",
      "[CV] n_estimators=150, min_samples_split=2, min_samples_leaf=2, max_features=log2, max_depth=22, bootstrap=False \n",
      "[CV]  n_estimators=150, min_samples_split=2, min_samples_leaf=2, max_features=log2, max_depth=22, bootstrap=False, total= 1.2min\n",
      "[CV] n_estimators=50, min_samples_split=10, min_samples_leaf=4, max_features=log2, max_depth=22, bootstrap=True \n",
      "[CV]  n_estimators=50, min_samples_split=10, min_samples_leaf=4, max_features=log2, max_depth=22, bootstrap=True, total=  15.4s\n",
      "[CV] n_estimators=50, min_samples_split=10, min_samples_leaf=4, max_features=log2, max_depth=22, bootstrap=True \n"
     ]
    },
    {
     "name": "stdout",
     "output_type": "stream",
     "text": [
      "[CV]  n_estimators=50, min_samples_split=10, min_samples_leaf=4, max_features=log2, max_depth=22, bootstrap=True, total=  15.1s\n",
      "[CV] n_estimators=50, min_samples_split=10, min_samples_leaf=4, max_features=log2, max_depth=22, bootstrap=True \n",
      "[CV]  n_estimators=50, min_samples_split=10, min_samples_leaf=4, max_features=log2, max_depth=22, bootstrap=True, total=  15.1s\n",
      "[CV] n_estimators=200, min_samples_split=10, min_samples_leaf=4, max_features=log2, max_depth=18, bootstrap=False \n",
      "[CV]  n_estimators=200, min_samples_split=10, min_samples_leaf=4, max_features=log2, max_depth=18, bootstrap=False, total= 1.4min\n",
      "[CV] n_estimators=200, min_samples_split=10, min_samples_leaf=4, max_features=log2, max_depth=18, bootstrap=False \n",
      "[CV]  n_estimators=200, min_samples_split=10, min_samples_leaf=4, max_features=log2, max_depth=18, bootstrap=False, total= 1.4min\n",
      "[CV] n_estimators=200, min_samples_split=10, min_samples_leaf=4, max_features=log2, max_depth=18, bootstrap=False \n",
      "[CV]  n_estimators=200, min_samples_split=10, min_samples_leaf=4, max_features=log2, max_depth=18, bootstrap=False, total= 1.4min\n",
      "[CV] n_estimators=200, min_samples_split=10, min_samples_leaf=4, max_features=sqrt, max_depth=18, bootstrap=False \n",
      "[CV]  n_estimators=200, min_samples_split=10, min_samples_leaf=4, max_features=sqrt, max_depth=18, bootstrap=False, total= 1.6min\n",
      "[CV] n_estimators=200, min_samples_split=10, min_samples_leaf=4, max_features=sqrt, max_depth=18, bootstrap=False \n",
      "[CV]  n_estimators=200, min_samples_split=10, min_samples_leaf=4, max_features=sqrt, max_depth=18, bootstrap=False, total= 1.6min\n",
      "[CV] n_estimators=200, min_samples_split=10, min_samples_leaf=4, max_features=sqrt, max_depth=18, bootstrap=False \n",
      "[CV]  n_estimators=200, min_samples_split=10, min_samples_leaf=4, max_features=sqrt, max_depth=18, bootstrap=False, total= 1.6min\n",
      "[CV] n_estimators=100, min_samples_split=2, min_samples_leaf=2, max_features=log2, max_depth=10, bootstrap=True \n",
      "[CV]  n_estimators=100, min_samples_split=2, min_samples_leaf=2, max_features=log2, max_depth=10, bootstrap=True, total=  18.9s\n",
      "[CV] n_estimators=100, min_samples_split=2, min_samples_leaf=2, max_features=log2, max_depth=10, bootstrap=True \n",
      "[CV]  n_estimators=100, min_samples_split=2, min_samples_leaf=2, max_features=log2, max_depth=10, bootstrap=True, total=  19.2s\n",
      "[CV] n_estimators=100, min_samples_split=2, min_samples_leaf=2, max_features=log2, max_depth=10, bootstrap=True \n",
      "[CV]  n_estimators=100, min_samples_split=2, min_samples_leaf=2, max_features=log2, max_depth=10, bootstrap=True, total=  19.2s\n",
      "[CV] n_estimators=200, min_samples_split=2, min_samples_leaf=2, max_features=sqrt, max_depth=None, bootstrap=True \n",
      "[CV]  n_estimators=200, min_samples_split=2, min_samples_leaf=2, max_features=sqrt, max_depth=None, bootstrap=True, total= 1.4min\n",
      "[CV] n_estimators=200, min_samples_split=2, min_samples_leaf=2, max_features=sqrt, max_depth=None, bootstrap=True \n",
      "[CV]  n_estimators=200, min_samples_split=2, min_samples_leaf=2, max_features=sqrt, max_depth=None, bootstrap=True, total= 1.4min\n",
      "[CV] n_estimators=200, min_samples_split=2, min_samples_leaf=2, max_features=sqrt, max_depth=None, bootstrap=True \n",
      "[CV]  n_estimators=200, min_samples_split=2, min_samples_leaf=2, max_features=sqrt, max_depth=None, bootstrap=True, total= 1.4min\n",
      "[CV] n_estimators=200, min_samples_split=5, min_samples_leaf=1, max_features=log2, max_depth=18, bootstrap=True \n",
      "[CV]  n_estimators=200, min_samples_split=5, min_samples_leaf=1, max_features=log2, max_depth=18, bootstrap=True, total= 1.0min\n",
      "[CV] n_estimators=200, min_samples_split=5, min_samples_leaf=1, max_features=log2, max_depth=18, bootstrap=True \n",
      "[CV]  n_estimators=200, min_samples_split=5, min_samples_leaf=1, max_features=log2, max_depth=18, bootstrap=True, total= 1.0min\n",
      "[CV] n_estimators=200, min_samples_split=5, min_samples_leaf=1, max_features=log2, max_depth=18, bootstrap=True \n",
      "[CV]  n_estimators=200, min_samples_split=5, min_samples_leaf=1, max_features=log2, max_depth=18, bootstrap=True, total= 1.0min\n",
      "[CV] n_estimators=20, min_samples_split=10, min_samples_leaf=1, max_features=sqrt, max_depth=18, bootstrap=False \n",
      "[CV]  n_estimators=20, min_samples_split=10, min_samples_leaf=1, max_features=sqrt, max_depth=18, bootstrap=False, total=  10.3s\n",
      "[CV] n_estimators=20, min_samples_split=10, min_samples_leaf=1, max_features=sqrt, max_depth=18, bootstrap=False \n",
      "[CV]  n_estimators=20, min_samples_split=10, min_samples_leaf=1, max_features=sqrt, max_depth=18, bootstrap=False, total=  10.3s\n",
      "[CV] n_estimators=20, min_samples_split=10, min_samples_leaf=1, max_features=sqrt, max_depth=18, bootstrap=False \n",
      "[CV]  n_estimators=20, min_samples_split=10, min_samples_leaf=1, max_features=sqrt, max_depth=18, bootstrap=False, total=  10.1s\n",
      "[CV] n_estimators=50, min_samples_split=5, min_samples_leaf=2, max_features=log2, max_depth=28, bootstrap=False \n",
      "[CV]  n_estimators=50, min_samples_split=5, min_samples_leaf=2, max_features=log2, max_depth=28, bootstrap=False, total=  26.1s\n",
      "[CV] n_estimators=50, min_samples_split=5, min_samples_leaf=2, max_features=log2, max_depth=28, bootstrap=False \n",
      "[CV]  n_estimators=50, min_samples_split=5, min_samples_leaf=2, max_features=log2, max_depth=28, bootstrap=False, total=  26.6s\n",
      "[CV] n_estimators=50, min_samples_split=5, min_samples_leaf=2, max_features=log2, max_depth=28, bootstrap=False \n",
      "[CV]  n_estimators=50, min_samples_split=5, min_samples_leaf=2, max_features=log2, max_depth=28, bootstrap=False, total=  26.3s\n",
      "[CV] n_estimators=200, min_samples_split=2, min_samples_leaf=1, max_features=sqrt, max_depth=12, bootstrap=False \n",
      "[CV]  n_estimators=200, min_samples_split=2, min_samples_leaf=1, max_features=sqrt, max_depth=12, bootstrap=False, total= 1.2min\n",
      "[CV] n_estimators=200, min_samples_split=2, min_samples_leaf=1, max_features=sqrt, max_depth=12, bootstrap=False \n",
      "[CV]  n_estimators=200, min_samples_split=2, min_samples_leaf=1, max_features=sqrt, max_depth=12, bootstrap=False, total= 1.2min\n",
      "[CV] n_estimators=200, min_samples_split=2, min_samples_leaf=1, max_features=sqrt, max_depth=12, bootstrap=False \n",
      "[CV]  n_estimators=200, min_samples_split=2, min_samples_leaf=1, max_features=sqrt, max_depth=12, bootstrap=False, total= 1.2min\n",
      "[CV] n_estimators=200, min_samples_split=10, min_samples_leaf=2, max_features=auto, max_depth=16, bootstrap=True \n",
      "[CV]  n_estimators=200, min_samples_split=10, min_samples_leaf=2, max_features=auto, max_depth=16, bootstrap=True, total= 4.5min\n",
      "[CV] n_estimators=200, min_samples_split=10, min_samples_leaf=2, max_features=auto, max_depth=16, bootstrap=True \n",
      "[CV]  n_estimators=200, min_samples_split=10, min_samples_leaf=2, max_features=auto, max_depth=16, bootstrap=True, total= 4.5min\n",
      "[CV] n_estimators=200, min_samples_split=10, min_samples_leaf=2, max_features=auto, max_depth=16, bootstrap=True \n",
      "[CV]  n_estimators=200, min_samples_split=10, min_samples_leaf=2, max_features=auto, max_depth=16, bootstrap=True, total= 4.5min\n",
      "[CV] n_estimators=50, min_samples_split=5, min_samples_leaf=2, max_features=log2, max_depth=None, bootstrap=True \n",
      "[CV]  n_estimators=50, min_samples_split=5, min_samples_leaf=2, max_features=log2, max_depth=None, bootstrap=True, total=  17.6s\n",
      "[CV] n_estimators=50, min_samples_split=5, min_samples_leaf=2, max_features=log2, max_depth=None, bootstrap=True \n",
      "[CV]  n_estimators=50, min_samples_split=5, min_samples_leaf=2, max_features=log2, max_depth=None, bootstrap=True, total=  17.6s\n",
      "[CV] n_estimators=50, min_samples_split=5, min_samples_leaf=2, max_features=log2, max_depth=None, bootstrap=True \n",
      "[CV]  n_estimators=50, min_samples_split=5, min_samples_leaf=2, max_features=log2, max_depth=None, bootstrap=True, total=  17.9s\n",
      "[CV] n_estimators=150, min_samples_split=2, min_samples_leaf=1, max_features=log2, max_depth=18, bootstrap=False \n",
      "[CV]  n_estimators=150, min_samples_split=2, min_samples_leaf=1, max_features=log2, max_depth=18, bootstrap=False, total= 1.1min\n",
      "[CV] n_estimators=150, min_samples_split=2, min_samples_leaf=1, max_features=log2, max_depth=18, bootstrap=False \n",
      "[CV]  n_estimators=150, min_samples_split=2, min_samples_leaf=1, max_features=log2, max_depth=18, bootstrap=False, total= 1.1min\n",
      "[CV] n_estimators=150, min_samples_split=2, min_samples_leaf=1, max_features=log2, max_depth=18, bootstrap=False \n"
     ]
    },
    {
     "name": "stdout",
     "output_type": "stream",
     "text": [
      "[CV]  n_estimators=150, min_samples_split=2, min_samples_leaf=1, max_features=log2, max_depth=18, bootstrap=False, total= 1.1min\n",
      "[CV] n_estimators=100, min_samples_split=10, min_samples_leaf=1, max_features=auto, max_depth=30, bootstrap=True \n",
      "[CV]  n_estimators=100, min_samples_split=10, min_samples_leaf=1, max_features=auto, max_depth=30, bootstrap=True, total= 2.7min\n",
      "[CV] n_estimators=100, min_samples_split=10, min_samples_leaf=1, max_features=auto, max_depth=30, bootstrap=True \n",
      "[CV]  n_estimators=100, min_samples_split=10, min_samples_leaf=1, max_features=auto, max_depth=30, bootstrap=True, total= 2.8min\n",
      "[CV] n_estimators=100, min_samples_split=10, min_samples_leaf=1, max_features=auto, max_depth=30, bootstrap=True \n",
      "[CV]  n_estimators=100, min_samples_split=10, min_samples_leaf=1, max_features=auto, max_depth=30, bootstrap=True, total= 2.8min\n",
      "[CV] n_estimators=150, min_samples_split=2, min_samples_leaf=2, max_features=sqrt, max_depth=28, bootstrap=True \n",
      "[CV]  n_estimators=150, min_samples_split=2, min_samples_leaf=2, max_features=sqrt, max_depth=28, bootstrap=True, total= 1.0min\n",
      "[CV] n_estimators=150, min_samples_split=2, min_samples_leaf=2, max_features=sqrt, max_depth=28, bootstrap=True \n",
      "[CV]  n_estimators=150, min_samples_split=2, min_samples_leaf=2, max_features=sqrt, max_depth=28, bootstrap=True, total= 1.0min\n",
      "[CV] n_estimators=150, min_samples_split=2, min_samples_leaf=2, max_features=sqrt, max_depth=28, bootstrap=True \n",
      "[CV]  n_estimators=150, min_samples_split=2, min_samples_leaf=2, max_features=sqrt, max_depth=28, bootstrap=True, total= 1.1min\n",
      "[CV] n_estimators=20, min_samples_split=5, min_samples_leaf=4, max_features=sqrt, max_depth=20, bootstrap=True \n",
      "[CV]  n_estimators=20, min_samples_split=5, min_samples_leaf=4, max_features=sqrt, max_depth=20, bootstrap=True, total=   7.2s\n",
      "[CV] n_estimators=20, min_samples_split=5, min_samples_leaf=4, max_features=sqrt, max_depth=20, bootstrap=True \n",
      "[CV]  n_estimators=20, min_samples_split=5, min_samples_leaf=4, max_features=sqrt, max_depth=20, bootstrap=True, total=   7.2s\n",
      "[CV] n_estimators=20, min_samples_split=5, min_samples_leaf=4, max_features=sqrt, max_depth=20, bootstrap=True \n",
      "[CV]  n_estimators=20, min_samples_split=5, min_samples_leaf=4, max_features=sqrt, max_depth=20, bootstrap=True, total=   7.3s\n",
      "[CV] n_estimators=100, min_samples_split=2, min_samples_leaf=4, max_features=auto, max_depth=28, bootstrap=True \n",
      "[CV]  n_estimators=100, min_samples_split=2, min_samples_leaf=4, max_features=auto, max_depth=28, bootstrap=True, total= 2.6min\n",
      "[CV] n_estimators=100, min_samples_split=2, min_samples_leaf=4, max_features=auto, max_depth=28, bootstrap=True \n",
      "[CV]  n_estimators=100, min_samples_split=2, min_samples_leaf=4, max_features=auto, max_depth=28, bootstrap=True, total= 2.6min\n",
      "[CV] n_estimators=100, min_samples_split=2, min_samples_leaf=4, max_features=auto, max_depth=28, bootstrap=True \n",
      "[CV]  n_estimators=100, min_samples_split=2, min_samples_leaf=4, max_features=auto, max_depth=28, bootstrap=True, total= 2.6min\n",
      "[CV] n_estimators=20, min_samples_split=10, min_samples_leaf=4, max_features=log2, max_depth=None, bootstrap=False \n",
      "[CV]  n_estimators=20, min_samples_split=10, min_samples_leaf=4, max_features=log2, max_depth=None, bootstrap=False, total=   9.3s\n",
      "[CV] n_estimators=20, min_samples_split=10, min_samples_leaf=4, max_features=log2, max_depth=None, bootstrap=False \n",
      "[CV]  n_estimators=20, min_samples_split=10, min_samples_leaf=4, max_features=log2, max_depth=None, bootstrap=False, total=   9.2s\n",
      "[CV] n_estimators=20, min_samples_split=10, min_samples_leaf=4, max_features=log2, max_depth=None, bootstrap=False \n",
      "[CV]  n_estimators=20, min_samples_split=10, min_samples_leaf=4, max_features=log2, max_depth=None, bootstrap=False, total=   9.1s\n",
      "[CV] n_estimators=150, min_samples_split=10, min_samples_leaf=1, max_features=log2, max_depth=12, bootstrap=True \n",
      "[CV]  n_estimators=150, min_samples_split=10, min_samples_leaf=1, max_features=log2, max_depth=12, bootstrap=True, total=  32.9s\n",
      "[CV] n_estimators=150, min_samples_split=10, min_samples_leaf=1, max_features=log2, max_depth=12, bootstrap=True \n",
      "[CV]  n_estimators=150, min_samples_split=10, min_samples_leaf=1, max_features=log2, max_depth=12, bootstrap=True, total=  32.9s\n",
      "[CV] n_estimators=150, min_samples_split=10, min_samples_leaf=1, max_features=log2, max_depth=12, bootstrap=True \n",
      "[CV]  n_estimators=150, min_samples_split=10, min_samples_leaf=1, max_features=log2, max_depth=12, bootstrap=True, total=  32.8s\n",
      "[CV] n_estimators=150, min_samples_split=2, min_samples_leaf=2, max_features=log2, max_depth=20, bootstrap=True \n",
      "[CV]  n_estimators=150, min_samples_split=2, min_samples_leaf=2, max_features=log2, max_depth=20, bootstrap=True, total=  47.9s\n",
      "[CV] n_estimators=150, min_samples_split=2, min_samples_leaf=2, max_features=log2, max_depth=20, bootstrap=True \n",
      "[CV]  n_estimators=150, min_samples_split=2, min_samples_leaf=2, max_features=log2, max_depth=20, bootstrap=True, total=  47.6s\n",
      "[CV] n_estimators=150, min_samples_split=2, min_samples_leaf=2, max_features=log2, max_depth=20, bootstrap=True \n",
      "[CV]  n_estimators=150, min_samples_split=2, min_samples_leaf=2, max_features=log2, max_depth=20, bootstrap=True, total=  47.5s\n",
      "[CV] n_estimators=200, min_samples_split=10, min_samples_leaf=2, max_features=auto, max_depth=22, bootstrap=True \n",
      "[CV]  n_estimators=200, min_samples_split=10, min_samples_leaf=2, max_features=auto, max_depth=22, bootstrap=True, total= 5.2min\n",
      "[CV] n_estimators=200, min_samples_split=10, min_samples_leaf=2, max_features=auto, max_depth=22, bootstrap=True \n",
      "[CV]  n_estimators=200, min_samples_split=10, min_samples_leaf=2, max_features=auto, max_depth=22, bootstrap=True, total= 5.3min\n",
      "[CV] n_estimators=200, min_samples_split=10, min_samples_leaf=2, max_features=auto, max_depth=22, bootstrap=True \n",
      "[CV]  n_estimators=200, min_samples_split=10, min_samples_leaf=2, max_features=auto, max_depth=22, bootstrap=True, total= 5.2min\n",
      "[CV] n_estimators=100, min_samples_split=2, min_samples_leaf=2, max_features=sqrt, max_depth=22, bootstrap=False \n",
      "[CV]  n_estimators=100, min_samples_split=2, min_samples_leaf=2, max_features=sqrt, max_depth=22, bootstrap=False, total=  58.4s\n",
      "[CV] n_estimators=100, min_samples_split=2, min_samples_leaf=2, max_features=sqrt, max_depth=22, bootstrap=False \n",
      "[CV]  n_estimators=100, min_samples_split=2, min_samples_leaf=2, max_features=sqrt, max_depth=22, bootstrap=False, total=  58.1s\n",
      "[CV] n_estimators=100, min_samples_split=2, min_samples_leaf=2, max_features=sqrt, max_depth=22, bootstrap=False \n",
      "[CV]  n_estimators=100, min_samples_split=2, min_samples_leaf=2, max_features=sqrt, max_depth=22, bootstrap=False, total=  57.9s\n",
      "[CV] n_estimators=200, min_samples_split=2, min_samples_leaf=4, max_features=sqrt, max_depth=28, bootstrap=False \n",
      "[CV]  n_estimators=200, min_samples_split=2, min_samples_leaf=4, max_features=sqrt, max_depth=28, bootstrap=False, total= 1.8min\n",
      "[CV] n_estimators=200, min_samples_split=2, min_samples_leaf=4, max_features=sqrt, max_depth=28, bootstrap=False \n",
      "[CV]  n_estimators=200, min_samples_split=2, min_samples_leaf=4, max_features=sqrt, max_depth=28, bootstrap=False, total= 1.9min\n",
      "[CV] n_estimators=200, min_samples_split=2, min_samples_leaf=4, max_features=sqrt, max_depth=28, bootstrap=False \n",
      "[CV]  n_estimators=200, min_samples_split=2, min_samples_leaf=4, max_features=sqrt, max_depth=28, bootstrap=False, total= 1.8min\n",
      "[CV] n_estimators=150, min_samples_split=10, min_samples_leaf=1, max_features=sqrt, max_depth=26, bootstrap=True \n",
      "[CV]  n_estimators=150, min_samples_split=10, min_samples_leaf=1, max_features=sqrt, max_depth=26, bootstrap=True, total=  58.2s\n",
      "[CV] n_estimators=150, min_samples_split=10, min_samples_leaf=1, max_features=sqrt, max_depth=26, bootstrap=True \n",
      "[CV]  n_estimators=150, min_samples_split=10, min_samples_leaf=1, max_features=sqrt, max_depth=26, bootstrap=True, total=  58.7s\n",
      "[CV] n_estimators=150, min_samples_split=10, min_samples_leaf=1, max_features=sqrt, max_depth=26, bootstrap=True \n",
      "[CV]  n_estimators=150, min_samples_split=10, min_samples_leaf=1, max_features=sqrt, max_depth=26, bootstrap=True, total=  59.9s\n",
      "[CV] n_estimators=200, min_samples_split=5, min_samples_leaf=1, max_features=sqrt, max_depth=16, bootstrap=False \n"
     ]
    },
    {
     "name": "stdout",
     "output_type": "stream",
     "text": [
      "[CV]  n_estimators=200, min_samples_split=5, min_samples_leaf=1, max_features=sqrt, max_depth=16, bootstrap=False, total= 1.6min\n",
      "[CV] n_estimators=200, min_samples_split=5, min_samples_leaf=1, max_features=sqrt, max_depth=16, bootstrap=False \n",
      "[CV]  n_estimators=200, min_samples_split=5, min_samples_leaf=1, max_features=sqrt, max_depth=16, bootstrap=False, total= 1.6min\n",
      "[CV] n_estimators=200, min_samples_split=5, min_samples_leaf=1, max_features=sqrt, max_depth=16, bootstrap=False \n",
      "[CV]  n_estimators=200, min_samples_split=5, min_samples_leaf=1, max_features=sqrt, max_depth=16, bootstrap=False, total= 1.5min\n",
      "[CV] n_estimators=150, min_samples_split=2, min_samples_leaf=2, max_features=auto, max_depth=10, bootstrap=True \n",
      "[CV]  n_estimators=150, min_samples_split=2, min_samples_leaf=2, max_features=auto, max_depth=10, bootstrap=True, total= 2.4min\n",
      "[CV] n_estimators=150, min_samples_split=2, min_samples_leaf=2, max_features=auto, max_depth=10, bootstrap=True \n",
      "[CV]  n_estimators=150, min_samples_split=2, min_samples_leaf=2, max_features=auto, max_depth=10, bootstrap=True, total= 2.4min\n",
      "[CV] n_estimators=150, min_samples_split=2, min_samples_leaf=2, max_features=auto, max_depth=10, bootstrap=True \n",
      "[CV]  n_estimators=150, min_samples_split=2, min_samples_leaf=2, max_features=auto, max_depth=10, bootstrap=True, total= 2.4min\n",
      "[CV] n_estimators=150, min_samples_split=5, min_samples_leaf=1, max_features=auto, max_depth=30, bootstrap=True \n",
      "[CV]  n_estimators=150, min_samples_split=5, min_samples_leaf=1, max_features=auto, max_depth=30, bootstrap=True, total= 4.4min\n",
      "[CV] n_estimators=150, min_samples_split=5, min_samples_leaf=1, max_features=auto, max_depth=30, bootstrap=True \n",
      "[CV]  n_estimators=150, min_samples_split=5, min_samples_leaf=1, max_features=auto, max_depth=30, bootstrap=True, total= 4.5min\n",
      "[CV] n_estimators=150, min_samples_split=5, min_samples_leaf=1, max_features=auto, max_depth=30, bootstrap=True \n",
      "[CV]  n_estimators=150, min_samples_split=5, min_samples_leaf=1, max_features=auto, max_depth=30, bootstrap=True, total= 4.4min\n",
      "[CV] n_estimators=50, min_samples_split=10, min_samples_leaf=2, max_features=sqrt, max_depth=20, bootstrap=True \n",
      "[CV]  n_estimators=50, min_samples_split=10, min_samples_leaf=2, max_features=sqrt, max_depth=20, bootstrap=True, total=  17.8s\n",
      "[CV] n_estimators=50, min_samples_split=10, min_samples_leaf=2, max_features=sqrt, max_depth=20, bootstrap=True \n",
      "[CV]  n_estimators=50, min_samples_split=10, min_samples_leaf=2, max_features=sqrt, max_depth=20, bootstrap=True, total=  18.0s\n",
      "[CV] n_estimators=50, min_samples_split=10, min_samples_leaf=2, max_features=sqrt, max_depth=20, bootstrap=True \n",
      "[CV]  n_estimators=50, min_samples_split=10, min_samples_leaf=2, max_features=sqrt, max_depth=20, bootstrap=True, total=  18.0s\n",
      "[CV] n_estimators=20, min_samples_split=5, min_samples_leaf=2, max_features=log2, max_depth=28, bootstrap=False \n",
      "[CV]  n_estimators=20, min_samples_split=5, min_samples_leaf=2, max_features=log2, max_depth=28, bootstrap=False, total=  10.4s\n",
      "[CV] n_estimators=20, min_samples_split=5, min_samples_leaf=2, max_features=log2, max_depth=28, bootstrap=False \n",
      "[CV]  n_estimators=20, min_samples_split=5, min_samples_leaf=2, max_features=log2, max_depth=28, bootstrap=False, total=  10.3s\n",
      "[CV] n_estimators=20, min_samples_split=5, min_samples_leaf=2, max_features=log2, max_depth=28, bootstrap=False \n",
      "[CV]  n_estimators=20, min_samples_split=5, min_samples_leaf=2, max_features=log2, max_depth=28, bootstrap=False, total=  10.3s\n",
      "[CV] n_estimators=20, min_samples_split=5, min_samples_leaf=1, max_features=sqrt, max_depth=26, bootstrap=True \n",
      "[CV]  n_estimators=20, min_samples_split=5, min_samples_leaf=1, max_features=sqrt, max_depth=26, bootstrap=True, total=   8.5s\n",
      "[CV] n_estimators=20, min_samples_split=5, min_samples_leaf=1, max_features=sqrt, max_depth=26, bootstrap=True \n",
      "[CV]  n_estimators=20, min_samples_split=5, min_samples_leaf=1, max_features=sqrt, max_depth=26, bootstrap=True, total=   8.6s\n",
      "[CV] n_estimators=20, min_samples_split=5, min_samples_leaf=1, max_features=sqrt, max_depth=26, bootstrap=True \n",
      "[CV]  n_estimators=20, min_samples_split=5, min_samples_leaf=1, max_features=sqrt, max_depth=26, bootstrap=True, total=   8.7s\n",
      "[CV] n_estimators=200, min_samples_split=2, min_samples_leaf=1, max_features=log2, max_depth=22, bootstrap=False \n",
      "[CV]  n_estimators=200, min_samples_split=2, min_samples_leaf=1, max_features=log2, max_depth=22, bootstrap=False, total= 1.9min\n",
      "[CV] n_estimators=200, min_samples_split=2, min_samples_leaf=1, max_features=log2, max_depth=22, bootstrap=False \n",
      "[CV]  n_estimators=200, min_samples_split=2, min_samples_leaf=1, max_features=log2, max_depth=22, bootstrap=False, total= 1.8min\n",
      "[CV] n_estimators=200, min_samples_split=2, min_samples_leaf=1, max_features=log2, max_depth=22, bootstrap=False \n",
      "[CV]  n_estimators=200, min_samples_split=2, min_samples_leaf=1, max_features=log2, max_depth=22, bootstrap=False, total= 1.9min\n",
      "[CV] n_estimators=100, min_samples_split=2, min_samples_leaf=2, max_features=sqrt, max_depth=30, bootstrap=True \n",
      "[CV]  n_estimators=100, min_samples_split=2, min_samples_leaf=2, max_features=sqrt, max_depth=30, bootstrap=True, total=  42.7s\n",
      "[CV] n_estimators=100, min_samples_split=2, min_samples_leaf=2, max_features=sqrt, max_depth=30, bootstrap=True \n",
      "[CV]  n_estimators=100, min_samples_split=2, min_samples_leaf=2, max_features=sqrt, max_depth=30, bootstrap=True, total=  42.7s\n",
      "[CV] n_estimators=100, min_samples_split=2, min_samples_leaf=2, max_features=sqrt, max_depth=30, bootstrap=True \n",
      "[CV]  n_estimators=100, min_samples_split=2, min_samples_leaf=2, max_features=sqrt, max_depth=30, bootstrap=True, total=  42.3s\n",
      "[CV] n_estimators=50, min_samples_split=5, min_samples_leaf=2, max_features=log2, max_depth=10, bootstrap=False \n",
      "[CV]  n_estimators=50, min_samples_split=5, min_samples_leaf=2, max_features=log2, max_depth=10, bootstrap=False, total=  13.6s\n",
      "[CV] n_estimators=50, min_samples_split=5, min_samples_leaf=2, max_features=log2, max_depth=10, bootstrap=False \n",
      "[CV]  n_estimators=50, min_samples_split=5, min_samples_leaf=2, max_features=log2, max_depth=10, bootstrap=False, total=  13.6s\n",
      "[CV] n_estimators=50, min_samples_split=5, min_samples_leaf=2, max_features=log2, max_depth=10, bootstrap=False \n",
      "[CV]  n_estimators=50, min_samples_split=5, min_samples_leaf=2, max_features=log2, max_depth=10, bootstrap=False, total=  13.6s\n",
      "[CV] n_estimators=100, min_samples_split=2, min_samples_leaf=1, max_features=auto, max_depth=10, bootstrap=True \n",
      "[CV]  n_estimators=100, min_samples_split=2, min_samples_leaf=1, max_features=auto, max_depth=10, bootstrap=True, total= 1.6min\n",
      "[CV] n_estimators=100, min_samples_split=2, min_samples_leaf=1, max_features=auto, max_depth=10, bootstrap=True \n",
      "[CV]  n_estimators=100, min_samples_split=2, min_samples_leaf=1, max_features=auto, max_depth=10, bootstrap=True, total= 1.6min\n",
      "[CV] n_estimators=100, min_samples_split=2, min_samples_leaf=1, max_features=auto, max_depth=10, bootstrap=True \n",
      "[CV]  n_estimators=100, min_samples_split=2, min_samples_leaf=1, max_features=auto, max_depth=10, bootstrap=True, total= 1.6min\n",
      "[CV] n_estimators=20, min_samples_split=10, min_samples_leaf=4, max_features=log2, max_depth=20, bootstrap=True \n",
      "[CV]  n_estimators=20, min_samples_split=10, min_samples_leaf=4, max_features=log2, max_depth=20, bootstrap=True, total=   6.3s\n",
      "[CV] n_estimators=20, min_samples_split=10, min_samples_leaf=4, max_features=log2, max_depth=20, bootstrap=True \n",
      "[CV]  n_estimators=20, min_samples_split=10, min_samples_leaf=4, max_features=log2, max_depth=20, bootstrap=True, total=   6.1s\n",
      "[CV] n_estimators=20, min_samples_split=10, min_samples_leaf=4, max_features=log2, max_depth=20, bootstrap=True \n",
      "[CV]  n_estimators=20, min_samples_split=10, min_samples_leaf=4, max_features=log2, max_depth=20, bootstrap=True, total=   6.1s\n",
      "[CV] n_estimators=20, min_samples_split=5, min_samples_leaf=2, max_features=auto, max_depth=24, bootstrap=False \n",
      "[CV]  n_estimators=20, min_samples_split=5, min_samples_leaf=2, max_features=auto, max_depth=24, bootstrap=False, total=  52.0s\n",
      "[CV] n_estimators=20, min_samples_split=5, min_samples_leaf=2, max_features=auto, max_depth=24, bootstrap=False \n"
     ]
    },
    {
     "name": "stdout",
     "output_type": "stream",
     "text": [
      "[CV]  n_estimators=20, min_samples_split=5, min_samples_leaf=2, max_features=auto, max_depth=24, bootstrap=False, total=  52.4s\n",
      "[CV] n_estimators=20, min_samples_split=5, min_samples_leaf=2, max_features=auto, max_depth=24, bootstrap=False \n",
      "[CV]  n_estimators=20, min_samples_split=5, min_samples_leaf=2, max_features=auto, max_depth=24, bootstrap=False, total=  51.4s\n",
      "[CV] n_estimators=100, min_samples_split=5, min_samples_leaf=4, max_features=log2, max_depth=10, bootstrap=False \n",
      "[CV]  n_estimators=100, min_samples_split=5, min_samples_leaf=4, max_features=log2, max_depth=10, bootstrap=False, total=  26.8s\n",
      "[CV] n_estimators=100, min_samples_split=5, min_samples_leaf=4, max_features=log2, max_depth=10, bootstrap=False \n",
      "[CV]  n_estimators=100, min_samples_split=5, min_samples_leaf=4, max_features=log2, max_depth=10, bootstrap=False, total=  27.0s\n",
      "[CV] n_estimators=100, min_samples_split=5, min_samples_leaf=4, max_features=log2, max_depth=10, bootstrap=False \n",
      "[CV]  n_estimators=100, min_samples_split=5, min_samples_leaf=4, max_features=log2, max_depth=10, bootstrap=False, total=  26.5s\n",
      "[CV] n_estimators=50, min_samples_split=5, min_samples_leaf=2, max_features=auto, max_depth=30, bootstrap=True \n",
      "[CV]  n_estimators=50, min_samples_split=5, min_samples_leaf=2, max_features=auto, max_depth=30, bootstrap=True, total= 1.4min\n",
      "[CV] n_estimators=50, min_samples_split=5, min_samples_leaf=2, max_features=auto, max_depth=30, bootstrap=True \n",
      "[CV]  n_estimators=50, min_samples_split=5, min_samples_leaf=2, max_features=auto, max_depth=30, bootstrap=True, total= 1.4min\n",
      "[CV] n_estimators=50, min_samples_split=5, min_samples_leaf=2, max_features=auto, max_depth=30, bootstrap=True \n",
      "[CV]  n_estimators=50, min_samples_split=5, min_samples_leaf=2, max_features=auto, max_depth=30, bootstrap=True, total= 1.4min\n",
      "[CV] n_estimators=50, min_samples_split=2, min_samples_leaf=2, max_features=sqrt, max_depth=24, bootstrap=True \n",
      "[CV]  n_estimators=50, min_samples_split=2, min_samples_leaf=2, max_features=sqrt, max_depth=24, bootstrap=True, total=  20.5s\n",
      "[CV] n_estimators=50, min_samples_split=2, min_samples_leaf=2, max_features=sqrt, max_depth=24, bootstrap=True \n",
      "[CV]  n_estimators=50, min_samples_split=2, min_samples_leaf=2, max_features=sqrt, max_depth=24, bootstrap=True, total=  20.6s\n",
      "[CV] n_estimators=50, min_samples_split=2, min_samples_leaf=2, max_features=sqrt, max_depth=24, bootstrap=True \n",
      "[CV]  n_estimators=50, min_samples_split=2, min_samples_leaf=2, max_features=sqrt, max_depth=24, bootstrap=True, total=  20.9s\n",
      "[CV] n_estimators=200, min_samples_split=2, min_samples_leaf=1, max_features=auto, max_depth=26, bootstrap=True \n",
      "[CV]  n_estimators=200, min_samples_split=2, min_samples_leaf=1, max_features=auto, max_depth=26, bootstrap=True, total= 6.3min\n",
      "[CV] n_estimators=200, min_samples_split=2, min_samples_leaf=1, max_features=auto, max_depth=26, bootstrap=True \n",
      "[CV]  n_estimators=200, min_samples_split=2, min_samples_leaf=1, max_features=auto, max_depth=26, bootstrap=True, total= 6.3min\n",
      "[CV] n_estimators=200, min_samples_split=2, min_samples_leaf=1, max_features=auto, max_depth=26, bootstrap=True \n",
      "[CV]  n_estimators=200, min_samples_split=2, min_samples_leaf=1, max_features=auto, max_depth=26, bootstrap=True, total= 6.3min\n",
      "[CV] n_estimators=100, min_samples_split=2, min_samples_leaf=4, max_features=log2, max_depth=24, bootstrap=False \n",
      "[CV]  n_estimators=100, min_samples_split=2, min_samples_leaf=4, max_features=log2, max_depth=24, bootstrap=False, total=  45.9s\n",
      "[CV] n_estimators=100, min_samples_split=2, min_samples_leaf=4, max_features=log2, max_depth=24, bootstrap=False \n",
      "[CV]  n_estimators=100, min_samples_split=2, min_samples_leaf=4, max_features=log2, max_depth=24, bootstrap=False, total=  46.1s\n",
      "[CV] n_estimators=100, min_samples_split=2, min_samples_leaf=4, max_features=log2, max_depth=24, bootstrap=False \n",
      "[CV]  n_estimators=100, min_samples_split=2, min_samples_leaf=4, max_features=log2, max_depth=24, bootstrap=False, total=  46.0s\n",
      "[CV] n_estimators=200, min_samples_split=10, min_samples_leaf=4, max_features=auto, max_depth=18, bootstrap=False \n",
      "[CV]  n_estimators=200, min_samples_split=10, min_samples_leaf=4, max_features=auto, max_depth=18, bootstrap=False, total= 7.2min\n",
      "[CV] n_estimators=200, min_samples_split=10, min_samples_leaf=4, max_features=auto, max_depth=18, bootstrap=False \n",
      "[CV]  n_estimators=200, min_samples_split=10, min_samples_leaf=4, max_features=auto, max_depth=18, bootstrap=False, total= 7.2min\n",
      "[CV] n_estimators=200, min_samples_split=10, min_samples_leaf=4, max_features=auto, max_depth=18, bootstrap=False \n",
      "[CV]  n_estimators=200, min_samples_split=10, min_samples_leaf=4, max_features=auto, max_depth=18, bootstrap=False, total= 7.1min\n",
      "[CV] n_estimators=20, min_samples_split=5, min_samples_leaf=2, max_features=auto, max_depth=16, bootstrap=True \n",
      "[CV]  n_estimators=20, min_samples_split=5, min_samples_leaf=2, max_features=auto, max_depth=16, bootstrap=True, total=  27.9s\n",
      "[CV] n_estimators=20, min_samples_split=5, min_samples_leaf=2, max_features=auto, max_depth=16, bootstrap=True \n",
      "[CV]  n_estimators=20, min_samples_split=5, min_samples_leaf=2, max_features=auto, max_depth=16, bootstrap=True, total=  27.7s\n",
      "[CV] n_estimators=20, min_samples_split=5, min_samples_leaf=2, max_features=auto, max_depth=16, bootstrap=True \n",
      "[CV]  n_estimators=20, min_samples_split=5, min_samples_leaf=2, max_features=auto, max_depth=16, bootstrap=True, total=  27.8s\n",
      "[CV] n_estimators=20, min_samples_split=10, min_samples_leaf=2, max_features=log2, max_depth=28, bootstrap=True \n",
      "[CV]  n_estimators=20, min_samples_split=10, min_samples_leaf=2, max_features=log2, max_depth=28, bootstrap=True, total=   6.9s\n",
      "[CV] n_estimators=20, min_samples_split=10, min_samples_leaf=2, max_features=log2, max_depth=28, bootstrap=True \n",
      "[CV]  n_estimators=20, min_samples_split=10, min_samples_leaf=2, max_features=log2, max_depth=28, bootstrap=True, total=   6.9s\n",
      "[CV] n_estimators=20, min_samples_split=10, min_samples_leaf=2, max_features=log2, max_depth=28, bootstrap=True \n",
      "[CV]  n_estimators=20, min_samples_split=10, min_samples_leaf=2, max_features=log2, max_depth=28, bootstrap=True, total=   6.8s\n",
      "[CV] n_estimators=20, min_samples_split=10, min_samples_leaf=2, max_features=auto, max_depth=26, bootstrap=True \n",
      "[CV]  n_estimators=20, min_samples_split=10, min_samples_leaf=2, max_features=auto, max_depth=26, bootstrap=True, total=  32.8s\n",
      "[CV] n_estimators=20, min_samples_split=10, min_samples_leaf=2, max_features=auto, max_depth=26, bootstrap=True \n",
      "[CV]  n_estimators=20, min_samples_split=10, min_samples_leaf=2, max_features=auto, max_depth=26, bootstrap=True, total=  32.1s\n",
      "[CV] n_estimators=20, min_samples_split=10, min_samples_leaf=2, max_features=auto, max_depth=26, bootstrap=True \n",
      "[CV]  n_estimators=20, min_samples_split=10, min_samples_leaf=2, max_features=auto, max_depth=26, bootstrap=True, total=  32.2s\n",
      "[CV] n_estimators=200, min_samples_split=5, min_samples_leaf=2, max_features=sqrt, max_depth=12, bootstrap=True \n",
      "[CV]  n_estimators=200, min_samples_split=5, min_samples_leaf=2, max_features=sqrt, max_depth=12, bootstrap=True, total=  51.9s\n",
      "[CV] n_estimators=200, min_samples_split=5, min_samples_leaf=2, max_features=sqrt, max_depth=12, bootstrap=True \n",
      "[CV]  n_estimators=200, min_samples_split=5, min_samples_leaf=2, max_features=sqrt, max_depth=12, bootstrap=True, total=  51.7s\n",
      "[CV] n_estimators=200, min_samples_split=5, min_samples_leaf=2, max_features=sqrt, max_depth=12, bootstrap=True \n",
      "[CV]  n_estimators=200, min_samples_split=5, min_samples_leaf=2, max_features=sqrt, max_depth=12, bootstrap=True, total=  51.9s\n",
      "[CV] n_estimators=50, min_samples_split=5, min_samples_leaf=1, max_features=sqrt, max_depth=26, bootstrap=False \n",
      "[CV]  n_estimators=50, min_samples_split=5, min_samples_leaf=1, max_features=sqrt, max_depth=26, bootstrap=False, total=  32.0s\n",
      "[CV] n_estimators=50, min_samples_split=5, min_samples_leaf=1, max_features=sqrt, max_depth=26, bootstrap=False \n",
      "[CV]  n_estimators=50, min_samples_split=5, min_samples_leaf=1, max_features=sqrt, max_depth=26, bootstrap=False, total=  32.1s\n",
      "[CV] n_estimators=50, min_samples_split=5, min_samples_leaf=1, max_features=sqrt, max_depth=26, bootstrap=False \n"
     ]
    },
    {
     "name": "stdout",
     "output_type": "stream",
     "text": [
      "[CV]  n_estimators=50, min_samples_split=5, min_samples_leaf=1, max_features=sqrt, max_depth=26, bootstrap=False, total=  32.2s\n",
      "[CV] n_estimators=20, min_samples_split=10, min_samples_leaf=4, max_features=auto, max_depth=30, bootstrap=False \n",
      "[CV]  n_estimators=20, min_samples_split=10, min_samples_leaf=4, max_features=auto, max_depth=30, bootstrap=False, total=  47.8s\n",
      "[CV] n_estimators=20, min_samples_split=10, min_samples_leaf=4, max_features=auto, max_depth=30, bootstrap=False \n",
      "[CV]  n_estimators=20, min_samples_split=10, min_samples_leaf=4, max_features=auto, max_depth=30, bootstrap=False, total=  48.1s\n",
      "[CV] n_estimators=20, min_samples_split=10, min_samples_leaf=4, max_features=auto, max_depth=30, bootstrap=False \n",
      "[CV]  n_estimators=20, min_samples_split=10, min_samples_leaf=4, max_features=auto, max_depth=30, bootstrap=False, total=  47.8s\n",
      "[CV] n_estimators=50, min_samples_split=2, min_samples_leaf=1, max_features=log2, max_depth=22, bootstrap=True \n",
      "[CV]  n_estimators=50, min_samples_split=2, min_samples_leaf=1, max_features=log2, max_depth=22, bootstrap=True, total=  19.6s\n",
      "[CV] n_estimators=50, min_samples_split=2, min_samples_leaf=1, max_features=log2, max_depth=22, bootstrap=True \n",
      "[CV]  n_estimators=50, min_samples_split=2, min_samples_leaf=1, max_features=log2, max_depth=22, bootstrap=True, total=  19.8s\n",
      "[CV] n_estimators=50, min_samples_split=2, min_samples_leaf=1, max_features=log2, max_depth=22, bootstrap=True \n",
      "[CV]  n_estimators=50, min_samples_split=2, min_samples_leaf=1, max_features=log2, max_depth=22, bootstrap=True, total=  19.6s\n",
      "[CV] n_estimators=100, min_samples_split=10, min_samples_leaf=4, max_features=sqrt, max_depth=22, bootstrap=True \n",
      "[CV]  n_estimators=100, min_samples_split=10, min_samples_leaf=4, max_features=sqrt, max_depth=22, bootstrap=True, total=  36.0s\n",
      "[CV] n_estimators=100, min_samples_split=10, min_samples_leaf=4, max_features=sqrt, max_depth=22, bootstrap=True \n",
      "[CV]  n_estimators=100, min_samples_split=10, min_samples_leaf=4, max_features=sqrt, max_depth=22, bootstrap=True, total=  36.2s\n",
      "[CV] n_estimators=100, min_samples_split=10, min_samples_leaf=4, max_features=sqrt, max_depth=22, bootstrap=True \n",
      "[CV]  n_estimators=100, min_samples_split=10, min_samples_leaf=4, max_features=sqrt, max_depth=22, bootstrap=True, total=  35.8s\n",
      "[CV] n_estimators=50, min_samples_split=5, min_samples_leaf=4, max_features=log2, max_depth=22, bootstrap=False \n",
      "[CV]  n_estimators=50, min_samples_split=5, min_samples_leaf=4, max_features=log2, max_depth=22, bootstrap=False, total=  22.4s\n",
      "[CV] n_estimators=50, min_samples_split=5, min_samples_leaf=4, max_features=log2, max_depth=22, bootstrap=False \n",
      "[CV]  n_estimators=50, min_samples_split=5, min_samples_leaf=4, max_features=log2, max_depth=22, bootstrap=False, total=  22.6s\n",
      "[CV] n_estimators=50, min_samples_split=5, min_samples_leaf=4, max_features=log2, max_depth=22, bootstrap=False \n",
      "[CV]  n_estimators=50, min_samples_split=5, min_samples_leaf=4, max_features=log2, max_depth=22, bootstrap=False, total=  22.7s\n",
      "[CV] n_estimators=200, min_samples_split=2, min_samples_leaf=1, max_features=sqrt, max_depth=24, bootstrap=True \n",
      "[CV]  n_estimators=200, min_samples_split=2, min_samples_leaf=1, max_features=sqrt, max_depth=24, bootstrap=True, total= 1.6min\n",
      "[CV] n_estimators=200, min_samples_split=2, min_samples_leaf=1, max_features=sqrt, max_depth=24, bootstrap=True \n",
      "[CV]  n_estimators=200, min_samples_split=2, min_samples_leaf=1, max_features=sqrt, max_depth=24, bootstrap=True, total= 1.6min\n",
      "[CV] n_estimators=200, min_samples_split=2, min_samples_leaf=1, max_features=sqrt, max_depth=24, bootstrap=True \n",
      "[CV]  n_estimators=200, min_samples_split=2, min_samples_leaf=1, max_features=sqrt, max_depth=24, bootstrap=True, total= 1.6min\n",
      "[CV] n_estimators=200, min_samples_split=5, min_samples_leaf=1, max_features=auto, max_depth=28, bootstrap=False \n",
      "[CV]  n_estimators=200, min_samples_split=5, min_samples_leaf=1, max_features=auto, max_depth=28, bootstrap=False, total= 9.4min\n",
      "[CV] n_estimators=200, min_samples_split=5, min_samples_leaf=1, max_features=auto, max_depth=28, bootstrap=False \n",
      "[CV]  n_estimators=200, min_samples_split=5, min_samples_leaf=1, max_features=auto, max_depth=28, bootstrap=False, total= 9.4min\n",
      "[CV] n_estimators=200, min_samples_split=5, min_samples_leaf=1, max_features=auto, max_depth=28, bootstrap=False \n",
      "[CV]  n_estimators=200, min_samples_split=5, min_samples_leaf=1, max_features=auto, max_depth=28, bootstrap=False, total= 9.2min\n",
      "[CV] n_estimators=200, min_samples_split=10, min_samples_leaf=1, max_features=auto, max_depth=20, bootstrap=True \n",
      "[CV]  n_estimators=200, min_samples_split=10, min_samples_leaf=1, max_features=auto, max_depth=20, bootstrap=True, total= 5.2min\n",
      "[CV] n_estimators=200, min_samples_split=10, min_samples_leaf=1, max_features=auto, max_depth=20, bootstrap=True \n",
      "[CV]  n_estimators=200, min_samples_split=10, min_samples_leaf=1, max_features=auto, max_depth=20, bootstrap=True, total= 5.1min\n",
      "[CV] n_estimators=200, min_samples_split=10, min_samples_leaf=1, max_features=auto, max_depth=20, bootstrap=True \n",
      "[CV]  n_estimators=200, min_samples_split=10, min_samples_leaf=1, max_features=auto, max_depth=20, bootstrap=True, total= 5.1min\n",
      "[CV] n_estimators=20, min_samples_split=2, min_samples_leaf=1, max_features=auto, max_depth=30, bootstrap=False \n",
      "[CV]  n_estimators=20, min_samples_split=2, min_samples_leaf=1, max_features=auto, max_depth=30, bootstrap=False, total= 1.0min\n",
      "[CV] n_estimators=20, min_samples_split=2, min_samples_leaf=1, max_features=auto, max_depth=30, bootstrap=False \n",
      "[CV]  n_estimators=20, min_samples_split=2, min_samples_leaf=1, max_features=auto, max_depth=30, bootstrap=False, total= 1.0min\n",
      "[CV] n_estimators=20, min_samples_split=2, min_samples_leaf=1, max_features=auto, max_depth=30, bootstrap=False \n",
      "[CV]  n_estimators=20, min_samples_split=2, min_samples_leaf=1, max_features=auto, max_depth=30, bootstrap=False, total= 1.0min\n",
      "[CV] n_estimators=50, min_samples_split=10, min_samples_leaf=2, max_features=log2, max_depth=16, bootstrap=True \n",
      "[CV]  n_estimators=50, min_samples_split=10, min_samples_leaf=2, max_features=log2, max_depth=16, bootstrap=True, total=  14.1s\n",
      "[CV] n_estimators=50, min_samples_split=10, min_samples_leaf=2, max_features=log2, max_depth=16, bootstrap=True \n",
      "[CV]  n_estimators=50, min_samples_split=10, min_samples_leaf=2, max_features=log2, max_depth=16, bootstrap=True, total=  13.7s\n",
      "[CV] n_estimators=50, min_samples_split=10, min_samples_leaf=2, max_features=log2, max_depth=16, bootstrap=True \n",
      "[CV]  n_estimators=50, min_samples_split=10, min_samples_leaf=2, max_features=log2, max_depth=16, bootstrap=True, total=  14.1s\n",
      "[CV] n_estimators=20, min_samples_split=2, min_samples_leaf=1, max_features=auto, max_depth=None, bootstrap=True \n",
      "[CV]  n_estimators=20, min_samples_split=2, min_samples_leaf=1, max_features=auto, max_depth=None, bootstrap=True, total=  40.8s\n",
      "[CV] n_estimators=20, min_samples_split=2, min_samples_leaf=1, max_features=auto, max_depth=None, bootstrap=True \n",
      "[CV]  n_estimators=20, min_samples_split=2, min_samples_leaf=1, max_features=auto, max_depth=None, bootstrap=True, total=  40.3s\n",
      "[CV] n_estimators=20, min_samples_split=2, min_samples_leaf=1, max_features=auto, max_depth=None, bootstrap=True \n",
      "[CV]  n_estimators=20, min_samples_split=2, min_samples_leaf=1, max_features=auto, max_depth=None, bootstrap=True, total=  40.2s\n",
      "[CV] n_estimators=50, min_samples_split=5, min_samples_leaf=1, max_features=log2, max_depth=14, bootstrap=False \n",
      "[CV]  n_estimators=50, min_samples_split=5, min_samples_leaf=1, max_features=log2, max_depth=14, bootstrap=False, total=  18.1s\n",
      "[CV] n_estimators=50, min_samples_split=5, min_samples_leaf=1, max_features=log2, max_depth=14, bootstrap=False \n",
      "[CV]  n_estimators=50, min_samples_split=5, min_samples_leaf=1, max_features=log2, max_depth=14, bootstrap=False, total=  17.9s\n",
      "[CV] n_estimators=50, min_samples_split=5, min_samples_leaf=1, max_features=log2, max_depth=14, bootstrap=False \n",
      "[CV]  n_estimators=50, min_samples_split=5, min_samples_leaf=1, max_features=log2, max_depth=14, bootstrap=False, total=  17.9s\n",
      "[CV] n_estimators=20, min_samples_split=10, min_samples_leaf=2, max_features=auto, max_depth=30, bootstrap=True \n"
     ]
    },
    {
     "name": "stdout",
     "output_type": "stream",
     "text": [
      "[CV]  n_estimators=20, min_samples_split=10, min_samples_leaf=2, max_features=auto, max_depth=30, bootstrap=True, total=  32.5s\n",
      "[CV] n_estimators=20, min_samples_split=10, min_samples_leaf=2, max_features=auto, max_depth=30, bootstrap=True \n",
      "[CV]  n_estimators=20, min_samples_split=10, min_samples_leaf=2, max_features=auto, max_depth=30, bootstrap=True, total=  31.8s\n",
      "[CV] n_estimators=20, min_samples_split=10, min_samples_leaf=2, max_features=auto, max_depth=30, bootstrap=True \n",
      "[CV]  n_estimators=20, min_samples_split=10, min_samples_leaf=2, max_features=auto, max_depth=30, bootstrap=True, total=  32.3s\n",
      "[CV] n_estimators=50, min_samples_split=10, min_samples_leaf=2, max_features=sqrt, max_depth=None, bootstrap=False \n",
      "[CV]  n_estimators=50, min_samples_split=10, min_samples_leaf=2, max_features=sqrt, max_depth=None, bootstrap=False, total=  28.8s\n",
      "[CV] n_estimators=50, min_samples_split=10, min_samples_leaf=2, max_features=sqrt, max_depth=None, bootstrap=False \n",
      "[CV]  n_estimators=50, min_samples_split=10, min_samples_leaf=2, max_features=sqrt, max_depth=None, bootstrap=False, total=  29.0s\n",
      "[CV] n_estimators=50, min_samples_split=10, min_samples_leaf=2, max_features=sqrt, max_depth=None, bootstrap=False \n",
      "[CV]  n_estimators=50, min_samples_split=10, min_samples_leaf=2, max_features=sqrt, max_depth=None, bootstrap=False, total=  29.2s\n",
      "[CV] n_estimators=200, min_samples_split=2, min_samples_leaf=4, max_features=sqrt, max_depth=14, bootstrap=True \n",
      "[CV]  n_estimators=200, min_samples_split=2, min_samples_leaf=4, max_features=sqrt, max_depth=14, bootstrap=True, total=  58.2s\n",
      "[CV] n_estimators=200, min_samples_split=2, min_samples_leaf=4, max_features=sqrt, max_depth=14, bootstrap=True \n",
      "[CV]  n_estimators=200, min_samples_split=2, min_samples_leaf=4, max_features=sqrt, max_depth=14, bootstrap=True, total=  57.9s\n",
      "[CV] n_estimators=200, min_samples_split=2, min_samples_leaf=4, max_features=sqrt, max_depth=14, bootstrap=True \n",
      "[CV]  n_estimators=200, min_samples_split=2, min_samples_leaf=4, max_features=sqrt, max_depth=14, bootstrap=True, total=  58.7s\n",
      "[CV] n_estimators=200, min_samples_split=10, min_samples_leaf=4, max_features=auto, max_depth=30, bootstrap=False \n",
      "[CV]  n_estimators=200, min_samples_split=10, min_samples_leaf=4, max_features=auto, max_depth=30, bootstrap=False, total= 8.1min\n",
      "[CV] n_estimators=200, min_samples_split=10, min_samples_leaf=4, max_features=auto, max_depth=30, bootstrap=False \n",
      "[CV]  n_estimators=200, min_samples_split=10, min_samples_leaf=4, max_features=auto, max_depth=30, bootstrap=False, total= 7.9min\n",
      "[CV] n_estimators=200, min_samples_split=10, min_samples_leaf=4, max_features=auto, max_depth=30, bootstrap=False \n",
      "[CV]  n_estimators=200, min_samples_split=10, min_samples_leaf=4, max_features=auto, max_depth=30, bootstrap=False, total= 8.0min\n",
      "[CV] n_estimators=100, min_samples_split=10, min_samples_leaf=1, max_features=sqrt, max_depth=26, bootstrap=False \n",
      "[CV]  n_estimators=100, min_samples_split=10, min_samples_leaf=1, max_features=sqrt, max_depth=26, bootstrap=False, total=  58.0s\n",
      "[CV] n_estimators=100, min_samples_split=10, min_samples_leaf=1, max_features=sqrt, max_depth=26, bootstrap=False \n",
      "[CV]  n_estimators=100, min_samples_split=10, min_samples_leaf=1, max_features=sqrt, max_depth=26, bootstrap=False, total=  57.9s\n",
      "[CV] n_estimators=100, min_samples_split=10, min_samples_leaf=1, max_features=sqrt, max_depth=26, bootstrap=False \n",
      "[CV]  n_estimators=100, min_samples_split=10, min_samples_leaf=1, max_features=sqrt, max_depth=26, bootstrap=False, total=  57.2s\n",
      "[CV] n_estimators=50, min_samples_split=10, min_samples_leaf=2, max_features=auto, max_depth=20, bootstrap=True \n",
      "[CV]  n_estimators=50, min_samples_split=10, min_samples_leaf=2, max_features=auto, max_depth=20, bootstrap=True, total= 1.3min\n",
      "[CV] n_estimators=50, min_samples_split=10, min_samples_leaf=2, max_features=auto, max_depth=20, bootstrap=True \n",
      "[CV]  n_estimators=50, min_samples_split=10, min_samples_leaf=2, max_features=auto, max_depth=20, bootstrap=True, total= 1.2min\n",
      "[CV] n_estimators=50, min_samples_split=10, min_samples_leaf=2, max_features=auto, max_depth=20, bootstrap=True \n",
      "[CV]  n_estimators=50, min_samples_split=10, min_samples_leaf=2, max_features=auto, max_depth=20, bootstrap=True, total= 1.2min\n",
      "[CV] n_estimators=100, min_samples_split=5, min_samples_leaf=1, max_features=auto, max_depth=24, bootstrap=True \n",
      "[CV]  n_estimators=100, min_samples_split=5, min_samples_leaf=1, max_features=auto, max_depth=24, bootstrap=True, total= 2.8min\n",
      "[CV] n_estimators=100, min_samples_split=5, min_samples_leaf=1, max_features=auto, max_depth=24, bootstrap=True \n",
      "[CV]  n_estimators=100, min_samples_split=5, min_samples_leaf=1, max_features=auto, max_depth=24, bootstrap=True, total= 2.8min\n",
      "[CV] n_estimators=100, min_samples_split=5, min_samples_leaf=1, max_features=auto, max_depth=24, bootstrap=True \n",
      "[CV]  n_estimators=100, min_samples_split=5, min_samples_leaf=1, max_features=auto, max_depth=24, bootstrap=True, total= 2.8min\n",
      "[CV] n_estimators=50, min_samples_split=2, min_samples_leaf=1, max_features=auto, max_depth=18, bootstrap=False \n",
      "[CV]  n_estimators=50, min_samples_split=2, min_samples_leaf=1, max_features=auto, max_depth=18, bootstrap=False, total= 1.9min\n",
      "[CV] n_estimators=50, min_samples_split=2, min_samples_leaf=1, max_features=auto, max_depth=18, bootstrap=False \n",
      "[CV]  n_estimators=50, min_samples_split=2, min_samples_leaf=1, max_features=auto, max_depth=18, bootstrap=False, total= 1.9min\n",
      "[CV] n_estimators=50, min_samples_split=2, min_samples_leaf=1, max_features=auto, max_depth=18, bootstrap=False \n",
      "[CV]  n_estimators=50, min_samples_split=2, min_samples_leaf=1, max_features=auto, max_depth=18, bootstrap=False, total= 1.9min\n",
      "[CV] n_estimators=100, min_samples_split=10, min_samples_leaf=4, max_features=sqrt, max_depth=18, bootstrap=True \n",
      "[CV]  n_estimators=100, min_samples_split=10, min_samples_leaf=4, max_features=sqrt, max_depth=18, bootstrap=True, total=  33.8s\n",
      "[CV] n_estimators=100, min_samples_split=10, min_samples_leaf=4, max_features=sqrt, max_depth=18, bootstrap=True \n",
      "[CV]  n_estimators=100, min_samples_split=10, min_samples_leaf=4, max_features=sqrt, max_depth=18, bootstrap=True, total=  33.3s\n",
      "[CV] n_estimators=100, min_samples_split=10, min_samples_leaf=4, max_features=sqrt, max_depth=18, bootstrap=True \n",
      "[CV]  n_estimators=100, min_samples_split=10, min_samples_leaf=4, max_features=sqrt, max_depth=18, bootstrap=True, total=  32.6s\n"
     ]
    },
    {
     "name": "stderr",
     "output_type": "stream",
     "text": [
      "[Parallel(n_jobs=1)]: Done 300 out of 300 | elapsed: 489.6min finished\n"
     ]
    },
    {
     "name": "stdout",
     "output_type": "stream",
     "text": [
      "Hello World!\n"
     ]
    }
   ],
   "source": [
    "# Number of trees in random forest\n",
    "n_estimators = [20, 50, 100, 150, 200]\n",
    "# Number of features to consider at every split\n",
    "max_features = ['auto', 'sqrt', 'log2']\n",
    "# Maximum number of levels in tree\n",
    "max_depth = [int(x) for x in np.linspace(10, 30, num = 11)]\n",
    "max_depth.append(None)\n",
    "# Minimum number of samples required to split a node\n",
    "min_samples_split = [2, 5, 10]\n",
    "# Minimum number of samples required at each leaf node\n",
    "min_samples_leaf = [1, 2, 4]\n",
    "# Method of selecting samples for training each tree\n",
    "bootstrap = [True, False]\n",
    "# Create the random grid\n",
    "random_grid = {'n_estimators': n_estimators,\n",
    "               'max_features': max_features,\n",
    "               'max_depth': max_depth,\n",
    "               'min_samples_split': min_samples_split,\n",
    "               'min_samples_leaf': min_samples_leaf,\n",
    "               'bootstrap': bootstrap}\n",
    "\n",
    "pprint(random_grid)\n",
    "\n",
    "# Use the random grid to search for best hyperparameters\n",
    "# First create the base model to tune\n",
    "rf = RandomForestRegressor(n_jobs=-1, random_state=42)\n",
    "\n",
    "# Random search of parameters, using 3 fold cross validation, \n",
    "# search across 100 different combinations, and use all available cores\n",
    "rf_random = RandomizedSearchCV(estimator = rf, param_distributions = random_grid, \\\n",
    "                               n_iter = 100, cv = 3, verbose=2)\n",
    "\n",
    "# Fit the random search model\n",
    "rf_random.fit(X_train, y_train)\n",
    "\n",
    "print('Hello World!')"
   ]
  },
  {
   "cell_type": "code",
   "execution_count": 4,
   "metadata": {},
   "outputs": [],
   "source": [
    "best_params = rf_random.best_params_\n",
    "best_score = rf_random.best_score_\n",
    "cv_results = rf_random.cv_results_\n",
    "best_estimator = rf_random.best_estimator_"
   ]
  },
  {
   "cell_type": "code",
   "execution_count": 5,
   "metadata": {},
   "outputs": [
    {
     "name": "stdout",
     "output_type": "stream",
     "text": [
      "dict_keys(['mean_fit_time', 'std_fit_time', 'mean_score_time', 'std_score_time', 'param_n_estimators', 'param_min_samples_split', 'param_min_samples_leaf', 'param_max_features', 'param_max_depth', 'param_bootstrap', 'params', 'split0_test_score', 'split1_test_score', 'split2_test_score', 'mean_test_score', 'std_test_score', 'rank_test_score'])\n"
     ]
    }
   ],
   "source": [
    "pprint(cv_results.keys())"
   ]
  },
  {
   "cell_type": "code",
   "execution_count": 6,
   "metadata": {},
   "outputs": [
    {
     "name": "stdout",
     "output_type": "stream",
     "text": [
      "3\n",
      "2\n"
     ]
    }
   ],
   "source": [
    "print(sys.getrefcount(rf))\n",
    "print(sys.getrefcount(rf_random))"
   ]
  },
  {
   "cell_type": "code",
   "execution_count": 7,
   "metadata": {},
   "outputs": [
    {
     "data": {
      "text/plain": [
       "4250"
      ]
     },
     "execution_count": 7,
     "metadata": {},
     "output_type": "execute_result"
    }
   ],
   "source": [
    "del rf_random\n",
    "gc.collect()"
   ]
  },
  {
   "cell_type": "code",
   "execution_count": 8,
   "metadata": {},
   "outputs": [
    {
     "name": "stdout",
     "output_type": "stream",
     "text": [
      "2\n"
     ]
    }
   ],
   "source": [
    "print(sys.getrefcount(rf))"
   ]
  },
  {
   "cell_type": "code",
   "execution_count": 9,
   "metadata": {},
   "outputs": [
    {
     "data": {
      "text/plain": [
       "40"
      ]
     },
     "execution_count": 9,
     "metadata": {},
     "output_type": "execute_result"
    }
   ],
   "source": [
    "del rf\n",
    "gc.collect()"
   ]
  },
  {
   "cell_type": "code",
   "execution_count": 10,
   "metadata": {},
   "outputs": [
    {
     "name": "stdout",
     "output_type": "stream",
     "text": [
      "2\n"
     ]
    }
   ],
   "source": [
    "print(sys.getrefcount(best_estimator))"
   ]
  },
  {
   "cell_type": "code",
   "execution_count": 11,
   "metadata": {},
   "outputs": [
    {
     "data": {
      "text/plain": [
       "40"
      ]
     },
     "execution_count": 11,
     "metadata": {},
     "output_type": "execute_result"
    }
   ],
   "source": [
    "del best_estimator\n",
    "gc.collect()"
   ]
  },
  {
   "cell_type": "code",
   "execution_count": 12,
   "metadata": {},
   "outputs": [
    {
     "name": "stdout",
     "output_type": "stream",
     "text": [
      "[ 69  43  73  66  42  60  88  11  71  94  56  80  53   1  97  87  92  45\n",
      "  12  29  20  26  41  98  81  32  30  34  52  77  82  95  57  16  35  24\n",
      "   5  84   2  17  46  31  54  38  37  22  59   6  49  47  50  76  21  44\n",
      "  15   3   4   8  67  64  25  63  74  14  13  85  70  61  96  83  72  28\n",
      "  65  23  89  75  62  78  55  36  90  39  10  27   7  99  48 100  40  86\n",
      "  51  79  19  33  91   9  58  68  93  18]\n"
     ]
    }
   ],
   "source": [
    "print(cv_results['rank_test_score'])"
   ]
  },
  {
   "cell_type": "code",
   "execution_count": 13,
   "metadata": {},
   "outputs": [
    {
     "name": "stdout",
     "output_type": "stream",
     "text": [
      "{'bootstrap': False,\n",
      " 'max_depth': 18,\n",
      " 'max_features': 'sqrt',\n",
      " 'min_samples_leaf': 1,\n",
      " 'min_samples_split': 10,\n",
      " 'n_estimators': 200}\n",
      "0.6185701581109284\n",
      "\n",
      "\n",
      "{'bootstrap': True,\n",
      " 'max_depth': None,\n",
      " 'max_features': 'sqrt',\n",
      " 'min_samples_leaf': 2,\n",
      " 'min_samples_split': 2,\n",
      " 'n_estimators': 200}\n",
      "0.6185389979928663\n",
      "\n",
      "\n",
      "{'bootstrap': False,\n",
      " 'max_depth': 28,\n",
      " 'max_features': 'sqrt',\n",
      " 'min_samples_leaf': 4,\n",
      " 'min_samples_split': 2,\n",
      " 'n_estimators': 200}\n",
      "0.6183483598471197\n",
      "\n",
      "\n",
      "{'bootstrap': True,\n",
      " 'max_depth': 26,\n",
      " 'max_features': 'sqrt',\n",
      " 'min_samples_leaf': 1,\n",
      " 'min_samples_split': 10,\n",
      " 'n_estimators': 150}\n",
      "0.6180434788986878\n",
      "\n",
      "\n",
      "{'bootstrap': False,\n",
      " 'max_depth': 18,\n",
      " 'max_features': 'sqrt',\n",
      " 'min_samples_leaf': 4,\n",
      " 'min_samples_split': 10,\n",
      " 'n_estimators': 200}\n",
      "0.6180231788082543\n",
      "\n",
      "\n",
      "{'bootstrap': True,\n",
      " 'max_depth': 28,\n",
      " 'max_features': 'sqrt',\n",
      " 'min_samples_leaf': 2,\n",
      " 'min_samples_split': 2,\n",
      " 'n_estimators': 150}\n",
      "0.6179201341386569\n",
      "\n",
      "\n",
      "{'bootstrap': True,\n",
      " 'max_depth': 24,\n",
      " 'max_features': 'sqrt',\n",
      " 'min_samples_leaf': 1,\n",
      " 'min_samples_split': 2,\n",
      " 'n_estimators': 200}\n",
      "0.6174239035017235\n",
      "\n",
      "\n",
      "{'bootstrap': False,\n",
      " 'max_depth': 16,\n",
      " 'max_features': 'sqrt',\n",
      " 'min_samples_leaf': 1,\n",
      " 'min_samples_split': 5,\n",
      " 'n_estimators': 200}\n",
      "0.6173944728116177\n",
      "\n",
      "\n",
      "{'bootstrap': False,\n",
      " 'max_depth': 26,\n",
      " 'max_features': 'sqrt',\n",
      " 'min_samples_leaf': 1,\n",
      " 'min_samples_split': 10,\n",
      " 'n_estimators': 100}\n",
      "0.6173870952397276\n",
      "\n",
      "\n",
      "{'bootstrap': True,\n",
      " 'max_depth': 22,\n",
      " 'max_features': 'sqrt',\n",
      " 'min_samples_leaf': 4,\n",
      " 'min_samples_split': 10,\n",
      " 'n_estimators': 100}\n",
      "0.6172162111922201\n",
      "\n",
      "\n"
     ]
    }
   ],
   "source": [
    "for i in range(1,11):\n",
    "    index = int(np.argwhere(cv_results['rank_test_score']==i))\n",
    "    pprint(cv_results['params'][index])\n",
    "    pprint(cv_results['mean_test_score'][index])\n",
    "    print('\\n')"
   ]
  },
  {
   "cell_type": "code",
   "execution_count": 14,
   "metadata": {},
   "outputs": [
    {
     "name": "stdout",
     "output_type": "stream",
     "text": [
      "array([0.56600693, 0.58214277, 0.57040858, 0.60420131, 0.57202126])\n",
      "[20, 50, 100, 150, 200]\n"
     ]
    }
   ],
   "source": [
    "avg_scores = np.zeros(len(n_estimators))\n",
    "\n",
    "for num_of_trees, avg_score_index in zip(n_estimators, range(len(n_estimators))):\n",
    "    \n",
    "    indices = np.argwhere(cv_results['param_n_estimators'] == num_of_trees)\n",
    "    indices = indices.flatten()\n",
    "    \n",
    "    temp = 0\n",
    "    for i in indices:\n",
    "        temp = temp + cv_results['mean_test_score'][i]\n",
    "    \n",
    "    avg_scores[avg_score_index] = temp / indices.size\n",
    "    \n",
    "\n",
    "\n",
    "pprint(avg_scores)        \n",
    "pprint(n_estimators)"
   ]
  },
  {
   "cell_type": "code",
   "execution_count": 16,
   "metadata": {},
   "outputs": [],
   "source": [
    "cv_results_df = pd.DataFrame({'n_estimators':cv_results['param_n_estimators'],\\\n",
    "                              'min_samples_split':cv_results['param_min_samples_split'],\\\n",
    "                             'min_samples_leaf':cv_results['param_min_samples_leaf'],\\\n",
    "                             'max_features':cv_results['param_max_features'],\\\n",
    "                              'max_depth':cv_results['param_max_depth'],\\\n",
    "                             'bootstrap':cv_results['param_bootstrap'],\\\n",
    "                             'mean_test_score':cv_results['mean_test_score'],\\\n",
    "                             'mean_fit_time':cv_results['mean_fit_time']})"
   ]
  },
  {
   "cell_type": "code",
   "execution_count": 28,
   "metadata": {},
   "outputs": [],
   "source": [
    "cv_results_df_subset = cv_results_df.loc[(cv_results_df['mean_fit_time'] < 100)]"
   ]
  },
  {
   "cell_type": "code",
   "execution_count": 29,
   "metadata": {},
   "outputs": [
    {
     "data": {
      "image/png": "[encoded data removed]",
      "text/plain": [
       "<Figure size 720x360 with 1 Axes>"
      ]
     },
     "metadata": {
      "needs_background": "light"
     },
     "output_type": "display_data"
    }
   ],
   "source": [
    "plt.figure(figsize=(10,5))\n",
    "plt.scatter(cv_results_df['n_estimators'],cv_results_df['mean_test_score'])\n",
    "plt.scatter(cv_results_df_subset['n_estimators'],cv_results_df_subset['mean_test_score'])\n",
    "plt.xlabel('n_estimators')\n",
    "plt.ylabel('score')\n",
    "plt.xticks(ticks=n_estimators, labels=n_estimators)\n",
    "plt.show()"
   ]
  },
  {
   "cell_type": "code",
   "execution_count": 30,
   "metadata": {},
   "outputs": [
    {
     "data": {
      "image/png": "[encoded data removed]",
      "text/plain": [
       "<Figure size 720x360 with 1 Axes>"
      ]
     },
     "metadata": {
      "needs_background": "light"
     },
     "output_type": "display_data"
    }
   ],
   "source": [
    "plt.figure(figsize=(10,5))\n",
    "plt.scatter(cv_results_df['min_samples_split'],cv_results_df['mean_test_score'])\n",
    "plt.scatter(cv_results_df_subset['min_samples_split'],cv_results_df_subset['mean_test_score'])\n",
    "plt.xlabel('min_samples_split')\n",
    "plt.ylabel('score')\n",
    "plt.xticks(ticks=min_samples_split, labels=min_samples_split)\n",
    "plt.show()"
   ]
  },
  {
   "cell_type": "code",
   "execution_count": 31,
   "metadata": {},
   "outputs": [
    {
     "data": {
      "image/png": "[encoded data removed]",
      "text/plain": [
       "<Figure size 720x360 with 1 Axes>"
      ]
     },
     "metadata": {
      "needs_background": "light"
     },
     "output_type": "display_data"
    }
   ],
   "source": [
    "def convert_none_to_32(x):\n",
    "    if x == None:\n",
    "        x = 32\n",
    "    return x\n",
    "\n",
    "labels = [int(x) for x in np.linspace(10, 30, num = 11)]\n",
    "labels.append('None')\n",
    "\n",
    "plt.figure(figsize=(10,5))\n",
    "plt.scatter(cv_results_df['max_depth'].apply(convert_none_to_32),cv_results_df['mean_test_score'])\n",
    "plt.scatter(cv_results_df_subset['max_depth'].apply(convert_none_to_32),\\\n",
    "            cv_results_df_subset['mean_test_score'])\n",
    "plt.xlabel('max_depth')\n",
    "plt.ylabel('score')\n",
    "plt.xticks(ticks=np.arange(10,33,2), labels=labels)\n",
    "plt.show()"
   ]
  },
  {
   "cell_type": "code",
   "execution_count": 32,
   "metadata": {},
   "outputs": [
    {
     "data": {
      "image/png": "[encoded data removed]",
      "text/plain": [
       "<Figure size 720x360 with 1 Axes>"
      ]
     },
     "metadata": {
      "needs_background": "light"
     },
     "output_type": "display_data"
    }
   ],
   "source": [
    "plt.figure(figsize=(10,5))\n",
    "plt.scatter(cv_results_df['min_samples_leaf'],cv_results_df['mean_test_score'])\n",
    "plt.scatter(cv_results_df_subset['min_samples_leaf'],cv_results_df_subset['mean_test_score'])\n",
    "plt.xlabel('min_samples_leaf')\n",
    "plt.ylabel('score')\n",
    "plt.xticks(ticks=min_samples_leaf, labels=min_samples_leaf)\n",
    "plt.show()"
   ]
  },
  {
   "cell_type": "code",
   "execution_count": 33,
   "metadata": {},
   "outputs": [
    {
     "data": {
      "image/png": "[encoded data removed]",
      "text/plain": [
       "<Figure size 720x360 with 1 Axes>"
      ]
     },
     "metadata": {
      "needs_background": "light"
     },
     "output_type": "display_data"
    }
   ],
   "source": [
    "max_features = ['auto', 'sqrt', 'log2']\n",
    "\n",
    "def convert_labels_to_num(x):\n",
    "    if x == 'auto':\n",
    "        x = 1\n",
    "    elif x == 'sqrt':\n",
    "        x = 2\n",
    "    else:\n",
    "        x = 3\n",
    "    return x\n",
    "            \n",
    "\n",
    "plt.figure(figsize=(10,5))\n",
    "plt.scatter(cv_results_df['max_features'].apply(convert_labels_to_num),cv_results_df['mean_test_score'])\n",
    "plt.scatter(cv_results_df_subset['max_features'].apply(convert_labels_to_num),\\\n",
    "            cv_results_df_subset['mean_test_score'])\n",
    "plt.xlabel('max_features')\n",
    "plt.ylabel('score')\n",
    "plt.xticks(ticks=[1,2,3], labels=max_features)\n",
    "plt.show()"
   ]
  },
  {
   "cell_type": "code",
   "execution_count": 39,
   "metadata": {},
   "outputs": [
    {
     "data": {
      "image/png": "[encoded data removed]",
      "text/plain": [
       "<Figure size 720x360 with 1 Axes>"
      ]
     },
     "metadata": {
      "needs_background": "light"
     },
     "output_type": "display_data"
    }
   ],
   "source": [
    "plt.figure(figsize=(10,5))\n",
    "plt.scatter(cv_results_df['bootstrap'], cv_results_df['mean_test_score'])\n",
    "plt.scatter(cv_results_df_subset['bootstrap'], cv_results_df_subset['mean_test_score'])\n",
    "plt.xlabel('bootstrap')\n",
    "plt.ylabel('score')\n",
    "plt.xticks(bootstrap, labels=bootstrap)\n",
    "plt.show()"
   ]
  },
  {
   "cell_type": "code",
   "execution_count": 40,
   "metadata": {},
   "outputs": [
    {
     "data": {
      "image/png": "[encoded data removed]",
      "text/plain": [
       "<Figure size 720x360 with 1 Axes>"
      ]
     },
     "metadata": {
      "needs_background": "light"
     },
     "output_type": "display_data"
    }
   ],
   "source": [
    "plt.figure(figsize=(10,5))\n",
    "plt.scatter(cv_results_df['mean_fit_time'],cv_results_df['mean_test_score'])\n",
    "plt.scatter(cv_results_df_subset['mean_fit_time'],cv_results_df_subset['mean_test_score'])\n",
    "plt.xlabel('mean_fit_time')\n",
    "plt.ylabel('score')\n",
    "plt.show()"
   ]
  },
  {
   "cell_type": "code",
   "execution_count": 41,
   "metadata": {},
   "outputs": [
    {
     "name": "stdout",
     "output_type": "stream",
     "text": [
      "{'bootstrap': False,\n",
      " 'max_depth': 18,\n",
      " 'max_features': 'sqrt',\n",
      " 'min_samples_leaf': 1,\n",
      " 'min_samples_split': 10,\n",
      " 'n_estimators': 200}\n"
     ]
    }
   ],
   "source": [
    "pprint(best_params)"
   ]
  },
  {
   "cell_type": "code",
   "execution_count": 42,
   "metadata": {},
   "outputs": [
    {
     "name": "stdout",
     "output_type": "stream",
     "text": [
      "95.27535557746887\n"
     ]
    }
   ],
   "source": [
    "index = int(np.argwhere(cv_results['rank_test_score']==1))\n",
    "pprint(cv_results['mean_fit_time'][index])"
   ]
  },
  {
   "cell_type": "code",
   "execution_count": 43,
   "metadata": {},
   "outputs": [
    {
     "name": "stdout",
     "output_type": "stream",
     "text": [
      "0.6185701581109284\n"
     ]
    }
   ],
   "source": [
    "pprint(best_score)"
   ]
  },
  {
   "cell_type": "code",
   "execution_count": null,
   "metadata": {},
   "outputs": [],
   "source": []
  }
 ],
 "metadata": {
  "kernelspec": {
   "display_name": "Python 3",
   "language": "python",
   "name": "python3"
  },
  "language_info": {
   "codemirror_mode": {
    "name": "ipython",
    "version": 3
   },
   "file_extension": ".py",
   "mimetype": "text/x-python",
   "name": "python",
   "nbconvert_exporter": "python",
   "pygments_lexer": "ipython3",
   "version": "3.7.4"
  }
 },
 "nbformat": 4,
 "nbformat_minor": 2
}
