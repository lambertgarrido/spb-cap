{
 "cells": [
  {
   "cell_type": "markdown",
   "metadata": {},
   "source": [
    "Details on data can be found here in HADS_doc.pdf found in project page.\n",
    "\n",
    "This analysis will focus on data from 1987, imported in next cell.\n",
    "\n",
    "Some acronyms to keep in mind:\n",
    "\n",
    "HH = household\n",
    "AMI = area median income\n",
    "FMR = fair market rent\n",
    "\n",
    "A few cells below lists the variables to be cleaned-up. For each variable, the distribution of values will be looked into. Specifically, I will look for negative values and outliers.\n"
   ]
  },
  {
   "cell_type": "code",
   "execution_count": 58,
   "metadata": {},
   "outputs": [],
   "source": [
    "import pandas as pd\n",
    "import numpy as np\n",
    "pd.set_option('display.max_rows', None)\n",
    "df = pd.read_csv(\"hads87.txt\")\n"
   ]
  },
  {
   "cell_type": "code",
   "execution_count": 59,
   "metadata": {},
   "outputs": [
    {
     "data": {
      "text/html": [
       "<div>\n",
       "<style scoped>\n",
       "    .dataframe tbody tr th:only-of-type {\n",
       "        vertical-align: middle;\n",
       "    }\n",
       "\n",
       "    .dataframe tbody tr th {\n",
       "        vertical-align: top;\n",
       "    }\n",
       "\n",
       "    .dataframe thead th {\n",
       "        text-align: right;\n",
       "    }\n",
       "</style>\n",
       "<table border=\"1\" class=\"dataframe\">\n",
       "  <thead>\n",
       "    <tr style=\"text-align: right;\">\n",
       "      <th></th>\n",
       "      <th>CONTROL</th>\n",
       "      <th>REGION</th>\n",
       "      <th>METRO</th>\n",
       "      <th>WEIGHT</th>\n",
       "      <th>ISTATUS</th>\n",
       "      <th>NUNITS</th>\n",
       "      <th>BEDRMS</th>\n",
       "      <th>VACANCY</th>\n",
       "      <th>BUILT</th>\n",
       "      <th>VALUE</th>\n",
       "      <th>...</th>\n",
       "      <th>FMTCOST08RELAMICAT</th>\n",
       "      <th>FMTCOST12RELAMICAT</th>\n",
       "      <th>FMTCOSTMEDRELAMICAT</th>\n",
       "      <th>FMTIncRelAMICat</th>\n",
       "      <th>FMTMetro</th>\n",
       "      <th>FMTOwnRent</th>\n",
       "      <th>FMTRegion</th>\n",
       "      <th>FMTStatus</th>\n",
       "      <th>FMTStructureType</th>\n",
       "      <th>FMTZAdeq</th>\n",
       "    </tr>\n",
       "  </thead>\n",
       "  <tbody>\n",
       "    <tr>\n",
       "      <th>0</th>\n",
       "      <td>'100006110249'</td>\n",
       "      <td>3</td>\n",
       "      <td>7</td>\n",
       "      <td>1499.55</td>\n",
       "      <td>1</td>\n",
       "      <td>1</td>\n",
       "      <td>3</td>\n",
       "      <td>-9</td>\n",
       "      <td>81</td>\n",
       "      <td>60000</td>\n",
       "      <td>...</td>\n",
       "      <td>'4 60 - 80% AMI'</td>\n",
       "      <td>'6 100 - 120% AMI'</td>\n",
       "      <td>'5 80 - 100% AMI'</td>\n",
       "      <td>'7 120% AMI +'</td>\n",
       "      <td>'-5'</td>\n",
       "      <td>'1 Owner'</td>\n",
       "      <td>'-5'</td>\n",
       "      <td>'1 Occupied'</td>\n",
       "      <td>'1 Single Family'</td>\n",
       "      <td>'1 Adequate'</td>\n",
       "    </tr>\n",
       "    <tr>\n",
       "      <th>1</th>\n",
       "      <td>'100006443053'</td>\n",
       "      <td>3</td>\n",
       "      <td>7</td>\n",
       "      <td>1527.57</td>\n",
       "      <td>3</td>\n",
       "      <td>4</td>\n",
       "      <td>2</td>\n",
       "      <td>4</td>\n",
       "      <td>83</td>\n",
       "      <td>-9</td>\n",
       "      <td>...</td>\n",
       "      <td>'5 80 - 100% AMI'</td>\n",
       "      <td>'5 80 - 100% AMI'</td>\n",
       "      <td>'5 80 - 100% AMI'</td>\n",
       "      <td>'.'</td>\n",
       "      <td>'-5'</td>\n",
       "      <td>'2 Renter'</td>\n",
       "      <td>'-5'</td>\n",
       "      <td>'3 Vacant'</td>\n",
       "      <td>'2 2-4 units'</td>\n",
       "      <td>'1 Adequate'</td>\n",
       "    </tr>\n",
       "    <tr>\n",
       "      <th>2</th>\n",
       "      <td>'100006520140'</td>\n",
       "      <td>3</td>\n",
       "      <td>7</td>\n",
       "      <td>1524.77</td>\n",
       "      <td>1</td>\n",
       "      <td>1</td>\n",
       "      <td>3</td>\n",
       "      <td>-9</td>\n",
       "      <td>87</td>\n",
       "      <td>120000</td>\n",
       "      <td>...</td>\n",
       "      <td>'7 120% AMI +'</td>\n",
       "      <td>'7 120% AMI +'</td>\n",
       "      <td>'7 120% AMI +'</td>\n",
       "      <td>'7 120% AMI +'</td>\n",
       "      <td>'-5'</td>\n",
       "      <td>'1 Owner'</td>\n",
       "      <td>'-5'</td>\n",
       "      <td>'1 Occupied'</td>\n",
       "      <td>'1 Single Family'</td>\n",
       "      <td>'1 Adequate'</td>\n",
       "    </tr>\n",
       "    <tr>\n",
       "      <th>3</th>\n",
       "      <td>'100007130148'</td>\n",
       "      <td>3</td>\n",
       "      <td>1</td>\n",
       "      <td>2482.38</td>\n",
       "      <td>1</td>\n",
       "      <td>16</td>\n",
       "      <td>2</td>\n",
       "      <td>-9</td>\n",
       "      <td>85</td>\n",
       "      <td>-9</td>\n",
       "      <td>...</td>\n",
       "      <td>'3 50 - 60% AMI'</td>\n",
       "      <td>'3 50 - 60% AMI'</td>\n",
       "      <td>'3 50 - 60% AMI'</td>\n",
       "      <td>'3 50 - 60% AMI'</td>\n",
       "      <td>'Central City'</td>\n",
       "      <td>'2 Renter'</td>\n",
       "      <td>'-5'</td>\n",
       "      <td>'1 Occupied'</td>\n",
       "      <td>'3 5-19 units'</td>\n",
       "      <td>'1 Adequate'</td>\n",
       "    </tr>\n",
       "    <tr>\n",
       "      <th>4</th>\n",
       "      <td>'100007390148'</td>\n",
       "      <td>3</td>\n",
       "      <td>2</td>\n",
       "      <td>2236.15</td>\n",
       "      <td>1</td>\n",
       "      <td>12</td>\n",
       "      <td>1</td>\n",
       "      <td>-9</td>\n",
       "      <td>86</td>\n",
       "      <td>-9</td>\n",
       "      <td>...</td>\n",
       "      <td>'3 50 - 60% AMI'</td>\n",
       "      <td>'3 50 - 60% AMI'</td>\n",
       "      <td>'3 50 - 60% AMI'</td>\n",
       "      <td>'1 LTE 30% AMI'</td>\n",
       "      <td>'-5'</td>\n",
       "      <td>'2 Renter'</td>\n",
       "      <td>'-5'</td>\n",
       "      <td>'1 Occupied'</td>\n",
       "      <td>'3 5-19 units'</td>\n",
       "      <td>'1 Adequate'</td>\n",
       "    </tr>\n",
       "  </tbody>\n",
       "</table>\n",
       "<p>5 rows × 96 columns</p>\n",
       "</div>"
      ],
      "text/plain": [
       "          CONTROL  REGION  METRO   WEIGHT  ISTATUS  NUNITS  BEDRMS  VACANCY  \\\n",
       "0  '100006110249'       3      7  1499.55        1       1       3       -9   \n",
       "1  '100006443053'       3      7  1527.57        3       4       2        4   \n",
       "2  '100006520140'       3      7  1524.77        1       1       3       -9   \n",
       "3  '100007130148'       3      1  2482.38        1      16       2       -9   \n",
       "4  '100007390148'       3      2  2236.15        1      12       1       -9   \n",
       "\n",
       "   BUILT   VALUE      ...       FMTCOST08RELAMICAT  FMTCOST12RELAMICAT  \\\n",
       "0     81   60000      ...         '4 60 - 80% AMI'  '6 100 - 120% AMI'   \n",
       "1     83      -9      ...        '5 80 - 100% AMI'   '5 80 - 100% AMI'   \n",
       "2     87  120000      ...           '7 120% AMI +'      '7 120% AMI +'   \n",
       "3     85      -9      ...         '3 50 - 60% AMI'    '3 50 - 60% AMI'   \n",
       "4     86      -9      ...         '3 50 - 60% AMI'    '3 50 - 60% AMI'   \n",
       "\n",
       "   FMTCOSTMEDRELAMICAT   FMTIncRelAMICat        FMTMetro  FMTOwnRent  \\\n",
       "0    '5 80 - 100% AMI'    '7 120% AMI +'            '-5'   '1 Owner'   \n",
       "1    '5 80 - 100% AMI'               '.'            '-5'  '2 Renter'   \n",
       "2       '7 120% AMI +'    '7 120% AMI +'            '-5'   '1 Owner'   \n",
       "3     '3 50 - 60% AMI'  '3 50 - 60% AMI'  'Central City'  '2 Renter'   \n",
       "4     '3 50 - 60% AMI'   '1 LTE 30% AMI'            '-5'  '2 Renter'   \n",
       "\n",
       "   FMTRegion     FMTStatus   FMTStructureType      FMTZAdeq  \n",
       "0       '-5'  '1 Occupied'  '1 Single Family'  '1 Adequate'  \n",
       "1       '-5'    '3 Vacant'      '2 2-4 units'  '1 Adequate'  \n",
       "2       '-5'  '1 Occupied'  '1 Single Family'  '1 Adequate'  \n",
       "3       '-5'  '1 Occupied'     '3 5-19 units'  '1 Adequate'  \n",
       "4       '-5'  '1 Occupied'     '3 5-19 units'  '1 Adequate'  \n",
       "\n",
       "[5 rows x 96 columns]"
      ]
     },
     "execution_count": 59,
     "metadata": {},
     "output_type": "execute_result"
    }
   ],
   "source": [
    "df.head()"
   ]
  },
  {
   "cell_type": "markdown",
   "metadata": {},
   "source": [
    "There are 96 variables in a given file. The following variables will be analyzed. If necessary, more variables can be considered later in the analysis.\n",
    "\n",
    "AGE or age1                   = Age of head of household\n",
    "ASSISTED                      = Assisted Housing\n",
    "BEDRMS                        = # of bedrooms in unit\n",
    "BUILT                         = Year unit was built\n",
    "BURDEN                        = Housing cost as a fraction of income\n",
    "COSTMED                       = Housing cost at Median interest\n",
    "COSTMedRELAMICAT              = CostMed Relative to Median Income (Category)\n",
    "COSTMedRELAMIPCT              = CostMed Relative to Median Income (Percent)\n",
    "FMR                           = Fair market rent (average)\n",
    "FMTASSISTED                   = Assisted Housing\n",
    "FMTMETRO or FMTMETRO3         = CENTRAL CITY/SUBURBAN STATUS\n",
    "FMTOWNRENT                    = Owner/Renter Status (adjusted)\n",
    "FMTREGION                     = Census Region\n",
    "FMTSTATUS                     = Occupancy Status\n",
    "FMTSTRUCTURETYPE              = Structure Type\n",
    "INCRELAMICAT                  = HH Income relative to AMI (category)\n",
    "INCRELAMIPCT                  = HH Income relative to AMI (percent)\n",
    "IPOV                          = Poverty Income\n",
    "LMED                          = Area median income (average)\n",
    "NUNITS                        = # of units in building\n",
    "OTHERCOST                     = Insurance, condo, land rent, other mobile home fees\n",
    "OWNRENT                       = Tenure (adjusted)\n",
    "PER                           = # of persons in household\n",
    "ROOMS                         = # of rooms in unit\n",
    "TENURE                        = Owner/renter status of unit\n",
    "TOTSAL                        = Total Wage Income\n",
    "UTILITY                       = Monthly utility cost\n",
    "VACANCY                       = Vacancy status\n",
    "VALUE                         = Current market value of unit\n",
    "ZINC2                         = Household income\n",
    "ZSMHC                         = Monthly housing costs\n"
   ]
  },
  {
   "cell_type": "code",
   "execution_count": 60,
   "metadata": {
    "scrolled": true
   },
   "outputs": [
    {
     "data": {
      "text/plain": [
       "2706"
      ]
     },
     "execution_count": 60,
     "metadata": {},
     "output_type": "execute_result"
    },
    {
     "data": {
      "image/png": "[encoded data removed]",
      "text/plain": [
       "<Figure size 432x288 with 1 Axes>"
      ]
     },
     "metadata": {
      "needs_background": "light"
     },
     "output_type": "display_data"
    }
   ],
   "source": [
    "col_list = ['AGE']\n",
    "hist = df.hist(column=col_list, bins=10)\n",
    "df.loc[df['AGE']<0, 'AGE'].count()"
   ]
  },
  {
   "cell_type": "markdown",
   "metadata": {},
   "source": [
    "AGE1 has several negative values. The positive values look distributed as a Gaussian. Viewing the distribution below of the negative values"
   ]
  },
  {
   "cell_type": "code",
   "execution_count": 63,
   "metadata": {},
   "outputs": [
    {
     "data": {
      "text/plain": [
       "-9    2706\n",
       "Name: AGE, dtype: int64"
      ]
     },
     "execution_count": 63,
     "metadata": {},
     "output_type": "execute_result"
    },
    {
     "data": {
      "image/png": "[encoded data removed]",
      "text/plain": [
       "<Figure size 432x288 with 1 Axes>"
      ]
     },
     "metadata": {
      "needs_background": "light"
     },
     "output_type": "display_data"
    }
   ],
   "source": [
    "df_neg = df.loc[df['AGE'] < 0]\n",
    "col_list = ['AGE']\n",
    "hist = df_neg.hist(column=col_list, bins=10)\n",
    "df_neg['AGE'].value_counts()"
   ]
  },
  {
   "cell_type": "markdown",
   "metadata": {},
   "source": [
    "The negatives fall under one bin. Likely the age was not availabe for these records. Therefore setting them to NaN below."
   ]
  },
  {
   "cell_type": "code",
   "execution_count": 64,
   "metadata": {},
   "outputs": [
    {
     "data": {
      "image/png": "[encoded data removed]",
      "text/plain": [
       "<Figure size 432x288 with 1 Axes>"
      ]
     },
     "metadata": {
      "needs_background": "light"
     },
     "output_type": "display_data"
    }
   ],
   "source": [
    "df.loc[df['AGE'] == -9, 'AGE'] = np.NaN\n",
    "col_list = ['AGE']\n",
    "hist = df.hist(column=col_list, bins=10)"
   ]
  },
  {
   "cell_type": "code",
   "execution_count": 65,
   "metadata": {},
   "outputs": [
    {
     "data": {
      "text/plain": [
       "0    44005\n",
       "1     2137\n",
       "Name: Assisted, dtype: int64"
      ]
     },
     "execution_count": 65,
     "metadata": {},
     "output_type": "execute_result"
    }
   ],
   "source": [
    "df['Assisted'].value_counts()"
   ]
  },
  {
   "cell_type": "code",
   "execution_count": 66,
   "metadata": {},
   "outputs": [
    {
     "data": {
      "text/plain": [
       "'0 Not Assisted'    44005\n",
       "'1 Assisted'         2137\n",
       "Name: FMTAssisted, dtype: int64"
      ]
     },
     "execution_count": 66,
     "metadata": {},
     "output_type": "execute_result"
    }
   ],
   "source": [
    "df['FMTAssisted'].value_counts()"
   ]
  },
  {
   "cell_type": "code",
   "execution_count": 67,
   "metadata": {},
   "outputs": [
    {
     "data": {
      "text/plain": [
       " 3     18372\n",
       " 2     14630\n",
       " 1      5815\n",
       " 4      5422\n",
       " 5       974\n",
       " 0       688\n",
       " 6       179\n",
       " 7        31\n",
       " 10       15\n",
       " 8        13\n",
       "-9         3\n",
       "Name: BEDRMS, dtype: int64"
      ]
     },
     "execution_count": 67,
     "metadata": {},
     "output_type": "execute_result"
    }
   ],
   "source": [
    "df['BEDRMS'].value_counts()"
   ]
  },
  {
   "cell_type": "code",
   "execution_count": 69,
   "metadata": {},
   "outputs": [
    {
     "data": {
      "text/plain": [
       "3              18372\n",
       "2              14630\n",
       "1               5815\n",
       "4               5422\n",
       "5                974\n",
       "0                688\n",
       "6                179\n",
       "7                 31\n",
       "10                15\n",
       "8                 13\n",
       "not_defined        3\n",
       "Name: BEDRMS, dtype: int64"
      ]
     },
     "execution_count": 69,
     "metadata": {},
     "output_type": "execute_result"
    }
   ],
   "source": [
    "df.loc[df['BEDRMS']==-9, 'BEDRMS'] = 'not_defined'\n",
    "df['BEDRMS'].value_counts()"
   ]
  },
  {
   "cell_type": "code",
   "execution_count": 70,
   "metadata": {},
   "outputs": [
    {
     "data": {
      "text/plain": [
       "4     7667\n",
       "5     6424\n",
       "3     5506\n",
       "9     5174\n",
       "2     4129\n",
       "6     3970\n",
       "7     3158\n",
       "8     2708\n",
       "1     1901\n",
       "85     946\n",
       "84     822\n",
       "86     796\n",
       "83     708\n",
       "80     660\n",
       "81     601\n",
       "87     519\n",
       "82     453\n",
       "Name: BUILT, dtype: int64"
      ]
     },
     "execution_count": 70,
     "metadata": {},
     "output_type": "execute_result"
    }
   ],
   "source": [
    "df['BUILT'].value_counts()"
   ]
  },
  {
   "cell_type": "code",
   "execution_count": 72,
   "metadata": {},
   "outputs": [
    {
     "data": {
      "text/plain": [
       "'1960-1979'    19203\n",
       "'-5'           11040\n",
       "'1940-1959'    10394\n",
       "'1980-1989'     5505\n",
       "Name: FMTBuilt, dtype: int64"
      ]
     },
     "execution_count": 72,
     "metadata": {},
     "output_type": "execute_result"
    }
   ],
   "source": [
    "df['FMTBuilt'].value_counts()"
   ]
  },
  {
   "cell_type": "code",
   "execution_count": 73,
   "metadata": {},
   "outputs": [
    {
     "data": {
      "text/plain": [
       "'1960-1979'    19203\n",
       "not_defined    11040\n",
       "'1940-1959'    10394\n",
       "'1980-1989'     5505\n",
       "Name: FMTBuilt, dtype: int64"
      ]
     },
     "execution_count": 73,
     "metadata": {},
     "output_type": "execute_result"
    }
   ],
   "source": [
    "df.loc[df['FMTBuilt'].str.contains('-5'), 'FMTBuilt'] = 'not_defined'\n",
    "df['FMTBuilt'].value_counts()"
   ]
  },
  {
   "cell_type": "code",
   "execution_count": 77,
   "metadata": {},
   "outputs": [
    {
     "data": {
      "image/png": "[encoded data removed]",
      "text/plain": [
       "<Figure size 432x288 with 1 Axes>"
      ]
     },
     "metadata": {
      "needs_background": "light"
     },
     "output_type": "display_data"
    }
   ],
   "source": [
    "hist = df.hist(column='Burden', bins=10)"
   ]
  },
  {
   "cell_type": "code",
   "execution_count": 78,
   "metadata": {},
   "outputs": [
    {
     "data": {
      "image/png": "[encoded data removed]",
      "text/plain": [
       "<Figure size 432x288 with 1 Axes>"
      ]
     },
     "metadata": {
      "needs_background": "light"
     },
     "output_type": "display_data"
    },
    {
     "data": {
      "image/png": "[encoded data removed]",
      "text/plain": [
       "<Figure size 432x288 with 1 Axes>"
      ]
     },
     "metadata": {
      "needs_background": "light"
     },
     "output_type": "display_data"
    }
   ],
   "source": [
    "hist = df.loc[df['Burden'] < 10].hist(column='Burden',bins=10)\n",
    "hist = df.loc[df['Burden'] < 0 ].hist(column='Burden',bins=10)\n"
   ]
  },
  {
   "cell_type": "code",
   "execution_count": 79,
   "metadata": {},
   "outputs": [
    {
     "name": "stdout",
     "output_type": "stream",
     "text": [
      "5131\n",
      "237\n"
     ]
    }
   ],
   "source": [
    "print(df.loc[df['Burden'] == -9, 'Burden'].count())\n",
    "print(df.loc[df['Burden'] == -1, 'Burden'].count())"
   ]
  },
  {
   "cell_type": "markdown",
   "metadata": {},
   "source": [
    "BURDEN is a continuous variable. Setting the 5131 values of -9 to NaN as these seem to be unavailable. Will assume that BURDEN set to -1 are households with no income (the ratio of cost to income would be infinite). There are also households with BURDEN higher than 1. Therefore if BURDEN is -1 or is 10 or more, the BURDEN is to be set at 10."
   ]
  },
  {
   "cell_type": "code",
   "execution_count": 80,
   "metadata": {},
   "outputs": [
    {
     "data": {
      "image/png": "[encoded data removed]",
      "text/plain": [
       "<Figure size 432x288 with 1 Axes>"
      ]
     },
     "metadata": {
      "needs_background": "light"
     },
     "output_type": "display_data"
    }
   ],
   "source": [
    "df.loc[df['Burden'] == -9, 'Burden'] = np.NaN\n",
    "df.loc[df['Burden'] == -1, 'Burden'] = 10\n",
    "df.loc[df['Burden']  > 10, 'Burden'] = 10\n",
    "hist = df.hist(column = 'Burden', bins = 10)"
   ]
  },
  {
   "cell_type": "code",
   "execution_count": 81,
   "metadata": {},
   "outputs": [
    {
     "name": "stdout",
     "output_type": "stream",
     "text": [
      "0\n",
      "0\n"
     ]
    },
    {
     "data": {
      "image/png": "[encoded data removed]",
      "text/plain": [
       "<Figure size 432x288 with 1 Axes>"
      ]
     },
     "metadata": {
      "needs_background": "light"
     },
     "output_type": "display_data"
    },
    {
     "data": {
      "image/png": "[encoded data removed]",
      "text/plain": [
       "<Figure size 432x288 with 1 Axes>"
      ]
     },
     "metadata": {
      "needs_background": "light"
     },
     "output_type": "display_data"
    }
   ],
   "source": [
    "hist = df.hist(column='COSTMed',bins=10)\n",
    "print(df.loc[df['COSTMed'] < 0,'COSTMed'].count())\n",
    "\n",
    "hist = df.hist(column='CostMedRelAMIPct',bins=10)\n",
    "print(df.loc[df['CostMedRelAMIPct'] < 0,'CostMedRelAMIPct'].count())\n"
   ]
  },
  {
   "cell_type": "code",
   "execution_count": 82,
   "metadata": {},
   "outputs": [
    {
     "name": "stdout",
     "output_type": "stream",
     "text": [
      "4    9118\n",
      "7    8170\n",
      "2    7833\n",
      "5    6793\n",
      "3    5182\n",
      "1    5126\n",
      "6    3920\n",
      "Name: CostMedRelAMICat, dtype: int64\n",
      "'4 60 - 80% AMI'      9118\n",
      "'7 120% AMI +'        8170\n",
      "'2 30 - 50% AMI'      7833\n",
      "'5 80 - 100% AMI'     6793\n",
      "'3 50 - 60% AMI'      5182\n",
      "'1 LTE 30% AMI'       5126\n",
      "'6 100 - 120% AMI'    3920\n",
      "Name: FMTCOSTMEDRELAMICAT, dtype: int64\n"
     ]
    }
   ],
   "source": [
    "print(df['CostMedRelAMICat'].value_counts())\n",
    "print(df['FMTCOSTMEDRELAMICAT'].value_counts())"
   ]
  },
  {
   "cell_type": "code",
   "execution_count": 83,
   "metadata": {},
   "outputs": [
    {
     "name": "stdout",
     "output_type": "stream",
     "text": [
      "0\n"
     ]
    },
    {
     "data": {
      "image/png": "[encoded data removed]",
      "text/plain": [
       "<Figure size 432x288 with 1 Axes>"
      ]
     },
     "metadata": {
      "needs_background": "light"
     },
     "output_type": "display_data"
    }
   ],
   "source": [
    "hist = df.hist(column='FMR', bins=10)\n",
    "print(df.loc[df['FMR'] < 0,'FMR'].count())"
   ]
  },
  {
   "cell_type": "code",
   "execution_count": 84,
   "metadata": {},
   "outputs": [
    {
     "data": {
      "text/plain": [
       "'0 Not Assisted'    44005\n",
       "'1 Assisted'         2137\n",
       "Name: FMTAssisted, dtype: int64"
      ]
     },
     "execution_count": 84,
     "metadata": {},
     "output_type": "execute_result"
    }
   ],
   "source": [
    "df['FMTAssisted'].value_counts()"
   ]
  },
  {
   "cell_type": "code",
   "execution_count": 85,
   "metadata": {},
   "outputs": [
    {
     "data": {
      "text/plain": [
       "'-5'              32334\n",
       "'Central City'    13808\n",
       "Name: FMTMetro, dtype: int64"
      ]
     },
     "execution_count": 85,
     "metadata": {},
     "output_type": "execute_result"
    }
   ],
   "source": [
    "df['FMTMetro'].value_counts()"
   ]
  },
  {
   "cell_type": "markdown",
   "metadata": {},
   "source": [
    "Most values have -5 value which is not defined in documentation. Dropping this column."
   ]
  },
  {
   "cell_type": "code",
   "execution_count": 86,
   "metadata": {},
   "outputs": [
    {
     "data": {
      "text/plain": [
       "'1 Owner'     29693\n",
       "'2 Renter'    16449\n",
       "Name: FMTOwnRent, dtype: int64"
      ]
     },
     "execution_count": 86,
     "metadata": {},
     "output_type": "execute_result"
    }
   ],
   "source": [
    "df['FMTOwnRent'].value_counts()"
   ]
  },
  {
   "cell_type": "code",
   "execution_count": 87,
   "metadata": {},
   "outputs": [
    {
     "data": {
      "text/plain": [
       "'-5'      37153\n",
       "'West'     8989\n",
       "Name: FMTRegion, dtype: int64"
      ]
     },
     "execution_count": 87,
     "metadata": {},
     "output_type": "execute_result"
    }
   ],
   "source": [
    "df['FMTRegion'].value_counts()"
   ]
  },
  {
   "cell_type": "markdown",
   "metadata": {},
   "source": [
    "Most values have -5 value which is not defined in documentation. Dropping this column."
   ]
  },
  {
   "cell_type": "code",
   "execution_count": 88,
   "metadata": {},
   "outputs": [
    {
     "data": {
      "text/plain": [
       "'1 Occupied'    43436\n",
       "'3 Vacant'       2706\n",
       "Name: FMTStatus, dtype: int64"
      ]
     },
     "execution_count": 88,
     "metadata": {},
     "output_type": "execute_result"
    }
   ],
   "source": [
    "df['FMTStatus'].value_counts()"
   ]
  },
  {
   "cell_type": "code",
   "execution_count": 90,
   "metadata": {},
   "outputs": [
    {
     "data": {
      "text/plain": [
       "'1 Single Family'    31403\n",
       "'2 2-4 units'         4668\n",
       "'3 5-19 units'        4224\n",
       "'6 Mobile Home'       2900\n",
       "'5 50+ units'         1531\n",
       "'4 20-49 units'       1416\n",
       "Name: FMTStructureType, dtype: int64"
      ]
     },
     "execution_count": 90,
     "metadata": {},
     "output_type": "execute_result"
    }
   ],
   "source": [
    "df['FMTStructureType'].value_counts()"
   ]
  },
  {
   "cell_type": "code",
   "execution_count": 91,
   "metadata": {},
   "outputs": [
    {
     "name": "stdout",
     "output_type": "stream",
     "text": [
      " 7    15664\n",
      " 1     5543\n",
      " 2     5333\n",
      " 5     5050\n",
      " 4     4930\n",
      " 6     4273\n",
      "-9     2706\n",
      " 3     2643\n",
      "Name: IncRelAMICat, dtype: int64\n",
      "'7 120% AMI +'        15664\n",
      "'1 LTE 30% AMI'        5543\n",
      "'2 30 - 50% AMI'       5333\n",
      "'5 80 - 100% AMI'      5050\n",
      "'4 60 - 80% AMI'       4930\n",
      "'6 100 - 120% AMI'     4273\n",
      "'.'                    2706\n",
      "'3 50 - 60% AMI'       2643\n",
      "Name: FMTIncRelAMICat, dtype: int64\n"
     ]
    }
   ],
   "source": [
    "print(df['IncRelAMICat'].value_counts())\n",
    "print(df['FMTIncRelAMICat'].value_counts())"
   ]
  },
  {
   "cell_type": "markdown",
   "metadata": {},
   "source": [
    "Will use FMTIncRelAMICat, dropping IncRelAMICat"
   ]
  },
  {
   "cell_type": "code",
   "execution_count": 92,
   "metadata": {},
   "outputs": [
    {
     "name": "stdout",
     "output_type": "stream",
     "text": [
      "'7 120% AMI +'        15664\n",
      "'1 LTE 30% AMI'        5543\n",
      "'2 30 - 50% AMI'       5333\n",
      "'5 80 - 100% AMI'      5050\n",
      "'4 60 - 80% AMI'       4930\n",
      "'6 100 - 120% AMI'     4273\n",
      "'not_defined'          2706\n",
      "'3 50 - 60% AMI'       2643\n",
      "Name: FMTIncRelAMICat, dtype: int64\n"
     ]
    }
   ],
   "source": [
    "df.loc[df['FMTIncRelAMICat'].str.contains('.', regex=False), 'FMTIncRelAMICat'] = '\\'not_defined\\''\n",
    "print(df['FMTIncRelAMICat'].value_counts())"
   ]
  },
  {
   "cell_type": "code",
   "execution_count": 97,
   "metadata": {},
   "outputs": [
    {
     "data": {
      "image/png": "[encoded data removed]",
      "text/plain": [
       "<Figure size 432x288 with 1 Axes>"
      ]
     },
     "metadata": {
      "needs_background": "light"
     },
     "output_type": "display_data"
    }
   ],
   "source": [
    "hist = df.hist(column='IncRelAMIPct', bins=10)"
   ]
  },
  {
   "cell_type": "code",
   "execution_count": 100,
   "metadata": {},
   "outputs": [
    {
     "data": {
      "text/plain": [
       "0"
      ]
     },
     "execution_count": 100,
     "metadata": {},
     "output_type": "execute_result"
    }
   ],
   "source": [
    "df.loc[df['IncRelAMIPct'] < 0, 'IncRelAMIPct'].count()"
   ]
  },
  {
   "cell_type": "code",
   "execution_count": 101,
   "metadata": {},
   "outputs": [
    {
     "data": {
      "text/plain": [
       "0"
      ]
     },
     "execution_count": 101,
     "metadata": {},
     "output_type": "execute_result"
    },
    {
     "data": {
      "image/png": "[encoded data removed]",
      "text/plain": [
       "<Figure size 432x288 with 1 Axes>"
      ]
     },
     "metadata": {
      "needs_background": "light"
     },
     "output_type": "display_data"
    }
   ],
   "source": [
    "col_list = ['IPov']\n",
    "hist = df.hist(column=col_list, bins=10)\n",
    "df.loc[df['IPov'] < 0, 'IPov'].count()"
   ]
  },
  {
   "cell_type": "code",
   "execution_count": 102,
   "metadata": {},
   "outputs": [
    {
     "data": {
      "text/plain": [
       "0"
      ]
     },
     "execution_count": 102,
     "metadata": {},
     "output_type": "execute_result"
    },
    {
     "data": {
      "image/png": "[encoded data removed]",
      "text/plain": [
       "<Figure size 432x288 with 1 Axes>"
      ]
     },
     "metadata": {
      "needs_background": "light"
     },
     "output_type": "display_data"
    }
   ],
   "source": [
    "hist = df.hist(column = 'LMed', bins = 10)\n",
    "df.loc[df['LMed'] < 0, 'LMed'].count()"
   ]
  },
  {
   "cell_type": "code",
   "execution_count": 103,
   "metadata": {},
   "outputs": [
    {
     "name": "stdout",
     "output_type": "stream",
     "text": [
      "1     34284\n",
      "2      2547\n",
      "4      1376\n",
      "58     1365\n",
      "8       999\n",
      "3       764\n",
      "6       703\n",
      "12      670\n",
      "16      456\n",
      "10      300\n",
      "5       248\n",
      "24      217\n",
      "20      192\n",
      "7       164\n",
      "9       144\n",
      "18      126\n",
      "11      125\n",
      "14      106\n",
      "30       88\n",
      "36       87\n",
      "40       78\n",
      "15       73\n",
      "48       65\n",
      "22       57\n",
      "28       50\n",
      "32       49\n",
      "13       48\n",
      "42       42\n",
      "17       39\n",
      "25       39\n",
      "39       37\n",
      "26       36\n",
      "50       35\n",
      "23       32\n",
      "21       31\n",
      "34       31\n",
      "54       31\n",
      "56       29\n",
      "44       28\n",
      "35       26\n",
      "33       26\n",
      "38       25\n",
      "19       23\n",
      "27       23\n",
      "37       21\n",
      "31       19\n",
      "52       19\n",
      "29       19\n",
      "46       19\n",
      "45       18\n",
      "41       17\n",
      "55       17\n",
      "47       16\n",
      "43       14\n",
      "49       14\n",
      "53       13\n",
      "57       10\n",
      "51        9\n",
      "97        2\n",
      "62        1\n",
      "Name: NUNITS, dtype: int64\n"
     ]
    }
   ],
   "source": [
    "columns = ['NUNITS']\n",
    "for column in columns:\n",
    "    print(df[column].value_counts())"
   ]
  },
  {
   "cell_type": "code",
   "execution_count": 104,
   "metadata": {},
   "outputs": [],
   "source": [
    "# setting new categories for NUNITS\n",
    "for index, row in df.iterrows():\n",
    "    if   row['NUNITS'] > 100:\n",
    "        df.loc[index, 'NUNITS'] = 'gt 100'\n",
    "    elif row['NUNITS'] > 10:\n",
    "        df.loc[index, 'NUNITS'] = 'gt 10'\n",
    "    elif row['NUNITS'] > 1:\n",
    "        df.loc[index, 'NUNITS'] = 'gt 1'\n",
    "    elif row['NUNITS'] == -7:\n",
    "        df.loc[index, 'NUNITS'] = 'not defined'\n",
    "        \n"
   ]
  },
  {
   "cell_type": "code",
   "execution_count": 105,
   "metadata": {},
   "outputs": [
    {
     "data": {
      "text/plain": [
       "1        34284\n",
       "gt 1      7245\n",
       "gt 10     4613\n",
       "Name: NUNITS, dtype: int64"
      ]
     },
     "execution_count": 105,
     "metadata": {},
     "output_type": "execute_result"
    }
   ],
   "source": [
    "df['NUNITS'].value_counts()"
   ]
  },
  {
   "cell_type": "code",
   "execution_count": 106,
   "metadata": {},
   "outputs": [
    {
     "data": {
      "text/plain": [
       "0"
      ]
     },
     "execution_count": 106,
     "metadata": {},
     "output_type": "execute_result"
    },
    {
     "data": {
      "image/png": "[encoded data removed]",
      "text/plain": [
       "<Figure size 432x288 with 1 Axes>"
      ]
     },
     "metadata": {
      "needs_background": "light"
     },
     "output_type": "display_data"
    },
    {
     "data": {
      "image/png": "[encoded data removed]",
      "text/plain": [
       "<Figure size 432x288 with 1 Axes>"
      ]
     },
     "metadata": {
      "needs_background": "light"
     },
     "output_type": "display_data"
    }
   ],
   "source": [
    "hist = df.hist(column='OtherCost',bins=10)\n",
    "hist = df.loc[df['OtherCost'] < 500].hist(column='OtherCost',bins=10)\n",
    "df.loc[df['OtherCost'] < 0, 'OtherCost'].count()"
   ]
  },
  {
   "cell_type": "code",
   "execution_count": 107,
   "metadata": {},
   "outputs": [
    {
     "data": {
      "image/png": "[encoded data removed]",
      "text/plain": [
       "<Figure size 432x288 with 1 Axes>"
      ]
     },
     "metadata": {
      "needs_background": "light"
     },
     "output_type": "display_data"
    }
   ],
   "source": [
    "df.loc[df['OtherCost'] > 500, 'OtherCost'] = 500\n",
    "hist = df.hist(column='OtherCost', bins=10)"
   ]
  },
  {
   "cell_type": "code",
   "execution_count": 108,
   "metadata": {},
   "outputs": [
    {
     "data": {
      "text/plain": [
       "1    29693\n",
       "2    16449\n",
       "Name: OwnRent, dtype: int64"
      ]
     },
     "execution_count": 108,
     "metadata": {},
     "output_type": "execute_result"
    }
   ],
   "source": [
    "df['OwnRent'].value_counts()"
   ]
  },
  {
   "cell_type": "code",
   "execution_count": 109,
   "metadata": {},
   "outputs": [
    {
     "data": {
      "text/plain": [
       " 2     14100\n",
       " 1     10088\n",
       " 3      7708\n",
       " 4      6917\n",
       " 5      3032\n",
       "-9      2706\n",
       " 6       983\n",
       " 7       352\n",
       " 8       150\n",
       " 9        55\n",
       " 10       26\n",
       " 11       13\n",
       " 12        9\n",
       " 13        2\n",
       " 14        1\n",
       "Name: PER, dtype: int64"
      ]
     },
     "execution_count": 109,
     "metadata": {},
     "output_type": "execute_result"
    }
   ],
   "source": [
    "df['PER'].value_counts()"
   ]
  },
  {
   "cell_type": "markdown",
   "metadata": {},
   "source": [
    "If number of persons per unit is greater than 8, setting value to '9 or more'. If PER is negative, setting to not_defined"
   ]
  },
  {
   "cell_type": "code",
   "execution_count": 110,
   "metadata": {},
   "outputs": [
    {
     "data": {
      "text/plain": [
       "2              14100\n",
       "1              10088\n",
       "3               7708\n",
       "4               6917\n",
       "5               3032\n",
       "not_defined     2706\n",
       "6                983\n",
       "7                352\n",
       "8                150\n",
       "9 or more        106\n",
       "Name: PER, dtype: int64"
      ]
     },
     "execution_count": 110,
     "metadata": {},
     "output_type": "execute_result"
    }
   ],
   "source": [
    "df.loc[df['PER'] > 8, 'PER'] = '9 or more'\n",
    "df.loc[df['PER'] == -9, 'PER'] = 'not_defined'\n",
    "df['PER'].value_counts()"
   ]
  },
  {
   "cell_type": "code",
   "execution_count": 111,
   "metadata": {},
   "outputs": [
    {
     "data": {
      "image/png": "[encoded data removed]",
      "text/plain": [
       "<Figure size 432x288 with 1 Axes>"
      ]
     },
     "metadata": {
      "needs_background": "light"
     },
     "output_type": "display_data"
    }
   ],
   "source": [
    "df['ROOMS'].value_counts()\n",
    "hist = df.hist(column='ROOMS', bins=15)"
   ]
  },
  {
   "cell_type": "code",
   "execution_count": 112,
   "metadata": {},
   "outputs": [
    {
     "data": {
      "text/plain": [
       " 1    28857\n",
       " 2    13505\n",
       "-9     2706\n",
       " 3     1074\n",
       "Name: TENURE, dtype: int64"
      ]
     },
     "execution_count": 112,
     "metadata": {},
     "output_type": "execute_result"
    }
   ],
   "source": [
    "df['TENURE'].value_counts()"
   ]
  },
  {
   "cell_type": "code",
   "execution_count": 113,
   "metadata": {},
   "outputs": [
    {
     "data": {
      "text/plain": [
       "1              28857\n",
       "2              13505\n",
       "not_defined     2706\n",
       "3               1074\n",
       "Name: TENURE, dtype: int64"
      ]
     },
     "execution_count": 113,
     "metadata": {},
     "output_type": "execute_result"
    }
   ],
   "source": [
    "df.loc[df['TENURE'] == -9, 'TENURE'] = 'not_defined'\n",
    "df['TENURE'].value_counts()"
   ]
  },
  {
   "cell_type": "code",
   "execution_count": 114,
   "metadata": {},
   "outputs": [
    {
     "data": {
      "text/plain": [
       "-9    2706\n",
       "Name: TotSal, dtype: int64"
      ]
     },
     "execution_count": 114,
     "metadata": {},
     "output_type": "execute_result"
    },
    {
     "data": {
      "image/png": "[encoded data removed]",
      "text/plain": [
       "<Figure size 432x288 with 1 Axes>"
      ]
     },
     "metadata": {
      "needs_background": "light"
     },
     "output_type": "display_data"
    }
   ],
   "source": [
    "hist = df.hist(column='TotSal', bins=20)\n",
    "df.loc[df['TotSal'] < 0, 'TotSal'].value_counts()"
   ]
  },
  {
   "cell_type": "code",
   "execution_count": 115,
   "metadata": {},
   "outputs": [
    {
     "data": {
      "image/png": "[encoded data removed]",
      "text/plain": [
       "<Figure size 432x288 with 1 Axes>"
      ]
     },
     "metadata": {
      "needs_background": "light"
     },
     "output_type": "display_data"
    }
   ],
   "source": [
    "df.loc[df['TotSal'] == -9, 'TotSal'] = np.NaN\n",
    "hist = df.hist(column='TotSal', bins=20)"
   ]
  },
  {
   "cell_type": "code",
   "execution_count": 116,
   "metadata": {},
   "outputs": [
    {
     "data": {
      "text/plain": [
       "0"
      ]
     },
     "execution_count": 116,
     "metadata": {},
     "output_type": "execute_result"
    },
    {
     "data": {
      "image/png": "[encoded data removed]",
      "text/plain": [
       "<Figure size 432x288 with 1 Axes>"
      ]
     },
     "metadata": {
      "needs_background": "light"
     },
     "output_type": "display_data"
    }
   ],
   "source": [
    "hist = df.hist(column='Utility', bins=10)\n",
    "(df['Utility'] < 0).sum()"
   ]
  },
  {
   "cell_type": "code",
   "execution_count": 117,
   "metadata": {},
   "outputs": [
    {
     "data": {
      "text/plain": [
       "-9    43436\n",
       " 1     1524\n",
       " 3      596\n",
       " 5      240\n",
       " 2      185\n",
       " 4      161\n",
       "Name: VACANCY, dtype: int64"
      ]
     },
     "execution_count": 117,
     "metadata": {},
     "output_type": "execute_result"
    }
   ],
   "source": [
    "df['VACANCY'].value_counts()"
   ]
  },
  {
   "cell_type": "markdown",
   "metadata": {},
   "source": [
    "VACANCY has most values set at -9. Not sure what the other values mean. There is no explanation in documentation. Dropping this variable."
   ]
  },
  {
   "cell_type": "code",
   "execution_count": 118,
   "metadata": {},
   "outputs": [
    {
     "data": {
      "text/plain": [
       "-9    16449\n",
       "Name: VALUE, dtype: int64"
      ]
     },
     "execution_count": 118,
     "metadata": {},
     "output_type": "execute_result"
    },
    {
     "data": {
      "image/png": "[encoded data removed]",
      "text/plain": [
       "<Figure size 432x288 with 1 Axes>"
      ]
     },
     "metadata": {
      "needs_background": "light"
     },
     "output_type": "display_data"
    }
   ],
   "source": [
    "hist = df.hist(column='VALUE', bins=20)\n",
    "df.loc[df['VALUE'] < 0, 'VALUE'].value_counts()"
   ]
  },
  {
   "cell_type": "markdown",
   "metadata": {},
   "source": [
    "Setting value of -9 to NaN"
   ]
  },
  {
   "cell_type": "code",
   "execution_count": 119,
   "metadata": {},
   "outputs": [
    {
     "data": {
      "image/png": "[encoded data removed]",
      "text/plain": [
       "<Figure size 432x288 with 1 Axes>"
      ]
     },
     "metadata": {
      "needs_background": "light"
     },
     "output_type": "display_data"
    }
   ],
   "source": [
    "df.loc[df['VALUE'] == -9, 'VALUE'] = np.NaN\n",
    "hist = df.hist(column='VALUE', bins=20)"
   ]
  },
  {
   "cell_type": "code",
   "execution_count": 120,
   "metadata": {},
   "outputs": [
    {
     "data": {
      "text/plain": [
       "-9        2706\n",
       "-10001      12\n",
       "-4001        3\n",
       "-10000       2\n",
       "-6000        2\n",
       "-5001        2\n",
       "-4000        2\n",
       "-2001        1\n",
       "-2200        1\n",
       "-800         1\n",
       "-1100        1\n",
       "-7501        1\n",
       "-1380        1\n",
       "-2000        1\n",
       "-593         1\n",
       "-8501        1\n",
       "-753         1\n",
       "-9001        1\n",
       "-1001        1\n",
       "-3120        1\n",
       "-3500        1\n",
       "-7800        1\n",
       "-1737        1\n",
       "-7900        1\n",
       "-2           1\n",
       "Name: ZINC2, dtype: int64"
      ]
     },
     "execution_count": 120,
     "metadata": {},
     "output_type": "execute_result"
    },
    {
     "data": {
      "image/png": "[encoded data removed]",
      "text/plain": [
       "<Figure size 432x288 with 1 Axes>"
      ]
     },
     "metadata": {
      "needs_background": "light"
     },
     "output_type": "display_data"
    }
   ],
   "source": [
    "hist = df.hist(column='ZINC2', bins=20)\n",
    "df.loc[df['ZINC2'] < 0, 'ZINC2'].value_counts()"
   ]
  },
  {
   "cell_type": "markdown",
   "metadata": {},
   "source": [
    "Values of -9 setting to NaN. Other negative values setting to 0 as these likely represent households in financial distress"
   ]
  },
  {
   "cell_type": "code",
   "execution_count": 121,
   "metadata": {},
   "outputs": [
    {
     "data": {
      "image/png": "[encoded data removed]",
      "text/plain": [
       "<Figure size 432x288 with 1 Axes>"
      ]
     },
     "metadata": {
      "needs_background": "light"
     },
     "output_type": "display_data"
    }
   ],
   "source": [
    "df.loc[df['ZINC2'] == -9, 'ZINC2' ] = np.NaN\n",
    "df.loc[df['ZINC2'] < 0, 'ZINC2' ] = 0\n",
    "hist = df.hist(column='ZINC2', bins=20)"
   ]
  },
  {
   "cell_type": "code",
   "execution_count": 122,
   "metadata": {},
   "outputs": [
    {
     "data": {
      "text/plain": [
       "-9    3447\n",
       "Name: ZSMHC, dtype: int64"
      ]
     },
     "execution_count": 122,
     "metadata": {},
     "output_type": "execute_result"
    },
    {
     "data": {
      "image/png": "[encoded data removed]",
      "text/plain": [
       "<Figure size 432x288 with 1 Axes>"
      ]
     },
     "metadata": {
      "needs_background": "light"
     },
     "output_type": "display_data"
    }
   ],
   "source": [
    "hist = df.hist(column='ZSMHC', bins=20)\n",
    "df.loc[df['ZSMHC'] < 0, 'ZSMHC'].value_counts()"
   ]
  },
  {
   "cell_type": "markdown",
   "metadata": {},
   "source": [
    "Values of -9 setting to NaN."
   ]
  },
  {
   "cell_type": "code",
   "execution_count": 123,
   "metadata": {},
   "outputs": [
    {
     "data": {
      "image/png": "[encoded data removed]",
      "text/plain": [
       "<Figure size 432x288 with 1 Axes>"
      ]
     },
     "metadata": {
      "needs_background": "light"
     },
     "output_type": "display_data"
    }
   ],
   "source": [
    "df.loc[df['ZSMHC'] == -9, 'ZSMHC' ] = np.NaN\n",
    "hist = df.hist(column='ZSMHC', bins=20)"
   ]
  },
  {
   "cell_type": "code",
   "execution_count": null,
   "metadata": {},
   "outputs": [],
   "source": []
  }
 ],
 "metadata": {
  "kernelspec": {
   "display_name": "Python 3",
   "language": "python",
   "name": "python3"
  }
 },
 "nbformat": 4,
 "nbformat_minor": 2
}
