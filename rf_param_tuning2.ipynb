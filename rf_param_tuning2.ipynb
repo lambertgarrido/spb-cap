{
 "cells": [
  {
   "cell_type": "code",
   "execution_count": 1,
   "metadata": {},
   "outputs": [
    {
     "name": "stdout",
     "output_type": "stream",
     "text": [
      "(771870, 24)\n",
      "(771870, 20)\n",
      "(486785, 20)\n",
      "Index(['AGE', 'BEDRMS', 'FMR', 'INCRELAMIPCT', 'IPOV', 'LMED', 'NUNITS', 'PER',\n",
      "       'ROOMS', 'VALUE', 'ZSMHC', 'REGION', 'YEAR', 'FMTBUILT_'1960-1979'',\n",
      "       'FMTBUILT_'1980-1989'', 'FMTBUILT_'1990-1999'', 'FMTBUILT_'2000-2009'',\n",
      "       'FMTBUILT_'After 2010'', 'FMTBUILT_'not_defined'',\n",
      "       'FMTASSISTED_'0 Not Assisted'', 'FMTSTRUCTURETYPE_'2 2-4 units'',\n",
      "       'FMTSTRUCTURETYPE_'3 5-19 units'', 'FMTSTRUCTURETYPE_'4 20-49 units'',\n",
      "       'FMTSTRUCTURETYPE_'5 50+ units'', 'FMTSTRUCTURETYPE_'6 Mobile Home'',\n",
      "       'FMTMETRO_'Central City'', 'FMTZADEQ_'2 Moderately Inadequ'',\n",
      "       'FMTZADEQ_'3 Severely Indadequa''],\n",
      "      dtype='object')\n"
     ]
    }
   ],
   "source": [
    "import pandas as pd\n",
    "from sklearn.linear_model import Ridge\n",
    "from sklearn.model_selection import train_test_split\n",
    "from sklearn.model_selection import GridSearchCV\n",
    "from sklearn.model_selection import RandomizedSearchCV\n",
    "import matplotlib.pyplot as plt\n",
    "import numpy as np\n",
    "from sklearn.preprocessing import StandardScaler\n",
    "from sklearn.pipeline import Pipeline\n",
    "from sklearn.preprocessing import scale\n",
    "from sklearn.ensemble import RandomForestRegressor\n",
    "import gc\n",
    "import sys\n",
    "from pprint import pprint\n",
    "\n",
    "#df_13 = pd.read_csv('13_clean.csv')\n",
    "#df_13.head()\n",
    "\n",
    "years = ['85', '87', '89', '91', '93', '95', '97', '99', '01', '03', '05', '07', '09', '11', '13']\n",
    "years_num = [1985, 1987, 1989, 1991, 1993, 1995, 1997, 1999, 2001, 2003, 2005, 2007, 2009, 2011, 2013 ]\n",
    "\n",
    "\n",
    "def combineDataFrame(years, years_num):\n",
    "    \n",
    "    df_allYears = pd.DataFrame()\n",
    "    \n",
    "    for year, i in zip(years, years_num):\n",
    "        df = pd.read_csv(year + '_clean.csv')\n",
    "        df['YEAR'] = i\n",
    "        df_allYears = df_allYears.append(df)\n",
    "    \n",
    "    return df_allYears\n",
    "    \n",
    "df_allYears = combineDataFrame(years, years_num)\n",
    "\n",
    "#Keep only LMED from above set since 'ABL50', 'ABL80', 'ABLMED', 'GL50', 'GL80', 'GLMED', 'L50' are correlated\n",
    "cols = ['ABL50', 'ABL80', 'ABLMED', 'GL50', 'GL80', 'GLMED', 'L50']\n",
    "df_allYears.drop(cols, axis=1, inplace=True)\n",
    "\n",
    "\n",
    "#Keep only 'INCRELAMIPCT' from above set since 'ZINC2', 'TOTSAL' are correlated\n",
    "cols = ['ZINC2', 'TOTSAL']\n",
    "df_allYears.drop(cols, axis=1, inplace=True)\n",
    "\n",
    "#choose columns that are independent, e.g. COSTMED, COSTMEDRELAMITPCT, FMTCOSTMEDRELAMIPCT \n",
    "#show the same data in different format; ditto for FMTINCRELAMICAT and INCRELAMIPCT\n",
    "# drop CONTROL as well\n",
    "cols = ['CONTROL', 'COSTMED', 'FMTCOSTMEDRELAMICAT', 'FMTINCRELAMICAT']\n",
    "df_allYears.drop(cols, axis=1, inplace=True)\n",
    "print(df_allYears.shape)\n",
    "\n",
    "#removing columns related to cost since these are related to target variable ZSMHC (monthly housing cost)\n",
    "cols = ['COSTMEDRELAMIPCT', 'BURDEN', 'OTHERCOST', 'UTILITY']\n",
    "df_allYears.drop(cols, axis=1, inplace=True)\n",
    "print(df_allYears.shape)\n",
    "\n",
    "#drop na values\n",
    "df_allYears = df_allYears.dropna()\n",
    "print(df_allYears.shape)\n",
    "\n",
    "#remove values of FMTMETRO set to 9;\n",
    "df_allYears = df_allYears.loc[~df_allYears['FMTMETRO'].str.contains('9', regex=False)]\n",
    "\n",
    "\n",
    "#drop FMTSTATUS - earlier generated ill-defined matrix warning for ridge regression;\n",
    "#values for this column is constanct for several years\n",
    "df_allYears.drop('FMTSTATUS', axis=1, inplace=True)\n",
    "\n",
    "#converting REGION from int type to string type\n",
    "df_allYears['REGION'].apply(str)\n",
    "\n",
    "#convert categorical variables to indicator variables\n",
    "df_allYears = pd.get_dummies(df_allYears, drop_first=True)\n",
    "\n",
    "print(df_allYears.columns)"
   ]
  },
  {
   "cell_type": "code",
   "execution_count": 2,
   "metadata": {},
   "outputs": [],
   "source": [
    "X = df_allYears.drop(['ZSMHC'], axis=1).values\n",
    "\n",
    "y = df_allYears['ZSMHC'].values\n",
    "\n",
    "X_train, X_test, y_train, y_test = train_test_split(X, y, test_size=0.3, random_state=42)\n",
    "\n",
    "del df_allYears\n",
    "del X\n",
    "del y"
   ]
  },
  {
   "cell_type": "code",
   "execution_count": 3,
   "metadata": {},
   "outputs": [
    {
     "name": "stdout",
     "output_type": "stream",
     "text": [
      "Fitting 3 folds for each of 72 candidates, totalling 216 fits\n",
      "[CV] bootstrap=False, max_depth=16, max_features=sqrt, min_samples_leaf=1, min_samples_split=2, n_estimators=100 \n"
     ]
    },
    {
     "name": "stderr",
     "output_type": "stream",
     "text": [
      "[Parallel(n_jobs=1)]: Using backend SequentialBackend with 1 concurrent workers.\n"
     ]
    },
    {
     "name": "stdout",
     "output_type": "stream",
     "text": [
      "[CV]  bootstrap=False, max_depth=16, max_features=sqrt, min_samples_leaf=1, min_samples_split=2, n_estimators=100, total=  51.2s\n",
      "[CV] bootstrap=False, max_depth=16, max_features=sqrt, min_samples_leaf=1, min_samples_split=2, n_estimators=100 \n"
     ]
    },
    {
     "name": "stderr",
     "output_type": "stream",
     "text": [
      "[Parallel(n_jobs=1)]: Done   1 out of   1 | elapsed:   51.2s remaining:    0.0s\n"
     ]
    },
    {
     "name": "stdout",
     "output_type": "stream",
     "text": [
      "[CV]  bootstrap=False, max_depth=16, max_features=sqrt, min_samples_leaf=1, min_samples_split=2, n_estimators=100, total=  50.3s\n",
      "[CV] bootstrap=False, max_depth=16, max_features=sqrt, min_samples_leaf=1, min_samples_split=2, n_estimators=100 \n",
      "[CV]  bootstrap=False, max_depth=16, max_features=sqrt, min_samples_leaf=1, min_samples_split=2, n_estimators=100, total=  49.3s\n",
      "[CV] bootstrap=False, max_depth=16, max_features=sqrt, min_samples_leaf=1, min_samples_split=2, n_estimators=200 \n",
      "[CV]  bootstrap=False, max_depth=16, max_features=sqrt, min_samples_leaf=1, min_samples_split=2, n_estimators=200, total= 1.6min\n",
      "[CV] bootstrap=False, max_depth=16, max_features=sqrt, min_samples_leaf=1, min_samples_split=2, n_estimators=200 \n",
      "[CV]  bootstrap=False, max_depth=16, max_features=sqrt, min_samples_leaf=1, min_samples_split=2, n_estimators=200, total= 1.7min\n",
      "[CV] bootstrap=False, max_depth=16, max_features=sqrt, min_samples_leaf=1, min_samples_split=2, n_estimators=200 \n",
      "[CV]  bootstrap=False, max_depth=16, max_features=sqrt, min_samples_leaf=1, min_samples_split=2, n_estimators=200, total= 1.6min\n",
      "[CV] bootstrap=False, max_depth=16, max_features=sqrt, min_samples_leaf=1, min_samples_split=2, n_estimators=300 \n",
      "[CV]  bootstrap=False, max_depth=16, max_features=sqrt, min_samples_leaf=1, min_samples_split=2, n_estimators=300, total= 2.4min\n",
      "[CV] bootstrap=False, max_depth=16, max_features=sqrt, min_samples_leaf=1, min_samples_split=2, n_estimators=300 \n",
      "[CV]  bootstrap=False, max_depth=16, max_features=sqrt, min_samples_leaf=1, min_samples_split=2, n_estimators=300, total= 2.5min\n",
      "[CV] bootstrap=False, max_depth=16, max_features=sqrt, min_samples_leaf=1, min_samples_split=2, n_estimators=300 \n",
      "[CV]  bootstrap=False, max_depth=16, max_features=sqrt, min_samples_leaf=1, min_samples_split=2, n_estimators=300, total= 2.5min\n",
      "[CV] bootstrap=False, max_depth=16, max_features=sqrt, min_samples_leaf=1, min_samples_split=2, n_estimators=500 \n",
      "[CV]  bootstrap=False, max_depth=16, max_features=sqrt, min_samples_leaf=1, min_samples_split=2, n_estimators=500, total= 4.1min\n",
      "[CV] bootstrap=False, max_depth=16, max_features=sqrt, min_samples_leaf=1, min_samples_split=2, n_estimators=500 \n",
      "[CV]  bootstrap=False, max_depth=16, max_features=sqrt, min_samples_leaf=1, min_samples_split=2, n_estimators=500, total= 4.1min\n",
      "[CV] bootstrap=False, max_depth=16, max_features=sqrt, min_samples_leaf=1, min_samples_split=2, n_estimators=500 \n",
      "[CV]  bootstrap=False, max_depth=16, max_features=sqrt, min_samples_leaf=1, min_samples_split=2, n_estimators=500, total= 4.1min\n",
      "[CV] bootstrap=False, max_depth=16, max_features=sqrt, min_samples_leaf=1, min_samples_split=5, n_estimators=100 \n",
      "[CV]  bootstrap=False, max_depth=16, max_features=sqrt, min_samples_leaf=1, min_samples_split=5, n_estimators=100, total=  48.4s\n",
      "[CV] bootstrap=False, max_depth=16, max_features=sqrt, min_samples_leaf=1, min_samples_split=5, n_estimators=100 \n",
      "[CV]  bootstrap=False, max_depth=16, max_features=sqrt, min_samples_leaf=1, min_samples_split=5, n_estimators=100, total=  48.7s\n",
      "[CV] bootstrap=False, max_depth=16, max_features=sqrt, min_samples_leaf=1, min_samples_split=5, n_estimators=100 \n",
      "[CV]  bootstrap=False, max_depth=16, max_features=sqrt, min_samples_leaf=1, min_samples_split=5, n_estimators=100, total=  48.3s\n",
      "[CV] bootstrap=False, max_depth=16, max_features=sqrt, min_samples_leaf=1, min_samples_split=5, n_estimators=200 \n",
      "[CV]  bootstrap=False, max_depth=16, max_features=sqrt, min_samples_leaf=1, min_samples_split=5, n_estimators=200, total= 1.6min\n",
      "[CV] bootstrap=False, max_depth=16, max_features=sqrt, min_samples_leaf=1, min_samples_split=5, n_estimators=200 \n",
      "[CV]  bootstrap=False, max_depth=16, max_features=sqrt, min_samples_leaf=1, min_samples_split=5, n_estimators=200, total= 1.6min\n",
      "[CV] bootstrap=False, max_depth=16, max_features=sqrt, min_samples_leaf=1, min_samples_split=5, n_estimators=200 \n",
      "[CV]  bootstrap=False, max_depth=16, max_features=sqrt, min_samples_leaf=1, min_samples_split=5, n_estimators=200, total= 1.6min\n",
      "[CV] bootstrap=False, max_depth=16, max_features=sqrt, min_samples_leaf=1, min_samples_split=5, n_estimators=300 \n",
      "[CV]  bootstrap=False, max_depth=16, max_features=sqrt, min_samples_leaf=1, min_samples_split=5, n_estimators=300, total= 2.4min\n",
      "[CV] bootstrap=False, max_depth=16, max_features=sqrt, min_samples_leaf=1, min_samples_split=5, n_estimators=300 \n",
      "[CV]  bootstrap=False, max_depth=16, max_features=sqrt, min_samples_leaf=1, min_samples_split=5, n_estimators=300, total= 2.5min\n",
      "[CV] bootstrap=False, max_depth=16, max_features=sqrt, min_samples_leaf=1, min_samples_split=5, n_estimators=300 \n",
      "[CV]  bootstrap=False, max_depth=16, max_features=sqrt, min_samples_leaf=1, min_samples_split=5, n_estimators=300, total= 2.5min\n",
      "[CV] bootstrap=False, max_depth=16, max_features=sqrt, min_samples_leaf=1, min_samples_split=5, n_estimators=500 \n",
      "[CV]  bootstrap=False, max_depth=16, max_features=sqrt, min_samples_leaf=1, min_samples_split=5, n_estimators=500, total= 4.0min\n",
      "[CV] bootstrap=False, max_depth=16, max_features=sqrt, min_samples_leaf=1, min_samples_split=5, n_estimators=500 \n",
      "[CV]  bootstrap=False, max_depth=16, max_features=sqrt, min_samples_leaf=1, min_samples_split=5, n_estimators=500, total= 4.1min\n",
      "[CV] bootstrap=False, max_depth=16, max_features=sqrt, min_samples_leaf=1, min_samples_split=5, n_estimators=500 \n",
      "[CV]  bootstrap=False, max_depth=16, max_features=sqrt, min_samples_leaf=1, min_samples_split=5, n_estimators=500, total= 4.1min\n",
      "[CV] bootstrap=False, max_depth=16, max_features=sqrt, min_samples_leaf=1, min_samples_split=10, n_estimators=100 \n",
      "[CV]  bootstrap=False, max_depth=16, max_features=sqrt, min_samples_leaf=1, min_samples_split=10, n_estimators=100, total=  49.5s\n",
      "[CV] bootstrap=False, max_depth=16, max_features=sqrt, min_samples_leaf=1, min_samples_split=10, n_estimators=100 \n",
      "[CV]  bootstrap=False, max_depth=16, max_features=sqrt, min_samples_leaf=1, min_samples_split=10, n_estimators=100, total=  49.5s\n",
      "[CV] bootstrap=False, max_depth=16, max_features=sqrt, min_samples_leaf=1, min_samples_split=10, n_estimators=100 \n",
      "[CV]  bootstrap=False, max_depth=16, max_features=sqrt, min_samples_leaf=1, min_samples_split=10, n_estimators=100, total=  48.3s\n",
      "[CV] bootstrap=False, max_depth=16, max_features=sqrt, min_samples_leaf=1, min_samples_split=10, n_estimators=200 \n",
      "[CV]  bootstrap=False, max_depth=16, max_features=sqrt, min_samples_leaf=1, min_samples_split=10, n_estimators=200, total= 1.6min\n",
      "[CV] bootstrap=False, max_depth=16, max_features=sqrt, min_samples_leaf=1, min_samples_split=10, n_estimators=200 \n",
      "[CV]  bootstrap=False, max_depth=16, max_features=sqrt, min_samples_leaf=1, min_samples_split=10, n_estimators=200, total= 1.6min\n",
      "[CV] bootstrap=False, max_depth=16, max_features=sqrt, min_samples_leaf=1, min_samples_split=10, n_estimators=200 \n",
      "[CV]  bootstrap=False, max_depth=16, max_features=sqrt, min_samples_leaf=1, min_samples_split=10, n_estimators=200, total= 1.6min\n",
      "[CV] bootstrap=False, max_depth=16, max_features=sqrt, min_samples_leaf=1, min_samples_split=10, n_estimators=300 \n",
      "[CV]  bootstrap=False, max_depth=16, max_features=sqrt, min_samples_leaf=1, min_samples_split=10, n_estimators=300, total= 2.5min\n",
      "[CV] bootstrap=False, max_depth=16, max_features=sqrt, min_samples_leaf=1, min_samples_split=10, n_estimators=300 \n",
      "[CV]  bootstrap=False, max_depth=16, max_features=sqrt, min_samples_leaf=1, min_samples_split=10, n_estimators=300, total= 2.5min\n",
      "[CV] bootstrap=False, max_depth=16, max_features=sqrt, min_samples_leaf=1, min_samples_split=10, n_estimators=300 \n",
      "[CV]  bootstrap=False, max_depth=16, max_features=sqrt, min_samples_leaf=1, min_samples_split=10, n_estimators=300, total= 2.4min\n",
      "[CV] bootstrap=False, max_depth=16, max_features=sqrt, min_samples_leaf=1, min_samples_split=10, n_estimators=500 \n",
      "[CV]  bootstrap=False, max_depth=16, max_features=sqrt, min_samples_leaf=1, min_samples_split=10, n_estimators=500, total= 4.1min\n",
      "[CV] bootstrap=False, max_depth=16, max_features=sqrt, min_samples_leaf=1, min_samples_split=10, n_estimators=500 \n",
      "[CV]  bootstrap=False, max_depth=16, max_features=sqrt, min_samples_leaf=1, min_samples_split=10, n_estimators=500, total= 4.1min\n",
      "[CV] bootstrap=False, max_depth=16, max_features=sqrt, min_samples_leaf=1, min_samples_split=10, n_estimators=500 \n"
     ]
    },
    {
     "name": "stdout",
     "output_type": "stream",
     "text": [
      "[CV]  bootstrap=False, max_depth=16, max_features=sqrt, min_samples_leaf=1, min_samples_split=10, n_estimators=500, total= 4.1min\n",
      "[CV] bootstrap=False, max_depth=16, max_features=sqrt, min_samples_leaf=2, min_samples_split=2, n_estimators=100 \n",
      "[CV]  bootstrap=False, max_depth=16, max_features=sqrt, min_samples_leaf=2, min_samples_split=2, n_estimators=100, total=  49.2s\n",
      "[CV] bootstrap=False, max_depth=16, max_features=sqrt, min_samples_leaf=2, min_samples_split=2, n_estimators=100 \n",
      "[CV]  bootstrap=False, max_depth=16, max_features=sqrt, min_samples_leaf=2, min_samples_split=2, n_estimators=100, total=  49.0s\n",
      "[CV] bootstrap=False, max_depth=16, max_features=sqrt, min_samples_leaf=2, min_samples_split=2, n_estimators=100 \n",
      "[CV]  bootstrap=False, max_depth=16, max_features=sqrt, min_samples_leaf=2, min_samples_split=2, n_estimators=100, total=  49.8s\n",
      "[CV] bootstrap=False, max_depth=16, max_features=sqrt, min_samples_leaf=2, min_samples_split=2, n_estimators=200 \n",
      "[CV]  bootstrap=False, max_depth=16, max_features=sqrt, min_samples_leaf=2, min_samples_split=2, n_estimators=200, total= 1.6min\n",
      "[CV] bootstrap=False, max_depth=16, max_features=sqrt, min_samples_leaf=2, min_samples_split=2, n_estimators=200 \n",
      "[CV]  bootstrap=False, max_depth=16, max_features=sqrt, min_samples_leaf=2, min_samples_split=2, n_estimators=200, total= 1.7min\n",
      "[CV] bootstrap=False, max_depth=16, max_features=sqrt, min_samples_leaf=2, min_samples_split=2, n_estimators=200 \n",
      "[CV]  bootstrap=False, max_depth=16, max_features=sqrt, min_samples_leaf=2, min_samples_split=2, n_estimators=200, total= 1.7min\n",
      "[CV] bootstrap=False, max_depth=16, max_features=sqrt, min_samples_leaf=2, min_samples_split=2, n_estimators=300 \n",
      "[CV]  bootstrap=False, max_depth=16, max_features=sqrt, min_samples_leaf=2, min_samples_split=2, n_estimators=300, total= 2.5min\n",
      "[CV] bootstrap=False, max_depth=16, max_features=sqrt, min_samples_leaf=2, min_samples_split=2, n_estimators=300 \n",
      "[CV]  bootstrap=False, max_depth=16, max_features=sqrt, min_samples_leaf=2, min_samples_split=2, n_estimators=300, total= 2.5min\n",
      "[CV] bootstrap=False, max_depth=16, max_features=sqrt, min_samples_leaf=2, min_samples_split=2, n_estimators=300 \n",
      "[CV]  bootstrap=False, max_depth=16, max_features=sqrt, min_samples_leaf=2, min_samples_split=2, n_estimators=300, total= 2.4min\n",
      "[CV] bootstrap=False, max_depth=16, max_features=sqrt, min_samples_leaf=2, min_samples_split=2, n_estimators=500 \n",
      "[CV]  bootstrap=False, max_depth=16, max_features=sqrt, min_samples_leaf=2, min_samples_split=2, n_estimators=500, total= 4.1min\n",
      "[CV] bootstrap=False, max_depth=16, max_features=sqrt, min_samples_leaf=2, min_samples_split=2, n_estimators=500 \n",
      "[CV]  bootstrap=False, max_depth=16, max_features=sqrt, min_samples_leaf=2, min_samples_split=2, n_estimators=500, total= 4.1min\n",
      "[CV] bootstrap=False, max_depth=16, max_features=sqrt, min_samples_leaf=2, min_samples_split=2, n_estimators=500 \n",
      "[CV]  bootstrap=False, max_depth=16, max_features=sqrt, min_samples_leaf=2, min_samples_split=2, n_estimators=500, total= 4.1min\n",
      "[CV] bootstrap=False, max_depth=16, max_features=sqrt, min_samples_leaf=2, min_samples_split=5, n_estimators=100 \n",
      "[CV]  bootstrap=False, max_depth=16, max_features=sqrt, min_samples_leaf=2, min_samples_split=5, n_estimators=100, total=  49.6s\n",
      "[CV] bootstrap=False, max_depth=16, max_features=sqrt, min_samples_leaf=2, min_samples_split=5, n_estimators=100 \n",
      "[CV]  bootstrap=False, max_depth=16, max_features=sqrt, min_samples_leaf=2, min_samples_split=5, n_estimators=100, total=  49.7s\n",
      "[CV] bootstrap=False, max_depth=16, max_features=sqrt, min_samples_leaf=2, min_samples_split=5, n_estimators=100 \n",
      "[CV]  bootstrap=False, max_depth=16, max_features=sqrt, min_samples_leaf=2, min_samples_split=5, n_estimators=100, total=  48.8s\n",
      "[CV] bootstrap=False, max_depth=16, max_features=sqrt, min_samples_leaf=2, min_samples_split=5, n_estimators=200 \n",
      "[CV]  bootstrap=False, max_depth=16, max_features=sqrt, min_samples_leaf=2, min_samples_split=5, n_estimators=200, total= 1.6min\n",
      "[CV] bootstrap=False, max_depth=16, max_features=sqrt, min_samples_leaf=2, min_samples_split=5, n_estimators=200 \n",
      "[CV]  bootstrap=False, max_depth=16, max_features=sqrt, min_samples_leaf=2, min_samples_split=5, n_estimators=200, total= 1.6min\n",
      "[CV] bootstrap=False, max_depth=16, max_features=sqrt, min_samples_leaf=2, min_samples_split=5, n_estimators=200 \n",
      "[CV]  bootstrap=False, max_depth=16, max_features=sqrt, min_samples_leaf=2, min_samples_split=5, n_estimators=200, total= 1.6min\n",
      "[CV] bootstrap=False, max_depth=16, max_features=sqrt, min_samples_leaf=2, min_samples_split=5, n_estimators=300 \n",
      "[CV]  bootstrap=False, max_depth=16, max_features=sqrt, min_samples_leaf=2, min_samples_split=5, n_estimators=300, total= 2.5min\n",
      "[CV] bootstrap=False, max_depth=16, max_features=sqrt, min_samples_leaf=2, min_samples_split=5, n_estimators=300 \n",
      "[CV]  bootstrap=False, max_depth=16, max_features=sqrt, min_samples_leaf=2, min_samples_split=5, n_estimators=300, total= 2.5min\n",
      "[CV] bootstrap=False, max_depth=16, max_features=sqrt, min_samples_leaf=2, min_samples_split=5, n_estimators=300 \n",
      "[CV]  bootstrap=False, max_depth=16, max_features=sqrt, min_samples_leaf=2, min_samples_split=5, n_estimators=300, total= 2.5min\n",
      "[CV] bootstrap=False, max_depth=16, max_features=sqrt, min_samples_leaf=2, min_samples_split=5, n_estimators=500 \n",
      "[CV]  bootstrap=False, max_depth=16, max_features=sqrt, min_samples_leaf=2, min_samples_split=5, n_estimators=500, total= 4.1min\n",
      "[CV] bootstrap=False, max_depth=16, max_features=sqrt, min_samples_leaf=2, min_samples_split=5, n_estimators=500 \n",
      "[CV]  bootstrap=False, max_depth=16, max_features=sqrt, min_samples_leaf=2, min_samples_split=5, n_estimators=500, total= 4.1min\n",
      "[CV] bootstrap=False, max_depth=16, max_features=sqrt, min_samples_leaf=2, min_samples_split=5, n_estimators=500 \n",
      "[CV]  bootstrap=False, max_depth=16, max_features=sqrt, min_samples_leaf=2, min_samples_split=5, n_estimators=500, total= 4.1min\n",
      "[CV] bootstrap=False, max_depth=16, max_features=sqrt, min_samples_leaf=2, min_samples_split=10, n_estimators=100 \n",
      "[CV]  bootstrap=False, max_depth=16, max_features=sqrt, min_samples_leaf=2, min_samples_split=10, n_estimators=100, total=  49.0s\n",
      "[CV] bootstrap=False, max_depth=16, max_features=sqrt, min_samples_leaf=2, min_samples_split=10, n_estimators=100 \n",
      "[CV]  bootstrap=False, max_depth=16, max_features=sqrt, min_samples_leaf=2, min_samples_split=10, n_estimators=100, total=  48.8s\n",
      "[CV] bootstrap=False, max_depth=16, max_features=sqrt, min_samples_leaf=2, min_samples_split=10, n_estimators=100 \n",
      "[CV]  bootstrap=False, max_depth=16, max_features=sqrt, min_samples_leaf=2, min_samples_split=10, n_estimators=100, total=  49.1s\n",
      "[CV] bootstrap=False, max_depth=16, max_features=sqrt, min_samples_leaf=2, min_samples_split=10, n_estimators=200 \n",
      "[CV]  bootstrap=False, max_depth=16, max_features=sqrt, min_samples_leaf=2, min_samples_split=10, n_estimators=200, total= 1.6min\n",
      "[CV] bootstrap=False, max_depth=16, max_features=sqrt, min_samples_leaf=2, min_samples_split=10, n_estimators=200 \n",
      "[CV]  bootstrap=False, max_depth=16, max_features=sqrt, min_samples_leaf=2, min_samples_split=10, n_estimators=200, total= 1.6min\n",
      "[CV] bootstrap=False, max_depth=16, max_features=sqrt, min_samples_leaf=2, min_samples_split=10, n_estimators=200 \n",
      "[CV]  bootstrap=False, max_depth=16, max_features=sqrt, min_samples_leaf=2, min_samples_split=10, n_estimators=200, total= 1.6min\n",
      "[CV] bootstrap=False, max_depth=16, max_features=sqrt, min_samples_leaf=2, min_samples_split=10, n_estimators=300 \n",
      "[CV]  bootstrap=False, max_depth=16, max_features=sqrt, min_samples_leaf=2, min_samples_split=10, n_estimators=300, total= 2.4min\n",
      "[CV] bootstrap=False, max_depth=16, max_features=sqrt, min_samples_leaf=2, min_samples_split=10, n_estimators=300 \n",
      "[CV]  bootstrap=False, max_depth=16, max_features=sqrt, min_samples_leaf=2, min_samples_split=10, n_estimators=300, total= 2.5min\n",
      "[CV] bootstrap=False, max_depth=16, max_features=sqrt, min_samples_leaf=2, min_samples_split=10, n_estimators=300 \n",
      "[CV]  bootstrap=False, max_depth=16, max_features=sqrt, min_samples_leaf=2, min_samples_split=10, n_estimators=300, total= 2.4min\n",
      "[CV] bootstrap=False, max_depth=16, max_features=sqrt, min_samples_leaf=2, min_samples_split=10, n_estimators=500 \n"
     ]
    },
    {
     "name": "stdout",
     "output_type": "stream",
     "text": [
      "[CV]  bootstrap=False, max_depth=16, max_features=sqrt, min_samples_leaf=2, min_samples_split=10, n_estimators=500, total= 4.1min\n",
      "[CV] bootstrap=False, max_depth=16, max_features=sqrt, min_samples_leaf=2, min_samples_split=10, n_estimators=500 \n",
      "[CV]  bootstrap=False, max_depth=16, max_features=sqrt, min_samples_leaf=2, min_samples_split=10, n_estimators=500, total= 4.0min\n",
      "[CV] bootstrap=False, max_depth=16, max_features=sqrt, min_samples_leaf=2, min_samples_split=10, n_estimators=500 \n",
      "[CV]  bootstrap=False, max_depth=16, max_features=sqrt, min_samples_leaf=2, min_samples_split=10, n_estimators=500, total= 4.0min\n",
      "[CV] bootstrap=False, max_depth=18, max_features=sqrt, min_samples_leaf=1, min_samples_split=2, n_estimators=100 \n",
      "[CV]  bootstrap=False, max_depth=18, max_features=sqrt, min_samples_leaf=1, min_samples_split=2, n_estimators=100, total=  57.0s\n",
      "[CV] bootstrap=False, max_depth=18, max_features=sqrt, min_samples_leaf=1, min_samples_split=2, n_estimators=100 \n",
      "[CV]  bootstrap=False, max_depth=18, max_features=sqrt, min_samples_leaf=1, min_samples_split=2, n_estimators=100, total=  56.1s\n",
      "[CV] bootstrap=False, max_depth=18, max_features=sqrt, min_samples_leaf=1, min_samples_split=2, n_estimators=100 \n",
      "[CV]  bootstrap=False, max_depth=18, max_features=sqrt, min_samples_leaf=1, min_samples_split=2, n_estimators=100, total=  56.3s\n",
      "[CV] bootstrap=False, max_depth=18, max_features=sqrt, min_samples_leaf=1, min_samples_split=2, n_estimators=200 \n",
      "[CV]  bootstrap=False, max_depth=18, max_features=sqrt, min_samples_leaf=1, min_samples_split=2, n_estimators=200, total= 1.9min\n",
      "[CV] bootstrap=False, max_depth=18, max_features=sqrt, min_samples_leaf=1, min_samples_split=2, n_estimators=200 \n",
      "[CV]  bootstrap=False, max_depth=18, max_features=sqrt, min_samples_leaf=1, min_samples_split=2, n_estimators=200, total= 1.9min\n",
      "[CV] bootstrap=False, max_depth=18, max_features=sqrt, min_samples_leaf=1, min_samples_split=2, n_estimators=200 \n",
      "[CV]  bootstrap=False, max_depth=18, max_features=sqrt, min_samples_leaf=1, min_samples_split=2, n_estimators=200, total= 1.9min\n",
      "[CV] bootstrap=False, max_depth=18, max_features=sqrt, min_samples_leaf=1, min_samples_split=2, n_estimators=300 \n",
      "[CV]  bootstrap=False, max_depth=18, max_features=sqrt, min_samples_leaf=1, min_samples_split=2, n_estimators=300, total= 2.9min\n",
      "[CV] bootstrap=False, max_depth=18, max_features=sqrt, min_samples_leaf=1, min_samples_split=2, n_estimators=300 \n",
      "[CV]  bootstrap=False, max_depth=18, max_features=sqrt, min_samples_leaf=1, min_samples_split=2, n_estimators=300, total= 2.9min\n",
      "[CV] bootstrap=False, max_depth=18, max_features=sqrt, min_samples_leaf=1, min_samples_split=2, n_estimators=300 \n",
      "[CV]  bootstrap=False, max_depth=18, max_features=sqrt, min_samples_leaf=1, min_samples_split=2, n_estimators=300, total= 2.9min\n",
      "[CV] bootstrap=False, max_depth=18, max_features=sqrt, min_samples_leaf=1, min_samples_split=2, n_estimators=500 \n",
      "[CV]  bootstrap=False, max_depth=18, max_features=sqrt, min_samples_leaf=1, min_samples_split=2, n_estimators=500, total= 4.7min\n",
      "[CV] bootstrap=False, max_depth=18, max_features=sqrt, min_samples_leaf=1, min_samples_split=2, n_estimators=500 \n",
      "[CV]  bootstrap=False, max_depth=18, max_features=sqrt, min_samples_leaf=1, min_samples_split=2, n_estimators=500, total= 4.7min\n",
      "[CV] bootstrap=False, max_depth=18, max_features=sqrt, min_samples_leaf=1, min_samples_split=2, n_estimators=500 \n",
      "[CV]  bootstrap=False, max_depth=18, max_features=sqrt, min_samples_leaf=1, min_samples_split=2, n_estimators=500, total= 4.7min\n",
      "[CV] bootstrap=False, max_depth=18, max_features=sqrt, min_samples_leaf=1, min_samples_split=5, n_estimators=100 \n",
      "[CV]  bootstrap=False, max_depth=18, max_features=sqrt, min_samples_leaf=1, min_samples_split=5, n_estimators=100, total=  55.3s\n",
      "[CV] bootstrap=False, max_depth=18, max_features=sqrt, min_samples_leaf=1, min_samples_split=5, n_estimators=100 \n",
      "[CV]  bootstrap=False, max_depth=18, max_features=sqrt, min_samples_leaf=1, min_samples_split=5, n_estimators=100, total=  55.3s\n",
      "[CV] bootstrap=False, max_depth=18, max_features=sqrt, min_samples_leaf=1, min_samples_split=5, n_estimators=100 \n",
      "[CV]  bootstrap=False, max_depth=18, max_features=sqrt, min_samples_leaf=1, min_samples_split=5, n_estimators=100, total=  54.3s\n",
      "[CV] bootstrap=False, max_depth=18, max_features=sqrt, min_samples_leaf=1, min_samples_split=5, n_estimators=200 \n",
      "[CV]  bootstrap=False, max_depth=18, max_features=sqrt, min_samples_leaf=1, min_samples_split=5, n_estimators=200, total= 1.8min\n",
      "[CV] bootstrap=False, max_depth=18, max_features=sqrt, min_samples_leaf=1, min_samples_split=5, n_estimators=200 \n",
      "[CV]  bootstrap=False, max_depth=18, max_features=sqrt, min_samples_leaf=1, min_samples_split=5, n_estimators=200, total= 1.8min\n",
      "[CV] bootstrap=False, max_depth=18, max_features=sqrt, min_samples_leaf=1, min_samples_split=5, n_estimators=200 \n",
      "[CV]  bootstrap=False, max_depth=18, max_features=sqrt, min_samples_leaf=1, min_samples_split=5, n_estimators=200, total= 1.8min\n",
      "[CV] bootstrap=False, max_depth=18, max_features=sqrt, min_samples_leaf=1, min_samples_split=5, n_estimators=300 \n",
      "[CV]  bootstrap=False, max_depth=18, max_features=sqrt, min_samples_leaf=1, min_samples_split=5, n_estimators=300, total= 2.7min\n",
      "[CV] bootstrap=False, max_depth=18, max_features=sqrt, min_samples_leaf=1, min_samples_split=5, n_estimators=300 \n",
      "[CV]  bootstrap=False, max_depth=18, max_features=sqrt, min_samples_leaf=1, min_samples_split=5, n_estimators=300, total= 2.7min\n",
      "[CV] bootstrap=False, max_depth=18, max_features=sqrt, min_samples_leaf=1, min_samples_split=5, n_estimators=300 \n",
      "[CV]  bootstrap=False, max_depth=18, max_features=sqrt, min_samples_leaf=1, min_samples_split=5, n_estimators=300, total= 2.7min\n",
      "[CV] bootstrap=False, max_depth=18, max_features=sqrt, min_samples_leaf=1, min_samples_split=5, n_estimators=500 \n",
      "[CV]  bootstrap=False, max_depth=18, max_features=sqrt, min_samples_leaf=1, min_samples_split=5, n_estimators=500, total= 4.6min\n",
      "[CV] bootstrap=False, max_depth=18, max_features=sqrt, min_samples_leaf=1, min_samples_split=5, n_estimators=500 \n",
      "[CV]  bootstrap=False, max_depth=18, max_features=sqrt, min_samples_leaf=1, min_samples_split=5, n_estimators=500, total= 4.6min\n",
      "[CV] bootstrap=False, max_depth=18, max_features=sqrt, min_samples_leaf=1, min_samples_split=5, n_estimators=500 \n",
      "[CV]  bootstrap=False, max_depth=18, max_features=sqrt, min_samples_leaf=1, min_samples_split=5, n_estimators=500, total= 4.6min\n",
      "[CV] bootstrap=False, max_depth=18, max_features=sqrt, min_samples_leaf=1, min_samples_split=10, n_estimators=100 \n",
      "[CV]  bootstrap=False, max_depth=18, max_features=sqrt, min_samples_leaf=1, min_samples_split=10, n_estimators=100, total=  53.0s\n",
      "[CV] bootstrap=False, max_depth=18, max_features=sqrt, min_samples_leaf=1, min_samples_split=10, n_estimators=100 \n",
      "[CV]  bootstrap=False, max_depth=18, max_features=sqrt, min_samples_leaf=1, min_samples_split=10, n_estimators=100, total=  53.0s\n",
      "[CV] bootstrap=False, max_depth=18, max_features=sqrt, min_samples_leaf=1, min_samples_split=10, n_estimators=100 \n",
      "[CV]  bootstrap=False, max_depth=18, max_features=sqrt, min_samples_leaf=1, min_samples_split=10, n_estimators=100, total=  53.7s\n",
      "[CV] bootstrap=False, max_depth=18, max_features=sqrt, min_samples_leaf=1, min_samples_split=10, n_estimators=200 \n",
      "[CV]  bootstrap=False, max_depth=18, max_features=sqrt, min_samples_leaf=1, min_samples_split=10, n_estimators=200, total= 1.8min\n",
      "[CV] bootstrap=False, max_depth=18, max_features=sqrt, min_samples_leaf=1, min_samples_split=10, n_estimators=200 \n",
      "[CV]  bootstrap=False, max_depth=18, max_features=sqrt, min_samples_leaf=1, min_samples_split=10, n_estimators=200, total= 1.8min\n",
      "[CV] bootstrap=False, max_depth=18, max_features=sqrt, min_samples_leaf=1, min_samples_split=10, n_estimators=200 \n",
      "[CV]  bootstrap=False, max_depth=18, max_features=sqrt, min_samples_leaf=1, min_samples_split=10, n_estimators=200, total= 1.8min\n",
      "[CV] bootstrap=False, max_depth=18, max_features=sqrt, min_samples_leaf=1, min_samples_split=10, n_estimators=300 \n",
      "[CV]  bootstrap=False, max_depth=18, max_features=sqrt, min_samples_leaf=1, min_samples_split=10, n_estimators=300, total= 2.7min\n",
      "[CV] bootstrap=False, max_depth=18, max_features=sqrt, min_samples_leaf=1, min_samples_split=10, n_estimators=300 \n"
     ]
    },
    {
     "name": "stdout",
     "output_type": "stream",
     "text": [
      "[CV]  bootstrap=False, max_depth=18, max_features=sqrt, min_samples_leaf=1, min_samples_split=10, n_estimators=300, total= 2.7min\n",
      "[CV] bootstrap=False, max_depth=18, max_features=sqrt, min_samples_leaf=1, min_samples_split=10, n_estimators=300 \n",
      "[CV]  bootstrap=False, max_depth=18, max_features=sqrt, min_samples_leaf=1, min_samples_split=10, n_estimators=300, total= 2.7min\n",
      "[CV] bootstrap=False, max_depth=18, max_features=sqrt, min_samples_leaf=1, min_samples_split=10, n_estimators=500 \n",
      "[CV]  bootstrap=False, max_depth=18, max_features=sqrt, min_samples_leaf=1, min_samples_split=10, n_estimators=500, total= 4.5min\n",
      "[CV] bootstrap=False, max_depth=18, max_features=sqrt, min_samples_leaf=1, min_samples_split=10, n_estimators=500 \n",
      "[CV]  bootstrap=False, max_depth=18, max_features=sqrt, min_samples_leaf=1, min_samples_split=10, n_estimators=500, total= 4.5min\n",
      "[CV] bootstrap=False, max_depth=18, max_features=sqrt, min_samples_leaf=1, min_samples_split=10, n_estimators=500 \n",
      "[CV]  bootstrap=False, max_depth=18, max_features=sqrt, min_samples_leaf=1, min_samples_split=10, n_estimators=500, total= 4.4min\n",
      "[CV] bootstrap=False, max_depth=18, max_features=sqrt, min_samples_leaf=2, min_samples_split=2, n_estimators=100 \n",
      "[CV]  bootstrap=False, max_depth=18, max_features=sqrt, min_samples_leaf=2, min_samples_split=2, n_estimators=100, total=  54.9s\n",
      "[CV] bootstrap=False, max_depth=18, max_features=sqrt, min_samples_leaf=2, min_samples_split=2, n_estimators=100 \n",
      "[CV]  bootstrap=False, max_depth=18, max_features=sqrt, min_samples_leaf=2, min_samples_split=2, n_estimators=100, total=  54.7s\n",
      "[CV] bootstrap=False, max_depth=18, max_features=sqrt, min_samples_leaf=2, min_samples_split=2, n_estimators=100 \n",
      "[CV]  bootstrap=False, max_depth=18, max_features=sqrt, min_samples_leaf=2, min_samples_split=2, n_estimators=100, total=  55.0s\n",
      "[CV] bootstrap=False, max_depth=18, max_features=sqrt, min_samples_leaf=2, min_samples_split=2, n_estimators=200 \n",
      "[CV]  bootstrap=False, max_depth=18, max_features=sqrt, min_samples_leaf=2, min_samples_split=2, n_estimators=200, total= 1.8min\n",
      "[CV] bootstrap=False, max_depth=18, max_features=sqrt, min_samples_leaf=2, min_samples_split=2, n_estimators=200 \n",
      "[CV]  bootstrap=False, max_depth=18, max_features=sqrt, min_samples_leaf=2, min_samples_split=2, n_estimators=200, total= 1.8min\n",
      "[CV] bootstrap=False, max_depth=18, max_features=sqrt, min_samples_leaf=2, min_samples_split=2, n_estimators=200 \n",
      "[CV]  bootstrap=False, max_depth=18, max_features=sqrt, min_samples_leaf=2, min_samples_split=2, n_estimators=200, total= 1.8min\n",
      "[CV] bootstrap=False, max_depth=18, max_features=sqrt, min_samples_leaf=2, min_samples_split=2, n_estimators=300 \n",
      "[CV]  bootstrap=False, max_depth=18, max_features=sqrt, min_samples_leaf=2, min_samples_split=2, n_estimators=300, total= 2.8min\n",
      "[CV] bootstrap=False, max_depth=18, max_features=sqrt, min_samples_leaf=2, min_samples_split=2, n_estimators=300 \n",
      "[CV]  bootstrap=False, max_depth=18, max_features=sqrt, min_samples_leaf=2, min_samples_split=2, n_estimators=300, total= 2.8min\n",
      "[CV] bootstrap=False, max_depth=18, max_features=sqrt, min_samples_leaf=2, min_samples_split=2, n_estimators=300 \n",
      "[CV]  bootstrap=False, max_depth=18, max_features=sqrt, min_samples_leaf=2, min_samples_split=2, n_estimators=300, total= 2.8min\n",
      "[CV] bootstrap=False, max_depth=18, max_features=sqrt, min_samples_leaf=2, min_samples_split=2, n_estimators=500 \n",
      "[CV]  bootstrap=False, max_depth=18, max_features=sqrt, min_samples_leaf=2, min_samples_split=2, n_estimators=500, total= 4.6min\n",
      "[CV] bootstrap=False, max_depth=18, max_features=sqrt, min_samples_leaf=2, min_samples_split=2, n_estimators=500 \n",
      "[CV]  bootstrap=False, max_depth=18, max_features=sqrt, min_samples_leaf=2, min_samples_split=2, n_estimators=500, total= 4.6min\n",
      "[CV] bootstrap=False, max_depth=18, max_features=sqrt, min_samples_leaf=2, min_samples_split=2, n_estimators=500 \n",
      "[CV]  bootstrap=False, max_depth=18, max_features=sqrt, min_samples_leaf=2, min_samples_split=2, n_estimators=500, total= 4.6min\n",
      "[CV] bootstrap=False, max_depth=18, max_features=sqrt, min_samples_leaf=2, min_samples_split=5, n_estimators=100 \n",
      "[CV]  bootstrap=False, max_depth=18, max_features=sqrt, min_samples_leaf=2, min_samples_split=5, n_estimators=100, total=  55.1s\n",
      "[CV] bootstrap=False, max_depth=18, max_features=sqrt, min_samples_leaf=2, min_samples_split=5, n_estimators=100 \n",
      "[CV]  bootstrap=False, max_depth=18, max_features=sqrt, min_samples_leaf=2, min_samples_split=5, n_estimators=100, total=  54.6s\n",
      "[CV] bootstrap=False, max_depth=18, max_features=sqrt, min_samples_leaf=2, min_samples_split=5, n_estimators=100 \n",
      "[CV]  bootstrap=False, max_depth=18, max_features=sqrt, min_samples_leaf=2, min_samples_split=5, n_estimators=100, total=  54.8s\n",
      "[CV] bootstrap=False, max_depth=18, max_features=sqrt, min_samples_leaf=2, min_samples_split=5, n_estimators=200 \n",
      "[CV]  bootstrap=False, max_depth=18, max_features=sqrt, min_samples_leaf=2, min_samples_split=5, n_estimators=200, total= 1.8min\n",
      "[CV] bootstrap=False, max_depth=18, max_features=sqrt, min_samples_leaf=2, min_samples_split=5, n_estimators=200 \n",
      "[CV]  bootstrap=False, max_depth=18, max_features=sqrt, min_samples_leaf=2, min_samples_split=5, n_estimators=200, total= 1.8min\n",
      "[CV] bootstrap=False, max_depth=18, max_features=sqrt, min_samples_leaf=2, min_samples_split=5, n_estimators=200 \n",
      "[CV]  bootstrap=False, max_depth=18, max_features=sqrt, min_samples_leaf=2, min_samples_split=5, n_estimators=200, total= 1.8min\n",
      "[CV] bootstrap=False, max_depth=18, max_features=sqrt, min_samples_leaf=2, min_samples_split=5, n_estimators=300 \n",
      "[CV]  bootstrap=False, max_depth=18, max_features=sqrt, min_samples_leaf=2, min_samples_split=5, n_estimators=300, total= 2.7min\n",
      "[CV] bootstrap=False, max_depth=18, max_features=sqrt, min_samples_leaf=2, min_samples_split=5, n_estimators=300 \n",
      "[CV]  bootstrap=False, max_depth=18, max_features=sqrt, min_samples_leaf=2, min_samples_split=5, n_estimators=300, total= 2.7min\n",
      "[CV] bootstrap=False, max_depth=18, max_features=sqrt, min_samples_leaf=2, min_samples_split=5, n_estimators=300 \n",
      "[CV]  bootstrap=False, max_depth=18, max_features=sqrt, min_samples_leaf=2, min_samples_split=5, n_estimators=300, total= 2.7min\n",
      "[CV] bootstrap=False, max_depth=18, max_features=sqrt, min_samples_leaf=2, min_samples_split=5, n_estimators=500 \n",
      "[CV]  bootstrap=False, max_depth=18, max_features=sqrt, min_samples_leaf=2, min_samples_split=5, n_estimators=500, total= 4.6min\n",
      "[CV] bootstrap=False, max_depth=18, max_features=sqrt, min_samples_leaf=2, min_samples_split=5, n_estimators=500 \n",
      "[CV]  bootstrap=False, max_depth=18, max_features=sqrt, min_samples_leaf=2, min_samples_split=5, n_estimators=500, total= 4.5min\n",
      "[CV] bootstrap=False, max_depth=18, max_features=sqrt, min_samples_leaf=2, min_samples_split=5, n_estimators=500 \n",
      "[CV]  bootstrap=False, max_depth=18, max_features=sqrt, min_samples_leaf=2, min_samples_split=5, n_estimators=500, total= 4.6min\n",
      "[CV] bootstrap=False, max_depth=18, max_features=sqrt, min_samples_leaf=2, min_samples_split=10, n_estimators=100 \n",
      "[CV]  bootstrap=False, max_depth=18, max_features=sqrt, min_samples_leaf=2, min_samples_split=10, n_estimators=100, total=  53.9s\n",
      "[CV] bootstrap=False, max_depth=18, max_features=sqrt, min_samples_leaf=2, min_samples_split=10, n_estimators=100 \n",
      "[CV]  bootstrap=False, max_depth=18, max_features=sqrt, min_samples_leaf=2, min_samples_split=10, n_estimators=100, total=  53.8s\n",
      "[CV] bootstrap=False, max_depth=18, max_features=sqrt, min_samples_leaf=2, min_samples_split=10, n_estimators=100 \n",
      "[CV]  bootstrap=False, max_depth=18, max_features=sqrt, min_samples_leaf=2, min_samples_split=10, n_estimators=100, total=  53.6s\n",
      "[CV] bootstrap=False, max_depth=18, max_features=sqrt, min_samples_leaf=2, min_samples_split=10, n_estimators=200 \n",
      "[CV]  bootstrap=False, max_depth=18, max_features=sqrt, min_samples_leaf=2, min_samples_split=10, n_estimators=200, total= 1.8min\n",
      "[CV] bootstrap=False, max_depth=18, max_features=sqrt, min_samples_leaf=2, min_samples_split=10, n_estimators=200 \n",
      "[CV]  bootstrap=False, max_depth=18, max_features=sqrt, min_samples_leaf=2, min_samples_split=10, n_estimators=200, total= 1.8min\n",
      "[CV] bootstrap=False, max_depth=18, max_features=sqrt, min_samples_leaf=2, min_samples_split=10, n_estimators=200 \n"
     ]
    },
    {
     "name": "stdout",
     "output_type": "stream",
     "text": [
      "[CV]  bootstrap=False, max_depth=18, max_features=sqrt, min_samples_leaf=2, min_samples_split=10, n_estimators=200, total= 1.8min\n",
      "[CV] bootstrap=False, max_depth=18, max_features=sqrt, min_samples_leaf=2, min_samples_split=10, n_estimators=300 \n",
      "[CV]  bootstrap=False, max_depth=18, max_features=sqrt, min_samples_leaf=2, min_samples_split=10, n_estimators=300, total= 2.7min\n",
      "[CV] bootstrap=False, max_depth=18, max_features=sqrt, min_samples_leaf=2, min_samples_split=10, n_estimators=300 \n",
      "[CV]  bootstrap=False, max_depth=18, max_features=sqrt, min_samples_leaf=2, min_samples_split=10, n_estimators=300, total= 2.7min\n",
      "[CV] bootstrap=False, max_depth=18, max_features=sqrt, min_samples_leaf=2, min_samples_split=10, n_estimators=300 \n",
      "[CV]  bootstrap=False, max_depth=18, max_features=sqrt, min_samples_leaf=2, min_samples_split=10, n_estimators=300, total= 2.7min\n",
      "[CV] bootstrap=False, max_depth=18, max_features=sqrt, min_samples_leaf=2, min_samples_split=10, n_estimators=500 \n",
      "[CV]  bootstrap=False, max_depth=18, max_features=sqrt, min_samples_leaf=2, min_samples_split=10, n_estimators=500, total= 4.5min\n",
      "[CV] bootstrap=False, max_depth=18, max_features=sqrt, min_samples_leaf=2, min_samples_split=10, n_estimators=500 \n",
      "[CV]  bootstrap=False, max_depth=18, max_features=sqrt, min_samples_leaf=2, min_samples_split=10, n_estimators=500, total= 4.5min\n",
      "[CV] bootstrap=False, max_depth=18, max_features=sqrt, min_samples_leaf=2, min_samples_split=10, n_estimators=500 \n",
      "[CV]  bootstrap=False, max_depth=18, max_features=sqrt, min_samples_leaf=2, min_samples_split=10, n_estimators=500, total= 4.4min\n",
      "[CV] bootstrap=False, max_depth=20, max_features=sqrt, min_samples_leaf=1, min_samples_split=2, n_estimators=100 \n",
      "[CV]  bootstrap=False, max_depth=20, max_features=sqrt, min_samples_leaf=1, min_samples_split=2, n_estimators=100, total= 1.1min\n",
      "[CV] bootstrap=False, max_depth=20, max_features=sqrt, min_samples_leaf=1, min_samples_split=2, n_estimators=100 \n",
      "[CV]  bootstrap=False, max_depth=20, max_features=sqrt, min_samples_leaf=1, min_samples_split=2, n_estimators=100, total= 1.1min\n",
      "[CV] bootstrap=False, max_depth=20, max_features=sqrt, min_samples_leaf=1, min_samples_split=2, n_estimators=100 \n",
      "[CV]  bootstrap=False, max_depth=20, max_features=sqrt, min_samples_leaf=1, min_samples_split=2, n_estimators=100, total= 1.1min\n",
      "[CV] bootstrap=False, max_depth=20, max_features=sqrt, min_samples_leaf=1, min_samples_split=2, n_estimators=200 \n",
      "[CV]  bootstrap=False, max_depth=20, max_features=sqrt, min_samples_leaf=1, min_samples_split=2, n_estimators=200, total= 2.2min\n",
      "[CV] bootstrap=False, max_depth=20, max_features=sqrt, min_samples_leaf=1, min_samples_split=2, n_estimators=200 \n",
      "[CV]  bootstrap=False, max_depth=20, max_features=sqrt, min_samples_leaf=1, min_samples_split=2, n_estimators=200, total= 2.1min\n",
      "[CV] bootstrap=False, max_depth=20, max_features=sqrt, min_samples_leaf=1, min_samples_split=2, n_estimators=200 \n",
      "[CV]  bootstrap=False, max_depth=20, max_features=sqrt, min_samples_leaf=1, min_samples_split=2, n_estimators=200, total= 2.2min\n",
      "[CV] bootstrap=False, max_depth=20, max_features=sqrt, min_samples_leaf=1, min_samples_split=2, n_estimators=300 \n",
      "[CV]  bootstrap=False, max_depth=20, max_features=sqrt, min_samples_leaf=1, min_samples_split=2, n_estimators=300, total= 3.2min\n",
      "[CV] bootstrap=False, max_depth=20, max_features=sqrt, min_samples_leaf=1, min_samples_split=2, n_estimators=300 \n",
      "[CV]  bootstrap=False, max_depth=20, max_features=sqrt, min_samples_leaf=1, min_samples_split=2, n_estimators=300, total= 3.3min\n",
      "[CV] bootstrap=False, max_depth=20, max_features=sqrt, min_samples_leaf=1, min_samples_split=2, n_estimators=300 \n",
      "[CV]  bootstrap=False, max_depth=20, max_features=sqrt, min_samples_leaf=1, min_samples_split=2, n_estimators=300, total= 3.3min\n",
      "[CV] bootstrap=False, max_depth=20, max_features=sqrt, min_samples_leaf=1, min_samples_split=2, n_estimators=500 \n",
      "[CV]  bootstrap=False, max_depth=20, max_features=sqrt, min_samples_leaf=1, min_samples_split=2, n_estimators=500, total= 5.5min\n",
      "[CV] bootstrap=False, max_depth=20, max_features=sqrt, min_samples_leaf=1, min_samples_split=2, n_estimators=500 \n",
      "[CV]  bootstrap=False, max_depth=20, max_features=sqrt, min_samples_leaf=1, min_samples_split=2, n_estimators=500, total= 5.5min\n",
      "[CV] bootstrap=False, max_depth=20, max_features=sqrt, min_samples_leaf=1, min_samples_split=2, n_estimators=500 \n",
      "[CV]  bootstrap=False, max_depth=20, max_features=sqrt, min_samples_leaf=1, min_samples_split=2, n_estimators=500, total= 5.5min\n",
      "[CV] bootstrap=False, max_depth=20, max_features=sqrt, min_samples_leaf=1, min_samples_split=5, n_estimators=100 \n",
      "[CV]  bootstrap=False, max_depth=20, max_features=sqrt, min_samples_leaf=1, min_samples_split=5, n_estimators=100, total= 1.0min\n",
      "[CV] bootstrap=False, max_depth=20, max_features=sqrt, min_samples_leaf=1, min_samples_split=5, n_estimators=100 \n",
      "[CV]  bootstrap=False, max_depth=20, max_features=sqrt, min_samples_leaf=1, min_samples_split=5, n_estimators=100, total= 1.0min\n",
      "[CV] bootstrap=False, max_depth=20, max_features=sqrt, min_samples_leaf=1, min_samples_split=5, n_estimators=100 \n",
      "[CV]  bootstrap=False, max_depth=20, max_features=sqrt, min_samples_leaf=1, min_samples_split=5, n_estimators=100, total= 1.0min\n",
      "[CV] bootstrap=False, max_depth=20, max_features=sqrt, min_samples_leaf=1, min_samples_split=5, n_estimators=200 \n",
      "[CV]  bootstrap=False, max_depth=20, max_features=sqrt, min_samples_leaf=1, min_samples_split=5, n_estimators=200, total= 2.0min\n",
      "[CV] bootstrap=False, max_depth=20, max_features=sqrt, min_samples_leaf=1, min_samples_split=5, n_estimators=200 \n",
      "[CV]  bootstrap=False, max_depth=20, max_features=sqrt, min_samples_leaf=1, min_samples_split=5, n_estimators=200, total= 2.1min\n",
      "[CV] bootstrap=False, max_depth=20, max_features=sqrt, min_samples_leaf=1, min_samples_split=5, n_estimators=200 \n",
      "[CV]  bootstrap=False, max_depth=20, max_features=sqrt, min_samples_leaf=1, min_samples_split=5, n_estimators=200, total= 2.1min\n",
      "[CV] bootstrap=False, max_depth=20, max_features=sqrt, min_samples_leaf=1, min_samples_split=5, n_estimators=300 \n",
      "[CV]  bootstrap=False, max_depth=20, max_features=sqrt, min_samples_leaf=1, min_samples_split=5, n_estimators=300, total= 3.1min\n",
      "[CV] bootstrap=False, max_depth=20, max_features=sqrt, min_samples_leaf=1, min_samples_split=5, n_estimators=300 \n",
      "[CV]  bootstrap=False, max_depth=20, max_features=sqrt, min_samples_leaf=1, min_samples_split=5, n_estimators=300, total= 3.1min\n",
      "[CV] bootstrap=False, max_depth=20, max_features=sqrt, min_samples_leaf=1, min_samples_split=5, n_estimators=300 \n",
      "[CV]  bootstrap=False, max_depth=20, max_features=sqrt, min_samples_leaf=1, min_samples_split=5, n_estimators=300, total= 3.1min\n",
      "[CV] bootstrap=False, max_depth=20, max_features=sqrt, min_samples_leaf=1, min_samples_split=5, n_estimators=500 \n",
      "[CV]  bootstrap=False, max_depth=20, max_features=sqrt, min_samples_leaf=1, min_samples_split=5, n_estimators=500, total= 5.2min\n",
      "[CV] bootstrap=False, max_depth=20, max_features=sqrt, min_samples_leaf=1, min_samples_split=5, n_estimators=500 \n",
      "[CV]  bootstrap=False, max_depth=20, max_features=sqrt, min_samples_leaf=1, min_samples_split=5, n_estimators=500, total= 5.2min\n",
      "[CV] bootstrap=False, max_depth=20, max_features=sqrt, min_samples_leaf=1, min_samples_split=5, n_estimators=500 \n",
      "[CV]  bootstrap=False, max_depth=20, max_features=sqrt, min_samples_leaf=1, min_samples_split=5, n_estimators=500, total= 5.1min\n",
      "[CV] bootstrap=False, max_depth=20, max_features=sqrt, min_samples_leaf=1, min_samples_split=10, n_estimators=100 \n",
      "[CV]  bootstrap=False, max_depth=20, max_features=sqrt, min_samples_leaf=1, min_samples_split=10, n_estimators=100, total=  59.4s\n",
      "[CV] bootstrap=False, max_depth=20, max_features=sqrt, min_samples_leaf=1, min_samples_split=10, n_estimators=100 \n",
      "[CV]  bootstrap=False, max_depth=20, max_features=sqrt, min_samples_leaf=1, min_samples_split=10, n_estimators=100, total=  58.8s\n",
      "[CV] bootstrap=False, max_depth=20, max_features=sqrt, min_samples_leaf=1, min_samples_split=10, n_estimators=100 \n",
      "[CV]  bootstrap=False, max_depth=20, max_features=sqrt, min_samples_leaf=1, min_samples_split=10, n_estimators=100, total=  58.3s\n",
      "[CV] bootstrap=False, max_depth=20, max_features=sqrt, min_samples_leaf=1, min_samples_split=10, n_estimators=200 \n"
     ]
    },
    {
     "name": "stdout",
     "output_type": "stream",
     "text": [
      "[CV]  bootstrap=False, max_depth=20, max_features=sqrt, min_samples_leaf=1, min_samples_split=10, n_estimators=200, total= 2.0min\n",
      "[CV] bootstrap=False, max_depth=20, max_features=sqrt, min_samples_leaf=1, min_samples_split=10, n_estimators=200 \n",
      "[CV]  bootstrap=False, max_depth=20, max_features=sqrt, min_samples_leaf=1, min_samples_split=10, n_estimators=200, total= 2.0min\n",
      "[CV] bootstrap=False, max_depth=20, max_features=sqrt, min_samples_leaf=1, min_samples_split=10, n_estimators=200 \n",
      "[CV]  bootstrap=False, max_depth=20, max_features=sqrt, min_samples_leaf=1, min_samples_split=10, n_estimators=200, total= 2.0min\n",
      "[CV] bootstrap=False, max_depth=20, max_features=sqrt, min_samples_leaf=1, min_samples_split=10, n_estimators=300 \n",
      "[CV]  bootstrap=False, max_depth=20, max_features=sqrt, min_samples_leaf=1, min_samples_split=10, n_estimators=300, total= 3.0min\n",
      "[CV] bootstrap=False, max_depth=20, max_features=sqrt, min_samples_leaf=1, min_samples_split=10, n_estimators=300 \n",
      "[CV]  bootstrap=False, max_depth=20, max_features=sqrt, min_samples_leaf=1, min_samples_split=10, n_estimators=300, total= 3.0min\n",
      "[CV] bootstrap=False, max_depth=20, max_features=sqrt, min_samples_leaf=1, min_samples_split=10, n_estimators=300 \n",
      "[CV]  bootstrap=False, max_depth=20, max_features=sqrt, min_samples_leaf=1, min_samples_split=10, n_estimators=300, total= 2.9min\n",
      "[CV] bootstrap=False, max_depth=20, max_features=sqrt, min_samples_leaf=1, min_samples_split=10, n_estimators=500 \n",
      "[CV]  bootstrap=False, max_depth=20, max_features=sqrt, min_samples_leaf=1, min_samples_split=10, n_estimators=500, total= 4.9min\n",
      "[CV] bootstrap=False, max_depth=20, max_features=sqrt, min_samples_leaf=1, min_samples_split=10, n_estimators=500 \n",
      "[CV]  bootstrap=False, max_depth=20, max_features=sqrt, min_samples_leaf=1, min_samples_split=10, n_estimators=500, total= 4.9min\n",
      "[CV] bootstrap=False, max_depth=20, max_features=sqrt, min_samples_leaf=1, min_samples_split=10, n_estimators=500 \n",
      "[CV]  bootstrap=False, max_depth=20, max_features=sqrt, min_samples_leaf=1, min_samples_split=10, n_estimators=500, total= 4.9min\n",
      "[CV] bootstrap=False, max_depth=20, max_features=sqrt, min_samples_leaf=2, min_samples_split=2, n_estimators=100 \n",
      "[CV]  bootstrap=False, max_depth=20, max_features=sqrt, min_samples_leaf=2, min_samples_split=2, n_estimators=100, total= 1.0min\n",
      "[CV] bootstrap=False, max_depth=20, max_features=sqrt, min_samples_leaf=2, min_samples_split=2, n_estimators=100 \n",
      "[CV]  bootstrap=False, max_depth=20, max_features=sqrt, min_samples_leaf=2, min_samples_split=2, n_estimators=100, total= 1.0min\n",
      "[CV] bootstrap=False, max_depth=20, max_features=sqrt, min_samples_leaf=2, min_samples_split=2, n_estimators=100 \n",
      "[CV]  bootstrap=False, max_depth=20, max_features=sqrt, min_samples_leaf=2, min_samples_split=2, n_estimators=100, total= 1.0min\n",
      "[CV] bootstrap=False, max_depth=20, max_features=sqrt, min_samples_leaf=2, min_samples_split=2, n_estimators=200 \n",
      "[CV]  bootstrap=False, max_depth=20, max_features=sqrt, min_samples_leaf=2, min_samples_split=2, n_estimators=200, total= 2.0min\n",
      "[CV] bootstrap=False, max_depth=20, max_features=sqrt, min_samples_leaf=2, min_samples_split=2, n_estimators=200 \n",
      "[CV]  bootstrap=False, max_depth=20, max_features=sqrt, min_samples_leaf=2, min_samples_split=2, n_estimators=200, total= 2.0min\n",
      "[CV] bootstrap=False, max_depth=20, max_features=sqrt, min_samples_leaf=2, min_samples_split=2, n_estimators=200 \n",
      "[CV]  bootstrap=False, max_depth=20, max_features=sqrt, min_samples_leaf=2, min_samples_split=2, n_estimators=200, total= 2.0min\n",
      "[CV] bootstrap=False, max_depth=20, max_features=sqrt, min_samples_leaf=2, min_samples_split=2, n_estimators=300 \n",
      "[CV]  bootstrap=False, max_depth=20, max_features=sqrt, min_samples_leaf=2, min_samples_split=2, n_estimators=300, total= 3.1min\n",
      "[CV] bootstrap=False, max_depth=20, max_features=sqrt, min_samples_leaf=2, min_samples_split=2, n_estimators=300 \n",
      "[CV]  bootstrap=False, max_depth=20, max_features=sqrt, min_samples_leaf=2, min_samples_split=2, n_estimators=300, total= 3.1min\n",
      "[CV] bootstrap=False, max_depth=20, max_features=sqrt, min_samples_leaf=2, min_samples_split=2, n_estimators=300 \n",
      "[CV]  bootstrap=False, max_depth=20, max_features=sqrt, min_samples_leaf=2, min_samples_split=2, n_estimators=300, total= 3.0min\n",
      "[CV] bootstrap=False, max_depth=20, max_features=sqrt, min_samples_leaf=2, min_samples_split=2, n_estimators=500 \n",
      "[CV]  bootstrap=False, max_depth=20, max_features=sqrt, min_samples_leaf=2, min_samples_split=2, n_estimators=500, total= 5.1min\n",
      "[CV] bootstrap=False, max_depth=20, max_features=sqrt, min_samples_leaf=2, min_samples_split=2, n_estimators=500 \n",
      "[CV]  bootstrap=False, max_depth=20, max_features=sqrt, min_samples_leaf=2, min_samples_split=2, n_estimators=500, total= 5.1min\n",
      "[CV] bootstrap=False, max_depth=20, max_features=sqrt, min_samples_leaf=2, min_samples_split=2, n_estimators=500 \n",
      "[CV]  bootstrap=False, max_depth=20, max_features=sqrt, min_samples_leaf=2, min_samples_split=2, n_estimators=500, total= 5.1min\n",
      "[CV] bootstrap=False, max_depth=20, max_features=sqrt, min_samples_leaf=2, min_samples_split=5, n_estimators=100 \n",
      "[CV]  bootstrap=False, max_depth=20, max_features=sqrt, min_samples_leaf=2, min_samples_split=5, n_estimators=100, total= 1.0min\n",
      "[CV] bootstrap=False, max_depth=20, max_features=sqrt, min_samples_leaf=2, min_samples_split=5, n_estimators=100 \n",
      "[CV]  bootstrap=False, max_depth=20, max_features=sqrt, min_samples_leaf=2, min_samples_split=5, n_estimators=100, total= 1.0min\n",
      "[CV] bootstrap=False, max_depth=20, max_features=sqrt, min_samples_leaf=2, min_samples_split=5, n_estimators=100 \n",
      "[CV]  bootstrap=False, max_depth=20, max_features=sqrt, min_samples_leaf=2, min_samples_split=5, n_estimators=100, total= 1.0min\n",
      "[CV] bootstrap=False, max_depth=20, max_features=sqrt, min_samples_leaf=2, min_samples_split=5, n_estimators=200 \n",
      "[CV]  bootstrap=False, max_depth=20, max_features=sqrt, min_samples_leaf=2, min_samples_split=5, n_estimators=200, total= 2.0min\n",
      "[CV] bootstrap=False, max_depth=20, max_features=sqrt, min_samples_leaf=2, min_samples_split=5, n_estimators=200 \n",
      "[CV]  bootstrap=False, max_depth=20, max_features=sqrt, min_samples_leaf=2, min_samples_split=5, n_estimators=200, total= 2.0min\n",
      "[CV] bootstrap=False, max_depth=20, max_features=sqrt, min_samples_leaf=2, min_samples_split=5, n_estimators=200 \n",
      "[CV]  bootstrap=False, max_depth=20, max_features=sqrt, min_samples_leaf=2, min_samples_split=5, n_estimators=200, total= 2.0min\n",
      "[CV] bootstrap=False, max_depth=20, max_features=sqrt, min_samples_leaf=2, min_samples_split=5, n_estimators=300 \n",
      "[CV]  bootstrap=False, max_depth=20, max_features=sqrt, min_samples_leaf=2, min_samples_split=5, n_estimators=300, total= 3.0min\n",
      "[CV] bootstrap=False, max_depth=20, max_features=sqrt, min_samples_leaf=2, min_samples_split=5, n_estimators=300 \n",
      "[CV]  bootstrap=False, max_depth=20, max_features=sqrt, min_samples_leaf=2, min_samples_split=5, n_estimators=300, total= 3.0min\n",
      "[CV] bootstrap=False, max_depth=20, max_features=sqrt, min_samples_leaf=2, min_samples_split=5, n_estimators=300 \n",
      "[CV]  bootstrap=False, max_depth=20, max_features=sqrt, min_samples_leaf=2, min_samples_split=5, n_estimators=300, total= 3.0min\n",
      "[CV] bootstrap=False, max_depth=20, max_features=sqrt, min_samples_leaf=2, min_samples_split=5, n_estimators=500 \n",
      "[CV]  bootstrap=False, max_depth=20, max_features=sqrt, min_samples_leaf=2, min_samples_split=5, n_estimators=500, total= 5.0min\n",
      "[CV] bootstrap=False, max_depth=20, max_features=sqrt, min_samples_leaf=2, min_samples_split=5, n_estimators=500 \n",
      "[CV]  bootstrap=False, max_depth=20, max_features=sqrt, min_samples_leaf=2, min_samples_split=5, n_estimators=500, total= 5.0min\n",
      "[CV] bootstrap=False, max_depth=20, max_features=sqrt, min_samples_leaf=2, min_samples_split=5, n_estimators=500 \n",
      "[CV]  bootstrap=False, max_depth=20, max_features=sqrt, min_samples_leaf=2, min_samples_split=5, n_estimators=500, total= 5.0min\n",
      "[CV] bootstrap=False, max_depth=20, max_features=sqrt, min_samples_leaf=2, min_samples_split=10, n_estimators=100 \n",
      "[CV]  bootstrap=False, max_depth=20, max_features=sqrt, min_samples_leaf=2, min_samples_split=10, n_estimators=100, total=  57.5s\n",
      "[CV] bootstrap=False, max_depth=20, max_features=sqrt, min_samples_leaf=2, min_samples_split=10, n_estimators=100 \n"
     ]
    },
    {
     "name": "stdout",
     "output_type": "stream",
     "text": [
      "[CV]  bootstrap=False, max_depth=20, max_features=sqrt, min_samples_leaf=2, min_samples_split=10, n_estimators=100, total=  57.6s\n",
      "[CV] bootstrap=False, max_depth=20, max_features=sqrt, min_samples_leaf=2, min_samples_split=10, n_estimators=100 \n",
      "[CV]  bootstrap=False, max_depth=20, max_features=sqrt, min_samples_leaf=2, min_samples_split=10, n_estimators=100, total=  57.5s\n",
      "[CV] bootstrap=False, max_depth=20, max_features=sqrt, min_samples_leaf=2, min_samples_split=10, n_estimators=200 \n",
      "[CV]  bootstrap=False, max_depth=20, max_features=sqrt, min_samples_leaf=2, min_samples_split=10, n_estimators=200, total= 1.9min\n",
      "[CV] bootstrap=False, max_depth=20, max_features=sqrt, min_samples_leaf=2, min_samples_split=10, n_estimators=200 \n",
      "[CV]  bootstrap=False, max_depth=20, max_features=sqrt, min_samples_leaf=2, min_samples_split=10, n_estimators=200, total= 1.9min\n",
      "[CV] bootstrap=False, max_depth=20, max_features=sqrt, min_samples_leaf=2, min_samples_split=10, n_estimators=200 \n",
      "[CV]  bootstrap=False, max_depth=20, max_features=sqrt, min_samples_leaf=2, min_samples_split=10, n_estimators=200, total= 1.9min\n",
      "[CV] bootstrap=False, max_depth=20, max_features=sqrt, min_samples_leaf=2, min_samples_split=10, n_estimators=300 \n",
      "[CV]  bootstrap=False, max_depth=20, max_features=sqrt, min_samples_leaf=2, min_samples_split=10, n_estimators=300, total= 2.9min\n",
      "[CV] bootstrap=False, max_depth=20, max_features=sqrt, min_samples_leaf=2, min_samples_split=10, n_estimators=300 \n",
      "[CV]  bootstrap=False, max_depth=20, max_features=sqrt, min_samples_leaf=2, min_samples_split=10, n_estimators=300, total= 2.9min\n",
      "[CV] bootstrap=False, max_depth=20, max_features=sqrt, min_samples_leaf=2, min_samples_split=10, n_estimators=300 \n",
      "[CV]  bootstrap=False, max_depth=20, max_features=sqrt, min_samples_leaf=2, min_samples_split=10, n_estimators=300, total= 2.9min\n",
      "[CV] bootstrap=False, max_depth=20, max_features=sqrt, min_samples_leaf=2, min_samples_split=10, n_estimators=500 \n",
      "[CV]  bootstrap=False, max_depth=20, max_features=sqrt, min_samples_leaf=2, min_samples_split=10, n_estimators=500, total= 4.8min\n",
      "[CV] bootstrap=False, max_depth=20, max_features=sqrt, min_samples_leaf=2, min_samples_split=10, n_estimators=500 \n",
      "[CV]  bootstrap=False, max_depth=20, max_features=sqrt, min_samples_leaf=2, min_samples_split=10, n_estimators=500, total= 4.7min\n",
      "[CV] bootstrap=False, max_depth=20, max_features=sqrt, min_samples_leaf=2, min_samples_split=10, n_estimators=500 \n",
      "[CV]  bootstrap=False, max_depth=20, max_features=sqrt, min_samples_leaf=2, min_samples_split=10, n_estimators=500, total= 4.8min\n"
     ]
    },
    {
     "name": "stderr",
     "output_type": "stream",
     "text": [
      "[Parallel(n_jobs=1)]: Done 216 out of 216 | elapsed: 543.7min finished\n"
     ]
    },
    {
     "name": "stdout",
     "output_type": "stream",
     "text": [
      "hello world!\n"
     ]
    }
   ],
   "source": [
    "# Create the parameter grid based on the results of random search\n",
    "# This parameter grid includes paramaters for best score of random search\n",
    "param_grid = {\n",
    "    'bootstrap': [False],\n",
    "    'max_depth': [16, 18, 20],\n",
    "    'max_features': ['sqrt'],\n",
    "    'min_samples_leaf': [1, 2],\n",
    "    'min_samples_split': [2, 5, 10],\n",
    "    'n_estimators': [100, 200, 300, 500]\n",
    "}# Create a based model\n",
    "rf = RandomForestRegressor(random_state=42, n_jobs=1)\n",
    "# Instantiate the grid search model\n",
    "grid_search = GridSearchCV(estimator = rf, param_grid = param_grid, cv = 3, verbose = 2)\n",
    "grid_search.fit(X_train, y_train)\n",
    "print('hello world!')"
   ]
  },
  {
   "cell_type": "code",
   "execution_count": 4,
   "metadata": {},
   "outputs": [],
   "source": [
    "best_params = grid_search.best_params_\n",
    "best_score = grid_search.best_score_\n",
    "cv_results = grid_search.cv_results_\n",
    "best_estimator = grid_search.best_estimator_"
   ]
  },
  {
   "cell_type": "code",
   "execution_count": 5,
   "metadata": {},
   "outputs": [
    {
     "name": "stdout",
     "output_type": "stream",
     "text": [
      "{'bootstrap': False,\n",
      " 'max_depth': 20,\n",
      " 'max_features': 'sqrt',\n",
      " 'min_samples_leaf': 1,\n",
      " 'min_samples_split': 10,\n",
      " 'n_estimators': 500}\n",
      "0.6194362983053177\n"
     ]
    }
   ],
   "source": [
    "pprint(best_params)\n",
    "pprint(best_score)"
   ]
  },
  {
   "cell_type": "code",
   "execution_count": 6,
   "metadata": {},
   "outputs": [
    {
     "name": "stdout",
     "output_type": "stream",
     "text": [
      "276.8467529614766\n"
     ]
    }
   ],
   "source": [
    "index = int(np.argwhere(cv_results['rank_test_score']==1))\n",
    "pprint(cv_results['mean_fit_time'][index])"
   ]
  },
  {
   "cell_type": "code",
   "execution_count": 35,
   "metadata": {},
   "outputs": [
    {
     "name": "stdout",
     "output_type": "stream",
     "text": [
      "0.6161770887922118\n"
     ]
    }
   ],
   "source": [
    "index = int(np.argwhere(cv_results['rank_test_score']==72))\n",
    "pprint(cv_results['mean_test_score'][index])"
   ]
  },
  {
   "cell_type": "code",
   "execution_count": 8,
   "metadata": {},
   "outputs": [],
   "source": [
    "cv_results_df = pd.DataFrame({'n_estimators':cv_results['param_n_estimators'],\\\n",
    "                              'min_samples_split':cv_results['param_min_samples_split'],\\\n",
    "                             'min_samples_leaf':cv_results['param_min_samples_leaf'],\\\n",
    "                             'max_features':cv_results['param_max_features'],\\\n",
    "                              'max_depth':cv_results['param_max_depth'],\\\n",
    "                             'bootstrap':cv_results['param_bootstrap'],\\\n",
    "                             'mean_test_score':cv_results['mean_test_score'],\\\n",
    "                             'mean_fit_time':cv_results['mean_fit_time']})\n",
    "\n",
    "cv_results_df_subset = cv_results_df.loc[(cv_results_df['mean_fit_time'] < 100)]"
   ]
  },
  {
   "cell_type": "code",
   "execution_count": 9,
   "metadata": {},
   "outputs": [
    {
     "data": {
      "image/png": "[encoded data removed]",
      "text/plain": [
       "<Figure size 720x360 with 1 Axes>"
      ]
     },
     "metadata": {
      "needs_background": "light"
     },
     "output_type": "display_data"
    }
   ],
   "source": [
    "plt.figure(figsize=(10,5))\n",
    "plt.scatter(cv_results_df['mean_fit_time'],cv_results_df['mean_test_score'])\n",
    "plt.scatter(cv_results_df_subset['mean_fit_time'],cv_results_df_subset['mean_test_score'])\n",
    "plt.xlabel('mean_fit_time')\n",
    "plt.ylabel('score')\n",
    "plt.show()"
   ]
  },
  {
   "cell_type": "code",
   "execution_count": null,
   "metadata": {},
   "outputs": [],
   "source": []
  },
  {
   "cell_type": "code",
   "execution_count": 22,
   "metadata": {},
   "outputs": [],
   "source": [
    "max_depth = [16, 18, 20]\n",
    "min_samples_leaf = [1, 2]\n",
    "min_samples_split = [2, 5, 10]\n",
    "n_estimators = [100, 200, 300, 500]"
   ]
  },
  {
   "cell_type": "code",
   "execution_count": 12,
   "metadata": {},
   "outputs": [
    {
     "data": {
      "image/png": "[encoded data removed]",
      "text/plain": [
       "<Figure size 720x360 with 1 Axes>"
      ]
     },
     "metadata": {
      "needs_background": "light"
     },
     "output_type": "display_data"
    }
   ],
   "source": [
    "plt.figure(figsize=(10,5))\n",
    "plt.scatter(cv_results_df['n_estimators'],cv_results_df['mean_test_score'])\n",
    "plt.scatter(cv_results_df_subset['n_estimators'],cv_results_df_subset['mean_test_score'])\n",
    "plt.xlabel('n_estimators')\n",
    "plt.ylabel('score')\n",
    "plt.xticks(ticks=n_estimators, labels=n_estimators)\n",
    "plt.show()"
   ]
  },
  {
   "cell_type": "code",
   "execution_count": 13,
   "metadata": {},
   "outputs": [
    {
     "data": {
      "image/png": "[encoded data removed]",
      "text/plain": [
       "<Figure size 720x360 with 1 Axes>"
      ]
     },
     "metadata": {
      "needs_background": "light"
     },
     "output_type": "display_data"
    }
   ],
   "source": [
    "plt.figure(figsize=(10,5))\n",
    "plt.scatter(cv_results_df['max_depth'],cv_results_df['mean_test_score'])\n",
    "plt.scatter(cv_results_df_subset['max_depth'],cv_results_df_subset['mean_test_score'])\n",
    "plt.xlabel('max_depth')\n",
    "plt.ylabel('score')\n",
    "plt.xticks(ticks=max_depth, labels=max_depth)\n",
    "plt.show()"
   ]
  },
  {
   "cell_type": "code",
   "execution_count": 23,
   "metadata": {},
   "outputs": [
    {
     "data": {
      "image/png": "[encoded data removed]",
      "text/plain": [
       "<Figure size 720x360 with 1 Axes>"
      ]
     },
     "metadata": {
      "needs_background": "light"
     },
     "output_type": "display_data"
    }
   ],
   "source": [
    "plt.figure(figsize=(10,5))\n",
    "plt.scatter(cv_results_df['min_samples_leaf'],cv_results_df['mean_test_score'])\n",
    "plt.scatter(cv_results_df_subset['min_samples_leaf'],cv_results_df_subset['mean_test_score'])\n",
    "plt.xlabel('min_samples_leaf')\n",
    "plt.ylabel('score')\n",
    "plt.xticks(ticks=min_samples_leaf, labels=min_samples_leaf)\n",
    "plt.show()"
   ]
  },
  {
   "cell_type": "code",
   "execution_count": 25,
   "metadata": {},
   "outputs": [
    {
     "data": {
      "image/png": "[encoded data removed]",
      "text/plain": [
       "<Figure size 720x360 with 1 Axes>"
      ]
     },
     "metadata": {
      "needs_background": "light"
     },
     "output_type": "display_data"
    }
   ],
   "source": [
    "plt.figure(figsize=(10,5))\n",
    "plt.scatter(cv_results_df['min_samples_split'],cv_results_df['mean_test_score'])\n",
    "plt.scatter(cv_results_df_subset['min_samples_split'],cv_results_df_subset['mean_test_score'])\n",
    "plt.xlabel('min_samples_split')\n",
    "plt.ylabel('score')\n",
    "plt.xticks(ticks=min_samples_split, labels=min_samples_split)\n",
    "plt.show()"
   ]
  },
  {
   "cell_type": "code",
   "execution_count": 37,
   "metadata": {},
   "outputs": [
    {
     "data": {
      "image/png": "[encoded data removed]",
      "text/plain": [
       "<Figure size 720x360 with 1 Axes>"
      ]
     },
     "metadata": {
      "needs_background": "light"
     },
     "output_type": "display_data"
    }
   ],
   "source": [
    "plt.figure(figsize=(10,5))\n",
    "plt.scatter(cv_results_df['n_estimators'],cv_results_df['mean_fit_time'])\n",
    "#plt.scatter(cv_results_df_subset['min_samples_split'],cv_results_df_subset['mean_test_score'])\n",
    "plt.xlabel('n_estimators')\n",
    "plt.ylabel('mean_fit_time (seconds)')\n",
    "plt.xticks(ticks=n_estimators, labels=n_estimators)\n",
    "plt.show()"
   ]
  },
  {
   "cell_type": "code",
   "execution_count": 29,
   "metadata": {},
   "outputs": [
    {
     "data": {
      "image/png": "[encoded data removed]",
      "text/plain": [
       "<Figure size 720x360 with 1 Axes>"
      ]
     },
     "metadata": {
      "needs_background": "light"
     },
     "output_type": "display_data"
    }
   ],
   "source": [
    "plt.figure(figsize=(10,5))\n",
    "plt.scatter(cv_results_df['min_samples_split'],cv_results_df['mean_fit_time'])\n",
    "#plt.scatter(cv_results_df_subset['min_samples_split'],cv_results_df_subset['mean_test_score'])\n",
    "plt.xlabel('min_samples_split')\n",
    "plt.ylabel('mean_test_time')\n",
    "plt.xticks(ticks=min_samples_split, labels=n_estimators)\n",
    "plt.show()"
   ]
  },
  {
   "cell_type": "code",
   "execution_count": 30,
   "metadata": {},
   "outputs": [
    {
     "data": {
      "image/png": "[encoded data removed]",
      "text/plain": [
       "<Figure size 720x360 with 1 Axes>"
      ]
     },
     "metadata": {
      "needs_background": "light"
     },
     "output_type": "display_data"
    }
   ],
   "source": [
    "plt.figure(figsize=(10,5))\n",
    "plt.scatter(cv_results_df['min_samples_leaf'],cv_results_df['mean_fit_time'])\n",
    "#plt.scatter(cv_results_df_subset['min_samples_split'],cv_results_df_subset['mean_test_score'])\n",
    "plt.xlabel('min_samples_leaf')\n",
    "plt.ylabel('mean_test_time')\n",
    "plt.xticks(ticks=min_samples_leaf, labels=n_estimators)\n",
    "plt.show()"
   ]
  },
  {
   "cell_type": "code",
   "execution_count": 31,
   "metadata": {},
   "outputs": [
    {
     "data": {
      "image/png": "[encoded data removed]",
      "text/plain": [
       "<Figure size 720x360 with 1 Axes>"
      ]
     },
     "metadata": {
      "needs_background": "light"
     },
     "output_type": "display_data"
    }
   ],
   "source": [
    "plt.figure(figsize=(10,5))\n",
    "plt.scatter(cv_results_df['max_depth'],cv_results_df['mean_fit_time'])\n",
    "#plt.scatter(cv_results_df_subset['min_samples_split'],cv_results_df_subset['mean_test_score'])\n",
    "plt.xlabel('max_depth')\n",
    "plt.ylabel('mean_test_time')\n",
    "plt.xticks(ticks=max_depth, labels=n_estimators)\n",
    "plt.show()"
   ]
  },
  {
   "cell_type": "code",
   "execution_count": null,
   "metadata": {},
   "outputs": [],
   "source": []
  }
 ],
 "metadata": {
  "kernelspec": {
   "display_name": "Python 3",
   "language": "python",
   "name": "python3"
  },
  "language_info": {
   "codemirror_mode": {
    "name": "ipython",
    "version": 3
   },
   "file_extension": ".py",
   "mimetype": "text/x-python",
   "name": "python",
   "nbconvert_exporter": "python",
   "pygments_lexer": "ipython3",
   "version": "3.7.4"
  }
 },
 "nbformat": 4,
 "nbformat_minor": 2
}
