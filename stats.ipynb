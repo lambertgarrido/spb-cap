{
 "cells": [
  {
   "cell_type": "markdown",
   "metadata": {},
   "source": [
    "This analysis consideres the variable ZSMHC which is the monthly housing cost. First, the correlation between ZSMHC and the other numerical variables is calculated. The correlation between among these variable is also considered. Below are the results from the 1985 data:\n",
    "\n",
    "> BURDEN (cost to income ratio) and NUNIT(number of units in building) are not very correlated with ZSMHC.\n",
    "\n",
    "> All other variables have a correlation of at least 0.12. Question: What cutoff in correlation says if a variable can be discarded in a predictive model or no\n",
    "\n",
    "> TOTSAL (total wage and salary income) and ZINC2 (household income) have a 0.87 correlation. Thus one of these can be dropped in a predictive model.\n",
    "> TOTSAL and INCRELAMIPCT (income relative to area median income (percent)) have a correlation of 0.78. Thus one of these can be dropped in a predictive model.\n",
    "\n",
    "> COSTMED (Housing cost assuming median interest mortgage) and COSTMEDRELAMIPCT (COSTMED relative to median income (percent)) have a 0.93 correlation. Thus one of these can be dropped in a predictive model.\n",
    "\n",
    "> LMED (area median imcome) and FMR (fair market rent) has a 0.59 correlation.\n",
    "\n",
    "Similar conclusions are reached for 2013 data.\n",
    "\n",
    "Next, the variability (error) in the correlations with ZSMHC is considered by taken a random choice of the data and calculating the correlations for each choice. This is repeated 10,000 times and the average and standard deviation is calculated for each correlation. The observed correlations are close and well within one standard deviation from the average correlations for the years considered, 1985 and 2013.\n",
    "\n",
    "Finally, differences in the ZSMHC is considered between 2 groups. The obervated differences are statistically significant as the p-value is numerically zero. The p-value is calculated using both a bootstrap approach and the t-test function provided in the scipy package. Below are the conclusions reached:\n",
    "\n",
    "> On average, owners pay $80 more that renters in 1985. Assuming that costs for owners and renters have the same distribtution, the p-value for this observation is less than 1 part in 10,000. Therefore, this observation is statistically significant. Using the built in t-test function, a practically zero p-value is calculated.\n",
    "\n",
    "> For 2013, owners on average pay $438 more monthly than renters. Using t-test function, the obverved p-value is numerically zero for difference in owner and renter costs in 2013. Therefore the observed difference is statistically significant.\n",
    "\n",
    "> On average, not assisted households paid $197 more than assisted households in 1985. This observed difference is statistically significant as the p-value is practically zero using bootstrap and t-statistic methods.\n",
    "\n",
    "> On average, not assisted households paid $793 more than assisted households in 2013. This observed difference is statistically significant as the p-value is practically zero using bootstrap and t-statistic methods.\n",
    "\n",
    "> Single family homes paid one average $72 more than apartment units in 1985. The p-value is zero.\n",
    "\n",
    "> Single family homes paid one average $418 more than apartment units in 2013. The p-value is zero.\n",
    "\n",
    "> In 1985, the lowest income group paid on average $195 less than other income groups and the highest income group paid on average $232 more than other income groups. The p-values are zero.\n",
    "\n",
    "> In 2013, the lowest income group paid on average $636 less than other income groups and the highest income group paid on average $744 more than other income groups. The p-values are zero.\n"
   ]
  },
  {
   "cell_type": "code",
   "execution_count": 67,
   "metadata": {},
   "outputs": [],
   "source": [
    "import numpy as np\n",
    "import pandas as pd\n",
    "import seaborn as sns\n",
    "_ = sns.set_style(\"darkgrid\")\n",
    "import matplotlib.pyplot as plt\n",
    "from scipy import stats\n",
    "np.random.seed(42)\n",
    "pd.set_option('display.max_rows', None)\n",
    "df85 = pd.read_csv(\"85_clean.csv\", index_col = 'CONTROL')\n",
    "df87 = pd.read_csv(\"87_clean.csv\", index_col = 'CONTROL')\n",
    "df89 = pd.read_csv(\"89_clean.csv\", index_col = 'CONTROL')\n",
    "df91 = pd.read_csv(\"91_clean.csv\", index_col = 'CONTROL')\n",
    "df93 = pd.read_csv(\"93_clean.csv\", index_col = 'CONTROL')\n",
    "df95 = pd.read_csv(\"95_clean.csv\", index_col = 'CONTROL')\n",
    "df97 = pd.read_csv(\"97_clean.csv\", index_col = 'CONTROL')\n",
    "df99 = pd.read_csv(\"99_clean.csv\", index_col = 'CONTROL')\n",
    "df01 = pd.read_csv(\"01_clean.csv\", index_col = 'CONTROL')\n",
    "df03 = pd.read_csv(\"03_clean.csv\", index_col = 'CONTROL')\n",
    "df05 = pd.read_csv(\"05_clean.csv\", index_col = 'CONTROL')\n",
    "df07 = pd.read_csv(\"07_clean.csv\", index_col = 'CONTROL')\n",
    "df09 = pd.read_csv(\"09_clean.csv\", index_col = 'CONTROL')\n",
    "df11 = pd.read_csv(\"11_clean.csv\", index_col = 'CONTROL')\n",
    "df13 = pd.read_csv(\"13_clean.csv\", index_col = 'CONTROL')"
   ]
  },
  {
   "cell_type": "code",
   "execution_count": 68,
   "metadata": {},
   "outputs": [],
   "source": [
    "# define a dictionary of dataframes, the key is the year of dataframe\n",
    "df_dict = {'1985':df85, '1987':df87, '1989':df89, '1991':df91, '1993':df93, '1995': df95, '1997':df97, '1999':df99,\\\n",
    "          '2001':df01, '2003':df03, '2005':df05, '2007':df07, '2009':df09, '2011':df11, '2013':df13\\\n",
    "          }"
   ]
  },
  {
   "cell_type": "code",
   "execution_count": 69,
   "metadata": {},
   "outputs": [
    {
     "data": {
      "text/html": [
       "<div>\n",
       "<style scoped>\n",
       "    .dataframe tbody tr th:only-of-type {\n",
       "        vertical-align: middle;\n",
       "    }\n",
       "\n",
       "    .dataframe tbody tr th {\n",
       "        vertical-align: top;\n",
       "    }\n",
       "\n",
       "    .dataframe thead th {\n",
       "        text-align: right;\n",
       "    }\n",
       "</style>\n",
       "<table border=\"1\" class=\"dataframe\">\n",
       "  <thead>\n",
       "    <tr style=\"text-align: right;\">\n",
       "      <th></th>\n",
       "      <th>AGE</th>\n",
       "      <th>BEDRMS</th>\n",
       "      <th>FMTBUILT</th>\n",
       "      <th>BURDEN</th>\n",
       "      <th>COSTMED</th>\n",
       "      <th>COSTMEDRELAMIPCT</th>\n",
       "      <th>FMTCOSTMEDRELAMICAT</th>\n",
       "      <th>FMR</th>\n",
       "      <th>FMTASSISTED</th>\n",
       "      <th>FMTOWNRENT</th>\n",
       "      <th>FMTSTATUS</th>\n",
       "      <th>FMTSTRUCTURETYPE</th>\n",
       "      <th>FMTINCRELAMICAT</th>\n",
       "      <th>INCRELAMIPCT</th>\n",
       "      <th>IPOV</th>\n",
       "      <th>LMED</th>\n",
       "      <th>NUNITS</th>\n",
       "      <th>OTHERCOST</th>\n",
       "      <th>PER</th>\n",
       "      <th>ROOMS</th>\n",
       "      <th>TOTSAL</th>\n",
       "      <th>UTILITY</th>\n",
       "      <th>VALUE</th>\n",
       "      <th>ZINC2</th>\n",
       "      <th>ZSMHC</th>\n",
       "    </tr>\n",
       "    <tr>\n",
       "      <th>CONTROL</th>\n",
       "      <th></th>\n",
       "      <th></th>\n",
       "      <th></th>\n",
       "      <th></th>\n",
       "      <th></th>\n",
       "      <th></th>\n",
       "      <th></th>\n",
       "      <th></th>\n",
       "      <th></th>\n",
       "      <th></th>\n",
       "      <th></th>\n",
       "      <th></th>\n",
       "      <th></th>\n",
       "      <th></th>\n",
       "      <th></th>\n",
       "      <th></th>\n",
       "      <th></th>\n",
       "      <th></th>\n",
       "      <th></th>\n",
       "      <th></th>\n",
       "      <th></th>\n",
       "      <th></th>\n",
       "      <th></th>\n",
       "      <th></th>\n",
       "      <th></th>\n",
       "    </tr>\n",
       "  </thead>\n",
       "  <tbody>\n",
       "    <tr>\n",
       "      <th>'100006110249'</th>\n",
       "      <td>39.0</td>\n",
       "      <td>3.0</td>\n",
       "      <td>'1980-1989'</td>\n",
       "      <td>0.317333</td>\n",
       "      <td>476.000000</td>\n",
       "      <td>81.283131</td>\n",
       "      <td>'4 60 - 80% AMI'</td>\n",
       "      <td>380.0</td>\n",
       "      <td>'0 Not Assisted'</td>\n",
       "      <td>'2 Renter'</td>\n",
       "      <td>'1 Occupied'</td>\n",
       "      <td>'1 Single Family'</td>\n",
       "      <td>'4 60 - 80% AMI'</td>\n",
       "      <td>79.917028</td>\n",
       "      <td>10720.0</td>\n",
       "      <td>23560.0</td>\n",
       "      <td>1.0</td>\n",
       "      <td>6.25</td>\n",
       "      <td>4.0</td>\n",
       "      <td>5.0</td>\n",
       "      <td>18000.0</td>\n",
       "      <td>40.000000</td>\n",
       "      <td>NaN</td>\n",
       "      <td>18000.0</td>\n",
       "      <td>476.0</td>\n",
       "    </tr>\n",
       "    <tr>\n",
       "      <th>'100007130148'</th>\n",
       "      <td>40.0</td>\n",
       "      <td>2.0</td>\n",
       "      <td>'1980-1989'</td>\n",
       "      <td>0.323662</td>\n",
       "      <td>383.000000</td>\n",
       "      <td>60.305059</td>\n",
       "      <td>'4 60 - 80% AMI'</td>\n",
       "      <td>349.0</td>\n",
       "      <td>'0 Not Assisted'</td>\n",
       "      <td>'2 Renter'</td>\n",
       "      <td>'1 Occupied'</td>\n",
       "      <td>'3 5-19 units'</td>\n",
       "      <td>'3 50 - 60% AMI'</td>\n",
       "      <td>55.896334</td>\n",
       "      <td>8516.0</td>\n",
       "      <td>29526.0</td>\n",
       "      <td>10.0</td>\n",
       "      <td>0.00</td>\n",
       "      <td>3.0</td>\n",
       "      <td>4.0</td>\n",
       "      <td>13000.0</td>\n",
       "      <td>8.000000</td>\n",
       "      <td>NaN</td>\n",
       "      <td>14200.0</td>\n",
       "      <td>383.0</td>\n",
       "    </tr>\n",
       "    <tr>\n",
       "      <th>'100014110140'</th>\n",
       "      <td>19.0</td>\n",
       "      <td>2.0</td>\n",
       "      <td>'1980-1989'</td>\n",
       "      <td>0.318000</td>\n",
       "      <td>371.000000</td>\n",
       "      <td>73.207945</td>\n",
       "      <td>'4 60 - 80% AMI'</td>\n",
       "      <td>289.0</td>\n",
       "      <td>'0 Not Assisted'</td>\n",
       "      <td>'2 Renter'</td>\n",
       "      <td>'1 Occupied'</td>\n",
       "      <td>'2 2-4 units'</td>\n",
       "      <td>'4 60 - 80% AMI'</td>\n",
       "      <td>77.697111</td>\n",
       "      <td>7077.0</td>\n",
       "      <td>23560.0</td>\n",
       "      <td>2.0</td>\n",
       "      <td>0.00</td>\n",
       "      <td>2.0</td>\n",
       "      <td>4.0</td>\n",
       "      <td>14000.0</td>\n",
       "      <td>15.750000</td>\n",
       "      <td>NaN</td>\n",
       "      <td>14000.0</td>\n",
       "      <td>371.0</td>\n",
       "    </tr>\n",
       "    <tr>\n",
       "      <th>'100014350142'</th>\n",
       "      <td>28.0</td>\n",
       "      <td>3.0</td>\n",
       "      <td>'1980-1989'</td>\n",
       "      <td>0.277371</td>\n",
       "      <td>1496.349020</td>\n",
       "      <td>178.071751</td>\n",
       "      <td>'7 120% AMI +'</td>\n",
       "      <td>596.0</td>\n",
       "      <td>'0 Not Assisted'</td>\n",
       "      <td>'1 Owner'</td>\n",
       "      <td>'1 Occupied'</td>\n",
       "      <td>'1 Single Family'</td>\n",
       "      <td>'7 120% AMI +'</td>\n",
       "      <td>120.326424</td>\n",
       "      <td>8508.0</td>\n",
       "      <td>33807.0</td>\n",
       "      <td>1.0</td>\n",
       "      <td>25.00</td>\n",
       "      <td>3.0</td>\n",
       "      <td>6.0</td>\n",
       "      <td>35000.0</td>\n",
       "      <td>34.166667</td>\n",
       "      <td>160000.0</td>\n",
       "      <td>35000.0</td>\n",
       "      <td>809.0</td>\n",
       "    </tr>\n",
       "    <tr>\n",
       "      <th>'100015770147'</th>\n",
       "      <td>30.0</td>\n",
       "      <td>3.0</td>\n",
       "      <td>'1980-1989'</td>\n",
       "      <td>0.205429</td>\n",
       "      <td>726.679228</td>\n",
       "      <td>97.552691</td>\n",
       "      <td>'5 80 - 100% AMI'</td>\n",
       "      <td>453.0</td>\n",
       "      <td>'0 Not Assisted'</td>\n",
       "      <td>'1 Owner'</td>\n",
       "      <td>'1 Occupied'</td>\n",
       "      <td>'1 Single Family'</td>\n",
       "      <td>'7 120% AMI +'</td>\n",
       "      <td>183.243745</td>\n",
       "      <td>7077.0</td>\n",
       "      <td>29969.0</td>\n",
       "      <td>1.0</td>\n",
       "      <td>13.00</td>\n",
       "      <td>2.0</td>\n",
       "      <td>5.0</td>\n",
       "      <td>42000.0</td>\n",
       "      <td>40.000000</td>\n",
       "      <td>75000.0</td>\n",
       "      <td>42000.0</td>\n",
       "      <td>719.0</td>\n",
       "    </tr>\n",
       "  </tbody>\n",
       "</table>\n",
       "</div>"
      ],
      "text/plain": [
       "                 AGE  BEDRMS     FMTBUILT    BURDEN      COSTMED  \\\n",
       "CONTROL                                                            \n",
       "'100006110249'  39.0     3.0  '1980-1989'  0.317333   476.000000   \n",
       "'100007130148'  40.0     2.0  '1980-1989'  0.323662   383.000000   \n",
       "'100014110140'  19.0     2.0  '1980-1989'  0.318000   371.000000   \n",
       "'100014350142'  28.0     3.0  '1980-1989'  0.277371  1496.349020   \n",
       "'100015770147'  30.0     3.0  '1980-1989'  0.205429   726.679228   \n",
       "\n",
       "                COSTMEDRELAMIPCT FMTCOSTMEDRELAMICAT    FMR       FMTASSISTED  \\\n",
       "CONTROL                                                                         \n",
       "'100006110249'         81.283131    '4 60 - 80% AMI'  380.0  '0 Not Assisted'   \n",
       "'100007130148'         60.305059    '4 60 - 80% AMI'  349.0  '0 Not Assisted'   \n",
       "'100014110140'         73.207945    '4 60 - 80% AMI'  289.0  '0 Not Assisted'   \n",
       "'100014350142'        178.071751      '7 120% AMI +'  596.0  '0 Not Assisted'   \n",
       "'100015770147'         97.552691   '5 80 - 100% AMI'  453.0  '0 Not Assisted'   \n",
       "\n",
       "                FMTOWNRENT     FMTSTATUS   FMTSTRUCTURETYPE   FMTINCRELAMICAT  \\\n",
       "CONTROL                                                                         \n",
       "'100006110249'  '2 Renter'  '1 Occupied'  '1 Single Family'  '4 60 - 80% AMI'   \n",
       "'100007130148'  '2 Renter'  '1 Occupied'     '3 5-19 units'  '3 50 - 60% AMI'   \n",
       "'100014110140'  '2 Renter'  '1 Occupied'      '2 2-4 units'  '4 60 - 80% AMI'   \n",
       "'100014350142'   '1 Owner'  '1 Occupied'  '1 Single Family'    '7 120% AMI +'   \n",
       "'100015770147'   '1 Owner'  '1 Occupied'  '1 Single Family'    '7 120% AMI +'   \n",
       "\n",
       "                INCRELAMIPCT     IPOV     LMED  NUNITS  OTHERCOST  PER  ROOMS  \\\n",
       "CONTROL                                                                         \n",
       "'100006110249'     79.917028  10720.0  23560.0     1.0       6.25  4.0    5.0   \n",
       "'100007130148'     55.896334   8516.0  29526.0    10.0       0.00  3.0    4.0   \n",
       "'100014110140'     77.697111   7077.0  23560.0     2.0       0.00  2.0    4.0   \n",
       "'100014350142'    120.326424   8508.0  33807.0     1.0      25.00  3.0    6.0   \n",
       "'100015770147'    183.243745   7077.0  29969.0     1.0      13.00  2.0    5.0   \n",
       "\n",
       "                 TOTSAL    UTILITY     VALUE    ZINC2  ZSMHC  \n",
       "CONTROL                                                       \n",
       "'100006110249'  18000.0  40.000000       NaN  18000.0  476.0  \n",
       "'100007130148'  13000.0   8.000000       NaN  14200.0  383.0  \n",
       "'100014110140'  14000.0  15.750000       NaN  14000.0  371.0  \n",
       "'100014350142'  35000.0  34.166667  160000.0  35000.0  809.0  \n",
       "'100015770147'  42000.0  40.000000   75000.0  42000.0  719.0  "
      ]
     },
     "execution_count": 69,
     "metadata": {},
     "output_type": "execute_result"
    }
   ],
   "source": [
    "pd.set_option('display.max_columns', None)\n",
    "df85.head()"
   ]
  },
  {
   "cell_type": "code",
   "execution_count": 70,
   "metadata": {},
   "outputs": [
    {
     "name": "stdout",
     "output_type": "stream",
     "text": [
      "Correlation of ZSMHC and other variables\n",
      "AGE                -0.279346\n",
      "BEDRMS              0.265755\n",
      "BURDEN             -0.019433\n",
      "COSTMED             0.573303\n",
      "COSTMEDRELAMIPCT    0.500281\n",
      "FMR                 0.403618\n",
      "INCRELAMIPCT        0.421278\n",
      "IPOV                0.249952\n",
      "LMED                0.261523\n",
      "NUNITS             -0.027509\n",
      "OTHERCOST           0.123290\n",
      "PER                 0.243375\n",
      "ROOMS               0.312205\n",
      "TOTSAL              0.509902\n",
      "UTILITY             0.189642\n",
      "VALUE               0.510702\n",
      "ZINC2               0.510412\n",
      "ZSMHC               1.000000\n",
      "Name: ZSMHC, dtype: float64\n",
      "\n",
      "\n",
      "Correlation TOTSAL and ZINC2 =  0.8673205338940415\n",
      "Correlation TOTSAL and INCRELAMIPCT =  0.785194333665615\n",
      "Correlation COSTMED and COSTMEDRELAMIPCT =  0.9294833047321089\n",
      "Correlation LMED and IPOV =  0.02571880477091692\n",
      "Correlation LMED and FMR =  0.5920537288405691\n"
     ]
    }
   ],
   "source": [
    "df85 = df_dict['1985']\n",
    "corrMatrix85 = df85.corr()\n",
    "print('Correlation of ZSMHC and other variables')\n",
    "print(corrMatrix85['ZSMHC'])\n",
    "print('\\n')\n",
    "print('Correlation TOTSAL and ZINC2 = ', corrMatrix85['TOTSAL']['ZINC2'])\n",
    "print('Correlation TOTSAL and INCRELAMIPCT = ', corrMatrix85['TOTSAL']['INCRELAMIPCT'])\n",
    "print('Correlation COSTMED and COSTMEDRELAMIPCT = ', corrMatrix85['COSTMED']['COSTMEDRELAMIPCT'])\n",
    "print('Correlation LMED and IPOV = ', corrMatrix85['LMED']['IPOV'])\n",
    "print('Correlation LMED and FMR = ', corrMatrix85['LMED']['FMR'])"
   ]
  },
  {
   "cell_type": "markdown",
   "metadata": {},
   "source": [
    "Above is the correlation between ZSMHC (monthly housing costs) and other variables. BURDEN (cost to income ratio) and NUNIT(number of units in building) are not very correlated with ZSMHC.\n",
    "\n",
    "All other variables have a correlation of at least 0.12. Question: What cutoff in correlation says if a variable can be discarded in a predictive model or not?\n",
    "\n",
    "TOTSAL (total wage and salary income) and ZINC2 (household income) have a 0.87 correlation. Thus one of these can be dropped in a predictive model.\n",
    "\n",
    "TOTSAL and INCRELAMIPCT (income relative to area median income (percent)) have a correlation of 0.78. Thus one of these can be dropped in a predictive model.\n",
    "\n",
    "COSTMED (Housing cost assuming median interest mortgage) and COSTMEDRELAMIPCT (COSTMED relative to median income (percent)) have a 0.93 correlation. Thus one of these can be dropped in a predictive model.\n",
    "\n",
    "LMED (area median imcome) and FMR (fair market rent) has a 0.59 correlation."
   ]
  },
  {
   "cell_type": "code",
   "execution_count": 71,
   "metadata": {},
   "outputs": [
    {
     "name": "stdout",
     "output_type": "stream",
     "text": [
      "Correlation of ZSMHC and other variables\n",
      "AGE                -0.119497\n",
      "BEDRMS              0.335647\n",
      "BURDEN             -0.042202\n",
      "COSTMED             0.686327\n",
      "COSTMEDRELAMIPCT    0.636117\n",
      "FMR                 0.457541\n",
      "INCRELAMIPCT        0.416430\n",
      "IPOV                0.246544\n",
      "LMED                0.268095\n",
      "NUNITS             -0.061461\n",
      "OTHERCOST           0.324069\n",
      "PER                 0.246204\n",
      "ROOMS               0.384550\n",
      "TOTSAL              0.471562\n",
      "UTILITY             0.406473\n",
      "VALUE               0.588339\n",
      "ZINC2               0.494621\n",
      "ZSMHC               1.000000\n",
      "Name: ZSMHC, dtype: float64\n",
      "\n",
      "\n",
      "Correlation TOTSAL and ZINC2 =  0.8302903647707541\n",
      "Correlation TOTSAL and INCRELAMIPCT =  0.7606053010616535\n",
      "Correlation COSTMED and COSTMEDRELAMIPCT =  0.9395900295219688\n",
      "Correlation LMED and IPOV =  0.03300679430126276\n",
      "Correlation LMED and FMR =  0.5394347850666483\n"
     ]
    }
   ],
   "source": [
    "df13 = df_dict['2013']\n",
    "corrMatrix13 = df13.corr()\n",
    "print('Correlation of ZSMHC and other variables')\n",
    "print(corrMatrix13['ZSMHC'])\n",
    "print('\\n')\n",
    "print('Correlation TOTSAL and ZINC2 = ', corrMatrix13['TOTSAL']['ZINC2'])\n",
    "print('Correlation TOTSAL and INCRELAMIPCT = ', corrMatrix13['TOTSAL']['INCRELAMIPCT'])\n",
    "print('Correlation COSTMED and COSTMEDRELAMIPCT = ', corrMatrix13['COSTMED']['COSTMEDRELAMIPCT'])\n",
    "print('Correlation LMED and IPOV = ', corrMatrix13['LMED']['IPOV'])\n",
    "print('Correlation LMED and FMR = ', corrMatrix13['LMED']['FMR'])"
   ]
  },
  {
   "cell_type": "markdown",
   "metadata": {},
   "source": [
    "We can arrive at similar conclusions for correlation of ZSMHC in year 2013 as year 1985"
   ]
  },
  {
   "cell_type": "code",
   "execution_count": 72,
   "metadata": {},
   "outputs": [],
   "source": [
    "mCost85 = df_dict['1985']['ZSMHC']\n",
    "mCost13 = df_dict['2013']['ZSMHC']\n",
    "mCostStats85 = mCost85.describe()\n",
    "mCostStats13 = mCost13.describe()"
   ]
  },
  {
   "cell_type": "code",
   "execution_count": 73,
   "metadata": {},
   "outputs": [
    {
     "name": "stdout",
     "output_type": "stream",
     "text": [
      "count    40880.000000\n",
      "mean       412.541096\n",
      "std        308.968155\n",
      "min          0.000000\n",
      "25%        209.000000\n",
      "50%        345.000000\n",
      "75%        527.000000\n",
      "max       4609.000000\n",
      "Name: ZSMHC, dtype: float64\n",
      "count    60097.000000\n",
      "mean      1140.454116\n",
      "std        972.485825\n",
      "min          0.000000\n",
      "25%        510.000000\n",
      "50%        899.000000\n",
      "75%       1454.000000\n",
      "max      10667.000000\n",
      "Name: ZSMHC, dtype: float64\n",
      "(43104,)\n",
      "(60097,)\n"
     ]
    }
   ],
   "source": [
    "print(mCostStats85)\n",
    "print(mCostStats13)\n",
    "print(mCost85.shape)\n",
    "print(mCost13.shape)"
   ]
  },
  {
   "cell_type": "code",
   "execution_count": 74,
   "metadata": {},
   "outputs": [],
   "source": [
    "# define function that takes a random choice of index array; calculate the correlation matrix of data selected from index array\n",
    "def bootstrap_corr_replicate_df(df, index_array):\n",
    "    bs_sample = np.random.choice(index_array, len(index_array))\n",
    "    df_sample = df.iloc[bs_sample]\n",
    "    return df_sample.corr()"
   ]
  },
  {
   "cell_type": "code",
   "execution_count": 75,
   "metadata": {},
   "outputs": [],
   "source": [
    "length_85 = df85.shape[0]\n",
    "index_array = np.arange(0,length_85)\n",
    "# take 10,000 choices of array index; for each choice calculation correlation matrix\n",
    "num_of_perms = 10000\n",
    "new_matrix = np.stack([ bootstrap_corr_replicate_df(df85, index_array) for i in range(num_of_perms)], axis=2)\n",
    "\n",
    "# calculate average and error of each entry in correlation matrix\n",
    "avg_corr_85 = np.mean(new_matrix, axis=2)\n",
    "std_corr_85 = np.std(new_matrix, axis=2)\n",
    "    "
   ]
  },
  {
   "cell_type": "code",
   "execution_count": 76,
   "metadata": {},
   "outputs": [
    {
     "name": "stdout",
     "output_type": "stream",
     "text": [
      "Correlation statistics for variable Monthly Housing Cost ZSMHC in 1985:\n",
      "\n",
      "\n",
      "            variable \t             obs corr \t             avg corr \t           error corr\n",
      "                 AGE \t            -0.279346 \t            -0.279320 \t             0.003984\n",
      "              BEDRMS \t             0.265755 \t             0.265696 \t             0.004764\n",
      "              BURDEN \t            -0.019433 \t            -0.019418 \t             0.004009\n",
      "             COSTMED \t             0.573303 \t             0.573381 \t             0.005379\n",
      "    COSTMEDRELAMIPCT \t             0.500281 \t             0.500395 \t             0.005957\n",
      "                 FMR \t             0.403618 \t             0.403644 \t             0.004964\n",
      "        INCRELAMIPCT \t             0.421278 \t             0.421289 \t             0.006215\n",
      "                IPOV \t             0.249952 \t             0.249903 \t             0.004792\n",
      "                LMED \t             0.261523 \t             0.261547 \t             0.004820\n",
      "              NUNITS \t            -0.027509 \t            -0.027535 \t             0.004321\n",
      "           OTHERCOST \t             0.123290 \t             0.124044 \t             0.009284\n",
      "                 PER \t             0.243375 \t             0.243322 \t             0.004749\n",
      "               ROOMS \t             0.312205 \t             0.312111 \t             0.004957\n",
      "              TOTSAL \t             0.509902 \t             0.509874 \t             0.005732\n",
      "             UTILITY \t             0.189642 \t             0.189627 \t             0.005392\n",
      "               VALUE \t             0.510702 \t             0.510780 \t             0.006707\n",
      "               ZINC2 \t             0.510412 \t             0.510398 \t             0.005797\n",
      "               ZSMHC \t             1.000000 \t             1.000000 \t             0.000000\n"
     ]
    }
   ],
   "source": [
    "#print results for monthly housing cost variable.\n",
    "length = avg_corr_85.shape[0]\n",
    "columnLabels = corrMatrix85.columns\n",
    "print(\"Correlation statistics for variable Monthly Housing Cost ZSMHC in 1985:\")\n",
    "print(\"\\n\")\n",
    "print(\"%20s \\t %20s \\t %20s \\t %20s\" % ('variable', 'obs corr', 'avg corr', 'error corr'))\n",
    "for columnLabel, i in zip(columnLabels, range(length)):\n",
    "    print(\"%20s \\t %20.6f \\t %20.6f \\t %20.6f\" % (columnLabel, corrMatrix85.iloc[i, length-1], \\\n",
    "                                   avg_corr_85[i, length-1], std_corr_85[i, length-1]))"
   ]
  },
  {
   "cell_type": "markdown",
   "metadata": {},
   "source": [
    "For 1985 data, the observed correlation is close to the average and within the calculated error."
   ]
  },
  {
   "cell_type": "code",
   "execution_count": 77,
   "metadata": {},
   "outputs": [
    {
     "name": "stdout",
     "output_type": "stream",
     "text": [
      "Correlation statistics for variable Monthly Housing Cost ZSMHC in 2013:\n",
      "\n",
      "\n",
      "            variable \t             obs corr \t             avg corr \t           error corr\n",
      "                 AGE \t            -0.119497 \t            -0.119503 \t             0.003745\n",
      "              BEDRMS \t             0.335647 \t             0.335708 \t             0.004153\n",
      "              BURDEN \t            -0.042202 \t            -0.042272 \t             0.003890\n",
      "             COSTMED \t             0.686327 \t             0.686327 \t             0.005670\n",
      "    COSTMEDRELAMIPCT \t             0.636117 \t             0.636159 \t             0.006677\n",
      "                 FMR \t             0.457541 \t             0.457586 \t             0.004092\n",
      "        INCRELAMIPCT \t             0.416430 \t             0.416484 \t             0.005640\n",
      "                IPOV \t             0.246544 \t             0.246593 \t             0.004205\n",
      "                LMED \t             0.268095 \t             0.268120 \t             0.004352\n",
      "              NUNITS \t            -0.061461 \t            -0.061504 \t             0.004803\n",
      "           OTHERCOST \t             0.324069 \t             0.324433 \t             0.005486\n",
      "                 PER \t             0.246204 \t             0.246265 \t             0.004128\n",
      "               ROOMS \t             0.384550 \t             0.384612 \t             0.004420\n",
      "              TOTSAL \t             0.471562 \t             0.471609 \t             0.005445\n",
      "             UTILITY \t             0.406473 \t             0.406501 \t             0.004760\n",
      "               VALUE \t             0.588339 \t             0.588321 \t             0.007511\n",
      "               ZINC2 \t             0.494621 \t             0.494687 \t             0.005413\n",
      "               ZSMHC \t             1.000000 \t             1.000000 \t             0.000000\n"
     ]
    }
   ],
   "source": [
    "length_13 = df13.shape[0]\n",
    "index_array = np.arange(0,length_13)\n",
    "# take 10,000 choices of array index; for each choice calculation correlation matrix\n",
    "num_of_perms = 10000\n",
    "new_matrix = np.stack([ bootstrap_corr_replicate_df(df13, index_array) for i in range(num_of_perms)], axis=2)\n",
    "\n",
    "# calculate average and error of each entry in correlation matrix\n",
    "avg_corr_13 = np.mean(new_matrix, axis=2)\n",
    "std_corr_13 = np.std(new_matrix, axis=2)\n",
    "\n",
    "#print results for monthly housing cost variable.\n",
    "length = avg_corr_13.shape[0]\n",
    "columnLabels = corrMatrix13.columns\n",
    "print(\"Correlation statistics for variable Monthly Housing Cost ZSMHC in 2013:\")\n",
    "print(\"\\n\")\n",
    "print(\"%20s \\t %20s \\t %20s \\t %20s\" % ('variable', 'obs corr', 'avg corr', 'error corr'))\n",
    "for columnLabel, i in zip(columnLabels, range(length)):\n",
    "    print(\"%20s \\t %20.6f \\t %20.6f \\t %20.6f\" % (columnLabel, corrMatrix13.iloc[i, length-1], \\\n",
    "                                   avg_corr_13[i, length-1], std_corr_13[i, length-1]))\n",
    "    "
   ]
  },
  {
   "cell_type": "markdown",
   "metadata": {},
   "source": [
    "For 2013 data, the observed correlation is close to the average and within the calculated error as well."
   ]
  },
  {
   "cell_type": "code",
   "execution_count": 78,
   "metadata": {},
   "outputs": [],
   "source": [
    "# generate permutation of input data and calculate difference in statistic for permutation\n",
    "def bootstrap_perms(concatenate_data, func, size_group_A):\n",
    "    \"\"\"Generate permutations. Calculate statistic of each group. Return difference\"\"\"\n",
    "    perm = np.random.permutation(concatenate_data)\n",
    "    group_A = perm[:size_group_A]\n",
    "    group_B = perm[size_group_A:]\n",
    "    return func(group_A) - func(group_B)"
   ]
  },
  {
   "cell_type": "code",
   "execution_count": 85,
   "metadata": {},
   "outputs": [],
   "source": [
    "# this function compares two groups defined by a categorical variable;\n",
    "# p-value is calculated for the difference in average of the 2 groups;\n",
    "# both bootstrap and t-statistic are used to calculate p-value\n",
    "def cost_compare(year, variable, catName, catLabel1):\n",
    "    \"\"\"Calculate statistical significance for a given numerical variable split between 2 catogory values for a given year\"\"\"\n",
    "    df = df_dict[year]\n",
    "    df = df.loc[~df[variable].isna()]\n",
    "    CostGroup1     = df.loc[df[catName].str.contains(catLabel1), variable].values\n",
    "    CostGroup2     = df.loc[~df[catName].str.contains(catLabel1), variable].values\n",
    "    \n",
    "    avgGroup1Cost = np.mean(CostGroup1)\n",
    "    avgGroup2Cost = np.mean(CostGroup2)\n",
    "\n",
    "    length_Group1 = len(CostGroup1)\n",
    "    length_Group2 = len(CostGroup2)\n",
    "\n",
    "    cost_concatenate = np.concatenate((CostGroup1, CostGroup2))\n",
    "\n",
    "    obs_diff = avgGroup2Cost - avgGroup1Cost\n",
    "    \n",
    "    # take 10000 permutations of data\n",
    "    num_of_perms = 10000\n",
    "    bs_perms = np.empty(num_of_perms)\n",
    "    \n",
    "    for i in range(num_of_perms):\n",
    "        bs_perms[i] = bootstrap_perms(cost_concatenate, np.mean, length_Group1)\n",
    "\n",
    "    # take permutations of data, calculate difference in median value\n",
    "    print('group 1 count = ', length_Group1)\n",
    "    print('group 2 count = '  , length_Group2)\n",
    "    print(year, ' average group 1 cost = ', avgGroup1Cost)\n",
    "    print(year, ' average group 2 cost = ', avgGroup2Cost)\n",
    "    \n",
    "    print('observed difference = ', obs_diff)\n",
    "    \n",
    "    # calculate 95% confidence interval\n",
    "    conf_int = np.percentile(bs_perms, [2.5, 97.5])\n",
    "    # calculate mean diff\n",
    "    mean_diff = np.mean(bs_perms)\n",
    "    # calculate diff error\n",
    "    std_diff = np.std(bs_perms)   \n",
    "    \n",
    "    print('95% confidence interval = '   , conf_int)\n",
    "    print('mean diff = '                 , mean_diff)\n",
    "    print('error diff = ', std_diff)\n",
    "    \n",
    "    if obs_diff >= 0:\n",
    "        p_value = np.sum(bs_perms >= obs_diff)/len(bs_perms)\n",
    "    else:\n",
    "        p_value = np.sum(bs_perms <= obs_diff)/len(bs_perms)\n",
    "    print('p value = ', p_value)\n",
    "    \n",
    "    # calculate p-value using stats ttest function\n",
    "    result_eqVar = stats.ttest_ind(CostGroup1, CostGroup2, equal_var=True)\n",
    "    result_neqVar= stats.ttest_ind(CostGroup1, CostGroup2, equal_var=False)\n",
    "    print(result_eqVar)\n",
    "    print(result_neqVar)"
   ]
  },
  {
   "cell_type": "code",
   "execution_count": 80,
   "metadata": {},
   "outputs": [
    {
     "name": "stdout",
     "output_type": "stream",
     "text": [
      "group 1 count =  15440\n",
      "group 2 count =  25440\n",
      "1985  average group 1 cost =  362.3152849740933\n",
      "1985  average group 2 cost =  443.0240566037736\n",
      "observed difference =  80.70877162968031\n",
      "95% confidence interval =  [-6.10202957  6.13509253]\n",
      "mean diff =  -0.012688716394564608\n",
      "error diff =  3.1793800822109017\n",
      "p value =  0.0\n",
      "Ttest_indResult(statistic=-25.813056945546943, pvalue=9.360232887758403e-146)\n",
      "Ttest_indResult(statistic=-29.392726426918927, pvalue=6.390030604899263e-188)\n"
     ]
    }
   ],
   "source": [
    "cost_compare('1985', 'ZSMHC', 'FMTOWNRENT', 'Renter')"
   ]
  },
  {
   "cell_type": "markdown",
   "metadata": {},
   "source": [
    "On average, owners pay $80 more that renters in 1985. Assuming that costs for owners and renters have the same distribtution, the p-value for this observation is less than 1 part in 10,000. Therefore, this observation is statistically significant.\n",
    "\n",
    "Using the built in t-test function, a practically zero p-value is calculated."
   ]
  },
  {
   "cell_type": "code",
   "execution_count": 81,
   "metadata": {},
   "outputs": [
    {
     "name": "stdout",
     "output_type": "stream",
     "text": [
      "group 1 count =  24245\n",
      "group 2 count =  35852\n",
      "2013  average group 1 cost =  878.6925551660136\n",
      "2013  average group 2 cost =  1317.4709918554056\n",
      "observed difference =  438.77843668939204\n",
      "95% confidence interval =  [-15.46677189  15.77581196]\n",
      "mean diff =  0.22725370035291056\n",
      "error diff =  8.00267349092638\n",
      "p value =  0.0\n",
      "Ttest_indResult(statistic=-55.64275417533507, pvalue=0.0)\n",
      "Ttest_indResult(statistic=-59.97411333035855, pvalue=0.0)\n"
     ]
    }
   ],
   "source": [
    "cost_compare('2013', 'ZSMHC', 'FMTOWNRENT', 'Renter')"
   ]
  },
  {
   "cell_type": "markdown",
   "metadata": {},
   "source": [
    "For 2013, owners on average pay $438 more monthly than renters. Using t-test function, the obverved p-value is numerically zero for difference in owner and renter costs in 2013. Therefore the observed difference is statistically significant."
   ]
  },
  {
   "cell_type": "code",
   "execution_count": 82,
   "metadata": {},
   "outputs": [
    {
     "name": "stdout",
     "output_type": "stream",
     "text": [
      "group 1 count =  2177\n",
      "group 2 count =  38703\n",
      "1985  average group 1 cost =  226.44005512172714\n",
      "1985  average group 2 cost =  423.0090690644136\n",
      "observed difference =  196.56901394268647\n",
      "95% confidence interval =  [-13.28838987  13.86045682]\n",
      "mean diff =  -0.005994590015330846\n",
      "error diff =  6.874512671495642\n",
      "p value =  0.0\n",
      "Ttest_indResult(statistic=-29.182294593165587, pvalue=2.610549096206916e-185)\n",
      "Ttest_indResult(statistic=-56.282978726305956, pvalue=0.0)\n"
     ]
    }
   ],
   "source": [
    "#calculate difference in monthly housing costs for not assisted and assisted households\n",
    "cost_compare('1985', 'ZSMHC', 'FMTASSISTED', '1')"
   ]
  },
  {
   "cell_type": "markdown",
   "metadata": {},
   "source": [
    "On average, not assisted households paid $197 more than assisted households in 1985. This observed difference is statistically significant as the p-value is practically zero using bootstrap and t-statistic methods."
   ]
  },
  {
   "cell_type": "code",
   "execution_count": 83,
   "metadata": {},
   "outputs": [
    {
     "name": "stdout",
     "output_type": "stream",
     "text": [
      "group 1 count =  6618\n",
      "group 2 count =  53479\n",
      "2013  average group 1 cost =  434.86944696282865\n",
      "2013  average group 2 cost =  1227.769872286318\n",
      "observed difference =  792.9004253234895\n",
      "95% confidence interval =  [-24.38618172  24.58421713]\n",
      "mean diff =  0.059865136897658225\n",
      "error diff =  12.623919826459545\n",
      "p value =  0.0\n",
      "Ttest_indResult(statistic=-64.71251826659389, pvalue=0.0)\n",
      "Ttest_indResult(statistic=-123.39920731870524, pvalue=0.0)\n"
     ]
    }
   ],
   "source": [
    "cost_compare('2013', 'ZSMHC', 'FMTASSISTED', '1')"
   ]
  },
  {
   "cell_type": "markdown",
   "metadata": {},
   "source": [
    "On average, not assisted households paid $793 more than assisted households in 2013. This observed difference is statistically significant as the p-value is practically zero using bootstrap and t-statistic methods."
   ]
  },
  {
   "cell_type": "code",
   "execution_count": 86,
   "metadata": {},
   "outputs": [
    {
     "name": "stdout",
     "output_type": "stream",
     "text": [
      "group 1 count =  27187\n",
      "group 2 count =  13693\n",
      "1985  average group 1 cost =  436.61231470923605\n",
      "1985  average group 2 cost =  364.74848462718177\n",
      "observed difference =  -71.86383008205428\n",
      "95% confidence interval =  [-6.28964493  6.27075195]\n",
      "mean diff =  -0.018069116963587976\n",
      "error diff =  3.208177693482103\n",
      "p value =  0.0\n",
      "Ttest_indResult(statistic=22.33051219600722, pvalue=8.492971175076504e-110)\n",
      "Ttest_indResult(statistic=25.803503905317434, pvalue=1.3575216647842347e-145)\n"
     ]
    }
   ],
   "source": [
    "cost_compare('1985', 'ZSMHC', 'FMTSTRUCTURETYPE', 'Single Family')"
   ]
  },
  {
   "cell_type": "markdown",
   "metadata": {},
   "source": [
    "Single family homes paid one average $72 more than apartment units in 1985. The p-value is zero."
   ]
  },
  {
   "cell_type": "code",
   "execution_count": 87,
   "metadata": {},
   "outputs": [
    {
     "name": "stdout",
     "output_type": "stream",
     "text": [
      "group 1 count =  39376\n",
      "group 2 count =  20721\n",
      "2013  average group 1 cost =  1284.4135514018692\n",
      "2013  average group 2 cost =  866.8888084551904\n",
      "observed difference =  -417.52474294667877\n",
      "95% confidence interval =  [-16.79176174  16.40443911]\n",
      "mean diff =  -0.07946351086088296\n",
      "error diff =  8.40181022268834\n",
      "p value =  0.0\n",
      "Ttest_indResult(statistic=51.100649206344514, pvalue=0.0)\n",
      "Ttest_indResult(statistic=55.41694354751952, pvalue=0.0)\n"
     ]
    }
   ],
   "source": [
    "cost_compare('2013', 'ZSMHC', 'FMTSTRUCTURETYPE', 'Single Family')"
   ]
  },
  {
   "cell_type": "markdown",
   "metadata": {},
   "source": [
    "Single family homes paid one average $418 more than apartment units in 2013. The p-value is zero."
   ]
  },
  {
   "cell_type": "code",
   "execution_count": 88,
   "metadata": {},
   "outputs": [
    {
     "data": {
      "text/plain": [
       "'7 120% AMI +'        14961\n",
       "'1 LTE 30% AMI'        6105\n",
       "'2 30 - 50% AMI'       5273\n",
       "'5 80 - 100% AMI'      5103\n",
       "'4 60 - 80% AMI'       4644\n",
       "'6 100 - 120% AMI'     4385\n",
       "'3 50 - 60% AMI'       2633\n",
       "Name: FMTINCRELAMICAT, dtype: int64"
      ]
     },
     "execution_count": 88,
     "metadata": {},
     "output_type": "execute_result"
    }
   ],
   "source": [
    "df85 = df_dict['1985']\n",
    "df85['FMTINCRELAMICAT'].value_counts()"
   ]
  },
  {
   "cell_type": "code",
   "execution_count": 89,
   "metadata": {},
   "outputs": [
    {
     "data": {
      "text/plain": [
       "'7 120% AMI +'        19998\n",
       "'1 LTE 30% AMI'       12380\n",
       "'2 30 - 50% AMI'       8279\n",
       "'4 60 - 80% AMI'       5778\n",
       "'5 80 - 100% AMI'      5118\n",
       "'6 100 - 120% AMI'     4890\n",
       "'3 50 - 60% AMI'       3654\n",
       "Name: FMTINCRELAMICAT, dtype: int64"
      ]
     },
     "execution_count": 89,
     "metadata": {},
     "output_type": "execute_result"
    }
   ],
   "source": [
    "df13 = df_dict['2013']\n",
    "df13['FMTINCRELAMICAT'].value_counts()"
   ]
  },
  {
   "cell_type": "code",
   "execution_count": 90,
   "metadata": {},
   "outputs": [
    {
     "name": "stdout",
     "output_type": "stream",
     "text": [
      "group 1 count =  5950\n",
      "group 2 count =  34930\n",
      "1985  average group 1 cost =  245.7526050420168\n",
      "1985  average group 2 cost =  440.95196106498713\n",
      "observed difference =  195.19935602297033\n",
      "95% confidence interval =  [-8.38094643  8.41971203]\n",
      "mean diff =  0.0175276617099748\n",
      "error diff =  4.335945319512112\n",
      "p value =  0.0\n",
      "Ttest_indResult(statistic=-46.208051686606495, pvalue=0.0)\n",
      "Ttest_indResult(statistic=-70.07680220620875, pvalue=0.0)\n"
     ]
    }
   ],
   "source": [
    "cost_compare('1985', 'ZSMHC', 'FMTINCRELAMICAT', 'LTE')"
   ]
  },
  {
   "cell_type": "code",
   "execution_count": 92,
   "metadata": {},
   "outputs": [
    {
     "name": "stdout",
     "output_type": "stream",
     "text": [
      "group 1 count =  13818\n",
      "group 2 count =  27062\n",
      "1985  average group 1 cost =  566.3554059921842\n",
      "1985  average group 2 cost =  334.00269750942283\n",
      "observed difference =  -232.35270848276133\n",
      "95% confidence interval =  [-6.20868422  6.33681444]\n",
      "mean diff =  -0.012874243743793245\n",
      "error diff =  3.2077596177538013\n",
      "p value =  0.0\n",
      "Ttest_indResult(statistic=76.9585302757938, pvalue=0.0)\n",
      "Ttest_indResult(statistic=65.50358493154239, pvalue=0.0)\n"
     ]
    }
   ],
   "source": [
    "cost_compare('1985', 'ZSMHC', 'FMTINCRELAMICAT', '7')"
   ]
  },
  {
   "cell_type": "markdown",
   "metadata": {},
   "source": [
    "In 1985, the lowest income group paid on average $195 less than other income groups and the highest income group paid on average $232 more than other income groups. The p-values are zero."
   ]
  },
  {
   "cell_type": "code",
   "execution_count": 93,
   "metadata": {},
   "outputs": [
    {
     "name": "stdout",
     "output_type": "stream",
     "text": [
      "group 1 count =  12380\n",
      "group 2 count =  47717\n",
      "2013  average group 1 cost =  635.2677705977383\n",
      "2013  average group 2 cost =  1271.5228534903704\n",
      "observed difference =  636.2550828926321\n",
      "95% confidence interval =  [-18.9549244   19.39241837]\n",
      "mean diff =  0.08011017841441544\n",
      "error diff =  9.8420642653729\n",
      "p value =  0.0\n",
      "Ttest_indResult(statistic=-67.26310364704644, pvalue=0.0)\n",
      "Ttest_indResult(statistic=-89.12023621284146, pvalue=0.0)\n"
     ]
    }
   ],
   "source": [
    "cost_compare('2013', 'ZSMHC', 'FMTINCRELAMICAT', 'LTE')"
   ]
  },
  {
   "cell_type": "code",
   "execution_count": 94,
   "metadata": {},
   "outputs": [
    {
     "name": "stdout",
     "output_type": "stream",
     "text": [
      "group 1 count =  19998\n",
      "group 2 count =  40099\n",
      "2013  average group 1 cost =  1636.900490049005\n",
      "2013  average group 2 cost =  892.8685253996359\n",
      "observed difference =  -744.031964649369\n",
      "95% confidence interval =  [-16.68228446  16.38070766]\n",
      "mean diff =  0.009916780167131605\n",
      "error diff =  8.496660403967356\n",
      "p value =  0.0\n",
      "Ttest_indResult(statistic=94.7481827714897, pvalue=0.0)\n",
      "Ttest_indResult(statistic=82.2942016939319, pvalue=0.0)\n"
     ]
    }
   ],
   "source": [
    "cost_compare('2013', 'ZSMHC', 'FMTINCRELAMICAT', '7')"
   ]
  },
  {
   "cell_type": "markdown",
   "metadata": {},
   "source": [
    "In 2013, the lowest income group paid on average $636 less than other income groups and the highest income group paid on average $744 more than other income groups. The p-values are zero."
   ]
  }
 ],
 "metadata": {
  "kernelspec": {
   "display_name": "Python 3",
   "language": "python",
   "name": "python3"
  },
  "language_info": {
   "codemirror_mode": {
    "name": "ipython",
    "version": 3
   },
   "file_extension": ".py",
   "mimetype": "text/x-python",
   "name": "python",
   "nbconvert_exporter": "python",
   "pygments_lexer": "ipython3",
   "version": "3.7.1"
  }
 },
 "nbformat": 4,
 "nbformat_minor": 2
}
